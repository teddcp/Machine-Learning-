{
  "nbformat": 4,
  "nbformat_minor": 0,
  "metadata": {
    "colab": {
      "name": "Regression-exercise.ipynb",
      "provenance": [],
      "collapsed_sections": [],
      "toc_visible": true,
      "authorship_tag": "ABX9TyNqk07KfgZ8dHpKra0oiD1C",
      "include_colab_link": true
    },
    "kernelspec": {
      "name": "python3",
      "display_name": "Python 3"
    }
  },
  "cells": [
    {
      "cell_type": "markdown",
      "metadata": {
        "id": "view-in-github",
        "colab_type": "text"
      },
      "source": [
        "<a href=\"https://colab.research.google.com/github/teddcp/Machine-Learning-/blob/master/Regression_exercise.ipynb\" target=\"_parent\"><img src=\"https://colab.research.google.com/assets/colab-badge.svg\" alt=\"Open In Colab\"/></a>"
      ]
    },
    {
      "cell_type": "markdown",
      "metadata": {
        "id": "UbliU2jAcRtY",
        "colab_type": "text"
      },
      "source": [
        "# Regression Exercise\n",
        "---------------------------------------------\n",
        "Training exercise\n",
        "------------------\n",
        "\n",
        "Problem statement \n",
        "\n",
        ">   *“file  ex1data1.txt contains the dataset for sample linear regression problem. The first column is the population of a city and the second column is the profit of a food truck in that city. A negative value for profit indicates a loss.”*\n",
        "\n",
        "\n",
        "1. Exercise 1 : use Matplotlib libraries to plot this dataset. you can use a scatter plot to visualize the data, since it has only two properties to plot (profit and population). Plot population on x axis and profit on y- axis. Label the dataset and plot graph\n",
        "\n",
        "2. Exercise 2: use Scikit linear regression algorithm to predict profit as a function of population. The function used out here is y = Mx + C, where the parameter M & C will provide the equation for best fit line (linear regression). Further, y – is profit and X – is population. So purpose of this exercise is derive a simple equation which define profit as a function of population.\n",
        "\n",
        "3. Exercise 3 : use the parameters obtained for linear regression to plot the linear fit in the same scatter plot used to visualize the data. Purpose is the draw the line y = MX + C, obtained above. You will be able to visualize that straight line is the best fit possible given this data set. For a better representation we will need to fit through a quardratic function of the form y = AX2  + MX + C or an higher order polynomial."
      ]
    },
    {
      "cell_type": "markdown",
      "metadata": {
        "id": "UXpcY4NaLDoa",
        "colab_type": "text"
      },
      "source": [
        "## 1. Linear Regression Model \n",
        "-----------------------------------------"
      ]
    },
    {
      "cell_type": "markdown",
      "metadata": {
        "id": "IVVhMnWhc_V_",
        "colab_type": "text"
      },
      "source": [
        "### Importing Libraries"
      ]
    },
    {
      "cell_type": "code",
      "metadata": {
        "id": "SWigElfOdpRu",
        "colab_type": "code",
        "colab": {}
      },
      "source": [
        "import numpy as np\n",
        "import pandas as pd\n",
        "import matplotlib.pyplot as plt\n",
        "import seaborn as sns\n",
        "\n",
        "sns.set()"
      ],
      "execution_count": 0,
      "outputs": []
    },
    {
      "cell_type": "markdown",
      "metadata": {
        "id": "s6BzpVACc_ds",
        "colab_type": "text"
      },
      "source": [
        "### Importing Datasets"
      ]
    },
    {
      "cell_type": "code",
      "metadata": {
        "id": "bHBRRDLTdyXk",
        "colab_type": "code",
        "outputId": "0d89c7e4-216c-4878-8612-5e0841a53bb2",
        "colab": {
          "base_uri": "https://localhost:8080/",
          "height": 194
        }
      },
      "source": [
        "data = pd.read_csv('/content/regression-data.txt',header=None,names=['population','profit'])\n",
        "data.head()"
      ],
      "execution_count": 404,
      "outputs": [
        {
          "output_type": "execute_result",
          "data": {
            "text/html": [
              "<div>\n",
              "<style scoped>\n",
              "    .dataframe tbody tr th:only-of-type {\n",
              "        vertical-align: middle;\n",
              "    }\n",
              "\n",
              "    .dataframe tbody tr th {\n",
              "        vertical-align: top;\n",
              "    }\n",
              "\n",
              "    .dataframe thead th {\n",
              "        text-align: right;\n",
              "    }\n",
              "</style>\n",
              "<table border=\"1\" class=\"dataframe\">\n",
              "  <thead>\n",
              "    <tr style=\"text-align: right;\">\n",
              "      <th></th>\n",
              "      <th>population</th>\n",
              "      <th>profit</th>\n",
              "    </tr>\n",
              "  </thead>\n",
              "  <tbody>\n",
              "    <tr>\n",
              "      <th>0</th>\n",
              "      <td>6.1101</td>\n",
              "      <td>17.5920</td>\n",
              "    </tr>\n",
              "    <tr>\n",
              "      <th>1</th>\n",
              "      <td>5.5277</td>\n",
              "      <td>9.1302</td>\n",
              "    </tr>\n",
              "    <tr>\n",
              "      <th>2</th>\n",
              "      <td>8.5186</td>\n",
              "      <td>13.6620</td>\n",
              "    </tr>\n",
              "    <tr>\n",
              "      <th>3</th>\n",
              "      <td>7.0032</td>\n",
              "      <td>11.8540</td>\n",
              "    </tr>\n",
              "    <tr>\n",
              "      <th>4</th>\n",
              "      <td>5.8598</td>\n",
              "      <td>6.8233</td>\n",
              "    </tr>\n",
              "  </tbody>\n",
              "</table>\n",
              "</div>"
            ],
            "text/plain": [
              "   population   profit\n",
              "0      6.1101  17.5920\n",
              "1      5.5277   9.1302\n",
              "2      8.5186  13.6620\n",
              "3      7.0032  11.8540\n",
              "4      5.8598   6.8233"
            ]
          },
          "metadata": {
            "tags": []
          },
          "execution_count": 404
        }
      ]
    },
    {
      "cell_type": "code",
      "metadata": {
        "id": "JvXZFf3PdzfD",
        "colab_type": "code",
        "outputId": "9cbb65a8-b831-4f78-e6b8-ba42864b2dec",
        "colab": {
          "base_uri": "https://localhost:8080/",
          "height": 177
        }
      },
      "source": [
        "data.info()  # no null values and no column is type object"
      ],
      "execution_count": 405,
      "outputs": [
        {
          "output_type": "stream",
          "text": [
            "<class 'pandas.core.frame.DataFrame'>\n",
            "RangeIndex: 97 entries, 0 to 96\n",
            "Data columns (total 2 columns):\n",
            " #   Column      Non-Null Count  Dtype  \n",
            "---  ------      --------------  -----  \n",
            " 0   population  97 non-null     float64\n",
            " 1   profit      97 non-null     float64\n",
            "dtypes: float64(2)\n",
            "memory usage: 1.6 KB\n"
          ],
          "name": "stdout"
        }
      ]
    },
    {
      "cell_type": "code",
      "metadata": {
        "id": "xSLMytX4dzh3",
        "colab_type": "code",
        "outputId": "e4022ad5-2644-47ac-880c-8a7b99fd448c",
        "colab": {
          "base_uri": "https://localhost:8080/",
          "height": 282
        }
      },
      "source": [
        "data.describe()"
      ],
      "execution_count": 406,
      "outputs": [
        {
          "output_type": "execute_result",
          "data": {
            "text/html": [
              "<div>\n",
              "<style scoped>\n",
              "    .dataframe tbody tr th:only-of-type {\n",
              "        vertical-align: middle;\n",
              "    }\n",
              "\n",
              "    .dataframe tbody tr th {\n",
              "        vertical-align: top;\n",
              "    }\n",
              "\n",
              "    .dataframe thead th {\n",
              "        text-align: right;\n",
              "    }\n",
              "</style>\n",
              "<table border=\"1\" class=\"dataframe\">\n",
              "  <thead>\n",
              "    <tr style=\"text-align: right;\">\n",
              "      <th></th>\n",
              "      <th>population</th>\n",
              "      <th>profit</th>\n",
              "    </tr>\n",
              "  </thead>\n",
              "  <tbody>\n",
              "    <tr>\n",
              "      <th>count</th>\n",
              "      <td>97.000000</td>\n",
              "      <td>97.000000</td>\n",
              "    </tr>\n",
              "    <tr>\n",
              "      <th>mean</th>\n",
              "      <td>8.159800</td>\n",
              "      <td>5.839135</td>\n",
              "    </tr>\n",
              "    <tr>\n",
              "      <th>std</th>\n",
              "      <td>3.869884</td>\n",
              "      <td>5.510262</td>\n",
              "    </tr>\n",
              "    <tr>\n",
              "      <th>min</th>\n",
              "      <td>5.026900</td>\n",
              "      <td>-2.680700</td>\n",
              "    </tr>\n",
              "    <tr>\n",
              "      <th>25%</th>\n",
              "      <td>5.707700</td>\n",
              "      <td>1.986900</td>\n",
              "    </tr>\n",
              "    <tr>\n",
              "      <th>50%</th>\n",
              "      <td>6.589400</td>\n",
              "      <td>4.562300</td>\n",
              "    </tr>\n",
              "    <tr>\n",
              "      <th>75%</th>\n",
              "      <td>8.578100</td>\n",
              "      <td>7.046700</td>\n",
              "    </tr>\n",
              "    <tr>\n",
              "      <th>max</th>\n",
              "      <td>22.203000</td>\n",
              "      <td>24.147000</td>\n",
              "    </tr>\n",
              "  </tbody>\n",
              "</table>\n",
              "</div>"
            ],
            "text/plain": [
              "       population     profit\n",
              "count   97.000000  97.000000\n",
              "mean     8.159800   5.839135\n",
              "std      3.869884   5.510262\n",
              "min      5.026900  -2.680700\n",
              "25%      5.707700   1.986900\n",
              "50%      6.589400   4.562300\n",
              "75%      8.578100   7.046700\n",
              "max     22.203000  24.147000"
            ]
          },
          "metadata": {
            "tags": []
          },
          "execution_count": 406
        }
      ]
    },
    {
      "cell_type": "code",
      "metadata": {
        "id": "O2w65A-TdzoC",
        "colab_type": "code",
        "outputId": "22be3fb6-2126-4086-9517-d02a0c495486",
        "colab": {
          "base_uri": "https://localhost:8080/",
          "height": 290
        }
      },
      "source": [
        "sns.heatmap(data.isna()) # no null values "
      ],
      "execution_count": 407,
      "outputs": [
        {
          "output_type": "execute_result",
          "data": {
            "text/plain": [
              "<matplotlib.axes._subplots.AxesSubplot at 0x7f37bfde8208>"
            ]
          },
          "metadata": {
            "tags": []
          },
          "execution_count": 407
        },
        {
          "output_type": "display_data",
          "data": {
            "image/png": "[encoded data removed]",
            "text/plain": [
              "<Figure size 432x288 with 2 Axes>"
            ]
          },
          "metadata": {
            "tags": []
          }
        }
      ]
    },
    {
      "cell_type": "markdown",
      "metadata": {
        "id": "zVsTC8jUc_g4",
        "colab_type": "text"
      },
      "source": [
        "### Visualization\n",
        "\n",
        "1. Exercise 1 : scatterplot of population vs profit"
      ]
    },
    {
      "cell_type": "code",
      "metadata": {
        "id": "nwRY9tsCegf3",
        "colab_type": "code",
        "outputId": "a762a0a8-37f1-4729-c62d-f97821e592db",
        "colab": {
          "base_uri": "https://localhost:8080/",
          "height": 303
        }
      },
      "source": [
        "sns.scatterplot(x='population',y='profit',data=data)"
      ],
      "execution_count": 408,
      "outputs": [
        {
          "output_type": "execute_result",
          "data": {
            "text/plain": [
              "<matplotlib.axes._subplots.AxesSubplot at 0x7f37c012b208>"
            ]
          },
          "metadata": {
            "tags": []
          },
          "execution_count": 408
        },
        {
          "output_type": "display_data",
          "data": {
            "image/png": "[encoded data removed]",
            "text/plain": [
              "<Figure size 432x288 with 1 Axes>"
            ]
          },
          "metadata": {
            "tags": []
          }
        }
      ]
    },
    {
      "cell_type": "code",
      "metadata": {
        "id": "StGDka1begi7",
        "colab_type": "code",
        "outputId": "0b8cccf9-2649-4df0-ad90-b75b8282e609",
        "colab": {
          "base_uri": "https://localhost:8080/",
          "height": 303
        }
      },
      "source": [
        "sns.distplot(data['population'])"
      ],
      "execution_count": 409,
      "outputs": [
        {
          "output_type": "execute_result",
          "data": {
            "text/plain": [
              "<matplotlib.axes._subplots.AxesSubplot at 0x7f37bfde7518>"
            ]
          },
          "metadata": {
            "tags": []
          },
          "execution_count": 409
        },
        {
          "output_type": "display_data",
          "data": {
            "image/png": "[encoded data removed]",
            "text/plain": [
              "<Figure size 432x288 with 1 Axes>"
            ]
          },
          "metadata": {
            "tags": []
          }
        }
      ]
    },
    {
      "cell_type": "code",
      "metadata": {
        "id": "oSeL85sfe6cF",
        "colab_type": "code",
        "outputId": "652d63d2-2eb2-48dd-e758-1f6a355df45a",
        "colab": {
          "base_uri": "https://localhost:8080/",
          "height": 303
        }
      },
      "source": [
        "sns.distplot(data['profit'])"
      ],
      "execution_count": 410,
      "outputs": [
        {
          "output_type": "execute_result",
          "data": {
            "text/plain": [
              "<matplotlib.axes._subplots.AxesSubplot at 0x7f37bfca7ef0>"
            ]
          },
          "metadata": {
            "tags": []
          },
          "execution_count": 410
        },
        {
          "output_type": "display_data",
          "data": {
            "image/png": "[encoded data removed]",
            "text/plain": [
              "<Figure size 432x288 with 1 Axes>"
            ]
          },
          "metadata": {
            "tags": []
          }
        }
      ]
    },
    {
      "cell_type": "code",
      "metadata": {
        "id": "cKSqBiHylNMx",
        "colab_type": "code",
        "outputId": "834a417f-c4fa-4ec7-e4ae-0ef5c68840e0",
        "colab": {
          "base_uri": "https://localhost:8080/",
          "height": 266
        }
      },
      "source": [
        "sns.boxplot(y='population',data=data)"
      ],
      "execution_count": 411,
      "outputs": [
        {
          "output_type": "execute_result",
          "data": {
            "text/plain": [
              "<matplotlib.axes._subplots.AxesSubplot at 0x7f37bfb84588>"
            ]
          },
          "metadata": {
            "tags": []
          },
          "execution_count": 411
        },
        {
          "output_type": "display_data",
          "data": {
            "image/png": "[encoded data removed]",
            "text/plain": [
              "<Figure size 432x288 with 1 Axes>"
            ]
          },
          "metadata": {
            "tags": []
          }
        }
      ]
    },
    {
      "cell_type": "code",
      "metadata": {
        "id": "hUsn21bLrcbM",
        "colab_type": "code",
        "outputId": "7ec25590-f41c-405d-de19-b61ffe03c821",
        "colab": {
          "base_uri": "https://localhost:8080/",
          "height": 267
        }
      },
      "source": [
        "sns.boxplot(y='profit',data=data)"
      ],
      "execution_count": 412,
      "outputs": [
        {
          "output_type": "execute_result",
          "data": {
            "text/plain": [
              "<matplotlib.axes._subplots.AxesSubplot at 0x7f37bfb84390>"
            ]
          },
          "metadata": {
            "tags": []
          },
          "execution_count": 412
        },
        {
          "output_type": "display_data",
          "data": {
            "image/png": "[encoded data removed]",
            "text/plain": [
              "<Figure size 432x288 with 1 Axes>"
            ]
          },
          "metadata": {
            "tags": []
          }
        }
      ]
    },
    {
      "cell_type": "markdown",
      "metadata": {
        "id": "pTAw1M6zk5f5",
        "colab_type": "text"
      },
      "source": [
        "### Feature scaling"
      ]
    },
    {
      "cell_type": "code",
      "metadata": {
        "id": "jL5_cE7ik4lk",
        "colab_type": "code",
        "colab": {}
      },
      "source": [
        "from sklearn.preprocessing import StandardScaler as sc"
      ],
      "execution_count": 0,
      "outputs": []
    },
    {
      "cell_type": "code",
      "metadata": {
        "id": "LeMjgC6Ak_r7",
        "colab_type": "code",
        "colab": {}
      },
      "source": [
        "sc1=sc()\n",
        "\n",
        "x=data[['population']]\n",
        "y=data[['profit']]"
      ],
      "execution_count": 0,
      "outputs": []
    },
    {
      "cell_type": "code",
      "metadata": {
        "id": "SAwBDEg0k_ke",
        "colab_type": "code",
        "colab": {}
      },
      "source": [
        "x=sc1.fit_transform(x)\n",
        "\n",
        "sc2=sc()\n",
        "y=sc2.fit_transform(y)"
      ],
      "execution_count": 0,
      "outputs": []
    },
    {
      "cell_type": "code",
      "metadata": {
        "id": "mkQ-3Mub-xKU",
        "colab_type": "code",
        "outputId": "a54504e6-602f-40a3-ee61-7736ec5c37d2",
        "colab": {
          "base_uri": "https://localhost:8080/",
          "height": 286
        }
      },
      "source": [
        "sns.distplot(x)"
      ],
      "execution_count": 416,
      "outputs": [
        {
          "output_type": "execute_result",
          "data": {
            "text/plain": [
              "<matplotlib.axes._subplots.AxesSubplot at 0x7f37c0364390>"
            ]
          },
          "metadata": {
            "tags": []
          },
          "execution_count": 416
        },
        {
          "output_type": "display_data",
          "data": {
            "image/png": "[encoded data removed]",
            "text/plain": [
              "<Figure size 432x288 with 1 Axes>"
            ]
          },
          "metadata": {
            "tags": []
          }
        }
      ]
    },
    {
      "cell_type": "code",
      "metadata": {
        "id": "JCo-NI6f-xCF",
        "colab_type": "code",
        "outputId": "1614ae94-5ec5-44ec-e74b-3edd44d24504",
        "colab": {
          "base_uri": "https://localhost:8080/",
          "height": 286
        }
      },
      "source": [
        "sns.distplot(y)"
      ],
      "execution_count": 417,
      "outputs": [
        {
          "output_type": "execute_result",
          "data": {
            "text/plain": [
              "<matplotlib.axes._subplots.AxesSubplot at 0x7f37bfb414a8>"
            ]
          },
          "metadata": {
            "tags": []
          },
          "execution_count": 417
        },
        {
          "output_type": "display_data",
          "data": {
            "image/png": "[encoded data removed]",
            "text/plain": [
              "<Figure size 432x288 with 1 Axes>"
            ]
          },
          "metadata": {
            "tags": []
          }
        }
      ]
    },
    {
      "cell_type": "markdown",
      "metadata": {
        "id": "achD3blVc_kE",
        "colab_type": "text"
      },
      "source": [
        "### Data splitting for training and testing"
      ]
    },
    {
      "cell_type": "code",
      "metadata": {
        "id": "cG95gH1je9mr",
        "colab_type": "code",
        "colab": {}
      },
      "source": [
        "from sklearn.model_selection import train_test_split as tts"
      ],
      "execution_count": 0,
      "outputs": []
    },
    {
      "cell_type": "code",
      "metadata": {
        "id": "FoAM2EEje9gS",
        "colab_type": "code",
        "colab": {}
      },
      "source": [
        "x_train,x_test,y_train,y_test = tts(x,y,test_size=0.3,random_state=15)"
      ],
      "execution_count": 0,
      "outputs": []
    },
    {
      "cell_type": "markdown",
      "metadata": {
        "id": "O6ogUAkuc_nR",
        "colab_type": "text"
      },
      "source": [
        "### Training a model\n",
        "\n",
        "Exercise 2: use Scikit linear regression algorithm to predict profit as a function of population. The function used out here is y = Mx + C, where the parameter M & C will provide the equation for best fit line (linear regression). Further, y – is profit and X – is population. So purpose of this exercise is derive a simple equation which define profit as a function of population"
      ]
    },
    {
      "cell_type": "code",
      "metadata": {
        "id": "XZXTICCjfVDI",
        "colab_type": "code",
        "colab": {}
      },
      "source": [
        "from sklearn.linear_model import LinearRegression as lr"
      ],
      "execution_count": 0,
      "outputs": []
    },
    {
      "cell_type": "code",
      "metadata": {
        "id": "-fAtlXLZfVGX",
        "colab_type": "code",
        "colab": {}
      },
      "source": [
        "model=lr(fit_intercept=True)"
      ],
      "execution_count": 0,
      "outputs": []
    },
    {
      "cell_type": "code",
      "metadata": {
        "id": "A-i7xZLffVZ_",
        "colab_type": "code",
        "outputId": "415268e2-b92a-4a58-e181-94199181a227",
        "colab": {
          "base_uri": "https://localhost:8080/",
          "height": 35
        }
      },
      "source": [
        "model.fit(x_train,y_train)"
      ],
      "execution_count": 422,
      "outputs": [
        {
          "output_type": "execute_result",
          "data": {
            "text/plain": [
              "LinearRegression(copy_X=True, fit_intercept=True, n_jobs=None, normalize=False)"
            ]
          },
          "metadata": {
            "tags": []
          },
          "execution_count": 422
        }
      ]
    },
    {
      "cell_type": "code",
      "metadata": {
        "id": "OHOlmcX9fVdF",
        "colab_type": "code",
        "outputId": "cb77f05d-dfce-4e9c-8791-0d40aeca08fc",
        "colab": {
          "base_uri": "https://localhost:8080/",
          "height": 35
        }
      },
      "source": [
        "#getting the coefficients\n",
        "model.coef_,model.intercept_"
      ],
      "execution_count": 423,
      "outputs": [
        {
          "output_type": "execute_result",
          "data": {
            "text/plain": [
              "(array([[0.78789713]]), array([0.03394074]))"
            ]
          },
          "metadata": {
            "tags": []
          },
          "execution_count": 423
        }
      ]
    },
    {
      "cell_type": "code",
      "metadata": {
        "id": "bzkcOafsjeq7",
        "colab_type": "code",
        "outputId": "df74405e-f5cc-483b-ac44-77128178c5ad",
        "colab": {
          "base_uri": "https://localhost:8080/",
          "height": 35
        }
      },
      "source": [
        "model.score(x_train,y_train) # training time, accuracy is 58%"
      ],
      "execution_count": 425,
      "outputs": [
        {
          "output_type": "execute_result",
          "data": {
            "text/plain": [
              "0.5759959074114946"
            ]
          },
          "metadata": {
            "tags": []
          },
          "execution_count": 425
        }
      ]
    },
    {
      "cell_type": "markdown",
      "metadata": {
        "id": "AX7vpBkLfwy3",
        "colab_type": "text"
      },
      "source": [
        " **so the equation is :**\n",
        "\n",
        "```\n",
        " y     = mx   + c\n",
        " \n",
        "profit = 0.78789713 * population + (0.03394074) \n",
        "```"
      ]
    },
    {
      "cell_type": "markdown",
      "metadata": {
        "id": "HCgMZPlwc_pu",
        "colab_type": "text"
      },
      "source": [
        "### Testing a model\n",
        "\n",
        "Exercise 3 : use the parameters obtained for linear regression to plot the linear fit in the same scatter plot used to visualize the data. Purpose is the draw the line y = MX + C, obtained above. You will be able to visualize that straight line is the best fit possible given this data set. "
      ]
    },
    {
      "cell_type": "code",
      "metadata": {
        "id": "5CKJ5DiUdUtb",
        "colab_type": "code",
        "colab": {}
      },
      "source": [
        "predictions=model.predict(x_test)"
      ],
      "execution_count": 0,
      "outputs": []
    },
    {
      "cell_type": "markdown",
      "metadata": {
        "id": "Jc-5dReqgrWQ",
        "colab_type": "text"
      },
      "source": [
        "### Evaluating the Accuracy of the model"
      ]
    },
    {
      "cell_type": "code",
      "metadata": {
        "id": "1p3VbMlzgdFt",
        "colab_type": "code",
        "colab": {}
      },
      "source": [
        "from sklearn.metrics import r2_score,mean_squared_error as mse"
      ],
      "execution_count": 0,
      "outputs": []
    },
    {
      "cell_type": "code",
      "metadata": {
        "id": "koM0PXcvg1wz",
        "colab_type": "code",
        "outputId": "81968289-bbf8-44ea-d56f-52e56c67cb73",
        "colab": {
          "base_uri": "https://localhost:8080/",
          "height": 35
        }
      },
      "source": [
        "np.sqrt(mse(y_test,predictions))"
      ],
      "execution_count": 428,
      "outputs": [
        {
          "output_type": "execute_result",
          "data": {
            "text/plain": [
              "0.5156082222065377"
            ]
          },
          "metadata": {
            "tags": []
          },
          "execution_count": 428
        }
      ]
    },
    {
      "cell_type": "code",
      "metadata": {
        "id": "R5dsnilWg9JR",
        "colab_type": "code",
        "outputId": "3eca3c4e-e88b-4445-bb86-6260af899ca6",
        "colab": {
          "base_uri": "https://localhost:8080/",
          "height": 35
        }
      },
      "source": [
        "r2_score(y_test,predictions)  # r2 score is 83% "
      ],
      "execution_count": 429,
      "outputs": [
        {
          "output_type": "execute_result",
          "data": {
            "text/plain": [
              "0.826339351637532"
            ]
          },
          "metadata": {
            "tags": []
          },
          "execution_count": 429
        }
      ]
    },
    {
      "cell_type": "code",
      "metadata": {
        "id": "PRjjfbflg_Yg",
        "colab_type": "code",
        "outputId": "b83d6361-47d9-4efa-f501-25602442ac77",
        "colab": {
          "base_uri": "https://localhost:8080/",
          "height": 334
        }
      },
      "source": [
        "#Plotting the res\n",
        "\n",
        "plt.scatter(x,y)\n",
        "plt.plot(x,model.predict(x))\n",
        "plt.xlabel('Population')\n",
        "plt.ylabel('Profit')\n",
        "plt.title(' \\n Linear Regression model for population & profit')"
      ],
      "execution_count": 430,
      "outputs": [
        {
          "output_type": "execute_result",
          "data": {
            "text/plain": [
              "Text(0.5, 1.0, ' \\n Linear Regression model for population & profit')"
            ]
          },
          "metadata": {
            "tags": []
          },
          "execution_count": 430
        },
        {
          "output_type": "display_data",
          "data": {
            "image/png": "[encoded data removed]",
            "text/plain": [
              "<Figure size 432x288 with 1 Axes>"
            ]
          },
          "metadata": {
            "tags": []
          }
        }
      ]
    },
    {
      "cell_type": "markdown",
      "metadata": {
        "id": "0OyL1SnTi41N",
        "colab_type": "text"
      },
      "source": [
        "### Note : \n",
        "\n",
        "The linear regressional model's accuracy is **74%**. \n",
        "\n",
        "Now we will implement the **Polynomial Regression equation** to improve the accuracy."
      ]
    },
    {
      "cell_type": "markdown",
      "metadata": {
        "id": "e8BK5UdnKwZJ",
        "colab_type": "text"
      },
      "source": [
        "## 2. Polynomial model"
      ]
    },
    {
      "cell_type": "code",
      "metadata": {
        "id": "pCM-4DZDiSvh",
        "colab_type": "code",
        "colab": {}
      },
      "source": [
        "from sklearn.pipeline import make_pipeline as mp\n",
        "from sklearn.preprocessing import PolynomialFeatures as pf"
      ],
      "execution_count": 0,
      "outputs": []
    },
    {
      "cell_type": "code",
      "metadata": {
        "id": "guKqTEA-j8zR",
        "colab_type": "code",
        "colab": {}
      },
      "source": [
        "pipe=mp( pf(include_bias=False,degree=2), lr(fit_intercept=True))"
      ],
      "execution_count": 0,
      "outputs": []
    },
    {
      "cell_type": "code",
      "metadata": {
        "id": "zus3LZ97kJzx",
        "colab_type": "code",
        "outputId": "7d2ab18b-fd2b-4194-baf9-2cea78e4c7fd",
        "colab": {
          "base_uri": "https://localhost:8080/",
          "height": 159
        }
      },
      "source": [
        "# Training the data\n",
        "pipe.fit(x_train,y_train)"
      ],
      "execution_count": 433,
      "outputs": [
        {
          "output_type": "execute_result",
          "data": {
            "text/plain": [
              "Pipeline(memory=None,\n",
              "         steps=[('polynomialfeatures',\n",
              "                 PolynomialFeatures(degree=2, include_bias=False,\n",
              "                                    interaction_only=False, order='C')),\n",
              "                ('linearregression',\n",
              "                 LinearRegression(copy_X=True, fit_intercept=True, n_jobs=None,\n",
              "                                  normalize=False))],\n",
              "         verbose=False)"
            ]
          },
          "metadata": {
            "tags": []
          },
          "execution_count": 433
        }
      ]
    },
    {
      "cell_type": "code",
      "metadata": {
        "id": "na8pWqenkPLA",
        "colab_type": "code",
        "colab": {}
      },
      "source": [
        "pred=pipe.predict(x_test)"
      ],
      "execution_count": 0,
      "outputs": []
    },
    {
      "cell_type": "code",
      "metadata": {
        "id": "f9TPJHstkdWx",
        "colab_type": "code",
        "outputId": "54d95d1d-2d65-4507-a40f-9c9a4767b3a5",
        "colab": {
          "base_uri": "https://localhost:8080/",
          "height": 35
        }
      },
      "source": [
        "np.sqrt(mse(y_test,pred))"
      ],
      "execution_count": 435,
      "outputs": [
        {
          "output_type": "execute_result",
          "data": {
            "text/plain": [
              "0.5191784268654452"
            ]
          },
          "metadata": {
            "tags": []
          },
          "execution_count": 435
        }
      ]
    },
    {
      "cell_type": "code",
      "metadata": {
        "id": "wkuiVMXQkgnQ",
        "colab_type": "code",
        "outputId": "12a17932-b8b9-4839-9756-70e2d575bc43",
        "colab": {
          "base_uri": "https://localhost:8080/",
          "height": 35
        }
      },
      "source": [
        "r2_score(y_test,pred)"
      ],
      "execution_count": 436,
      "outputs": [
        {
          "output_type": "execute_result",
          "data": {
            "text/plain": [
              "0.8239260829452943"
            ]
          },
          "metadata": {
            "tags": []
          },
          "execution_count": 436
        }
      ]
    },
    {
      "cell_type": "markdown",
      "metadata": {
        "id": "i9skMToi_sa4",
        "colab_type": "text"
      },
      "source": [
        "## 3. RidgeCV"
      ]
    },
    {
      "cell_type": "code",
      "metadata": {
        "id": "MEgciFt2_rgI",
        "colab_type": "code",
        "colab": {}
      },
      "source": [
        "from sklearn.linear_model import RidgeCV as rcv"
      ],
      "execution_count": 0,
      "outputs": []
    },
    {
      "cell_type": "code",
      "metadata": {
        "id": "Pc-rZnoXkjgA",
        "colab_type": "code",
        "colab": {}
      },
      "source": [
        "alpha=np.append( [0.1,0.001,0.01,0.0001] , np.linspace(1,20,30)) \n",
        "ridge=rcv(alphas=alpha,scoring='neg_mean_squared_error', cv=8)"
      ],
      "execution_count": 0,
      "outputs": []
    },
    {
      "cell_type": "code",
      "metadata": {
        "id": "BVVKn7wAA65n",
        "colab_type": "code",
        "colab": {
          "base_uri": "https://localhost:8080/",
          "height": 212
        },
        "outputId": "dd1418d3-c27f-48b8-a58f-c962bcb2ede8"
      },
      "source": [
        "ridge.fit(x_train,y_train)"
      ],
      "execution_count": 439,
      "outputs": [
        {
          "output_type": "execute_result",
          "data": {
            "text/plain": [
              "RidgeCV(alphas=array([1.00000000e-01, 1.00000000e-03, 1.00000000e-02, 1.00000000e-04,\n",
              "       1.00000000e+00, 1.65517241e+00, 2.31034483e+00, 2.96551724e+00,\n",
              "       3.62068966e+00, 4.27586207e+00, 4.93103448e+00, 5.58620690e+00,\n",
              "       6.24137931e+00, 6.89655172e+00, 7.55172414e+00, 8.20689655e+00,\n",
              "       8.86206897e+00, 9.51724138e+00, 1.01724138e+01, 1.08275862e+01,\n",
              "       1.14827586e+01, 1.21379310e+01, 1.27931034e+01, 1.34482759e+01,\n",
              "       1.41034483e+01, 1.47586207e+01, 1.54137931e+01, 1.60689655e+01,\n",
              "       1.67241379e+01, 1.73793103e+01, 1.80344828e+01, 1.86896552e+01,\n",
              "       1.93448276e+01, 2.00000000e+01]),\n",
              "        cv=8, fit_intercept=True, gcv_mode=None, normalize=False,\n",
              "        scoring='neg_mean_squared_error', store_cv_values=False)"
            ]
          },
          "metadata": {
            "tags": []
          },
          "execution_count": 439
        }
      ]
    },
    {
      "cell_type": "code",
      "metadata": {
        "id": "k-jPdOgwBNe0",
        "colab_type": "code",
        "colab": {
          "base_uri": "https://localhost:8080/",
          "height": 35
        },
        "outputId": "ca3cf64f-2cce-47e1-a38c-0c4e04243d90"
      },
      "source": [
        "ridge.alpha_"
      ],
      "execution_count": 440,
      "outputs": [
        {
          "output_type": "execute_result",
          "data": {
            "text/plain": [
              "0.0001"
            ]
          },
          "metadata": {
            "tags": []
          },
          "execution_count": 440
        }
      ]
    },
    {
      "cell_type": "code",
      "metadata": {
        "id": "IPwT6-McBd6B",
        "colab_type": "code",
        "colab": {}
      },
      "source": [
        "pred=pipe.predict(x_test)"
      ],
      "execution_count": 0,
      "outputs": []
    },
    {
      "cell_type": "code",
      "metadata": {
        "colab_type": "code",
        "outputId": "0f54b289-967d-4deb-8443-c7cf53bb0a77",
        "id": "OViJYXGhBl6W",
        "colab": {
          "base_uri": "https://localhost:8080/",
          "height": 35
        }
      },
      "source": [
        "np.sqrt(mse(y_test,pred))"
      ],
      "execution_count": 442,
      "outputs": [
        {
          "output_type": "execute_result",
          "data": {
            "text/plain": [
              "0.5191784268654452"
            ]
          },
          "metadata": {
            "tags": []
          },
          "execution_count": 442
        }
      ]
    },
    {
      "cell_type": "code",
      "metadata": {
        "colab_type": "code",
        "outputId": "391f264c-3e08-4e84-d40a-d235630f4a76",
        "id": "Ad_HcpXqBl6h",
        "colab": {
          "base_uri": "https://localhost:8080/",
          "height": 35
        }
      },
      "source": [
        "r2_score(y_test,pred)"
      ],
      "execution_count": 443,
      "outputs": [
        {
          "output_type": "execute_result",
          "data": {
            "text/plain": [
              "0.8239260829452943"
            ]
          },
          "metadata": {
            "tags": []
          },
          "execution_count": 443
        }
      ]
    },
    {
      "cell_type": "code",
      "metadata": {
        "id": "2DC4_s4iBouw",
        "colab_type": "code",
        "colab": {}
      },
      "source": [
        ""
      ],
      "execution_count": 0,
      "outputs": []
    },
    {
      "cell_type": "markdown",
      "metadata": {
        "id": "pk-verR-ICcs",
        "colab_type": "text"
      },
      "source": [
        "## 4.  RidgeCv with polynomial Features"
      ]
    },
    {
      "cell_type": "code",
      "metadata": {
        "id": "hBf84P9rIFmq",
        "colab_type": "code",
        "colab": {
          "base_uri": "https://localhost:8080/",
          "height": 337
        },
        "outputId": "c63f88aa-ccc8-4dbe-96eb-feec227d80b1"
      },
      "source": [
        "pipe=mp( pf(degree=2,include_bias=False),\n",
        "         rcv(alphas=alpha,scoring='neg_mean_squared_error', cv=10) \n",
        "        )\n",
        "pipe"
      ],
      "execution_count": 450,
      "outputs": [
        {
          "output_type": "execute_result",
          "data": {
            "text/plain": [
              "Pipeline(memory=None,\n",
              "         steps=[('polynomialfeatures',\n",
              "                 PolynomialFeatures(degree=2, include_bias=False,\n",
              "                                    interaction_only=False, order='C')),\n",
              "                ('ridgecv',\n",
              "                 RidgeCV(alphas=array([1.00000000e-01, 1.00000000e-03, 1.00000000e-02, 1.00000000e-04,\n",
              "       1.00000000e+00, 1.65517241e+00, 2.31034483e+00, 2.96551724e+00,\n",
              "       3.62068966e+00, 4.27586207e+00, 4.93103448e+00, 5.58620690e+00,\n",
              "       6.241...\n",
              "       8.86206897e+00, 9.51724138e+00, 1.01724138e+01, 1.08275862e+01,\n",
              "       1.14827586e+01, 1.21379310e+01, 1.27931034e+01, 1.34482759e+01,\n",
              "       1.41034483e+01, 1.47586207e+01, 1.54137931e+01, 1.60689655e+01,\n",
              "       1.67241379e+01, 1.73793103e+01, 1.80344828e+01, 1.86896552e+01,\n",
              "       1.93448276e+01, 2.00000000e+01]),\n",
              "                         cv=10, fit_intercept=True, gcv_mode=None,\n",
              "                         normalize=False, scoring='neg_mean_squared_error',\n",
              "                         store_cv_values=False))],\n",
              "         verbose=False)"
            ]
          },
          "metadata": {
            "tags": []
          },
          "execution_count": 450
        }
      ]
    },
    {
      "cell_type": "code",
      "metadata": {
        "colab_type": "code",
        "outputId": "70d839e1-d5e2-4cd4-bc70-d28eeec6a473",
        "id": "NmYnKoVUId5l",
        "colab": {
          "base_uri": "https://localhost:8080/",
          "height": 337
        }
      },
      "source": [
        "pipe.fit(x_train,y_train)"
      ],
      "execution_count": 451,
      "outputs": [
        {
          "output_type": "execute_result",
          "data": {
            "text/plain": [
              "Pipeline(memory=None,\n",
              "         steps=[('polynomialfeatures',\n",
              "                 PolynomialFeatures(degree=2, include_bias=False,\n",
              "                                    interaction_only=False, order='C')),\n",
              "                ('ridgecv',\n",
              "                 RidgeCV(alphas=array([1.00000000e-01, 1.00000000e-03, 1.00000000e-02, 1.00000000e-04,\n",
              "       1.00000000e+00, 1.65517241e+00, 2.31034483e+00, 2.96551724e+00,\n",
              "       3.62068966e+00, 4.27586207e+00, 4.93103448e+00, 5.58620690e+00,\n",
              "       6.241...\n",
              "       8.86206897e+00, 9.51724138e+00, 1.01724138e+01, 1.08275862e+01,\n",
              "       1.14827586e+01, 1.21379310e+01, 1.27931034e+01, 1.34482759e+01,\n",
              "       1.41034483e+01, 1.47586207e+01, 1.54137931e+01, 1.60689655e+01,\n",
              "       1.67241379e+01, 1.73793103e+01, 1.80344828e+01, 1.86896552e+01,\n",
              "       1.93448276e+01, 2.00000000e+01]),\n",
              "                         cv=10, fit_intercept=True, gcv_mode=None,\n",
              "                         normalize=False, scoring='neg_mean_squared_error',\n",
              "                         store_cv_values=False))],\n",
              "         verbose=False)"
            ]
          },
          "metadata": {
            "tags": []
          },
          "execution_count": 451
        }
      ]
    },
    {
      "cell_type": "code",
      "metadata": {
        "colab_type": "code",
        "outputId": "55dc96e9-f5cf-42d3-94ef-09beea6497e2",
        "id": "LrICm2-5Id5x",
        "colab": {
          "base_uri": "https://localhost:8080/",
          "height": 35
        }
      },
      "source": [
        "pipe.named_steps['ridgecv'].alpha_"
      ],
      "execution_count": 452,
      "outputs": [
        {
          "output_type": "execute_result",
          "data": {
            "text/plain": [
              "1.6551724137931034"
            ]
          },
          "metadata": {
            "tags": []
          },
          "execution_count": 452
        }
      ]
    },
    {
      "cell_type": "code",
      "metadata": {
        "colab_type": "code",
        "id": "Wa8HF_sUIqil",
        "colab": {}
      },
      "source": [
        "pred=pipe.predict(x_test)"
      ],
      "execution_count": 0,
      "outputs": []
    },
    {
      "cell_type": "code",
      "metadata": {
        "colab_type": "code",
        "outputId": "c8dfed5c-b8b2-4a4d-cf28-fdb3c707d5ec",
        "id": "-O2Lc6WlIqiy",
        "colab": {
          "base_uri": "https://localhost:8080/",
          "height": 35
        }
      },
      "source": [
        "np.sqrt(mse(y_test,pred))"
      ],
      "execution_count": 454,
      "outputs": [
        {
          "output_type": "execute_result",
          "data": {
            "text/plain": [
              "0.5225749336974441"
            ]
          },
          "metadata": {
            "tags": []
          },
          "execution_count": 454
        }
      ]
    },
    {
      "cell_type": "code",
      "metadata": {
        "colab_type": "code",
        "outputId": "7348daa0-e906-4087-a0b3-708e3f6bf311",
        "id": "eu9OGbYlIqi6",
        "colab": {
          "base_uri": "https://localhost:8080/",
          "height": 35
        }
      },
      "source": [
        "r2_score(y_test,pred)"
      ],
      "execution_count": 455,
      "outputs": [
        {
          "output_type": "execute_result",
          "data": {
            "text/plain": [
              "0.8216147678685584"
            ]
          },
          "metadata": {
            "tags": []
          },
          "execution_count": 455
        }
      ]
    },
    {
      "cell_type": "markdown",
      "metadata": {
        "id": "hU8TCcGdJtN-",
        "colab_type": "text"
      },
      "source": [
        "# ANALYSIS : All the models with Accuracies\n",
        "--------------------------------------------------\n",
        "\n",
        "1. Linear model :           82.63 %\n",
        "2. polynomial model :       82.39 %\n",
        "3. ridge linear model :     82.39 %\n",
        "4. ridge polynomial model : 82.16 %\n",
        "\n",
        "Thus in all the models, we have got almost ***same accuracies i.e 82-83 %*** . \n",
        "\n",
        "To imporove the accuracy,we can apply *decision-tree or random-forest* technique."
      ]
    }
  ]
}