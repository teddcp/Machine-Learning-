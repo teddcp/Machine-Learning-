{
  "nbformat": 4,
  "nbformat_minor": 0,
  "metadata": {
    "colab": {
      "name": "Assignment_3B_NLP.ipynb",
      "provenance": [],
      "collapsed_sections": [],
      "toc_visible": true,
      "include_colab_link": true
    },
    "kernelspec": {
      "display_name": "Python 3",
      "language": "python",
      "name": "python3"
    },
    "language_info": {
      "codemirror_mode": {
        "name": "ipython",
        "version": 3
      },
      "file_extension": ".py",
      "mimetype": "text/x-python",
      "name": "python",
      "nbconvert_exporter": "python",
      "pygments_lexer": "ipython3",
      "version": "3.7.6"
    }
  },
  "cells": [
    {
      "cell_type": "markdown",
      "metadata": {
        "id": "view-in-github",
        "colab_type": "text"
      },
      "source": [
        "<a href=\"https://colab.research.google.com/github/teddcp/Machine-Learning-/blob/master/Assignment_3B_NLP.ipynb\" target=\"_parent\"><img src=\"https://colab.research.google.com/assets/colab-badge.svg\" alt=\"Open In Colab\"/></a>"
      ]
    },
    {
      "cell_type": "markdown",
      "metadata": {
        "colab_type": "text",
        "id": "MjSRtdWtB6bd"
      },
      "source": [
        "# NLP\n",
        "---------------------------------------------------------------------\n",
        "\n",
        "1. Write a python script that reads the data_in.csv from every cell in column labeled as comment and perform sentence tokenization and redirects in to column of data_out.csv. Perform the NE Chunking on these sentences. \n",
        "\n",
        "2. Write a python script that reads the data_in.csv from every cell in column labeled as comment and perform word tokenization and redirects in to column of data_out.csv \n",
        "\n",
        "3. From an input file data.txt it is required to identify the POS-Tagging and display it on tree structure. \n",
        "\n",
        "4. For a given text file exclude the stop words and perform the Stemming & lemmatization and compare the results. \n",
        "\n",
        "5. Create a small dictionary file with required set of words with weightage attached to it with positive and negative numbers. Create a python script that analyzes the given text file and classify it as negative or positive sentiment. \n",
        " "
      ]
    },
    {
      "cell_type": "markdown",
      "metadata": {
        "colab_type": "text",
        "id": "eX7abkJATsxI"
      },
      "source": [
        "## Q1\n",
        "--------------------------------------------------------------------------------"
      ]
    },
    {
      "cell_type": "code",
      "metadata": {
        "colab_type": "code",
        "id": "C6RG81rgpn9w",
        "outputId": "f96d3301-a98a-4275-d9a1-fcac916789d0",
        "colab": {
          "base_uri": "https://localhost:8080/",
          "height": 35
        }
      },
      "source": [
        "import os\n",
        "import matplotlib as mpl\n",
        "if os.environ.get('DISPLAY','') == '':\n",
        "    print('no display found. Using non-interactive Agg backend')\n",
        "    mpl.use('Agg')\n",
        "import matplotlib.pyplot as plt"
      ],
      "execution_count": 0,
      "outputs": [
        {
          "output_type": "stream",
          "text": [
            "no display found. Using non-interactive Agg backend\n"
          ],
          "name": "stdout"
        }
      ]
    },
    {
      "cell_type": "code",
      "metadata": {
        "colab_type": "code",
        "id": "tuQdg2WfBlh-",
        "outputId": "5bad23d6-8f0e-454a-ed8c-b19d1fddf05d",
        "colab": {
          "base_uri": "https://localhost:8080/",
          "height": 52
        }
      },
      "source": [
        "!pip install nltk"
      ],
      "execution_count": 0,
      "outputs": [
        {
          "output_type": "stream",
          "text": [
            "Collecting nltk\n",
            "  Downloading https://files.pythonhosted.org/packages/92/75/ce35194d8e3022203cca0d2f896dbb88689f9b3fce8e9f9cff942913519d/nltk-3.5.zip (1.4MB)\n",
            "Collecting click (from nltk)\n",
            "  Downloading https://files.pythonhosted.org/packages/d2/3d/fa76db83bf75c4f8d338c2fd15c8d33fdd7ad23a9b5e57eb6c5de26b430e/click-7.1.2-py2.py3-none-any.whl (82kB)\n",
            "Requirement already satisfied: joblib in d:\\application\\python\\lib\\site-packages (from nltk) (0.14.1)\n",
            "Collecting regex (from nltk)\n",
            "  Downloading https://files.pythonhosted.org/packages/80/f3/20dc107ea9d1fe2b05b974729fffcbd77b34b26468154a8fcfe47a7aee6a/regex-2020.5.14-cp37-cp37m-win_amd64.whl (272kB)\n",
            "Collecting tqdm (from nltk)\n",
            "  Downloading https://files.pythonhosted.org/packages/c9/40/058b12e8ba10e35f89c9b1fdfc2d4c7f8c05947df2d5eb3c7b258019fda0/tqdm-4.46.0-py2.py3-none-any.whl (63kB)\n",
            "Installing collected packages: click, regex, tqdm, nltk\n",
            "  Running setup.py install for nltk: started\n",
            "    Running setup.py install for nltk: finished with status 'done'\n",
            "Successfully installed click-7.1.2 nltk-3.5 regex-2020.5.14 tqdm-4.46.0\n"
          ],
          "name": "stdout"
        },
        {
          "output_type": "stream",
          "text": [
            "WARNING: You are using pip version 19.2.3, however version 20.1.1 is available.\n",
            "You should consider upgrading via the 'python -m pip install --upgrade pip' command.\n"
          ],
          "name": "stderr"
        }
      ]
    },
    {
      "cell_type": "code",
      "metadata": {
        "colab_type": "code",
        "id": "wmBlSWXNCKWd",
        "colab": {}
      },
      "source": [
        "import pandas as pd\n",
        "import numpy as np\n",
        "import nltk"
      ],
      "execution_count": 0,
      "outputs": []
    },
    {
      "cell_type": "code",
      "metadata": {
        "colab_type": "code",
        "id": "hGhoFC0BHR73",
        "outputId": "945af265-bd92-4fbf-a443-12da6798d21d",
        "colab": {
          "base_uri": "https://localhost:8080/",
          "height": 852
        }
      },
      "source": [
        "nltk.download('popular')"
      ],
      "execution_count": 0,
      "outputs": [
        {
          "output_type": "stream",
          "text": [
            "[nltk_data] Downloading collection 'popular'\n",
            "[nltk_data]    | \n",
            "[nltk_data]    | Downloading package cmudict to C:\\Users\\debasis\n",
            "[nltk_data]    |     panda\\AppData\\Roaming\\nltk_data...\n",
            "[nltk_data]    |   Package cmudict is already up-to-date!\n",
            "[nltk_data]    | Downloading package gazetteers to C:\\Users\\debasis\n",
            "[nltk_data]    |     panda\\AppData\\Roaming\\nltk_data...\n",
            "[nltk_data]    |   Package gazetteers is already up-to-date!\n",
            "[nltk_data]    | Downloading package genesis to C:\\Users\\debasis\n",
            "[nltk_data]    |     panda\\AppData\\Roaming\\nltk_data...\n",
            "[nltk_data]    |   Package genesis is already up-to-date!\n",
            "[nltk_data]    | Downloading package gutenberg to C:\\Users\\debasis\n",
            "[nltk_data]    |     panda\\AppData\\Roaming\\nltk_data...\n",
            "[nltk_data]    |   Package gutenberg is already up-to-date!\n",
            "[nltk_data]    | Downloading package inaugural to C:\\Users\\debasis\n",
            "[nltk_data]    |     panda\\AppData\\Roaming\\nltk_data...\n",
            "[nltk_data]    |   Package inaugural is already up-to-date!\n",
            "[nltk_data]    | Downloading package movie_reviews to C:\\Users\\debasis\n",
            "[nltk_data]    |     panda\\AppData\\Roaming\\nltk_data...\n",
            "[nltk_data]    |   Package movie_reviews is already up-to-date!\n",
            "[nltk_data]    | Downloading package names to C:\\Users\\debasis\n",
            "[nltk_data]    |     panda\\AppData\\Roaming\\nltk_data...\n",
            "[nltk_data]    |   Package names is already up-to-date!\n",
            "[nltk_data]    | Downloading package shakespeare to C:\\Users\\debasis\n",
            "[nltk_data]    |     panda\\AppData\\Roaming\\nltk_data...\n",
            "[nltk_data]    |   Package shakespeare is already up-to-date!\n",
            "[nltk_data]    | Downloading package stopwords to C:\\Users\\debasis\n",
            "[nltk_data]    |     panda\\AppData\\Roaming\\nltk_data...\n",
            "[nltk_data]    |   Package stopwords is already up-to-date!\n",
            "[nltk_data]    | Downloading package treebank to C:\\Users\\debasis\n",
            "[nltk_data]    |     panda\\AppData\\Roaming\\nltk_data...\n",
            "[nltk_data]    |   Package treebank is already up-to-date!\n",
            "[nltk_data]    | Downloading package twitter_samples to\n",
            "[nltk_data]    |     C:\\Users\\debasis\n",
            "[nltk_data]    |     panda\\AppData\\Roaming\\nltk_data...\n",
            "[nltk_data]    |   Unzipping corpora\\twitter_samples.zip.\n",
            "[nltk_data]    | Downloading package omw to C:\\Users\\debasis\n",
            "[nltk_data]    |     panda\\AppData\\Roaming\\nltk_data...\n",
            "[nltk_data]    |   Unzipping corpora\\omw.zip.\n",
            "[nltk_data]    | Downloading package wordnet to C:\\Users\\debasis\n",
            "[nltk_data]    |     panda\\AppData\\Roaming\\nltk_data...\n",
            "[nltk_data]    |   Unzipping corpora\\wordnet.zip.\n",
            "[nltk_data]    | Downloading package wordnet_ic to C:\\Users\\debasis\n",
            "[nltk_data]    |     panda\\AppData\\Roaming\\nltk_data...\n",
            "[nltk_data]    |   Unzipping corpora\\wordnet_ic.zip.\n",
            "[nltk_data]    | Downloading package words to C:\\Users\\debasis\n",
            "[nltk_data]    |     panda\\AppData\\Roaming\\nltk_data...\n",
            "[nltk_data]    |   Unzipping corpora\\words.zip.\n",
            "[nltk_data]    | Downloading package maxent_ne_chunker to\n",
            "[nltk_data]    |     C:\\Users\\debasis\n",
            "[nltk_data]    |     panda\\AppData\\Roaming\\nltk_data...\n",
            "[nltk_data]    |   Unzipping chunkers\\maxent_ne_chunker.zip.\n",
            "[nltk_data]    | Downloading package punkt to C:\\Users\\debasis\n",
            "[nltk_data]    |     panda\\AppData\\Roaming\\nltk_data...\n",
            "[nltk_data]    |   Unzipping tokenizers\\punkt.zip.\n",
            "[nltk_data]    | Downloading package snowball_data to C:\\Users\\debasis\n",
            "[nltk_data]    |     panda\\AppData\\Roaming\\nltk_data...\n",
            "[nltk_data]    | Downloading package averaged_perceptron_tagger to\n",
            "[nltk_data]    |     C:\\Users\\debasis\n",
            "[nltk_data]    |     panda\\AppData\\Roaming\\nltk_data...\n",
            "[nltk_data]    |   Unzipping taggers\\averaged_perceptron_tagger.zip.\n",
            "[nltk_data]    | \n",
            "[nltk_data]  Done downloading collection popular\n"
          ],
          "name": "stderr"
        },
        {
          "output_type": "execute_result",
          "data": {
            "text/plain": [
              "True"
            ]
          },
          "metadata": {
            "tags": []
          },
          "execution_count": 7
        }
      ]
    },
    {
      "cell_type": "code",
      "metadata": {
        "colab_type": "code",
        "id": "v351IXeTEhwM",
        "outputId": "c46f7e7f-52c6-4b2c-947a-de5ace045553",
        "colab": {
          "base_uri": "https://localhost:8080/",
          "height": 194
        }
      },
      "source": [
        "data=pd.read_excel('NLP_data_Q1&2.xlsx')\n",
        "data.head()"
      ],
      "execution_count": 0,
      "outputs": [
        {
          "output_type": "execute_result",
          "data": {
            "text/html": [
              "<div>\n",
              "<style scoped>\n",
              "    .dataframe tbody tr th:only-of-type {\n",
              "        vertical-align: middle;\n",
              "    }\n",
              "\n",
              "    .dataframe tbody tr th {\n",
              "        vertical-align: top;\n",
              "    }\n",
              "\n",
              "    .dataframe thead th {\n",
              "        text-align: right;\n",
              "    }\n",
              "</style>\n",
              "<table border=\"1\" class=\"dataframe\">\n",
              "  <thead>\n",
              "    <tr style=\"text-align: right;\">\n",
              "      <th></th>\n",
              "      <th>Comment</th>\n",
              "    </tr>\n",
              "  </thead>\n",
              "  <tbody>\n",
              "    <tr>\n",
              "      <th>0</th>\n",
              "      <td>\"Hello there, how are you? Weather is awesome....</td>\n",
              "    </tr>\n",
              "    <tr>\n",
              "      <th>1</th>\n",
              "      <td>\"Hello Mr. Raja, how are you? Weather is aweso...</td>\n",
              "    </tr>\n",
              "    <tr>\n",
              "      <th>2</th>\n",
              "      <td>\"Hello Mr. Raja, how are you. Weather is bad. ...</td>\n",
              "    </tr>\n",
              "    <tr>\n",
              "      <th>3</th>\n",
              "      <td>\"NLP is great technique. It is nice to learn t...</td>\n",
              "    </tr>\n",
              "    <tr>\n",
              "      <th>4</th>\n",
              "      <td>\"AI is making difference in this world now.  I...</td>\n",
              "    </tr>\n",
              "  </tbody>\n",
              "</table>\n",
              "</div>"
            ],
            "text/plain": [
              "                                             Comment\n",
              "0  \"Hello there, how are you? Weather is awesome....\n",
              "1  \"Hello Mr. Raja, how are you? Weather is aweso...\n",
              "2  \"Hello Mr. Raja, how are you. Weather is bad. ...\n",
              "3  \"NLP is great technique. It is nice to learn t...\n",
              "4  \"AI is making difference in this world now.  I..."
            ]
          },
          "metadata": {
            "tags": []
          },
          "execution_count": 24
        }
      ]
    },
    {
      "cell_type": "markdown",
      "metadata": {
        "colab_type": "text",
        "id": "UFkkQpWCUozp"
      },
      "source": [
        "### Sentece Tokenizer and storing to csv"
      ]
    },
    {
      "cell_type": "code",
      "metadata": {
        "colab_type": "code",
        "id": "Knv13pMaFCMA",
        "outputId": "d4c63c83-ccb9-402f-d702-84dc22946e70",
        "colab": {
          "base_uri": "https://localhost:8080/",
          "height": 266
        }
      },
      "source": [
        "from nltk.tokenize import sent_tokenize \n",
        "\n",
        "res=[]\n",
        "\n",
        "for i in data['Comment']:\n",
        "  sentences= sent_tokenize(i.strip('\"'))\n",
        "  for sentence in sentences :\n",
        "    res.append(sentence+'\\n')\n",
        "  \n",
        "res"
      ],
      "execution_count": 0,
      "outputs": [
        {
          "output_type": "execute_result",
          "data": {
            "text/plain": [
              "['Hello there, how are you?\\n',\n",
              " 'Weather is awesome.\\n',\n",
              " 'Its raining here now.\\n',\n",
              " 'Hello Mr. Raja, how are you?\\n',\n",
              " 'Weather is awesome.\\n',\n",
              " 'Its raining here now.\\n',\n",
              " 'Hello Mr. Raja, how are you.\\n',\n",
              " 'Weather is bad.\\n',\n",
              " 'Its heavily raining here now.\\n',\n",
              " 'NLP is great technique.\\n',\n",
              " 'It is nice to learn this technique.\\n',\n",
              " 'AI is making difference in this world now.\\n',\n",
              " 'It would be helpful for betterment of human life.\\n',\n",
              " 'We need to make advantage of that.\\n']"
            ]
          },
          "metadata": {
            "tags": []
          },
          "execution_count": 25
        }
      ]
    },
    {
      "cell_type": "code",
      "metadata": {
        "colab_type": "code",
        "id": "Xf7xwno5FexB",
        "colab": {}
      },
      "source": [
        "# Storing to file : all the sentences\n",
        "with open('NLP_Answer_Q1.txt','w') as fp:\n",
        "  for i in res:\n",
        "    fp.write(i)\n"
      ],
      "execution_count": 0,
      "outputs": []
    },
    {
      "cell_type": "markdown",
      "metadata": {
        "colab_type": "text",
        "id": "8JUZIGXJO7ET"
      },
      "source": [
        "### Chunking"
      ]
    },
    {
      "cell_type": "code",
      "metadata": {
        "colab_type": "code",
        "id": "DFQhPNa-H8O8",
        "outputId": "38e455d5-e01b-4474-adb0-2fb1cb42557d",
        "colab": {
          "base_uri": "https://localhost:8080/",
          "height": 248
        }
      },
      "source": [
        "from nltk import chunk,tag,word_tokenize\n",
        "\n",
        "sent_pos=[]\n",
        "\n",
        "for i in data['Comment']:\n",
        "  \n",
        "  sentences= sent_tokenize(i.strip('\"'))\n",
        "\n",
        "  for sentence in sentences:\n",
        "\n",
        "    words=word_tokenize(sentence)\n",
        "    tagged_sent = tag.pos_tag(words)\n",
        "    sent_pos.append(tagged_sent)\n",
        "\n",
        "  break\n",
        "\n",
        "sent_pos\n",
        "\n",
        "#  we will consider only the firt sentence i.e \n",
        "#  \"Hello there, how are you? Weather is awesome. Its raining here now.\"\n",
        "#  for chunking"
      ],
      "execution_count": 0,
      "outputs": [
        {
          "output_type": "execute_result",
          "data": {
            "text/plain": [
              "[[('Hello', 'NNP'),\n",
              "  ('there', 'RB'),\n",
              "  (',', ','),\n",
              "  ('how', 'WRB'),\n",
              "  ('are', 'VBP'),\n",
              "  ('you', 'PRP'),\n",
              "  ('?', '.')],\n",
              " [('Weather', 'NNP'), ('is', 'VBZ'), ('awesome', 'JJ'), ('.', '.')],\n",
              " [('Its', 'PRP$'),\n",
              "  ('raining', 'VBG'),\n",
              "  ('here', 'RB'),\n",
              "  ('now', 'RB'),\n",
              "  ('.', '.')]]"
            ]
          },
          "metadata": {
            "tags": []
          },
          "execution_count": 27
        }
      ]
    },
    {
      "cell_type": "code",
      "metadata": {
        "colab_type": "code",
        "id": "GpaXmAK_8fKD",
        "outputId": "0c8d304c-c7e4-4259-bb95-5792270c67c6",
        "colab": {
          "base_uri": "https://localhost:8080/",
          "height": 141
        }
      },
      "source": [
        "sent_pos[0]"
      ],
      "execution_count": 0,
      "outputs": [
        {
          "output_type": "execute_result",
          "data": {
            "text/plain": [
              "[('Hello', 'NNP'),\n",
              " ('there', 'RB'),\n",
              " (',', ','),\n",
              " ('how', 'WRB'),\n",
              " ('are', 'VBP'),\n",
              " ('you', 'PRP'),\n",
              " ('?', '.')]"
            ]
          },
          "metadata": {
            "tags": []
          },
          "execution_count": 28
        }
      ]
    },
    {
      "cell_type": "code",
      "metadata": {
        "colab_type": "code",
        "id": "9a5ibKEW4IBu",
        "outputId": "fd60fd4a-4074-4325-befc-89b79989cf48",
        "colab": {
          "base_uri": "https://localhost:8080/",
          "height": 370
        }
      },
      "source": [
        "grammar=pattern = \"\"\"NP: {<DT>?<JJ>*<NN.?>}\n",
        "                     VBD: {<VB.?>}\n",
        "                     IN: {<IN>}\"\"\"\n",
        "#'''Chunk: {<UH.?>*<DT.?>*<PRP.?>*<RB.?>+<VB.?>*<NNP>+<NN>?}'''\n",
        "cp  =nltk.RegexpParser(grammar)\n",
        "\n",
        "result = cp.parse(sent_pos[0])\n",
        "print(result)\n",
        "result.draw()"
      ],
      "execution_count": 0,
      "outputs": [
        {
          "output_type": "stream",
          "text": [
            "(S (NP Hello/NNP) there/RB ,/, how/WRB (VBD are/VBP) you/PRP ?/.)\n"
          ],
          "name": "stdout"
        }
      ]
    },
    {
      "cell_type": "code",
      "metadata": {
        "id": "NdttsggWID6M",
        "colab_type": "code",
        "outputId": "14d61dfe-8090-4c78-ae94-265537dfb112",
        "colab": {
          "base_uri": "https://localhost:8080/",
          "height": 396
        }
      },
      "source": [
        "from IPython.display import Image\n",
        "Image('/content/tree-structure.PNG')"
      ],
      "execution_count": 0,
      "outputs": [
        {
          "output_type": "execute_result",
          "data": {
            "image/png": "[encoded data removed]",
            "text/plain": [
              "<IPython.core.display.Image object>"
            ]
          },
          "metadata": {
            "tags": []
          },
          "execution_count": 5
        }
      ]
    },
    {
      "cell_type": "markdown",
      "metadata": {
        "colab_type": "text",
        "id": "3lU6BrVtTkxj"
      },
      "source": [
        "## Q2\n",
        "----------------------------------------------------------"
      ]
    },
    {
      "cell_type": "code",
      "metadata": {
        "colab_type": "code",
        "id": "H1nCUYDAU5qp",
        "outputId": "fbd84296-7f53-4223-bf4e-c0b3a8eecff1",
        "colab": {
          "base_uri": "https://localhost:8080/",
          "height": 552
        }
      },
      "source": [
        "from nltk.tokenize import word_tokenize \n",
        "\n",
        "res=[]\n",
        "\n",
        "for i in data['Comment']:\n",
        "    words= word_tokenize(i.strip('\"'))\n",
        "    words.append('\\n')\n",
        "    res.append(words)\n",
        "  \n",
        "print(res[0])"
      ],
      "execution_count": 0,
      "outputs": [
        {
          "output_type": "stream",
          "text": [
            "['Hello', 'there', ',', 'how', 'are', 'you', '?', 'Weather', 'is', 'awesome', '.', 'Its', 'raining', 'here', 'now', '.', '\\n']\n"
          ],
          "name": "stdout"
        }
      ]
    },
    {
      "cell_type": "code",
      "metadata": {
        "colab_type": "code",
        "id": "VXvxYm77Z6-a",
        "colab": {}
      },
      "source": [
        "# storing the res\n",
        "data=pd.DataFrame(res)\n",
        "data.to_csv('data_out_Q2.csv',index=False)\n"
      ],
      "execution_count": 0,
      "outputs": []
    },
    {
      "cell_type": "markdown",
      "metadata": {
        "colab_type": "text",
        "id": "vDOWlWpEYHGf"
      },
      "source": [
        "## Q3"
      ]
    },
    {
      "cell_type": "code",
      "metadata": {
        "colab_type": "code",
        "id": "BAkTD2pKUee_",
        "outputId": "5b7dfa53-20a5-47fe-83cd-407fee7cc6d1",
        "colab": {
          "base_uri": "https://localhost:8080/",
          "height": 106
        }
      },
      "source": [
        "# POS-Tagging\n",
        "\n",
        "# Reading the file\n",
        "with open('NLPdataEx3&4-data_in.txt', 'r') as fp :\n",
        "  content= fp.readlines()\n",
        "\n",
        "content"
      ],
      "execution_count": 0,
      "outputs": [
        {
          "output_type": "execute_result",
          "data": {
            "text/plain": [
              "['Hello there, how are you? Weather is awesome. Its raining here now.\\n',\n",
              " 'Hello Mr. Raja, how are you? Weather is awesome. Its raining here now.\\n',\n",
              " 'Hello Mr. Raja, how are you. Weather is bad. Its heavily raining here now.\\n',\n",
              " 'NLP is great technique. It is nice to learn this technique.\\n',\n",
              " 'AI is making difference in this world now.  It would be helpful for betterment of human life. We need to make advantage of that.\\n']"
            ]
          },
          "metadata": {
            "tags": []
          },
          "execution_count": 44
        }
      ]
    },
    {
      "cell_type": "code",
      "metadata": {
        "colab_type": "code",
        "id": "EVKgv5ALYGFM",
        "colab": {}
      },
      "source": [
        "from nltk.tokenize import word_tokenize as wt\n",
        "from nltk import pos_tag as pos\n",
        "\n",
        "from nltk.tree import Tree\n",
        "from nltk.draw.tree import TreeView\n",
        "\n",
        "from nltk import chunk"
      ],
      "execution_count": 0,
      "outputs": []
    },
    {
      "cell_type": "code",
      "metadata": {
        "colab_type": "code",
        "id": "p6KuN9E4YGLS",
        "outputId": "f9c6c2e7-4fa5-46e9-9c13-bee0d6d428eb",
        "colab": {
          "base_uri": "https://localhost:8080/",
          "height": 1000
        }
      },
      "source": [
        "# we will consider that 3rd sentence to display its pos and tree diagram\n",
        "# similary we can do for the others\n",
        "\n",
        "# Tokenizer\n",
        "words= word_tokenize(content[2])\n",
        "\n",
        "# POS-TAGGING\n",
        "res=pos(words)\n",
        "print('-----------POS Tagging-------')\n",
        "print(res)\n",
        "\n",
        "pattern = \"\"\"NP: {<DT>?<JJ>*<NN.?>}\n",
        "                     VBD: {<VB.?>}\n",
        "                     IN: {<IN>}\"\"\"\n",
        "\n",
        "cp  =nltk.RegexpParser(pattern)\n",
        "\n",
        "result = cp.parse(res)\n",
        "print('\\n------------- Tree Structure ----------\\n')\n",
        "print(result)\n",
        "result.draw()"
      ],
      "execution_count": 0,
      "outputs": [
        {
          "output_type": "stream",
          "text": [
            "-----------POS Tagging-------\n",
            "[('Hello', 'NNP'), ('Mr.', 'NNP'), ('Raja', 'NNP'), (',', ','), ('how', 'WRB'), ('are', 'VBP'), ('you', 'PRP'), ('.', '.'), ('Weather', 'CC'), ('is', 'VBZ'), ('bad', 'JJ'), ('.', '.'), ('Its', 'PRP$'), ('heavily', 'RB'), ('raining', 'VBG'), ('here', 'RB'), ('now', 'RB'), ('.', '.')]\n",
            "\n",
            "------------- Tree Structure ----------\n",
            "\n",
            "(S\n",
            "  (NP Hello/NNP)\n",
            "  (NP Mr./NNP)\n",
            "  (NP Raja/NNP)\n",
            "  ,/,\n",
            "  how/WRB\n",
            "  (VBD are/VBP)\n",
            "  you/PRP\n",
            "  ./.\n",
            "  Weather/CC\n",
            "  (VBD is/VBZ)\n",
            "  bad/JJ\n",
            "  ./.\n",
            "  Its/PRP$\n",
            "  heavily/RB\n",
            "  (VBD raining/VBG)\n",
            "  here/RB\n",
            "  now/RB\n",
            "  ./.)\n"
          ],
          "name": "stdout"
        }
      ]
    },
    {
      "cell_type": "code",
      "metadata": {
        "colab_type": "code",
        "id": "cM8lE6SDYGWK",
        "outputId": "80c9ca01-43a3-47e1-e0bd-c3cf0ce2fb7c",
        "colab": {
          "base_uri": "https://localhost:8080/",
          "height": 316
        }
      },
      "source": [
        "from IPython.display import Image\n",
        "Image('/content/trre-structure.PNG')"
      ],
      "execution_count": 0,
      "outputs": [
        {
          "output_type": "execute_result",
          "data": {
            "image/png": "[encoded data removed]",
            "text/plain": [
              "<IPython.core.display.Image object>"
            ]
          },
          "metadata": {
            "tags": []
          },
          "execution_count": 4
        }
      ]
    },
    {
      "cell_type": "markdown",
      "metadata": {
        "colab_type": "text",
        "id": "OAW-uB75UffY"
      },
      "source": [
        "##  Q4\n",
        "------------------------------------------------------------------------------"
      ]
    },
    {
      "cell_type": "code",
      "metadata": {
        "colab_type": "code",
        "id": "k1nG_d11Uekq",
        "outputId": "2581fb25-b24f-463b-f82d-2f02da8f53aa",
        "colab": {
          "base_uri": "https://localhost:8080/",
          "height": 106
        }
      },
      "source": [
        "# stop words, stemming , lemmatization\n",
        "\n",
        "#reading from file\n",
        "with open('NLPdataEx3&4-data_in.txt', 'r') as fp :\n",
        "  content= fp.readlines()\n",
        "\n",
        "content"
      ],
      "execution_count": 0,
      "outputs": [
        {
          "output_type": "execute_result",
          "data": {
            "text/plain": [
              "['Hello there, how are you? Weather is awesome. Its raining here now.\\n',\n",
              " 'Hello Mr. Raja, how are you? Weather is awesome. Its raining here now.\\n',\n",
              " 'Hello Mr. Raja, how are you. Weather is bad. Its heavily raining here now.\\n',\n",
              " 'NLP is great technique. It is nice to learn this technique.\\n',\n",
              " 'AI is making difference in this world now.  It would be helpful for betterment of human life. We need to make advantage of that.\\n']"
            ]
          },
          "metadata": {
            "tags": []
          },
          "execution_count": 53
        }
      ]
    },
    {
      "cell_type": "code",
      "metadata": {
        "colab_type": "code",
        "id": "vz3MGxxvVOA2",
        "colab": {}
      },
      "source": [
        "from nltk.tokenize import word_tokenize\n",
        "from nltk.corpus import stopwords\n",
        "from nltk.stem import WordNetLemmatizer,PorterStemmer\n",
        "\n",
        "import string\n",
        "\n",
        "porter=PorterStemmer()\n",
        "wordnet_lemmatizer = WordNetLemmatizer()\n",
        "en_stops = set(stopwords.words('english'))"
      ],
      "execution_count": 0,
      "outputs": []
    },
    {
      "cell_type": "code",
      "metadata": {
        "colab_type": "code",
        "id": "9_yJK-WEUeqF",
        "outputId": "181565df-4a9d-48d8-aa15-92a8c72ef08e",
        "colab": {
          "base_uri": "https://localhost:8080/",
          "height": 550
        }
      },
      "source": [
        "for line in content :\n",
        "\n",
        "  # Tokenizer\n",
        "  words= word_tokenize(line)\n",
        "  print(line)\n",
        "\n",
        "  # removing the stopwords and punctuations\n",
        "  new_words= [ w for w in words if w not in en_stops and w not in string.punctuation ]\n",
        "\n",
        "  # Stemming\n",
        "  stemmed_line= [porter.stem(w) for w in new_words]\n",
        "  print(','.join(stemmed_line))\n",
        "\n",
        "  # Lemmatization\n",
        "  lemma_line= [wordnet_lemmatizer.lemmatize(w) for w in new_words]\n",
        "  print(','.join(lemma_line))\n",
        "  print('---------------------------------------------\\n')"
      ],
      "execution_count": 0,
      "outputs": [
        {
          "output_type": "stream",
          "text": [
            "Hello there, how are you? Weather is awesome. Its raining here now.\n",
            "\n",
            "hello,weather,awesom,it,rain\n",
            "Hello,Weather,awesome,Its,raining\n",
            "---------------------------------------------\n",
            "\n",
            "Hello Mr. Raja, how are you? Weather is awesome. Its raining here now.\n",
            "\n",
            "hello,mr.,raja,weather,awesom,it,rain\n",
            "Hello,Mr.,Raja,Weather,awesome,Its,raining\n",
            "---------------------------------------------\n",
            "\n",
            "Hello Mr. Raja, how are you. Weather is bad. Its heavily raining here now.\n",
            "\n",
            "hello,mr.,raja,weather,bad,it,heavili,rain\n",
            "Hello,Mr.,Raja,Weather,bad,Its,heavily,raining\n",
            "---------------------------------------------\n",
            "\n",
            "NLP is great technique. It is nice to learn this technique.\n",
            "\n",
            "nlp,great,techniqu,It,nice,learn,techniqu\n",
            "NLP,great,technique,It,nice,learn,technique\n",
            "---------------------------------------------\n",
            "\n",
            "AI is making difference in this world now.  It would be helpful for betterment of human life. We need to make advantage of that.\n",
            "\n",
            "AI,make,differ,world,It,would,help,better,human,life,We,need,make,advantag\n",
            "AI,making,difference,world,It,would,helpful,betterment,human,life,We,need,make,advantage\n",
            "---------------------------------------------\n",
            "\n"
          ],
          "name": "stdout"
        }
      ]
    },
    {
      "cell_type": "markdown",
      "metadata": {
        "colab_type": "text",
        "id": "bf4gTLL5BOBI"
      },
      "source": [
        "## Q5\n",
        "-----------------------------------------------------------------------------\n",
        "\n",
        "1. Create a small dictionary file with required set of words with weightage attached to it with positive and negative numbers. Create a python script that analyzes the given text file and classify it as negative or positive sentiment."
      ]
    },
    {
      "cell_type": "code",
      "metadata": {
        "colab_type": "code",
        "id": "pTQBZHepBMpK",
        "colab": {}
      },
      "source": [
        "# List of positive and negative words\n",
        "\n",
        "import ast\n",
        "\n",
        "with open('NLPdataEx5dict.txt','r') as f:\n",
        "  content=f.read()\n",
        "  contents=content.split('\\n')\n",
        "  neg=contents[0]\n",
        "  pos=contents[1]\n",
        "  pos_string=  pos.replace('pos_words=[','').rstrip(']')\n",
        "  neg_string=  neg.replace('neg_words=[','').rstrip(']')\n",
        "  pos_word=[ str(word.strip('\"')) for word in pos_string.split(',')]\n",
        "  neg_word=[ str(word.strip('\"')) for word in neg_string.split(',')]"
      ],
      "execution_count": 0,
      "outputs": []
    },
    {
      "cell_type": "code",
      "metadata": {
        "colab_type": "code",
        "id": "hGYY8Lz2BMsd",
        "outputId": "6985d30a-af7a-4dc1-9b77-bf5dbb165c34",
        "colab": {
          "base_uri": "https://localhost:8080/",
          "height": 230
        }
      },
      "source": [
        "# reading the text file \n",
        "# decide if it is a positive or negative sentiment\n",
        "\n",
        "with open('NLPdataEx5data_senti_analyze.txt','r') as f:\n",
        "  content= f.read()\n",
        "  contents= content.split('\\n')\n",
        "\n",
        "contents"
      ],
      "execution_count": 0,
      "outputs": [
        {
          "output_type": "execute_result",
          "data": {
            "text/plain": [
              "['Rose is beautiful.',\n",
              " 'Place is nasty to stay.',\n",
              " 'This is the beauty of this technique.',\n",
              " 'Concept is explained beautifully in this book.',\n",
              " 'He annoyed me.',\n",
              " 'Its the supreme place to stay.',\n",
              " 'I hate this place.',\n",
              " 'Dont annoy the customer.',\n",
              " 'He has given nasty comments about his stay.',\n",
              " 'Dessert is awesome.',\n",
              " 'Your gift is wonderful.']"
            ]
          },
          "metadata": {
            "tags": []
          },
          "execution_count": 58
        }
      ]
    },
    {
      "cell_type": "code",
      "metadata": {
        "colab_type": "code",
        "id": "dAbcnSVZBMx9",
        "colab": {}
      },
      "source": [
        "from nltk.tokenize import word_tokenize\n",
        "from nltk.corpus import stopwords\n",
        "from nltk.stem import WordNetLemmatizer\n",
        "import string\n",
        "\n",
        "wordnet_lemmatizer = WordNetLemmatizer()\n",
        "en_stops = set(stopwords.words('english'))"
      ],
      "execution_count": 0,
      "outputs": []
    },
    {
      "cell_type": "code",
      "metadata": {
        "colab_type": "code",
        "id": "DtNps34nBM09",
        "outputId": "4e415865-ee9a-483f-c119-67c2dcbe5fc1",
        "colab": {
          "base_uri": "https://localhost:8080/",
          "height": 230
        }
      },
      "source": [
        "# Sentiment Analysis\n",
        "\n",
        "for line in contents :\n",
        "\n",
        "  # WORD TOKENIZER\n",
        "  words= word_tokenize(line)\n",
        "  #print(words)\n",
        "\n",
        "  # removing the stopwords\n",
        "  words=[word for word in words if word not in en_stops and word not in string.punctuation]\n",
        "  #print(words)\n",
        "\n",
        "  \n",
        "  # Lemmatizing\n",
        "  content=[]\n",
        "  for word in words : \n",
        "    content.append(wordnet_lemmatizer.lemmatize(word))\n",
        "  #print(content)\n",
        "\n",
        "  # Chekcing if it is a positive sentiment \n",
        "  flag=0\n",
        "  for word in content :\n",
        "    if word in pos_word:\n",
        "      print(f'{line} ---  POSITIVE SENTIMENT')\n",
        "      flag=1\n",
        "      break\n",
        "    elif word in neg_word:\n",
        "      print(f'{line} ---  NEGATIVE SENTIMENT')\n",
        "      flag=1\n",
        "      break\n",
        "\n",
        "  if flag ==0 :\n",
        "    print(f'{line} ---  NEUTRAL SENTIMENT')  "
      ],
      "execution_count": 0,
      "outputs": [
        {
          "output_type": "stream",
          "text": [
            "Rose is beautiful. ---  POSITIVE SENTIMENT\n",
            "Place is nasty to stay. ---  NEGATIVE SENTIMENT\n",
            "This is the beauty of this technique. ---  POSITIVE SENTIMENT\n",
            "Concept is explained beautifully in this book. ---  POSITIVE SENTIMENT\n",
            "He annoyed me. ---  NEGATIVE SENTIMENT\n",
            "Its the supreme place to stay. ---  POSITIVE SENTIMENT\n",
            "I hate this place. ---  NEGATIVE SENTIMENT\n",
            "Dont annoy the customer. ---  NEGATIVE SENTIMENT\n",
            "He has given nasty comments about his stay. ---  NEGATIVE SENTIMENT\n",
            "Dessert is awesome. ---  POSITIVE SENTIMENT\n",
            "Your gift is wonderful. ---  POSITIVE SENTIMENT\n"
          ],
          "name": "stdout"
        }
      ]
    }
  ]
}