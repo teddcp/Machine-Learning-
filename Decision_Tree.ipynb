{
  "nbformat": 4,
  "nbformat_minor": 0,
  "metadata": {
    "colab": {
      "name": "Decision Tree.ipynb",
      "provenance": [],
      "authorship_tag": "ABX9TyMWZQktAlcM1ID6CP7UXDtz",
      "include_colab_link": true
    },
    "kernelspec": {
      "name": "python3",
      "display_name": "Python 3"
    }
  },
  "cells": [
    {
      "cell_type": "markdown",
      "metadata": {
        "id": "view-in-github",
        "colab_type": "text"
      },
      "source": [
        "<a href=\"https://colab.research.google.com/github/teddcp/Machine-Learning-/blob/master/Decision_Tree.ipynb\" target=\"_parent\"><img src=\"https://colab.research.google.com/assets/colab-badge.svg\" alt=\"Open In Colab\"/></a>"
      ]
    },
    {
      "cell_type": "code",
      "metadata": {
        "id": "6rU_CEli-RRv",
        "colab_type": "code",
        "colab": {}
      },
      "source": [
        ""
      ],
      "execution_count": 0,
      "outputs": []
    },
    {
      "cell_type": "code",
      "metadata": {
        "id": "Odm71dGV_Xzg",
        "colab_type": "code",
        "colab": {}
      },
      "source": [
        ""
      ],
      "execution_count": 0,
      "outputs": []
    },
    {
      "cell_type": "code",
      "metadata": {
        "id": "Ae8qr0Kd_X2Q",
        "colab_type": "code",
        "colab": {}
      },
      "source": [
        "import numpy as np\n",
        "import pandas as pd\n",
        "import matplotlib.pyplot as plt\n",
        "import seaborn as sns\n",
        "\n",
        "%matplotlib inline"
      ],
      "execution_count": 0,
      "outputs": []
    },
    {
      "cell_type": "code",
      "metadata": {
        "id": "pND9WdTX_X5Q",
        "colab_type": "code",
        "colab": {}
      },
      "source": [
        "#loading dataset : iris\n",
        "from sklearn.datasets import load_iris\n",
        "data=load_iris()"
      ],
      "execution_count": 0,
      "outputs": []
    },
    {
      "cell_type": "code",
      "metadata": {
        "id": "Xf4ftAdn_g5B",
        "colab_type": "code",
        "outputId": "26b3130a-9189-4516-d542-5d0ba9b6ad24",
        "colab": {
          "base_uri": "https://localhost:8080/",
          "height": 194
        }
      },
      "source": [
        "#preparing x and y\n",
        "x=pd.DataFrame(data['data'],columns=data['feature_names'])\n",
        "y=pd.DataFrame(data['target'],columns=['Target_Class'])\n",
        "x.head()"
      ],
      "execution_count": 206,
      "outputs": [
        {
          "output_type": "execute_result",
          "data": {
            "text/html": [
              "<div>\n",
              "<style scoped>\n",
              "    .dataframe tbody tr th:only-of-type {\n",
              "        vertical-align: middle;\n",
              "    }\n",
              "\n",
              "    .dataframe tbody tr th {\n",
              "        vertical-align: top;\n",
              "    }\n",
              "\n",
              "    .dataframe thead th {\n",
              "        text-align: right;\n",
              "    }\n",
              "</style>\n",
              "<table border=\"1\" class=\"dataframe\">\n",
              "  <thead>\n",
              "    <tr style=\"text-align: right;\">\n",
              "      <th></th>\n",
              "      <th>sepal length (cm)</th>\n",
              "      <th>sepal width (cm)</th>\n",
              "      <th>petal length (cm)</th>\n",
              "      <th>petal width (cm)</th>\n",
              "    </tr>\n",
              "  </thead>\n",
              "  <tbody>\n",
              "    <tr>\n",
              "      <th>0</th>\n",
              "      <td>5.1</td>\n",
              "      <td>3.5</td>\n",
              "      <td>1.4</td>\n",
              "      <td>0.2</td>\n",
              "    </tr>\n",
              "    <tr>\n",
              "      <th>1</th>\n",
              "      <td>4.9</td>\n",
              "      <td>3.0</td>\n",
              "      <td>1.4</td>\n",
              "      <td>0.2</td>\n",
              "    </tr>\n",
              "    <tr>\n",
              "      <th>2</th>\n",
              "      <td>4.7</td>\n",
              "      <td>3.2</td>\n",
              "      <td>1.3</td>\n",
              "      <td>0.2</td>\n",
              "    </tr>\n",
              "    <tr>\n",
              "      <th>3</th>\n",
              "      <td>4.6</td>\n",
              "      <td>3.1</td>\n",
              "      <td>1.5</td>\n",
              "      <td>0.2</td>\n",
              "    </tr>\n",
              "    <tr>\n",
              "      <th>4</th>\n",
              "      <td>5.0</td>\n",
              "      <td>3.6</td>\n",
              "      <td>1.4</td>\n",
              "      <td>0.2</td>\n",
              "    </tr>\n",
              "  </tbody>\n",
              "</table>\n",
              "</div>"
            ],
            "text/plain": [
              "   sepal length (cm)  sepal width (cm)  petal length (cm)  petal width (cm)\n",
              "0                5.1               3.5                1.4               0.2\n",
              "1                4.9               3.0                1.4               0.2\n",
              "2                4.7               3.2                1.3               0.2\n",
              "3                4.6               3.1                1.5               0.2\n",
              "4                5.0               3.6                1.4               0.2"
            ]
          },
          "metadata": {
            "tags": []
          },
          "execution_count": 206
        }
      ]
    },
    {
      "cell_type": "code",
      "metadata": {
        "id": "jObErh5X5Pn9",
        "colab_type": "code",
        "colab": {
          "base_uri": "https://localhost:8080/",
          "height": 88
        },
        "outputId": "dae76aee-191d-41cf-9f1e-214f2f941880"
      },
      "source": [
        "y.Target_Class.value_counts()"
      ],
      "execution_count": 207,
      "outputs": [
        {
          "output_type": "execute_result",
          "data": {
            "text/plain": [
              "2    50\n",
              "1    50\n",
              "0    50\n",
              "Name: Target_Class, dtype: int64"
            ]
          },
          "metadata": {
            "tags": []
          },
          "execution_count": 207
        }
      ]
    },
    {
      "cell_type": "code",
      "metadata": {
        "id": "XELEYP3L_h2P",
        "colab_type": "code",
        "outputId": "a4b22671-1ea3-4f2b-b909-6613e69f07fe",
        "colab": {
          "base_uri": "https://localhost:8080/",
          "height": 106
        }
      },
      "source": [
        "#checking if null values are there\n",
        "x.isna().sum()"
      ],
      "execution_count": 208,
      "outputs": [
        {
          "output_type": "execute_result",
          "data": {
            "text/plain": [
              "sepal length (cm)    0\n",
              "sepal width (cm)     0\n",
              "petal length (cm)    0\n",
              "petal width (cm)     0\n",
              "dtype: int64"
            ]
          },
          "metadata": {
            "tags": []
          },
          "execution_count": 208
        }
      ]
    },
    {
      "cell_type": "code",
      "metadata": {
        "id": "s4qA2cWVAuJy",
        "colab_type": "code",
        "outputId": "8cd0c29f-acc8-41cf-f18d-258a400287bd",
        "colab": {
          "base_uri": "https://localhost:8080/",
          "height": 52
        }
      },
      "source": [
        "y.isna().any()"
      ],
      "execution_count": 209,
      "outputs": [
        {
          "output_type": "execute_result",
          "data": {
            "text/plain": [
              "Target_Class    False\n",
              "dtype: bool"
            ]
          },
          "metadata": {
            "tags": []
          },
          "execution_count": 209
        }
      ]
    },
    {
      "cell_type": "code",
      "metadata": {
        "id": "sKts4GWpAwPh",
        "colab_type": "code",
        "outputId": "36beca40-8cd6-43a3-9a1c-f6c0498e4909",
        "colab": {
          "base_uri": "https://localhost:8080/",
          "height": 372
        }
      },
      "source": [
        "x.info(),y.info()"
      ],
      "execution_count": 210,
      "outputs": [
        {
          "output_type": "stream",
          "text": [
            "<class 'pandas.core.frame.DataFrame'>\n",
            "RangeIndex: 150 entries, 0 to 149\n",
            "Data columns (total 4 columns):\n",
            " #   Column             Non-Null Count  Dtype  \n",
            "---  ------             --------------  -----  \n",
            " 0   sepal length (cm)  150 non-null    float64\n",
            " 1   sepal width (cm)   150 non-null    float64\n",
            " 2   petal length (cm)  150 non-null    float64\n",
            " 3   petal width (cm)   150 non-null    float64\n",
            "dtypes: float64(4)\n",
            "memory usage: 4.8 KB\n",
            "<class 'pandas.core.frame.DataFrame'>\n",
            "RangeIndex: 150 entries, 0 to 149\n",
            "Data columns (total 1 columns):\n",
            " #   Column        Non-Null Count  Dtype\n",
            "---  ------        --------------  -----\n",
            " 0   Target_Class  150 non-null    int64\n",
            "dtypes: int64(1)\n",
            "memory usage: 1.3 KB\n"
          ],
          "name": "stdout"
        },
        {
          "output_type": "execute_result",
          "data": {
            "text/plain": [
              "(None, None)"
            ]
          },
          "metadata": {
            "tags": []
          },
          "execution_count": 210
        }
      ]
    },
    {
      "cell_type": "code",
      "metadata": {
        "id": "cAhwXz7wAzIh",
        "colab_type": "code",
        "outputId": "bf03f8db-8a34-455c-bff9-92b9a071b803",
        "colab": {
          "base_uri": "https://localhost:8080/",
          "height": 766
        }
      },
      "source": [
        "sns.pairplot(x)"
      ],
      "execution_count": 211,
      "outputs": [
        {
          "output_type": "execute_result",
          "data": {
            "text/plain": [
              "<seaborn.axisgrid.PairGrid at 0x7fb4f36b2a58>"
            ]
          },
          "metadata": {
            "tags": []
          },
          "execution_count": 211
        },
        {
          "output_type": "display_data",
          "data": {
            "image/png": "[encoded data removed]",
            "text/plain": [
              "<Figure size 720x720 with 20 Axes>"
            ]
          },
          "metadata": {
            "tags": [],
            "needs_background": "light"
          }
        }
      ]
    },
    {
      "cell_type": "code",
      "metadata": {
        "id": "_SiCPBm6BMbg",
        "colab_type": "code",
        "colab": {}
      },
      "source": [
        ""
      ],
      "execution_count": 0,
      "outputs": []
    },
    {
      "cell_type": "markdown",
      "metadata": {
        "id": "5YAHS4vRIqPs",
        "colab_type": "text"
      },
      "source": [
        "#splitting the data for training and testing\n"
      ]
    },
    {
      "cell_type": "code",
      "metadata": {
        "id": "8wOrnDuKIxKO",
        "colab_type": "code",
        "colab": {}
      },
      "source": [
        "from sklearn.model_selection import  train_test_split"
      ],
      "execution_count": 0,
      "outputs": []
    },
    {
      "cell_type": "code",
      "metadata": {
        "id": "h9Zy17iGIzy-",
        "colab_type": "code",
        "colab": {}
      },
      "source": [
        "x_train,x_test,y_train,y_test=train_test_split(x,y,stratify=y,random_state=42,test_size=0.3)"
      ],
      "execution_count": 0,
      "outputs": []
    },
    {
      "cell_type": "code",
      "metadata": {
        "id": "xAFrge5IJFI2",
        "colab_type": "code",
        "colab": {}
      },
      "source": [
        ""
      ],
      "execution_count": 0,
      "outputs": []
    },
    {
      "cell_type": "markdown",
      "metadata": {
        "id": "CCMO1xs8JGjy",
        "colab_type": "text"
      },
      "source": [
        "# doing classification with decision tree"
      ]
    },
    {
      "cell_type": "code",
      "metadata": {
        "id": "65KvifjuJKYA",
        "colab_type": "code",
        "colab": {}
      },
      "source": [
        "from sklearn.tree import DecisionTreeClassifier"
      ],
      "execution_count": 0,
      "outputs": []
    },
    {
      "cell_type": "code",
      "metadata": {
        "id": "zd21oPV0JOPQ",
        "colab_type": "code",
        "colab": {}
      },
      "source": [
        "dtc_gini=DecisionTreeClassifier(criterion='gini',random_state=42)      #using Gini Index\n",
        "dtc_entropy=DecisionTreeClassifier(criterion='entropy',random_state=42,)#using Information Gain and Entropy"
      ],
      "execution_count": 0,
      "outputs": []
    },
    {
      "cell_type": "code",
      "metadata": {
        "id": "BCMYrCd0JZRO",
        "colab_type": "code",
        "outputId": "e16714d1-165e-47d0-cff2-e89df5cc6044",
        "colab": {
          "base_uri": "https://localhost:8080/",
          "height": 124
        }
      },
      "source": [
        "dtc_gini.fit(x_train,y_train)"
      ],
      "execution_count": 216,
      "outputs": [
        {
          "output_type": "execute_result",
          "data": {
            "text/plain": [
              "DecisionTreeClassifier(ccp_alpha=0.0, class_weight=None, criterion='gini',\n",
              "                       max_depth=None, max_features=None, max_leaf_nodes=None,\n",
              "                       min_impurity_decrease=0.0, min_impurity_split=None,\n",
              "                       min_samples_leaf=1, min_samples_split=2,\n",
              "                       min_weight_fraction_leaf=0.0, presort='deprecated',\n",
              "                       random_state=42, splitter='best')"
            ]
          },
          "metadata": {
            "tags": []
          },
          "execution_count": 216
        }
      ]
    },
    {
      "cell_type": "code",
      "metadata": {
        "id": "va-GiSuwKdcW",
        "colab_type": "code",
        "outputId": "d7588a4b-964e-46fb-faf8-fe04dfdb78df",
        "colab": {
          "base_uri": "https://localhost:8080/",
          "height": 124
        }
      },
      "source": [
        "dtc_entropy.fit(x_train,y_train)"
      ],
      "execution_count": 217,
      "outputs": [
        {
          "output_type": "execute_result",
          "data": {
            "text/plain": [
              "DecisionTreeClassifier(ccp_alpha=0.0, class_weight=None, criterion='entropy',\n",
              "                       max_depth=None, max_features=None, max_leaf_nodes=None,\n",
              "                       min_impurity_decrease=0.0, min_impurity_split=None,\n",
              "                       min_samples_leaf=1, min_samples_split=2,\n",
              "                       min_weight_fraction_leaf=0.0, presort='deprecated',\n",
              "                       random_state=42, splitter='best')"
            ]
          },
          "metadata": {
            "tags": []
          },
          "execution_count": 217
        }
      ]
    },
    {
      "cell_type": "code",
      "metadata": {
        "id": "F04aN3SCJcUh",
        "colab_type": "code",
        "colab": {}
      },
      "source": [
        "y_pred1=dtc_gini.predict(x_test)"
      ],
      "execution_count": 0,
      "outputs": []
    },
    {
      "cell_type": "code",
      "metadata": {
        "id": "x8jk9mGmKiM1",
        "colab_type": "code",
        "colab": {}
      },
      "source": [
        "y_pred2=dtc_entropy.predict(x_test)"
      ],
      "execution_count": 0,
      "outputs": []
    },
    {
      "cell_type": "markdown",
      "metadata": {
        "id": "uCakEmeeJo5r",
        "colab_type": "text"
      },
      "source": [
        "# Evaluation of models"
      ]
    },
    {
      "cell_type": "code",
      "metadata": {
        "id": "unoIvBksJrMN",
        "colab_type": "code",
        "colab": {}
      },
      "source": [
        "from sklearn.metrics import accuracy_score,confusion_matrix"
      ],
      "execution_count": 0,
      "outputs": []
    },
    {
      "cell_type": "code",
      "metadata": {
        "id": "j-GgbEsNJwcP",
        "colab_type": "code",
        "outputId": "f38aba6f-f2bd-45c0-c23e-dd0473f232b7",
        "colab": {
          "base_uri": "https://localhost:8080/",
          "height": 52
        }
      },
      "source": [
        "print(f'using Gini Impurity : {accuracy_score(y_pred1,y_test)}\\n using Information Gain and Entropy : {accuracy_score(y_pred2,y_test)}')"
      ],
      "execution_count": 221,
      "outputs": [
        {
          "output_type": "stream",
          "text": [
            "using Gini Impurity : 0.9333333333333333\n",
            " using Information Gain and Entropy : 0.8888888888888888\n"
          ],
          "name": "stdout"
        }
      ]
    },
    {
      "cell_type": "code",
      "metadata": {
        "id": "BNlWDo19JzVu",
        "colab_type": "code",
        "outputId": "49dedf4e-8d52-4923-8e6d-f8ce16a96e41",
        "colab": {
          "base_uri": "https://localhost:8080/",
          "height": 329
        }
      },
      "source": [
        "sns.heatmap(confusion_matrix(y_pred1,y_test),annot=True,fmt='.0f')\n",
        "plt.title('\\nusing Gini Impurity\\n')"
      ],
      "execution_count": 222,
      "outputs": [
        {
          "output_type": "execute_result",
          "data": {
            "text/plain": [
              "Text(0.5, 1.0, '\\nusing Gini Impurity\\n')"
            ]
          },
          "metadata": {
            "tags": []
          },
          "execution_count": 222
        },
        {
          "output_type": "display_data",
          "data": {
            "image/png": "[encoded data removed]",
            "text/plain": [
              "<Figure size 432x288 with 2 Axes>"
            ]
          },
          "metadata": {
            "tags": [],
            "needs_background": "light"
          }
        }
      ]
    },
    {
      "cell_type": "code",
      "metadata": {
        "id": "HvR_gHCCJ2O-",
        "colab_type": "code",
        "outputId": "e8897afe-216b-4d33-b2cd-9b9254d73746",
        "colab": {
          "base_uri": "https://localhost:8080/",
          "height": 329
        }
      },
      "source": [
        "sns.heatmap(confusion_matrix(y_pred2,y_test),annot=True,fmt='.0f')\n",
        "plt.title('\\nusing information Gain\\n')"
      ],
      "execution_count": 223,
      "outputs": [
        {
          "output_type": "execute_result",
          "data": {
            "text/plain": [
              "Text(0.5, 1.0, '\\nusing information Gain\\n')"
            ]
          },
          "metadata": {
            "tags": []
          },
          "execution_count": 223
        },
        {
          "output_type": "display_data",
          "data": {
            "image/png": "[encoded data removed]",
            "text/plain": [
              "<Figure size 432x288 with 2 Axes>"
            ]
          },
          "metadata": {
            "tags": [],
            "needs_background": "light"
          }
        }
      ]
    },
    {
      "cell_type": "code",
      "metadata": {
        "id": "yjVmPVI-MZMB",
        "colab_type": "code",
        "colab": {}
      },
      "source": [
        ""
      ],
      "execution_count": 0,
      "outputs": []
    },
    {
      "cell_type": "markdown",
      "metadata": {
        "id": "A1DbxhtQS-M0",
        "colab_type": "text"
      },
      "source": [
        "# doing cross Validation with max_depth\n"
      ]
    },
    {
      "cell_type": "code",
      "metadata": {
        "id": "mxIkDWcgTOl5",
        "colab_type": "code",
        "outputId": "62049a47-f018-4b4c-f862-85939996f459",
        "colab": {
          "base_uri": "https://localhost:8080/",
          "height": 55
        }
      },
      "source": [
        "from sklearn.model_selection import cross_val_score\n",
        "\n",
        "depth_scores=[]\n",
        "depth_range=list(range(3,21))\n",
        "\n",
        "for i in depth_range:\n",
        "\n",
        "  dtc=DecisionTreeClassifier(criterion='entropy',max_depth=i,random_state=42)\n",
        "  scores=cross_val_score(dtc,x_train,y_train,cv=10,n_jobs=-1)\n",
        "\n",
        "  #depth_scores.append((i,scores.mean()))\n",
        "  depth_scores.append(scores.mean())\n",
        "\n",
        "print(depth_scores)\n"
      ],
      "execution_count": 224,
      "outputs": [
        {
          "output_type": "stream",
          "text": [
            "[0.9518181818181819, 0.9318181818181819, 0.9318181818181819, 0.9318181818181819, 0.9318181818181819, 0.9318181818181819, 0.9318181818181819, 0.9318181818181819, 0.9318181818181819, 0.9318181818181819, 0.9318181818181819, 0.9318181818181819, 0.9318181818181819, 0.9318181818181819, 0.9318181818181819, 0.9318181818181819, 0.9318181818181819, 0.9318181818181819]\n"
          ],
          "name": "stdout"
        }
      ]
    },
    {
      "cell_type": "code",
      "metadata": {
        "id": "uRE7v3cnQUl_",
        "colab_type": "code",
        "colab": {}
      },
      "source": [
        ""
      ],
      "execution_count": 0,
      "outputs": []
    },
    {
      "cell_type": "code",
      "metadata": {
        "id": "9kLEWuzlUM0G",
        "colab_type": "code",
        "colab": {}
      },
      "source": [
        ""
      ],
      "execution_count": 0,
      "outputs": []
    },
    {
      "cell_type": "code",
      "metadata": {
        "id": "Was779kPUM7h",
        "colab_type": "code",
        "outputId": "735580ac-3f26-4e47-cf19-1602037e917f",
        "colab": {
          "base_uri": "https://localhost:8080/",
          "height": 531
        }
      },
      "source": [
        "plt.figure(figsize=(12,8))\n",
        "plt.plot(depth_range,depth_scores,marker='o',markerfacecolor='red', markersize=15,linestyle='dashed')\n",
        "plt.xlabel('Value of depth')\n",
        "plt.ylabel('Cross-validated accuracy')\n",
        "plt.title('Determining depth for Decision Tree')"
      ],
      "execution_count": 225,
      "outputs": [
        {
          "output_type": "execute_result",
          "data": {
            "text/plain": [
              "Text(0.5, 1.0, 'Determining depth for Decision Tree')"
            ]
          },
          "metadata": {
            "tags": []
          },
          "execution_count": 225
        },
        {
          "output_type": "display_data",
          "data": {
            "image/png": "[encoded data removed]",
            "text/plain": [
              "<Figure size 864x576 with 1 Axes>"
            ]
          },
          "metadata": {
            "tags": [],
            "needs_background": "light"
          }
        }
      ]
    },
    {
      "cell_type": "code",
      "metadata": {
        "id": "dgiHng6QVdNH",
        "colab_type": "code",
        "colab": {}
      },
      "source": [
        "#thus at max-depth 6, we have achieved the highest accuracy\n",
        "dtc=DecisionTreeClassifier(criterion='entropy',max_depth=6)\n",
        "dtc.fit(x_train,y_train)\n",
        "y_pred=dtc.predict(x_test)"
      ],
      "execution_count": 0,
      "outputs": []
    },
    {
      "cell_type": "code",
      "metadata": {
        "id": "Pj-6MM2bVvC2",
        "colab_type": "code",
        "outputId": "f702d1e5-0673-490b-97da-c1e13b8ad48a",
        "colab": {
          "base_uri": "https://localhost:8080/",
          "height": 329
        }
      },
      "source": [
        "sns.heatmap(confusion_matrix(y_pred,y_test),annot=True,fmt='.0f')\n",
        "plt.title('\\nusing Gini Impurity\\n')"
      ],
      "execution_count": 227,
      "outputs": [
        {
          "output_type": "execute_result",
          "data": {
            "text/plain": [
              "Text(0.5, 1.0, '\\nusing Gini Impurity\\n')"
            ]
          },
          "metadata": {
            "tags": []
          },
          "execution_count": 227
        },
        {
          "output_type": "display_data",
          "data": {
            "image/png": "[encoded data removed]",
            "text/plain": [
              "<Figure size 432x288 with 2 Axes>"
            ]
          },
          "metadata": {
            "tags": [],
            "needs_background": "light"
          }
        }
      ]
    },
    {
      "cell_type": "code",
      "metadata": {
        "id": "wN_t9W11V1sU",
        "colab_type": "code",
        "outputId": "dc0b9833-676e-48c5-db7f-53c74a607501",
        "colab": {
          "base_uri": "https://localhost:8080/",
          "height": 35
        }
      },
      "source": [
        "accuracy_score(y_pred,y_test)"
      ],
      "execution_count": 228,
      "outputs": [
        {
          "output_type": "execute_result",
          "data": {
            "text/plain": [
              "0.9111111111111111"
            ]
          },
          "metadata": {
            "tags": []
          },
          "execution_count": 228
        }
      ]
    },
    {
      "cell_type": "markdown",
      "metadata": {
        "id": "aOFI2ndIMykX",
        "colab_type": "text"
      },
      "source": [
        "## doing Grid Search to tuning the parameters"
      ]
    },
    {
      "cell_type": "code",
      "metadata": {
        "id": "goP5XckAM3J5",
        "colab_type": "code",
        "colab": {}
      },
      "source": [
        "from sklearn.model_selection import GridSearchCV as gsc"
      ],
      "execution_count": 0,
      "outputs": []
    },
    {
      "cell_type": "code",
      "metadata": {
        "id": "Q4mMUhx4RQAQ",
        "colab_type": "code",
        "colab": {
          "base_uri": "https://localhost:8080/",
          "height": 372
        },
        "outputId": "d96588b0-bc17-4134-d2dd-275fa66aa5d5"
      },
      "source": [
        "# parameter grids\n",
        "parameter_grid = {'criterion':['gini','entropy'],\n",
        "                  'max_depth': range(3,9),\n",
        "                  'max_features': [1, 2, 3, 4],\n",
        "                  'max_leaf_nodes': range(2, 12), \n",
        "                  'min_samples_split': range(1, 12)\n",
        "                  }\n",
        "\n",
        "dtc=DecisionTreeClassifier(random_state=42)\n",
        "\n",
        "#use gridsearch to test all values for n_neighbors\n",
        "dtc_gscv = gsc(dtc, parameter_grid, cv=5,scoring='accuracy',n_jobs=-1)\n",
        "\n",
        "#fit model to data\n",
        "dtc_gscv.fit(x_train,y_train)"
      ],
      "execution_count": 240,
      "outputs": [
        {
          "output_type": "execute_result",
          "data": {
            "text/plain": [
              "GridSearchCV(cv=5, error_score=nan,\n",
              "             estimator=DecisionTreeClassifier(ccp_alpha=0.0, class_weight=None,\n",
              "                                              criterion='gini', max_depth=None,\n",
              "                                              max_features=None,\n",
              "                                              max_leaf_nodes=None,\n",
              "                                              min_impurity_decrease=0.0,\n",
              "                                              min_impurity_split=None,\n",
              "                                              min_samples_leaf=1,\n",
              "                                              min_samples_split=2,\n",
              "                                              min_weight_fraction_leaf=0.0,\n",
              "                                              presort='deprecated',\n",
              "                                              random_state=42,\n",
              "                                              splitter='best'),\n",
              "             iid='deprecated', n_jobs=-1,\n",
              "             param_grid={'criterion': ['gini', 'entropy'],\n",
              "                         'max_depth': range(3, 9), 'max_features': [1, 2, 3, 4],\n",
              "                         'max_leaf_nodes': range(2, 12),\n",
              "                         'min_samples_split': range(1, 12)},\n",
              "             pre_dispatch='2*n_jobs', refit=True, return_train_score=False,\n",
              "             scoring='accuracy', verbose=0)"
            ]
          },
          "metadata": {
            "tags": []
          },
          "execution_count": 240
        }
      ]
    },
    {
      "cell_type": "code",
      "metadata": {
        "id": "rE3xeKsFQYPi",
        "colab_type": "code",
        "colab": {
          "base_uri": "https://localhost:8080/",
          "height": 124
        },
        "outputId": "3033a017-5b38-48f2-a3b6-1d9b60c0598b"
      },
      "source": [
        "dtc_gscv.best_estimator_"
      ],
      "execution_count": 241,
      "outputs": [
        {
          "output_type": "execute_result",
          "data": {
            "text/plain": [
              "DecisionTreeClassifier(ccp_alpha=0.0, class_weight=None, criterion='gini',\n",
              "                       max_depth=3, max_features=2, max_leaf_nodes=3,\n",
              "                       min_impurity_decrease=0.0, min_impurity_split=None,\n",
              "                       min_samples_leaf=1, min_samples_split=2,\n",
              "                       min_weight_fraction_leaf=0.0, presort='deprecated',\n",
              "                       random_state=42, splitter='best')"
            ]
          },
          "metadata": {
            "tags": []
          },
          "execution_count": 241
        }
      ]
    },
    {
      "cell_type": "code",
      "metadata": {
        "id": "pbXIh3DNRoZV",
        "colab_type": "code",
        "colab": {
          "base_uri": "https://localhost:8080/",
          "height": 35
        },
        "outputId": "a22e523a-eb14-4056-fcc1-d554c768164e"
      },
      "source": [
        "dtc_gscv.best_index_"
      ],
      "execution_count": 242,
      "outputs": [
        {
          "output_type": "execute_result",
          "data": {
            "text/plain": [
              "122"
            ]
          },
          "metadata": {
            "tags": []
          },
          "execution_count": 242
        }
      ]
    },
    {
      "cell_type": "code",
      "metadata": {
        "id": "3HNZqDj6Z32t",
        "colab_type": "code",
        "colab": {
          "base_uri": "https://localhost:8080/",
          "height": 124
        },
        "outputId": "11239925-5e91-4d45-eca4-c79b09b8f454"
      },
      "source": [
        "dtc_gscv.best_score_,dtc_gscv.best_params_"
      ],
      "execution_count": 243,
      "outputs": [
        {
          "output_type": "execute_result",
          "data": {
            "text/plain": [
              "(0.9619047619047618,\n",
              " {'criterion': 'gini',\n",
              "  'max_depth': 3,\n",
              "  'max_features': 2,\n",
              "  'max_leaf_nodes': 3,\n",
              "  'min_samples_split': 2})"
            ]
          },
          "metadata": {
            "tags": []
          },
          "execution_count": 243
        }
      ]
    },
    {
      "cell_type": "code",
      "metadata": {
        "id": "f255-gK8aPaR",
        "colab_type": "code",
        "colab": {}
      },
      "source": [
        "y_pred=dtc_gscv.predict(x_test)"
      ],
      "execution_count": 0,
      "outputs": []
    },
    {
      "cell_type": "code",
      "metadata": {
        "id": "gM5QYl3PbSAf",
        "colab_type": "code",
        "colab": {
          "base_uri": "https://localhost:8080/",
          "height": 283
        },
        "outputId": "056d96a8-c723-409a-a987-8f4f3e6036b5"
      },
      "source": [
        "sns.heatmap(confusion_matrix(y_pred,y_test),annot=True,fmt='.0f')"
      ],
      "execution_count": 245,
      "outputs": [
        {
          "output_type": "execute_result",
          "data": {
            "text/plain": [
              "<matplotlib.axes._subplots.AxesSubplot at 0x7fb5000e6128>"
            ]
          },
          "metadata": {
            "tags": []
          },
          "execution_count": 245
        },
        {
          "output_type": "display_data",
          "data": {
            "image/png": "[encoded data removed]",
            "text/plain": [
              "<Figure size 432x288 with 2 Axes>"
            ]
          },
          "metadata": {
            "tags": [],
            "needs_background": "light"
          }
        }
      ]
    },
    {
      "cell_type": "code",
      "metadata": {
        "id": "aVYTnc0bbYAO",
        "colab_type": "code",
        "colab": {
          "base_uri": "https://localhost:8080/",
          "height": 35
        },
        "outputId": "14ff7408-d51b-4734-9646-c6e76f68f341"
      },
      "source": [
        "accuracy_score(y_pred,y_test)"
      ],
      "execution_count": 246,
      "outputs": [
        {
          "output_type": "execute_result",
          "data": {
            "text/plain": [
              "0.8888888888888888"
            ]
          },
          "metadata": {
            "tags": []
          },
          "execution_count": 246
        }
      ]
    },
    {
      "cell_type": "code",
      "metadata": {
        "id": "fo-Matc84zPz",
        "colab_type": "code",
        "colab": {
          "base_uri": "https://localhost:8080/",
          "height": 35
        },
        "outputId": "18456ceb-c4b9-4c6d-8e12-347d3ae735a5"
      },
      "source": [
        "!pip install graphviz"
      ],
      "execution_count": 239,
      "outputs": [
        {
          "output_type": "stream",
          "text": [
            "Requirement already satisfied: graphviz in /usr/local/lib/python3.6/dist-packages (0.10.1)\n"
          ],
          "name": "stdout"
        }
      ]
    },
    {
      "cell_type": "code",
      "metadata": {
        "id": "8XjrHGn7bamO",
        "colab_type": "code",
        "colab": {
          "base_uri": "https://localhost:8080/",
          "height": 916
        },
        "outputId": "41d90682-4f9a-4d22-d29f-547b7f513051"
      },
      "source": [
        "#plotting : decision tree on giny based\n",
        "from sklearn.tree import export_graphviz\n",
        "import graphviz\n",
        "\n",
        "feature_names = x.columns\n",
        "\n",
        "dot_data = export_graphviz(dtc_gini, out_file=None, filled=True, rounded=True,\n",
        "                                feature_names=feature_names,  \n",
        "                                class_names=['0','1','2'])\n",
        "graph = graphviz.Source(dot_data)  \n",
        "graph"
      ],
      "execution_count": 192,
      "outputs": [
        {
          "output_type": "execute_result",
          "data": {
            "text/plain": [
              "<graphviz.files.Source at 0x7fb4f93bfef0>"
            ],
            "image/svg+xml": "<?xml version=\"1.0\" encoding=\"UTF-8\" standalone=\"no\"?>\n<!DOCTYPE svg PUBLIC \"-//W3C//DTD SVG 1.1//EN\"\n \"http://www.w3.org/Graphics/SVG/1.1/DTD/svg11.dtd\">\n<!-- Generated by graphviz version 2.40.1 (20161225.0304)\n -->\n<!-- Title: Tree Pages: 1 -->\n<svg width=\"790pt\" height=\"671pt\"\n viewBox=\"0.00 0.00 790.00 671.00\" xmlns=\"http://www.w3.org/2000/svg\" xmlns:xlink=\"http://www.w3.org/1999/xlink\">\n<g id=\"graph0\" class=\"graph\" transform=\"scale(1 1) rotate(0) translate(4 667)\">\n<title>Tree</title>\n<polygon fill=\"#ffffff\" stroke=\"transparent\" points=\"-4,4 -4,-667 786,-667 786,4 -4,4\"/>\n<!-- 0 -->\n<g id=\"node1\" class=\"node\">\n<title>0</title>\n<path fill=\"#ffffff\" stroke=\"#000000\" d=\"M279.5,-663C279.5,-663 127.5,-663 127.5,-663 121.5,-663 115.5,-657 115.5,-651 115.5,-651 115.5,-592 115.5,-592 115.5,-586 121.5,-580 127.5,-580 127.5,-580 279.5,-580 279.5,-580 285.5,-580 291.5,-586 291.5,-592 291.5,-592 291.5,-651 291.5,-651 291.5,-657 285.5,-663 279.5,-663\"/>\n<text text-anchor=\"middle\" x=\"203.5\" y=\"-647.8\" font-family=\"Helvetica,sans-Serif\" font-size=\"14.00\" fill=\"#000000\">petal length (cm) &lt;= 2.45</text>\n<text text-anchor=\"middle\" x=\"203.5\" y=\"-632.8\" font-family=\"Helvetica,sans-Serif\" font-size=\"14.00\" fill=\"#000000\">gini = 0.667</text>\n<text text-anchor=\"middle\" x=\"203.5\" y=\"-617.8\" font-family=\"Helvetica,sans-Serif\" font-size=\"14.00\" fill=\"#000000\">samples = 105</text>\n<text text-anchor=\"middle\" x=\"203.5\" y=\"-602.8\" font-family=\"Helvetica,sans-Serif\" font-size=\"14.00\" fill=\"#000000\">value = [35, 35, 35]</text>\n<text text-anchor=\"middle\" x=\"203.5\" y=\"-587.8\" font-family=\"Helvetica,sans-Serif\" font-size=\"14.00\" fill=\"#000000\">class = 0</text>\n</g>\n<!-- 1 -->\n<g id=\"node2\" class=\"node\">\n<title>1</title>\n<path fill=\"#e58139\" stroke=\"#000000\" d=\"M171,-536.5C171,-536.5 72,-536.5 72,-536.5 66,-536.5 60,-530.5 60,-524.5 60,-524.5 60,-480.5 60,-480.5 60,-474.5 66,-468.5 72,-468.5 72,-468.5 171,-468.5 171,-468.5 177,-468.5 183,-474.5 183,-480.5 183,-480.5 183,-524.5 183,-524.5 183,-530.5 177,-536.5 171,-536.5\"/>\n<text text-anchor=\"middle\" x=\"121.5\" y=\"-521.3\" font-family=\"Helvetica,sans-Serif\" font-size=\"14.00\" fill=\"#000000\">gini = 0.0</text>\n<text text-anchor=\"middle\" x=\"121.5\" y=\"-506.3\" font-family=\"Helvetica,sans-Serif\" font-size=\"14.00\" fill=\"#000000\">samples = 35</text>\n<text text-anchor=\"middle\" x=\"121.5\" y=\"-491.3\" font-family=\"Helvetica,sans-Serif\" font-size=\"14.00\" fill=\"#000000\">value = [35, 0, 0]</text>\n<text text-anchor=\"middle\" x=\"121.5\" y=\"-476.3\" font-family=\"Helvetica,sans-Serif\" font-size=\"14.00\" fill=\"#000000\">class = 0</text>\n</g>\n<!-- 0&#45;&gt;1 -->\n<g id=\"edge1\" class=\"edge\">\n<title>0&#45;&gt;1</title>\n<path fill=\"none\" stroke=\"#000000\" d=\"M174.8204,-579.8796C167.0917,-568.6636 158.7191,-556.5131 150.9492,-545.2372\"/>\n<polygon fill=\"#000000\" stroke=\"#000000\" points=\"153.7018,-543.0634 145.1456,-536.8149 147.9377,-547.0353 153.7018,-543.0634\"/>\n<text text-anchor=\"middle\" x=\"140.6196\" y=\"-557.7018\" font-family=\"Helvetica,sans-Serif\" font-size=\"14.00\" fill=\"#000000\">True</text>\n</g>\n<!-- 2 -->\n<g id=\"node3\" class=\"node\">\n<title>2</title>\n<path fill=\"#ffffff\" stroke=\"#000000\" d=\"M359.5,-544C359.5,-544 213.5,-544 213.5,-544 207.5,-544 201.5,-538 201.5,-532 201.5,-532 201.5,-473 201.5,-473 201.5,-467 207.5,-461 213.5,-461 213.5,-461 359.5,-461 359.5,-461 365.5,-461 371.5,-467 371.5,-473 371.5,-473 371.5,-532 371.5,-532 371.5,-538 365.5,-544 359.5,-544\"/>\n<text text-anchor=\"middle\" x=\"286.5\" y=\"-528.8\" font-family=\"Helvetica,sans-Serif\" font-size=\"14.00\" fill=\"#000000\">petal width (cm) &lt;= 1.55</text>\n<text text-anchor=\"middle\" x=\"286.5\" y=\"-513.8\" font-family=\"Helvetica,sans-Serif\" font-size=\"14.00\" fill=\"#000000\">gini = 0.5</text>\n<text text-anchor=\"middle\" x=\"286.5\" y=\"-498.8\" font-family=\"Helvetica,sans-Serif\" font-size=\"14.00\" fill=\"#000000\">samples = 70</text>\n<text text-anchor=\"middle\" x=\"286.5\" y=\"-483.8\" font-family=\"Helvetica,sans-Serif\" font-size=\"14.00\" fill=\"#000000\">value = [0, 35, 35]</text>\n<text text-anchor=\"middle\" x=\"286.5\" y=\"-468.8\" font-family=\"Helvetica,sans-Serif\" font-size=\"14.00\" fill=\"#000000\">class = 1</text>\n</g>\n<!-- 0&#45;&gt;2 -->\n<g id=\"edge2\" class=\"edge\">\n<title>0&#45;&gt;2</title>\n<path fill=\"none\" stroke=\"#000000\" d=\"M232.5294,-579.8796C238.6855,-571.0534 245.2451,-561.6485 251.5936,-552.5466\"/>\n<polygon fill=\"#000000\" stroke=\"#000000\" points=\"254.4967,-554.5024 257.3467,-544.2981 248.7552,-550.4978 254.4967,-554.5024\"/>\n<text text-anchor=\"middle\" x=\"261.7331\" y=\"-565.2103\" font-family=\"Helvetica,sans-Serif\" font-size=\"14.00\" fill=\"#000000\">False</text>\n</g>\n<!-- 3 -->\n<g id=\"node4\" class=\"node\">\n<title>3</title>\n<path fill=\"#3fe685\" stroke=\"#000000\" d=\"M268.5,-425C268.5,-425 116.5,-425 116.5,-425 110.5,-425 104.5,-419 104.5,-413 104.5,-413 104.5,-354 104.5,-354 104.5,-348 110.5,-342 116.5,-342 116.5,-342 268.5,-342 268.5,-342 274.5,-342 280.5,-348 280.5,-354 280.5,-354 280.5,-413 280.5,-413 280.5,-419 274.5,-425 268.5,-425\"/>\n<text text-anchor=\"middle\" x=\"192.5\" y=\"-409.8\" font-family=\"Helvetica,sans-Serif\" font-size=\"14.00\" fill=\"#000000\">petal length (cm) &lt;= 4.95</text>\n<text text-anchor=\"middle\" x=\"192.5\" y=\"-394.8\" font-family=\"Helvetica,sans-Serif\" font-size=\"14.00\" fill=\"#000000\">gini = 0.057</text>\n<text text-anchor=\"middle\" x=\"192.5\" y=\"-379.8\" font-family=\"Helvetica,sans-Serif\" font-size=\"14.00\" fill=\"#000000\">samples = 34</text>\n<text text-anchor=\"middle\" x=\"192.5\" y=\"-364.8\" font-family=\"Helvetica,sans-Serif\" font-size=\"14.00\" fill=\"#000000\">value = [0, 33, 1]</text>\n<text text-anchor=\"middle\" x=\"192.5\" y=\"-349.8\" font-family=\"Helvetica,sans-Serif\" font-size=\"14.00\" fill=\"#000000\">class = 1</text>\n</g>\n<!-- 2&#45;&gt;3 -->\n<g id=\"edge3\" class=\"edge\">\n<title>2&#45;&gt;3</title>\n<path fill=\"none\" stroke=\"#000000\" d=\"M253.6234,-460.8796C246.5803,-451.9633 239.0707,-442.4565 231.8126,-433.268\"/>\n<polygon fill=\"#000000\" stroke=\"#000000\" points=\"234.4621,-430.9757 225.517,-425.2981 228.9691,-435.3147 234.4621,-430.9757\"/>\n</g>\n<!-- 6 -->\n<g id=\"node7\" class=\"node\">\n<title>6</title>\n<path fill=\"#8845e7\" stroke=\"#000000\" d=\"M448.5,-425C448.5,-425 310.5,-425 310.5,-425 304.5,-425 298.5,-419 298.5,-413 298.5,-413 298.5,-354 298.5,-354 298.5,-348 304.5,-342 310.5,-342 310.5,-342 448.5,-342 448.5,-342 454.5,-342 460.5,-348 460.5,-354 460.5,-354 460.5,-413 460.5,-413 460.5,-419 454.5,-425 448.5,-425\"/>\n<text text-anchor=\"middle\" x=\"379.5\" y=\"-409.8\" font-family=\"Helvetica,sans-Serif\" font-size=\"14.00\" fill=\"#000000\">petal width (cm) &lt;= 1.7</text>\n<text text-anchor=\"middle\" x=\"379.5\" y=\"-394.8\" font-family=\"Helvetica,sans-Serif\" font-size=\"14.00\" fill=\"#000000\">gini = 0.105</text>\n<text text-anchor=\"middle\" x=\"379.5\" y=\"-379.8\" font-family=\"Helvetica,sans-Serif\" font-size=\"14.00\" fill=\"#000000\">samples = 36</text>\n<text text-anchor=\"middle\" x=\"379.5\" y=\"-364.8\" font-family=\"Helvetica,sans-Serif\" font-size=\"14.00\" fill=\"#000000\">value = [0, 2, 34]</text>\n<text text-anchor=\"middle\" x=\"379.5\" y=\"-349.8\" font-family=\"Helvetica,sans-Serif\" font-size=\"14.00\" fill=\"#000000\">class = 2</text>\n</g>\n<!-- 2&#45;&gt;6 -->\n<g id=\"edge6\" class=\"edge\">\n<title>2&#45;&gt;6</title>\n<path fill=\"none\" stroke=\"#000000\" d=\"M319.0269,-460.8796C325.9951,-451.9633 333.4247,-442.4565 340.6056,-433.268\"/>\n<polygon fill=\"#000000\" stroke=\"#000000\" points=\"343.4343,-435.3326 346.8343,-425.2981 337.9188,-431.0221 343.4343,-435.3326\"/>\n</g>\n<!-- 4 -->\n<g id=\"node5\" class=\"node\">\n<title>4</title>\n<path fill=\"#39e581\" stroke=\"#000000\" d=\"M111,-298.5C111,-298.5 12,-298.5 12,-298.5 6,-298.5 0,-292.5 0,-286.5 0,-286.5 0,-242.5 0,-242.5 0,-236.5 6,-230.5 12,-230.5 12,-230.5 111,-230.5 111,-230.5 117,-230.5 123,-236.5 123,-242.5 123,-242.5 123,-286.5 123,-286.5 123,-292.5 117,-298.5 111,-298.5\"/>\n<text text-anchor=\"middle\" x=\"61.5\" y=\"-283.3\" font-family=\"Helvetica,sans-Serif\" font-size=\"14.00\" fill=\"#000000\">gini = 0.0</text>\n<text text-anchor=\"middle\" x=\"61.5\" y=\"-268.3\" font-family=\"Helvetica,sans-Serif\" font-size=\"14.00\" fill=\"#000000\">samples = 33</text>\n<text text-anchor=\"middle\" x=\"61.5\" y=\"-253.3\" font-family=\"Helvetica,sans-Serif\" font-size=\"14.00\" fill=\"#000000\">value = [0, 33, 0]</text>\n<text text-anchor=\"middle\" x=\"61.5\" y=\"-238.3\" font-family=\"Helvetica,sans-Serif\" font-size=\"14.00\" fill=\"#000000\">class = 1</text>\n</g>\n<!-- 3&#45;&gt;4 -->\n<g id=\"edge4\" class=\"edge\">\n<title>3&#45;&gt;4</title>\n<path fill=\"none\" stroke=\"#000000\" d=\"M146.6826,-341.8796C133.7303,-330.1138 119.646,-317.3197 106.7286,-305.5855\"/>\n<polygon fill=\"#000000\" stroke=\"#000000\" points=\"109.0306,-302.9482 99.2753,-298.8149 104.3239,-308.1296 109.0306,-302.9482\"/>\n</g>\n<!-- 5 -->\n<g id=\"node6\" class=\"node\">\n<title>5</title>\n<path fill=\"#8139e5\" stroke=\"#000000\" d=\"M244,-298.5C244,-298.5 153,-298.5 153,-298.5 147,-298.5 141,-292.5 141,-286.5 141,-286.5 141,-242.5 141,-242.5 141,-236.5 147,-230.5 153,-230.5 153,-230.5 244,-230.5 244,-230.5 250,-230.5 256,-236.5 256,-242.5 256,-242.5 256,-286.5 256,-286.5 256,-292.5 250,-298.5 244,-298.5\"/>\n<text text-anchor=\"middle\" x=\"198.5\" y=\"-283.3\" font-family=\"Helvetica,sans-Serif\" font-size=\"14.00\" fill=\"#000000\">gini = 0.0</text>\n<text text-anchor=\"middle\" x=\"198.5\" y=\"-268.3\" font-family=\"Helvetica,sans-Serif\" font-size=\"14.00\" fill=\"#000000\">samples = 1</text>\n<text text-anchor=\"middle\" x=\"198.5\" y=\"-253.3\" font-family=\"Helvetica,sans-Serif\" font-size=\"14.00\" fill=\"#000000\">value = [0, 0, 1]</text>\n<text text-anchor=\"middle\" x=\"198.5\" y=\"-238.3\" font-family=\"Helvetica,sans-Serif\" font-size=\"14.00\" fill=\"#000000\">class = 2</text>\n</g>\n<!-- 3&#45;&gt;5 -->\n<g id=\"edge5\" class=\"edge\">\n<title>3&#45;&gt;5</title>\n<path fill=\"none\" stroke=\"#000000\" d=\"M194.5985,-341.8796C195.1363,-331.2134 195.7167,-319.7021 196.2613,-308.9015\"/>\n<polygon fill=\"#000000\" stroke=\"#000000\" points=\"199.7617,-308.9785 196.7698,-298.8149 192.7706,-308.626 199.7617,-308.9785\"/>\n</g>\n<!-- 7 -->\n<g id=\"node8\" class=\"node\">\n<title>7</title>\n<path fill=\"#ffffff\" stroke=\"#000000\" d=\"M448.5,-306C448.5,-306 298.5,-306 298.5,-306 292.5,-306 286.5,-300 286.5,-294 286.5,-294 286.5,-235 286.5,-235 286.5,-229 292.5,-223 298.5,-223 298.5,-223 448.5,-223 448.5,-223 454.5,-223 460.5,-229 460.5,-235 460.5,-235 460.5,-294 460.5,-294 460.5,-300 454.5,-306 448.5,-306\"/>\n<text text-anchor=\"middle\" x=\"373.5\" y=\"-290.8\" font-family=\"Helvetica,sans-Serif\" font-size=\"14.00\" fill=\"#000000\">sepal width (cm) &lt;= 2.85</text>\n<text text-anchor=\"middle\" x=\"373.5\" y=\"-275.8\" font-family=\"Helvetica,sans-Serif\" font-size=\"14.00\" fill=\"#000000\">gini = 0.5</text>\n<text text-anchor=\"middle\" x=\"373.5\" y=\"-260.8\" font-family=\"Helvetica,sans-Serif\" font-size=\"14.00\" fill=\"#000000\">samples = 2</text>\n<text text-anchor=\"middle\" x=\"373.5\" y=\"-245.8\" font-family=\"Helvetica,sans-Serif\" font-size=\"14.00\" fill=\"#000000\">value = [0, 1, 1]</text>\n<text text-anchor=\"middle\" x=\"373.5\" y=\"-230.8\" font-family=\"Helvetica,sans-Serif\" font-size=\"14.00\" fill=\"#000000\">class = 1</text>\n</g>\n<!-- 6&#45;&gt;7 -->\n<g id=\"edge7\" class=\"edge\">\n<title>6&#45;&gt;7</title>\n<path fill=\"none\" stroke=\"#000000\" d=\"M377.4015,-341.8796C376.9883,-333.6838 376.5499,-324.9891 376.1219,-316.5013\"/>\n<polygon fill=\"#000000\" stroke=\"#000000\" points=\"379.6067,-316.1091 375.6075,-306.2981 372.6156,-316.4617 379.6067,-316.1091\"/>\n</g>\n<!-- 10 -->\n<g id=\"node11\" class=\"node\">\n<title>10</title>\n<path fill=\"#853fe6\" stroke=\"#000000\" d=\"M642.5,-306C642.5,-306 490.5,-306 490.5,-306 484.5,-306 478.5,-300 478.5,-294 478.5,-294 478.5,-235 478.5,-235 478.5,-229 484.5,-223 490.5,-223 490.5,-223 642.5,-223 642.5,-223 648.5,-223 654.5,-229 654.5,-235 654.5,-235 654.5,-294 654.5,-294 654.5,-300 648.5,-306 642.5,-306\"/>\n<text text-anchor=\"middle\" x=\"566.5\" y=\"-290.8\" font-family=\"Helvetica,sans-Serif\" font-size=\"14.00\" fill=\"#000000\">petal length (cm) &lt;= 4.85</text>\n<text text-anchor=\"middle\" x=\"566.5\" y=\"-275.8\" font-family=\"Helvetica,sans-Serif\" font-size=\"14.00\" fill=\"#000000\">gini = 0.057</text>\n<text text-anchor=\"middle\" x=\"566.5\" y=\"-260.8\" font-family=\"Helvetica,sans-Serif\" font-size=\"14.00\" fill=\"#000000\">samples = 34</text>\n<text text-anchor=\"middle\" x=\"566.5\" y=\"-245.8\" font-family=\"Helvetica,sans-Serif\" font-size=\"14.00\" fill=\"#000000\">value = [0, 1, 33]</text>\n<text text-anchor=\"middle\" x=\"566.5\" y=\"-230.8\" font-family=\"Helvetica,sans-Serif\" font-size=\"14.00\" fill=\"#000000\">class = 2</text>\n</g>\n<!-- 6&#45;&gt;10 -->\n<g id=\"edge10\" class=\"edge\">\n<title>6&#45;&gt;10</title>\n<path fill=\"none\" stroke=\"#000000\" d=\"M444.9035,-341.8796C460.2774,-332.0962 476.7685,-321.6019 492.4902,-311.5971\"/>\n<polygon fill=\"#000000\" stroke=\"#000000\" points=\"494.5759,-314.4185 501.1334,-306.0969 490.8177,-308.5129 494.5759,-314.4185\"/>\n</g>\n<!-- 8 -->\n<g id=\"node9\" class=\"node\">\n<title>8</title>\n<path fill=\"#39e581\" stroke=\"#000000\" d=\"M294,-179.5C294,-179.5 203,-179.5 203,-179.5 197,-179.5 191,-173.5 191,-167.5 191,-167.5 191,-123.5 191,-123.5 191,-117.5 197,-111.5 203,-111.5 203,-111.5 294,-111.5 294,-111.5 300,-111.5 306,-117.5 306,-123.5 306,-123.5 306,-167.5 306,-167.5 306,-173.5 300,-179.5 294,-179.5\"/>\n<text text-anchor=\"middle\" x=\"248.5\" y=\"-164.3\" font-family=\"Helvetica,sans-Serif\" font-size=\"14.00\" fill=\"#000000\">gini = 0.0</text>\n<text text-anchor=\"middle\" x=\"248.5\" y=\"-149.3\" font-family=\"Helvetica,sans-Serif\" font-size=\"14.00\" fill=\"#000000\">samples = 1</text>\n<text text-anchor=\"middle\" x=\"248.5\" y=\"-134.3\" font-family=\"Helvetica,sans-Serif\" font-size=\"14.00\" fill=\"#000000\">value = [0, 1, 0]</text>\n<text text-anchor=\"middle\" x=\"248.5\" y=\"-119.3\" font-family=\"Helvetica,sans-Serif\" font-size=\"14.00\" fill=\"#000000\">class = 1</text>\n</g>\n<!-- 7&#45;&gt;8 -->\n<g id=\"edge8\" class=\"edge\">\n<title>7&#45;&gt;8</title>\n<path fill=\"none\" stroke=\"#000000\" d=\"M329.7811,-222.8796C317.5375,-211.2237 304.2339,-198.5587 292.0029,-186.9148\"/>\n<polygon fill=\"#000000\" stroke=\"#000000\" points=\"294.2012,-184.1751 284.5451,-179.8149 289.3746,-189.245 294.2012,-184.1751\"/>\n</g>\n<!-- 9 -->\n<g id=\"node10\" class=\"node\">\n<title>9</title>\n<path fill=\"#8139e5\" stroke=\"#000000\" d=\"M427,-179.5C427,-179.5 336,-179.5 336,-179.5 330,-179.5 324,-173.5 324,-167.5 324,-167.5 324,-123.5 324,-123.5 324,-117.5 330,-111.5 336,-111.5 336,-111.5 427,-111.5 427,-111.5 433,-111.5 439,-117.5 439,-123.5 439,-123.5 439,-167.5 439,-167.5 439,-173.5 433,-179.5 427,-179.5\"/>\n<text text-anchor=\"middle\" x=\"381.5\" y=\"-164.3\" font-family=\"Helvetica,sans-Serif\" font-size=\"14.00\" fill=\"#000000\">gini = 0.0</text>\n<text text-anchor=\"middle\" x=\"381.5\" y=\"-149.3\" font-family=\"Helvetica,sans-Serif\" font-size=\"14.00\" fill=\"#000000\">samples = 1</text>\n<text text-anchor=\"middle\" x=\"381.5\" y=\"-134.3\" font-family=\"Helvetica,sans-Serif\" font-size=\"14.00\" fill=\"#000000\">value = [0, 0, 1]</text>\n<text text-anchor=\"middle\" x=\"381.5\" y=\"-119.3\" font-family=\"Helvetica,sans-Serif\" font-size=\"14.00\" fill=\"#000000\">class = 2</text>\n</g>\n<!-- 7&#45;&gt;9 -->\n<g id=\"edge9\" class=\"edge\">\n<title>7&#45;&gt;9</title>\n<path fill=\"none\" stroke=\"#000000\" d=\"M376.298,-222.8796C377.0151,-212.2134 377.7889,-200.7021 378.515,-189.9015\"/>\n<polygon fill=\"#000000\" stroke=\"#000000\" points=\"382.0144,-190.0272 379.1931,-179.8149 375.0301,-189.5576 382.0144,-190.0272\"/>\n</g>\n<!-- 11 -->\n<g id=\"node12\" class=\"node\">\n<title>11</title>\n<path fill=\"#ffffff\" stroke=\"#000000\" d=\"M628.5,-187C628.5,-187 486.5,-187 486.5,-187 480.5,-187 474.5,-181 474.5,-175 474.5,-175 474.5,-116 474.5,-116 474.5,-110 480.5,-104 486.5,-104 486.5,-104 628.5,-104 628.5,-104 634.5,-104 640.5,-110 640.5,-116 640.5,-116 640.5,-175 640.5,-175 640.5,-181 634.5,-187 628.5,-187\"/>\n<text text-anchor=\"middle\" x=\"557.5\" y=\"-171.8\" font-family=\"Helvetica,sans-Serif\" font-size=\"14.00\" fill=\"#000000\">sepal width (cm) &lt;= 3.0</text>\n<text text-anchor=\"middle\" x=\"557.5\" y=\"-156.8\" font-family=\"Helvetica,sans-Serif\" font-size=\"14.00\" fill=\"#000000\">gini = 0.5</text>\n<text text-anchor=\"middle\" x=\"557.5\" y=\"-141.8\" font-family=\"Helvetica,sans-Serif\" font-size=\"14.00\" fill=\"#000000\">samples = 2</text>\n<text text-anchor=\"middle\" x=\"557.5\" y=\"-126.8\" font-family=\"Helvetica,sans-Serif\" font-size=\"14.00\" fill=\"#000000\">value = [0, 1, 1]</text>\n<text text-anchor=\"middle\" x=\"557.5\" y=\"-111.8\" font-family=\"Helvetica,sans-Serif\" font-size=\"14.00\" fill=\"#000000\">class = 1</text>\n</g>\n<!-- 10&#45;&gt;11 -->\n<g id=\"edge11\" class=\"edge\">\n<title>10&#45;&gt;11</title>\n<path fill=\"none\" stroke=\"#000000\" d=\"M563.3522,-222.8796C562.7324,-214.6838 562.0748,-205.9891 561.4329,-197.5013\"/>\n<polygon fill=\"#000000\" stroke=\"#000000\" points=\"564.9055,-197.0056 560.6612,-187.2981 557.9254,-197.5336 564.9055,-197.0056\"/>\n</g>\n<!-- 14 -->\n<g id=\"node15\" class=\"node\">\n<title>14</title>\n<path fill=\"#8139e5\" stroke=\"#000000\" d=\"M770,-179.5C770,-179.5 671,-179.5 671,-179.5 665,-179.5 659,-173.5 659,-167.5 659,-167.5 659,-123.5 659,-123.5 659,-117.5 665,-111.5 671,-111.5 671,-111.5 770,-111.5 770,-111.5 776,-111.5 782,-117.5 782,-123.5 782,-123.5 782,-167.5 782,-167.5 782,-173.5 776,-179.5 770,-179.5\"/>\n<text text-anchor=\"middle\" x=\"720.5\" y=\"-164.3\" font-family=\"Helvetica,sans-Serif\" font-size=\"14.00\" fill=\"#000000\">gini = 0.0</text>\n<text text-anchor=\"middle\" x=\"720.5\" y=\"-149.3\" font-family=\"Helvetica,sans-Serif\" font-size=\"14.00\" fill=\"#000000\">samples = 32</text>\n<text text-anchor=\"middle\" x=\"720.5\" y=\"-134.3\" font-family=\"Helvetica,sans-Serif\" font-size=\"14.00\" fill=\"#000000\">value = [0, 0, 32]</text>\n<text text-anchor=\"middle\" x=\"720.5\" y=\"-119.3\" font-family=\"Helvetica,sans-Serif\" font-size=\"14.00\" fill=\"#000000\">class = 2</text>\n</g>\n<!-- 10&#45;&gt;14 -->\n<g id=\"edge14\" class=\"edge\">\n<title>10&#45;&gt;14</title>\n<path fill=\"none\" stroke=\"#000000\" d=\"M620.3617,-222.8796C635.7304,-211.0038 652.4547,-198.0804 667.7559,-186.2568\"/>\n<polygon fill=\"#000000\" stroke=\"#000000\" points=\"670.3196,-188.699 676.0924,-179.8149 666.0395,-183.1599 670.3196,-188.699\"/>\n</g>\n<!-- 12 -->\n<g id=\"node13\" class=\"node\">\n<title>12</title>\n<path fill=\"#8139e5\" stroke=\"#000000\" d=\"M536,-68C536,-68 445,-68 445,-68 439,-68 433,-62 433,-56 433,-56 433,-12 433,-12 433,-6 439,0 445,0 445,0 536,0 536,0 542,0 548,-6 548,-12 548,-12 548,-56 548,-56 548,-62 542,-68 536,-68\"/>\n<text text-anchor=\"middle\" x=\"490.5\" y=\"-52.8\" font-family=\"Helvetica,sans-Serif\" font-size=\"14.00\" fill=\"#000000\">gini = 0.0</text>\n<text text-anchor=\"middle\" x=\"490.5\" y=\"-37.8\" font-family=\"Helvetica,sans-Serif\" font-size=\"14.00\" fill=\"#000000\">samples = 1</text>\n<text text-anchor=\"middle\" x=\"490.5\" y=\"-22.8\" font-family=\"Helvetica,sans-Serif\" font-size=\"14.00\" fill=\"#000000\">value = [0, 0, 1]</text>\n<text text-anchor=\"middle\" x=\"490.5\" y=\"-7.8\" font-family=\"Helvetica,sans-Serif\" font-size=\"14.00\" fill=\"#000000\">class = 2</text>\n</g>\n<!-- 11&#45;&gt;12 -->\n<g id=\"edge12\" class=\"edge\">\n<title>11&#45;&gt;12</title>\n<path fill=\"none\" stroke=\"#000000\" d=\"M532.5517,-103.9815C527.2499,-95.1585 521.6419,-85.8258 516.3089,-76.9506\"/>\n<polygon fill=\"#000000\" stroke=\"#000000\" points=\"519.2396,-75.0325 511.0889,-68.2637 513.2395,-78.638 519.2396,-75.0325\"/>\n</g>\n<!-- 13 -->\n<g id=\"node14\" class=\"node\">\n<title>13</title>\n<path fill=\"#39e581\" stroke=\"#000000\" d=\"M669,-68C669,-68 578,-68 578,-68 572,-68 566,-62 566,-56 566,-56 566,-12 566,-12 566,-6 572,0 578,0 578,0 669,0 669,0 675,0 681,-6 681,-12 681,-12 681,-56 681,-56 681,-62 675,-68 669,-68\"/>\n<text text-anchor=\"middle\" x=\"623.5\" y=\"-52.8\" font-family=\"Helvetica,sans-Serif\" font-size=\"14.00\" fill=\"#000000\">gini = 0.0</text>\n<text text-anchor=\"middle\" x=\"623.5\" y=\"-37.8\" font-family=\"Helvetica,sans-Serif\" font-size=\"14.00\" fill=\"#000000\">samples = 1</text>\n<text text-anchor=\"middle\" x=\"623.5\" y=\"-22.8\" font-family=\"Helvetica,sans-Serif\" font-size=\"14.00\" fill=\"#000000\">value = [0, 1, 0]</text>\n<text text-anchor=\"middle\" x=\"623.5\" y=\"-7.8\" font-family=\"Helvetica,sans-Serif\" font-size=\"14.00\" fill=\"#000000\">class = 1</text>\n</g>\n<!-- 11&#45;&gt;13 -->\n<g id=\"edge13\" class=\"edge\">\n<title>11&#45;&gt;13</title>\n<path fill=\"none\" stroke=\"#000000\" d=\"M582.076,-103.9815C587.2986,-95.1585 592.8229,-85.8258 598.0763,-76.9506\"/>\n<polygon fill=\"#000000\" stroke=\"#000000\" points=\"601.1364,-78.652 603.2184,-68.2637 595.1126,-75.0863 601.1364,-78.652\"/>\n</g>\n</g>\n</svg>\n"
          },
          "metadata": {
            "tags": []
          },
          "execution_count": 192
        }
      ]
    },
    {
      "cell_type": "code",
      "metadata": {
        "id": "QsdNq_ZQ7ZhX",
        "colab_type": "code",
        "colab": {
          "base_uri": "https://localhost:8080/",
          "height": 1000
        },
        "outputId": "6dc75df9-c359-4fa4-afd3-0068e6392bbb"
      },
      "source": [
        "#plotting : decision tree on information/entropy  based\n",
        "from sklearn.tree import export_graphviz\n",
        "import graphviz\n",
        "\n",
        "feature_names = x.columns\n",
        "\n",
        "dot_data = export_graphviz(dtc_entropy, out_file=None, filled=True, rounded=True,\n",
        "                                feature_names=feature_names,  \n",
        "                                class_names=['0','1','2'])\n",
        "graph = graphviz.Source(dot_data)  \n",
        "graph"
      ],
      "execution_count": 193,
      "outputs": [
        {
          "output_type": "execute_result",
          "data": {
            "text/plain": [
              "<graphviz.files.Source at 0x7fb5193a0eb8>"
            ],
            "image/svg+xml": "<?xml version=\"1.0\" encoding=\"UTF-8\" standalone=\"no\"?>\n<!DOCTYPE svg PUBLIC \"-//W3C//DTD SVG 1.1//EN\"\n \"http://www.w3.org/Graphics/SVG/1.1/DTD/svg11.dtd\">\n<!-- Generated by graphviz version 2.40.1 (20161225.0304)\n -->\n<!-- Title: Tree Pages: 1 -->\n<svg width=\"609pt\" height=\"790pt\"\n viewBox=\"0.00 0.00 609.00 790.00\" xmlns=\"http://www.w3.org/2000/svg\" xmlns:xlink=\"http://www.w3.org/1999/xlink\">\n<g id=\"graph0\" class=\"graph\" transform=\"scale(1 1) rotate(0) translate(4 786)\">\n<title>Tree</title>\n<polygon fill=\"#ffffff\" stroke=\"transparent\" points=\"-4,4 -4,-786 605,-786 605,4 -4,4\"/>\n<!-- 0 -->\n<g id=\"node1\" class=\"node\">\n<title>0</title>\n<path fill=\"#ffffff\" stroke=\"#000000\" d=\"M279.5,-782C279.5,-782 127.5,-782 127.5,-782 121.5,-782 115.5,-776 115.5,-770 115.5,-770 115.5,-711 115.5,-711 115.5,-705 121.5,-699 127.5,-699 127.5,-699 279.5,-699 279.5,-699 285.5,-699 291.5,-705 291.5,-711 291.5,-711 291.5,-770 291.5,-770 291.5,-776 285.5,-782 279.5,-782\"/>\n<text text-anchor=\"middle\" x=\"203.5\" y=\"-766.8\" font-family=\"Helvetica,sans-Serif\" font-size=\"14.00\" fill=\"#000000\">petal length (cm) &lt;= 2.45</text>\n<text text-anchor=\"middle\" x=\"203.5\" y=\"-751.8\" font-family=\"Helvetica,sans-Serif\" font-size=\"14.00\" fill=\"#000000\">entropy = 1.585</text>\n<text text-anchor=\"middle\" x=\"203.5\" y=\"-736.8\" font-family=\"Helvetica,sans-Serif\" font-size=\"14.00\" fill=\"#000000\">samples = 105</text>\n<text text-anchor=\"middle\" x=\"203.5\" y=\"-721.8\" font-family=\"Helvetica,sans-Serif\" font-size=\"14.00\" fill=\"#000000\">value = [35, 35, 35]</text>\n<text text-anchor=\"middle\" x=\"203.5\" y=\"-706.8\" font-family=\"Helvetica,sans-Serif\" font-size=\"14.00\" fill=\"#000000\">class = 0</text>\n</g>\n<!-- 1 -->\n<g id=\"node2\" class=\"node\">\n<title>1</title>\n<path fill=\"#e58139\" stroke=\"#000000\" d=\"M171,-655.5C171,-655.5 72,-655.5 72,-655.5 66,-655.5 60,-649.5 60,-643.5 60,-643.5 60,-599.5 60,-599.5 60,-593.5 66,-587.5 72,-587.5 72,-587.5 171,-587.5 171,-587.5 177,-587.5 183,-593.5 183,-599.5 183,-599.5 183,-643.5 183,-643.5 183,-649.5 177,-655.5 171,-655.5\"/>\n<text text-anchor=\"middle\" x=\"121.5\" y=\"-640.3\" font-family=\"Helvetica,sans-Serif\" font-size=\"14.00\" fill=\"#000000\">entropy = 0.0</text>\n<text text-anchor=\"middle\" x=\"121.5\" y=\"-625.3\" font-family=\"Helvetica,sans-Serif\" font-size=\"14.00\" fill=\"#000000\">samples = 35</text>\n<text text-anchor=\"middle\" x=\"121.5\" y=\"-610.3\" font-family=\"Helvetica,sans-Serif\" font-size=\"14.00\" fill=\"#000000\">value = [35, 0, 0]</text>\n<text text-anchor=\"middle\" x=\"121.5\" y=\"-595.3\" font-family=\"Helvetica,sans-Serif\" font-size=\"14.00\" fill=\"#000000\">class = 0</text>\n</g>\n<!-- 0&#45;&gt;1 -->\n<g id=\"edge1\" class=\"edge\">\n<title>0&#45;&gt;1</title>\n<path fill=\"none\" stroke=\"#000000\" d=\"M174.8204,-698.8796C167.0917,-687.6636 158.7191,-675.5131 150.9492,-664.2372\"/>\n<polygon fill=\"#000000\" stroke=\"#000000\" points=\"153.7018,-662.0634 145.1456,-655.8149 147.9377,-666.0353 153.7018,-662.0634\"/>\n<text text-anchor=\"middle\" x=\"140.6196\" y=\"-676.7018\" font-family=\"Helvetica,sans-Serif\" font-size=\"14.00\" fill=\"#000000\">True</text>\n</g>\n<!-- 2 -->\n<g id=\"node3\" class=\"node\">\n<title>2</title>\n<path fill=\"#ffffff\" stroke=\"#000000\" d=\"M359.5,-663C359.5,-663 213.5,-663 213.5,-663 207.5,-663 201.5,-657 201.5,-651 201.5,-651 201.5,-592 201.5,-592 201.5,-586 207.5,-580 213.5,-580 213.5,-580 359.5,-580 359.5,-580 365.5,-580 371.5,-586 371.5,-592 371.5,-592 371.5,-651 371.5,-651 371.5,-657 365.5,-663 359.5,-663\"/>\n<text text-anchor=\"middle\" x=\"286.5\" y=\"-647.8\" font-family=\"Helvetica,sans-Serif\" font-size=\"14.00\" fill=\"#000000\">petal width (cm) &lt;= 1.55</text>\n<text text-anchor=\"middle\" x=\"286.5\" y=\"-632.8\" font-family=\"Helvetica,sans-Serif\" font-size=\"14.00\" fill=\"#000000\">entropy = 1.0</text>\n<text text-anchor=\"middle\" x=\"286.5\" y=\"-617.8\" font-family=\"Helvetica,sans-Serif\" font-size=\"14.00\" fill=\"#000000\">samples = 70</text>\n<text text-anchor=\"middle\" x=\"286.5\" y=\"-602.8\" font-family=\"Helvetica,sans-Serif\" font-size=\"14.00\" fill=\"#000000\">value = [0, 35, 35]</text>\n<text text-anchor=\"middle\" x=\"286.5\" y=\"-587.8\" font-family=\"Helvetica,sans-Serif\" font-size=\"14.00\" fill=\"#000000\">class = 1</text>\n</g>\n<!-- 0&#45;&gt;2 -->\n<g id=\"edge2\" class=\"edge\">\n<title>0&#45;&gt;2</title>\n<path fill=\"none\" stroke=\"#000000\" d=\"M232.5294,-698.8796C238.6855,-690.0534 245.2451,-680.6485 251.5936,-671.5466\"/>\n<polygon fill=\"#000000\" stroke=\"#000000\" points=\"254.4967,-673.5024 257.3467,-663.2981 248.7552,-669.4978 254.4967,-673.5024\"/>\n<text text-anchor=\"middle\" x=\"261.7331\" y=\"-684.2103\" font-family=\"Helvetica,sans-Serif\" font-size=\"14.00\" fill=\"#000000\">False</text>\n</g>\n<!-- 3 -->\n<g id=\"node4\" class=\"node\">\n<title>3</title>\n<path fill=\"#3fe685\" stroke=\"#000000\" d=\"M266.5,-544C266.5,-544 114.5,-544 114.5,-544 108.5,-544 102.5,-538 102.5,-532 102.5,-532 102.5,-473 102.5,-473 102.5,-467 108.5,-461 114.5,-461 114.5,-461 266.5,-461 266.5,-461 272.5,-461 278.5,-467 278.5,-473 278.5,-473 278.5,-532 278.5,-532 278.5,-538 272.5,-544 266.5,-544\"/>\n<text text-anchor=\"middle\" x=\"190.5\" y=\"-528.8\" font-family=\"Helvetica,sans-Serif\" font-size=\"14.00\" fill=\"#000000\">petal length (cm) &lt;= 4.95</text>\n<text text-anchor=\"middle\" x=\"190.5\" y=\"-513.8\" font-family=\"Helvetica,sans-Serif\" font-size=\"14.00\" fill=\"#000000\">entropy = 0.191</text>\n<text text-anchor=\"middle\" x=\"190.5\" y=\"-498.8\" font-family=\"Helvetica,sans-Serif\" font-size=\"14.00\" fill=\"#000000\">samples = 34</text>\n<text text-anchor=\"middle\" x=\"190.5\" y=\"-483.8\" font-family=\"Helvetica,sans-Serif\" font-size=\"14.00\" fill=\"#000000\">value = [0, 33, 1]</text>\n<text text-anchor=\"middle\" x=\"190.5\" y=\"-468.8\" font-family=\"Helvetica,sans-Serif\" font-size=\"14.00\" fill=\"#000000\">class = 1</text>\n</g>\n<!-- 2&#45;&gt;3 -->\n<g id=\"edge3\" class=\"edge\">\n<title>2&#45;&gt;3</title>\n<path fill=\"none\" stroke=\"#000000\" d=\"M252.9239,-579.8796C245.7309,-570.9633 238.0616,-561.4565 230.649,-552.268\"/>\n<polygon fill=\"#000000\" stroke=\"#000000\" points=\"233.2224,-549.8836 224.2195,-544.2981 227.7742,-554.2788 233.2224,-549.8836\"/>\n</g>\n<!-- 6 -->\n<g id=\"node7\" class=\"node\">\n<title>6</title>\n<path fill=\"#8845e7\" stroke=\"#000000\" d=\"M456.5,-544C456.5,-544 308.5,-544 308.5,-544 302.5,-544 296.5,-538 296.5,-532 296.5,-532 296.5,-473 296.5,-473 296.5,-467 302.5,-461 308.5,-461 308.5,-461 456.5,-461 456.5,-461 462.5,-461 468.5,-467 468.5,-473 468.5,-473 468.5,-532 468.5,-532 468.5,-538 462.5,-544 456.5,-544\"/>\n<text text-anchor=\"middle\" x=\"382.5\" y=\"-528.8\" font-family=\"Helvetica,sans-Serif\" font-size=\"14.00\" fill=\"#000000\">sepal length (cm) &lt;= 6.1</text>\n<text text-anchor=\"middle\" x=\"382.5\" y=\"-513.8\" font-family=\"Helvetica,sans-Serif\" font-size=\"14.00\" fill=\"#000000\">entropy = 0.31</text>\n<text text-anchor=\"middle\" x=\"382.5\" y=\"-498.8\" font-family=\"Helvetica,sans-Serif\" font-size=\"14.00\" fill=\"#000000\">samples = 36</text>\n<text text-anchor=\"middle\" x=\"382.5\" y=\"-483.8\" font-family=\"Helvetica,sans-Serif\" font-size=\"14.00\" fill=\"#000000\">value = [0, 2, 34]</text>\n<text text-anchor=\"middle\" x=\"382.5\" y=\"-468.8\" font-family=\"Helvetica,sans-Serif\" font-size=\"14.00\" fill=\"#000000\">class = 2</text>\n</g>\n<!-- 2&#45;&gt;6 -->\n<g id=\"edge6\" class=\"edge\">\n<title>2&#45;&gt;6</title>\n<path fill=\"none\" stroke=\"#000000\" d=\"M320.0761,-579.8796C327.2691,-570.9633 334.9384,-561.4565 342.351,-552.268\"/>\n<polygon fill=\"#000000\" stroke=\"#000000\" points=\"345.2258,-554.2788 348.7805,-544.2981 339.7776,-549.8836 345.2258,-554.2788\"/>\n</g>\n<!-- 4 -->\n<g id=\"node5\" class=\"node\">\n<title>4</title>\n<path fill=\"#39e581\" stroke=\"#000000\" d=\"M111,-417.5C111,-417.5 12,-417.5 12,-417.5 6,-417.5 0,-411.5 0,-405.5 0,-405.5 0,-361.5 0,-361.5 0,-355.5 6,-349.5 12,-349.5 12,-349.5 111,-349.5 111,-349.5 117,-349.5 123,-355.5 123,-361.5 123,-361.5 123,-405.5 123,-405.5 123,-411.5 117,-417.5 111,-417.5\"/>\n<text text-anchor=\"middle\" x=\"61.5\" y=\"-402.3\" font-family=\"Helvetica,sans-Serif\" font-size=\"14.00\" fill=\"#000000\">entropy = 0.0</text>\n<text text-anchor=\"middle\" x=\"61.5\" y=\"-387.3\" font-family=\"Helvetica,sans-Serif\" font-size=\"14.00\" fill=\"#000000\">samples = 33</text>\n<text text-anchor=\"middle\" x=\"61.5\" y=\"-372.3\" font-family=\"Helvetica,sans-Serif\" font-size=\"14.00\" fill=\"#000000\">value = [0, 33, 0]</text>\n<text text-anchor=\"middle\" x=\"61.5\" y=\"-357.3\" font-family=\"Helvetica,sans-Serif\" font-size=\"14.00\" fill=\"#000000\">class = 1</text>\n</g>\n<!-- 3&#45;&gt;4 -->\n<g id=\"edge4\" class=\"edge\">\n<title>3&#45;&gt;4</title>\n<path fill=\"none\" stroke=\"#000000\" d=\"M145.3821,-460.8796C132.7467,-449.2237 119.0174,-436.5587 106.395,-424.9148\"/>\n<polygon fill=\"#000000\" stroke=\"#000000\" points=\"108.422,-422.0228 98.6985,-417.8149 103.6756,-427.168 108.422,-422.0228\"/>\n</g>\n<!-- 5 -->\n<g id=\"node6\" class=\"node\">\n<title>5</title>\n<path fill=\"#8139e5\" stroke=\"#000000\" d=\"M244,-417.5C244,-417.5 153,-417.5 153,-417.5 147,-417.5 141,-411.5 141,-405.5 141,-405.5 141,-361.5 141,-361.5 141,-355.5 147,-349.5 153,-349.5 153,-349.5 244,-349.5 244,-349.5 250,-349.5 256,-355.5 256,-361.5 256,-361.5 256,-405.5 256,-405.5 256,-411.5 250,-417.5 244,-417.5\"/>\n<text text-anchor=\"middle\" x=\"198.5\" y=\"-402.3\" font-family=\"Helvetica,sans-Serif\" font-size=\"14.00\" fill=\"#000000\">entropy = 0.0</text>\n<text text-anchor=\"middle\" x=\"198.5\" y=\"-387.3\" font-family=\"Helvetica,sans-Serif\" font-size=\"14.00\" fill=\"#000000\">samples = 1</text>\n<text text-anchor=\"middle\" x=\"198.5\" y=\"-372.3\" font-family=\"Helvetica,sans-Serif\" font-size=\"14.00\" fill=\"#000000\">value = [0, 0, 1]</text>\n<text text-anchor=\"middle\" x=\"198.5\" y=\"-357.3\" font-family=\"Helvetica,sans-Serif\" font-size=\"14.00\" fill=\"#000000\">class = 2</text>\n</g>\n<!-- 3&#45;&gt;5 -->\n<g id=\"edge5\" class=\"edge\">\n<title>3&#45;&gt;5</title>\n<path fill=\"none\" stroke=\"#000000\" d=\"M193.298,-460.8796C194.0151,-450.2134 194.7889,-438.7021 195.515,-427.9015\"/>\n<polygon fill=\"#000000\" stroke=\"#000000\" points=\"199.0144,-428.0272 196.1931,-417.8149 192.0301,-427.5576 199.0144,-428.0272\"/>\n</g>\n<!-- 7 -->\n<g id=\"node8\" class=\"node\">\n<title>7</title>\n<path fill=\"#ab7bee\" stroke=\"#000000\" d=\"M447.5,-425C447.5,-425 301.5,-425 301.5,-425 295.5,-425 289.5,-419 289.5,-413 289.5,-413 289.5,-354 289.5,-354 289.5,-348 295.5,-342 301.5,-342 301.5,-342 447.5,-342 447.5,-342 453.5,-342 459.5,-348 459.5,-354 459.5,-354 459.5,-413 459.5,-413 459.5,-419 453.5,-425 447.5,-425\"/>\n<text text-anchor=\"middle\" x=\"374.5\" y=\"-409.8\" font-family=\"Helvetica,sans-Serif\" font-size=\"14.00\" fill=\"#000000\">petal width (cm) &lt;= 1.85</text>\n<text text-anchor=\"middle\" x=\"374.5\" y=\"-394.8\" font-family=\"Helvetica,sans-Serif\" font-size=\"14.00\" fill=\"#000000\">entropy = 0.811</text>\n<text text-anchor=\"middle\" x=\"374.5\" y=\"-379.8\" font-family=\"Helvetica,sans-Serif\" font-size=\"14.00\" fill=\"#000000\">samples = 8</text>\n<text text-anchor=\"middle\" x=\"374.5\" y=\"-364.8\" font-family=\"Helvetica,sans-Serif\" font-size=\"14.00\" fill=\"#000000\">value = [0, 2, 6]</text>\n<text text-anchor=\"middle\" x=\"374.5\" y=\"-349.8\" font-family=\"Helvetica,sans-Serif\" font-size=\"14.00\" fill=\"#000000\">class = 2</text>\n</g>\n<!-- 6&#45;&gt;7 -->\n<g id=\"edge7\" class=\"edge\">\n<title>6&#45;&gt;7</title>\n<path fill=\"none\" stroke=\"#000000\" d=\"M379.702,-460.8796C379.151,-452.6838 378.5665,-443.9891 377.9959,-435.5013\"/>\n<polygon fill=\"#000000\" stroke=\"#000000\" points=\"381.4729,-435.0408 377.31,-425.2981 374.4887,-435.5103 381.4729,-435.0408\"/>\n</g>\n<!-- 14 -->\n<g id=\"node15\" class=\"node\">\n<title>14</title>\n<path fill=\"#8139e5\" stroke=\"#000000\" d=\"M589,-417.5C589,-417.5 490,-417.5 490,-417.5 484,-417.5 478,-411.5 478,-405.5 478,-405.5 478,-361.5 478,-361.5 478,-355.5 484,-349.5 490,-349.5 490,-349.5 589,-349.5 589,-349.5 595,-349.5 601,-355.5 601,-361.5 601,-361.5 601,-405.5 601,-405.5 601,-411.5 595,-417.5 589,-417.5\"/>\n<text text-anchor=\"middle\" x=\"539.5\" y=\"-402.3\" font-family=\"Helvetica,sans-Serif\" font-size=\"14.00\" fill=\"#000000\">entropy = 0.0</text>\n<text text-anchor=\"middle\" x=\"539.5\" y=\"-387.3\" font-family=\"Helvetica,sans-Serif\" font-size=\"14.00\" fill=\"#000000\">samples = 28</text>\n<text text-anchor=\"middle\" x=\"539.5\" y=\"-372.3\" font-family=\"Helvetica,sans-Serif\" font-size=\"14.00\" fill=\"#000000\">value = [0, 0, 28]</text>\n<text text-anchor=\"middle\" x=\"539.5\" y=\"-357.3\" font-family=\"Helvetica,sans-Serif\" font-size=\"14.00\" fill=\"#000000\">class = 2</text>\n</g>\n<!-- 6&#45;&gt;14 -->\n<g id=\"edge14\" class=\"edge\">\n<title>6&#45;&gt;14</title>\n<path fill=\"none\" stroke=\"#000000\" d=\"M437.411,-460.8796C453.2994,-448.8368 470.6091,-435.7167 486.3857,-423.7586\"/>\n<polygon fill=\"#000000\" stroke=\"#000000\" points=\"488.6253,-426.4529 494.4805,-417.623 484.3969,-420.8743 488.6253,-426.4529\"/>\n</g>\n<!-- 8 -->\n<g id=\"node9\" class=\"node\">\n<title>8</title>\n<path fill=\"#9cf2c0\" stroke=\"#000000\" d=\"M369.5,-306C369.5,-306 217.5,-306 217.5,-306 211.5,-306 205.5,-300 205.5,-294 205.5,-294 205.5,-235 205.5,-235 205.5,-229 211.5,-223 217.5,-223 217.5,-223 369.5,-223 369.5,-223 375.5,-223 381.5,-229 381.5,-235 381.5,-235 381.5,-294 381.5,-294 381.5,-300 375.5,-306 369.5,-306\"/>\n<text text-anchor=\"middle\" x=\"293.5\" y=\"-290.8\" font-family=\"Helvetica,sans-Serif\" font-size=\"14.00\" fill=\"#000000\">petal length (cm) &lt;= 4.95</text>\n<text text-anchor=\"middle\" x=\"293.5\" y=\"-275.8\" font-family=\"Helvetica,sans-Serif\" font-size=\"14.00\" fill=\"#000000\">entropy = 0.918</text>\n<text text-anchor=\"middle\" x=\"293.5\" y=\"-260.8\" font-family=\"Helvetica,sans-Serif\" font-size=\"14.00\" fill=\"#000000\">samples = 3</text>\n<text text-anchor=\"middle\" x=\"293.5\" y=\"-245.8\" font-family=\"Helvetica,sans-Serif\" font-size=\"14.00\" fill=\"#000000\">value = [0, 2, 1]</text>\n<text text-anchor=\"middle\" x=\"293.5\" y=\"-230.8\" font-family=\"Helvetica,sans-Serif\" font-size=\"14.00\" fill=\"#000000\">class = 1</text>\n</g>\n<!-- 7&#45;&gt;8 -->\n<g id=\"edge8\" class=\"edge\">\n<title>7&#45;&gt;8</title>\n<path fill=\"none\" stroke=\"#000000\" d=\"M346.1701,-341.8796C340.2237,-333.1434 333.8914,-323.8404 327.755,-314.8253\"/>\n<polygon fill=\"#000000\" stroke=\"#000000\" points=\"330.4711,-312.5953 321.9508,-306.2981 324.6844,-316.5342 330.4711,-312.5953\"/>\n</g>\n<!-- 13 -->\n<g id=\"node14\" class=\"node\">\n<title>13</title>\n<path fill=\"#8139e5\" stroke=\"#000000\" d=\"M502,-298.5C502,-298.5 411,-298.5 411,-298.5 405,-298.5 399,-292.5 399,-286.5 399,-286.5 399,-242.5 399,-242.5 399,-236.5 405,-230.5 411,-230.5 411,-230.5 502,-230.5 502,-230.5 508,-230.5 514,-236.5 514,-242.5 514,-242.5 514,-286.5 514,-286.5 514,-292.5 508,-298.5 502,-298.5\"/>\n<text text-anchor=\"middle\" x=\"456.5\" y=\"-283.3\" font-family=\"Helvetica,sans-Serif\" font-size=\"14.00\" fill=\"#000000\">entropy = 0.0</text>\n<text text-anchor=\"middle\" x=\"456.5\" y=\"-268.3\" font-family=\"Helvetica,sans-Serif\" font-size=\"14.00\" fill=\"#000000\">samples = 5</text>\n<text text-anchor=\"middle\" x=\"456.5\" y=\"-253.3\" font-family=\"Helvetica,sans-Serif\" font-size=\"14.00\" fill=\"#000000\">value = [0, 0, 5]</text>\n<text text-anchor=\"middle\" x=\"456.5\" y=\"-238.3\" font-family=\"Helvetica,sans-Serif\" font-size=\"14.00\" fill=\"#000000\">class = 2</text>\n</g>\n<!-- 7&#45;&gt;13 -->\n<g id=\"edge13\" class=\"edge\">\n<title>7&#45;&gt;13</title>\n<path fill=\"none\" stroke=\"#000000\" d=\"M403.1796,-341.8796C410.9083,-330.6636 419.2809,-318.5131 427.0508,-307.2372\"/>\n<polygon fill=\"#000000\" stroke=\"#000000\" points=\"430.0623,-309.0353 432.8544,-298.8149 424.2982,-305.0634 430.0623,-309.0353\"/>\n</g>\n<!-- 9 -->\n<g id=\"node10\" class=\"node\">\n<title>9</title>\n<path fill=\"#39e581\" stroke=\"#000000\" d=\"M258,-179.5C258,-179.5 167,-179.5 167,-179.5 161,-179.5 155,-173.5 155,-167.5 155,-167.5 155,-123.5 155,-123.5 155,-117.5 161,-111.5 167,-111.5 167,-111.5 258,-111.5 258,-111.5 264,-111.5 270,-117.5 270,-123.5 270,-123.5 270,-167.5 270,-167.5 270,-173.5 264,-179.5 258,-179.5\"/>\n<text text-anchor=\"middle\" x=\"212.5\" y=\"-164.3\" font-family=\"Helvetica,sans-Serif\" font-size=\"14.00\" fill=\"#000000\">entropy = 0.0</text>\n<text text-anchor=\"middle\" x=\"212.5\" y=\"-149.3\" font-family=\"Helvetica,sans-Serif\" font-size=\"14.00\" fill=\"#000000\">samples = 1</text>\n<text text-anchor=\"middle\" x=\"212.5\" y=\"-134.3\" font-family=\"Helvetica,sans-Serif\" font-size=\"14.00\" fill=\"#000000\">value = [0, 1, 0]</text>\n<text text-anchor=\"middle\" x=\"212.5\" y=\"-119.3\" font-family=\"Helvetica,sans-Serif\" font-size=\"14.00\" fill=\"#000000\">class = 1</text>\n</g>\n<!-- 8&#45;&gt;9 -->\n<g id=\"edge9\" class=\"edge\">\n<title>8&#45;&gt;9</title>\n<path fill=\"none\" stroke=\"#000000\" d=\"M265.1701,-222.8796C257.5357,-211.6636 249.2652,-199.5131 241.5901,-188.2372\"/>\n<polygon fill=\"#000000\" stroke=\"#000000\" points=\"244.3775,-186.1122 235.8572,-179.8149 238.5908,-190.0511 244.3775,-186.1122\"/>\n</g>\n<!-- 10 -->\n<g id=\"node11\" class=\"node\">\n<title>10</title>\n<path fill=\"#ffffff\" stroke=\"#000000\" d=\"M450.5,-187C450.5,-187 300.5,-187 300.5,-187 294.5,-187 288.5,-181 288.5,-175 288.5,-175 288.5,-116 288.5,-116 288.5,-110 294.5,-104 300.5,-104 300.5,-104 450.5,-104 450.5,-104 456.5,-104 462.5,-110 462.5,-116 462.5,-116 462.5,-175 462.5,-175 462.5,-181 456.5,-187 450.5,-187\"/>\n<text text-anchor=\"middle\" x=\"375.5\" y=\"-171.8\" font-family=\"Helvetica,sans-Serif\" font-size=\"14.00\" fill=\"#000000\">sepal width (cm) &lt;= 2.85</text>\n<text text-anchor=\"middle\" x=\"375.5\" y=\"-156.8\" font-family=\"Helvetica,sans-Serif\" font-size=\"14.00\" fill=\"#000000\">entropy = 1.0</text>\n<text text-anchor=\"middle\" x=\"375.5\" y=\"-141.8\" font-family=\"Helvetica,sans-Serif\" font-size=\"14.00\" fill=\"#000000\">samples = 2</text>\n<text text-anchor=\"middle\" x=\"375.5\" y=\"-126.8\" font-family=\"Helvetica,sans-Serif\" font-size=\"14.00\" fill=\"#000000\">value = [0, 1, 1]</text>\n<text text-anchor=\"middle\" x=\"375.5\" y=\"-111.8\" font-family=\"Helvetica,sans-Serif\" font-size=\"14.00\" fill=\"#000000\">class = 1</text>\n</g>\n<!-- 8&#45;&gt;10 -->\n<g id=\"edge10\" class=\"edge\">\n<title>8&#45;&gt;10</title>\n<path fill=\"none\" stroke=\"#000000\" d=\"M322.1796,-222.8796C328.2615,-214.0534 334.7422,-204.6485 341.0141,-195.5466\"/>\n<polygon fill=\"#000000\" stroke=\"#000000\" points=\"343.9059,-197.5184 346.698,-187.2981 338.1418,-193.5465 343.9059,-197.5184\"/>\n</g>\n<!-- 11 -->\n<g id=\"node12\" class=\"node\">\n<title>11</title>\n<path fill=\"#39e581\" stroke=\"#000000\" d=\"M354,-68C354,-68 263,-68 263,-68 257,-68 251,-62 251,-56 251,-56 251,-12 251,-12 251,-6 257,0 263,0 263,0 354,0 354,0 360,0 366,-6 366,-12 366,-12 366,-56 366,-56 366,-62 360,-68 354,-68\"/>\n<text text-anchor=\"middle\" x=\"308.5\" y=\"-52.8\" font-family=\"Helvetica,sans-Serif\" font-size=\"14.00\" fill=\"#000000\">entropy = 0.0</text>\n<text text-anchor=\"middle\" x=\"308.5\" y=\"-37.8\" font-family=\"Helvetica,sans-Serif\" font-size=\"14.00\" fill=\"#000000\">samples = 1</text>\n<text text-anchor=\"middle\" x=\"308.5\" y=\"-22.8\" font-family=\"Helvetica,sans-Serif\" font-size=\"14.00\" fill=\"#000000\">value = [0, 1, 0]</text>\n<text text-anchor=\"middle\" x=\"308.5\" y=\"-7.8\" font-family=\"Helvetica,sans-Serif\" font-size=\"14.00\" fill=\"#000000\">class = 1</text>\n</g>\n<!-- 10&#45;&gt;11 -->\n<g id=\"edge11\" class=\"edge\">\n<title>10&#45;&gt;11</title>\n<path fill=\"none\" stroke=\"#000000\" d=\"M350.5517,-103.9815C345.2499,-95.1585 339.6419,-85.8258 334.3089,-76.9506\"/>\n<polygon fill=\"#000000\" stroke=\"#000000\" points=\"337.2396,-75.0325 329.0889,-68.2637 331.2395,-78.638 337.2396,-75.0325\"/>\n</g>\n<!-- 12 -->\n<g id=\"node13\" class=\"node\">\n<title>12</title>\n<path fill=\"#8139e5\" stroke=\"#000000\" d=\"M487,-68C487,-68 396,-68 396,-68 390,-68 384,-62 384,-56 384,-56 384,-12 384,-12 384,-6 390,0 396,0 396,0 487,0 487,0 493,0 499,-6 499,-12 499,-12 499,-56 499,-56 499,-62 493,-68 487,-68\"/>\n<text text-anchor=\"middle\" x=\"441.5\" y=\"-52.8\" font-family=\"Helvetica,sans-Serif\" font-size=\"14.00\" fill=\"#000000\">entropy = 0.0</text>\n<text text-anchor=\"middle\" x=\"441.5\" y=\"-37.8\" font-family=\"Helvetica,sans-Serif\" font-size=\"14.00\" fill=\"#000000\">samples = 1</text>\n<text text-anchor=\"middle\" x=\"441.5\" y=\"-22.8\" font-family=\"Helvetica,sans-Serif\" font-size=\"14.00\" fill=\"#000000\">value = [0, 0, 1]</text>\n<text text-anchor=\"middle\" x=\"441.5\" y=\"-7.8\" font-family=\"Helvetica,sans-Serif\" font-size=\"14.00\" fill=\"#000000\">class = 2</text>\n</g>\n<!-- 10&#45;&gt;12 -->\n<g id=\"edge12\" class=\"edge\">\n<title>10&#45;&gt;12</title>\n<path fill=\"none\" stroke=\"#000000\" d=\"M400.076,-103.9815C405.2986,-95.1585 410.8229,-85.8258 416.0763,-76.9506\"/>\n<polygon fill=\"#000000\" stroke=\"#000000\" points=\"419.1364,-78.652 421.2184,-68.2637 413.1126,-75.0863 419.1364,-78.652\"/>\n</g>\n</g>\n</svg>\n"
          },
          "metadata": {
            "tags": []
          },
          "execution_count": 193
        }
      ]
    },
    {
      "cell_type": "code",
      "metadata": {
        "id": "zFYblLc2-OQj",
        "colab_type": "code",
        "colab": {
          "base_uri": "https://localhost:8080/",
          "height": 916
        },
        "outputId": "715838d3-b181-4a57-d371-1100fc335c90"
      },
      "source": [
        "#plotting : decision tree with GRIDSEARCHCV (dtc_gscv)  on information/entropy  based\n",
        "from sklearn.tree import export_graphviz\n",
        "import graphviz\n",
        "\n",
        "feature_names = x.columns\n",
        "\n",
        "dot_data = export_graphviz(dtc_gscv.best_estimator_, out_file=None, filled=True, rounded=True,\n",
        "                                feature_names=feature_names,  \n",
        "                                class_names=['0','1','2'])\n",
        "graph = graphviz.Source(dot_data)  \n",
        "graph"
      ],
      "execution_count": 234,
      "outputs": [
        {
          "output_type": "execute_result",
          "data": {
            "text/plain": [
              "<graphviz.files.Source at 0x7fb500858438>"
            ],
            "image/svg+xml": "<?xml version=\"1.0\" encoding=\"UTF-8\" standalone=\"no\"?>\n<!DOCTYPE svg PUBLIC \"-//W3C//DTD SVG 1.1//EN\"\n \"http://www.w3.org/Graphics/SVG/1.1/DTD/svg11.dtd\">\n<!-- Generated by graphviz version 2.40.1 (20161225.0304)\n -->\n<!-- Title: Tree Pages: 1 -->\n<svg width=\"862pt\" height=\"671pt\"\n viewBox=\"0.00 0.00 862.00 671.00\" xmlns=\"http://www.w3.org/2000/svg\" xmlns:xlink=\"http://www.w3.org/1999/xlink\">\n<g id=\"graph0\" class=\"graph\" transform=\"scale(1 1) rotate(0) translate(4 667)\">\n<title>Tree</title>\n<polygon fill=\"#ffffff\" stroke=\"transparent\" points=\"-4,4 -4,-667 858,-667 858,4 -4,4\"/>\n<!-- 0 -->\n<g id=\"node1\" class=\"node\">\n<title>0</title>\n<path fill=\"#ffffff\" stroke=\"#000000\" d=\"M548.5,-663C548.5,-663 398.5,-663 398.5,-663 392.5,-663 386.5,-657 386.5,-651 386.5,-651 386.5,-592 386.5,-592 386.5,-586 392.5,-580 398.5,-580 398.5,-580 548.5,-580 548.5,-580 554.5,-580 560.5,-586 560.5,-592 560.5,-592 560.5,-651 560.5,-651 560.5,-657 554.5,-663 548.5,-663\"/>\n<text text-anchor=\"middle\" x=\"473.5\" y=\"-647.8\" font-family=\"Helvetica,sans-Serif\" font-size=\"14.00\" fill=\"#000000\">sepal width (cm) &lt;= 3.35</text>\n<text text-anchor=\"middle\" x=\"473.5\" y=\"-632.8\" font-family=\"Helvetica,sans-Serif\" font-size=\"14.00\" fill=\"#000000\">gini = 0.667</text>\n<text text-anchor=\"middle\" x=\"473.5\" y=\"-617.8\" font-family=\"Helvetica,sans-Serif\" font-size=\"14.00\" fill=\"#000000\">samples = 105</text>\n<text text-anchor=\"middle\" x=\"473.5\" y=\"-602.8\" font-family=\"Helvetica,sans-Serif\" font-size=\"14.00\" fill=\"#000000\">value = [35, 35, 35]</text>\n<text text-anchor=\"middle\" x=\"473.5\" y=\"-587.8\" font-family=\"Helvetica,sans-Serif\" font-size=\"14.00\" fill=\"#000000\">class = 0</text>\n</g>\n<!-- 1 -->\n<g id=\"node2\" class=\"node\">\n<title>1</title>\n<path fill=\"#effdf5\" stroke=\"#000000\" d=\"M453.5,-544C453.5,-544 297.5,-544 297.5,-544 291.5,-544 285.5,-538 285.5,-532 285.5,-532 285.5,-473 285.5,-473 285.5,-467 291.5,-461 297.5,-461 297.5,-461 453.5,-461 453.5,-461 459.5,-461 465.5,-467 465.5,-473 465.5,-473 465.5,-532 465.5,-532 465.5,-538 459.5,-544 453.5,-544\"/>\n<text text-anchor=\"middle\" x=\"375.5\" y=\"-528.8\" font-family=\"Helvetica,sans-Serif\" font-size=\"14.00\" fill=\"#000000\">sepal length (cm) &lt;= 5.05</text>\n<text text-anchor=\"middle\" x=\"375.5\" y=\"-513.8\" font-family=\"Helvetica,sans-Serif\" font-size=\"14.00\" fill=\"#000000\">gini = 0.623</text>\n<text text-anchor=\"middle\" x=\"375.5\" y=\"-498.8\" font-family=\"Helvetica,sans-Serif\" font-size=\"14.00\" fill=\"#000000\">samples = 79</text>\n<text text-anchor=\"middle\" x=\"375.5\" y=\"-483.8\" font-family=\"Helvetica,sans-Serif\" font-size=\"14.00\" fill=\"#000000\">value = [13, 35, 31]</text>\n<text text-anchor=\"middle\" x=\"375.5\" y=\"-468.8\" font-family=\"Helvetica,sans-Serif\" font-size=\"14.00\" fill=\"#000000\">class = 1</text>\n</g>\n<!-- 0&#45;&gt;1 -->\n<g id=\"edge1\" class=\"edge\">\n<title>0&#45;&gt;1</title>\n<path fill=\"none\" stroke=\"#000000\" d=\"M439.2244,-579.8796C431.8816,-570.9633 424.0524,-561.4565 416.4854,-552.268\"/>\n<polygon fill=\"#000000\" stroke=\"#000000\" points=\"418.9808,-549.7924 409.9219,-544.2981 413.5773,-554.2424 418.9808,-549.7924\"/>\n<text text-anchor=\"middle\" x=\"407.5138\" y=\"-565.4818\" font-family=\"Helvetica,sans-Serif\" font-size=\"14.00\" fill=\"#000000\">True</text>\n</g>\n<!-- 2 -->\n<g id=\"node17\" class=\"node\">\n<title>2</title>\n<path fill=\"#ea985d\" stroke=\"#000000\" d=\"M647.5,-544C647.5,-544 495.5,-544 495.5,-544 489.5,-544 483.5,-538 483.5,-532 483.5,-532 483.5,-473 483.5,-473 483.5,-467 489.5,-461 495.5,-461 495.5,-461 647.5,-461 647.5,-461 653.5,-461 659.5,-467 659.5,-473 659.5,-473 659.5,-532 659.5,-532 659.5,-538 653.5,-544 647.5,-544\"/>\n<text text-anchor=\"middle\" x=\"571.5\" y=\"-528.8\" font-family=\"Helvetica,sans-Serif\" font-size=\"14.00\" fill=\"#000000\">petal length (cm) &lt;= 3.75</text>\n<text text-anchor=\"middle\" x=\"571.5\" y=\"-513.8\" font-family=\"Helvetica,sans-Serif\" font-size=\"14.00\" fill=\"#000000\">gini = 0.26</text>\n<text text-anchor=\"middle\" x=\"571.5\" y=\"-498.8\" font-family=\"Helvetica,sans-Serif\" font-size=\"14.00\" fill=\"#000000\">samples = 26</text>\n<text text-anchor=\"middle\" x=\"571.5\" y=\"-483.8\" font-family=\"Helvetica,sans-Serif\" font-size=\"14.00\" fill=\"#000000\">value = [22, 0, 4]</text>\n<text text-anchor=\"middle\" x=\"571.5\" y=\"-468.8\" font-family=\"Helvetica,sans-Serif\" font-size=\"14.00\" fill=\"#000000\">class = 0</text>\n</g>\n<!-- 0&#45;&gt;2 -->\n<g id=\"edge16\" class=\"edge\">\n<title>0&#45;&gt;2</title>\n<path fill=\"none\" stroke=\"#000000\" d=\"M507.7756,-579.8796C515.1184,-570.9633 522.9476,-561.4565 530.5146,-552.268\"/>\n<polygon fill=\"#000000\" stroke=\"#000000\" points=\"533.4227,-554.2424 537.0781,-544.2981 528.0192,-549.7924 533.4227,-554.2424\"/>\n<text text-anchor=\"middle\" x=\"539.4862\" y=\"-565.4818\" font-family=\"Helvetica,sans-Serif\" font-size=\"14.00\" fill=\"#000000\">False</text>\n</g>\n<!-- 3 -->\n<g id=\"node3\" class=\"node\">\n<title>3</title>\n<path fill=\"#e78b48\" stroke=\"#000000\" d=\"M266.5,-425C266.5,-425 114.5,-425 114.5,-425 108.5,-425 102.5,-419 102.5,-413 102.5,-413 102.5,-354 102.5,-354 102.5,-348 108.5,-342 114.5,-342 114.5,-342 266.5,-342 266.5,-342 272.5,-342 278.5,-348 278.5,-354 278.5,-354 278.5,-413 278.5,-413 278.5,-419 272.5,-425 266.5,-425\"/>\n<text text-anchor=\"middle\" x=\"190.5\" y=\"-409.8\" font-family=\"Helvetica,sans-Serif\" font-size=\"14.00\" fill=\"#000000\">petal length (cm) &lt;= 2.55</text>\n<text text-anchor=\"middle\" x=\"190.5\" y=\"-394.8\" font-family=\"Helvetica,sans-Serif\" font-size=\"14.00\" fill=\"#000000\">gini = 0.133</text>\n<text text-anchor=\"middle\" x=\"190.5\" y=\"-379.8\" font-family=\"Helvetica,sans-Serif\" font-size=\"14.00\" fill=\"#000000\">samples = 14</text>\n<text text-anchor=\"middle\" x=\"190.5\" y=\"-364.8\" font-family=\"Helvetica,sans-Serif\" font-size=\"14.00\" fill=\"#000000\">value = [13, 1, 0]</text>\n<text text-anchor=\"middle\" x=\"190.5\" y=\"-349.8\" font-family=\"Helvetica,sans-Serif\" font-size=\"14.00\" fill=\"#000000\">class = 0</text>\n</g>\n<!-- 1&#45;&gt;3 -->\n<g id=\"edge2\" class=\"edge\">\n<title>1&#45;&gt;3</title>\n<path fill=\"none\" stroke=\"#000000\" d=\"M310.796,-460.8796C295.5865,-451.0962 279.2718,-440.6019 263.7182,-430.5971\"/>\n<polygon fill=\"#000000\" stroke=\"#000000\" points=\"265.4713,-427.5632 255.1675,-425.0969 261.6843,-433.4505 265.4713,-427.5632\"/>\n</g>\n<!-- 4 -->\n<g id=\"node6\" class=\"node\">\n<title>4</title>\n<path fill=\"#eefdf4\" stroke=\"#000000\" d=\"M458.5,-425C458.5,-425 308.5,-425 308.5,-425 302.5,-425 296.5,-419 296.5,-413 296.5,-413 296.5,-354 296.5,-354 296.5,-348 302.5,-342 308.5,-342 308.5,-342 458.5,-342 458.5,-342 464.5,-342 470.5,-348 470.5,-354 470.5,-354 470.5,-413 470.5,-413 470.5,-419 464.5,-425 458.5,-425\"/>\n<text text-anchor=\"middle\" x=\"383.5\" y=\"-409.8\" font-family=\"Helvetica,sans-Serif\" font-size=\"14.00\" fill=\"#000000\">sepal width (cm) &lt;= 2.95</text>\n<text text-anchor=\"middle\" x=\"383.5\" y=\"-394.8\" font-family=\"Helvetica,sans-Serif\" font-size=\"14.00\" fill=\"#000000\">gini = 0.499</text>\n<text text-anchor=\"middle\" x=\"383.5\" y=\"-379.8\" font-family=\"Helvetica,sans-Serif\" font-size=\"14.00\" fill=\"#000000\">samples = 65</text>\n<text text-anchor=\"middle\" x=\"383.5\" y=\"-364.8\" font-family=\"Helvetica,sans-Serif\" font-size=\"14.00\" fill=\"#000000\">value = [0, 34, 31]</text>\n<text text-anchor=\"middle\" x=\"383.5\" y=\"-349.8\" font-family=\"Helvetica,sans-Serif\" font-size=\"14.00\" fill=\"#000000\">class = 1</text>\n</g>\n<!-- 1&#45;&gt;4 -->\n<g id=\"edge5\" class=\"edge\">\n<title>1&#45;&gt;4</title>\n<path fill=\"none\" stroke=\"#000000\" d=\"M378.298,-460.8796C378.849,-452.6838 379.4335,-443.9891 380.0041,-435.5013\"/>\n<polygon fill=\"#000000\" stroke=\"#000000\" points=\"383.5113,-435.5103 380.69,-425.2981 376.5271,-435.0408 383.5113,-435.5103\"/>\n</g>\n<!-- 13 -->\n<g id=\"node4\" class=\"node\">\n<title>13</title>\n<path fill=\"#e58139\" stroke=\"#000000\" d=\"M111,-298.5C111,-298.5 12,-298.5 12,-298.5 6,-298.5 0,-292.5 0,-286.5 0,-286.5 0,-242.5 0,-242.5 0,-236.5 6,-230.5 12,-230.5 12,-230.5 111,-230.5 111,-230.5 117,-230.5 123,-236.5 123,-242.5 123,-242.5 123,-286.5 123,-286.5 123,-292.5 117,-298.5 111,-298.5\"/>\n<text text-anchor=\"middle\" x=\"61.5\" y=\"-283.3\" font-family=\"Helvetica,sans-Serif\" font-size=\"14.00\" fill=\"#000000\">gini = 0.0</text>\n<text text-anchor=\"middle\" x=\"61.5\" y=\"-268.3\" font-family=\"Helvetica,sans-Serif\" font-size=\"14.00\" fill=\"#000000\">samples = 13</text>\n<text text-anchor=\"middle\" x=\"61.5\" y=\"-253.3\" font-family=\"Helvetica,sans-Serif\" font-size=\"14.00\" fill=\"#000000\">value = [13, 0, 0]</text>\n<text text-anchor=\"middle\" x=\"61.5\" y=\"-238.3\" font-family=\"Helvetica,sans-Serif\" font-size=\"14.00\" fill=\"#000000\">class = 0</text>\n</g>\n<!-- 3&#45;&gt;13 -->\n<g id=\"edge3\" class=\"edge\">\n<title>3&#45;&gt;13</title>\n<path fill=\"none\" stroke=\"#000000\" d=\"M145.3821,-341.8796C132.7467,-330.2237 119.0174,-317.5587 106.395,-305.9148\"/>\n<polygon fill=\"#000000\" stroke=\"#000000\" points=\"108.422,-303.0228 98.6985,-298.8149 103.6756,-308.168 108.422,-303.0228\"/>\n</g>\n<!-- 14 -->\n<g id=\"node5\" class=\"node\">\n<title>14</title>\n<path fill=\"#39e581\" stroke=\"#000000\" d=\"M244,-298.5C244,-298.5 153,-298.5 153,-298.5 147,-298.5 141,-292.5 141,-286.5 141,-286.5 141,-242.5 141,-242.5 141,-236.5 147,-230.5 153,-230.5 153,-230.5 244,-230.5 244,-230.5 250,-230.5 256,-236.5 256,-242.5 256,-242.5 256,-286.5 256,-286.5 256,-292.5 250,-298.5 244,-298.5\"/>\n<text text-anchor=\"middle\" x=\"198.5\" y=\"-283.3\" font-family=\"Helvetica,sans-Serif\" font-size=\"14.00\" fill=\"#000000\">gini = 0.0</text>\n<text text-anchor=\"middle\" x=\"198.5\" y=\"-268.3\" font-family=\"Helvetica,sans-Serif\" font-size=\"14.00\" fill=\"#000000\">samples = 1</text>\n<text text-anchor=\"middle\" x=\"198.5\" y=\"-253.3\" font-family=\"Helvetica,sans-Serif\" font-size=\"14.00\" fill=\"#000000\">value = [0, 1, 0]</text>\n<text text-anchor=\"middle\" x=\"198.5\" y=\"-238.3\" font-family=\"Helvetica,sans-Serif\" font-size=\"14.00\" fill=\"#000000\">class = 1</text>\n</g>\n<!-- 3&#45;&gt;14 -->\n<g id=\"edge4\" class=\"edge\">\n<title>3&#45;&gt;14</title>\n<path fill=\"none\" stroke=\"#000000\" d=\"M193.298,-341.8796C194.0151,-331.2134 194.7889,-319.7021 195.515,-308.9015\"/>\n<polygon fill=\"#000000\" stroke=\"#000000\" points=\"199.0144,-309.0272 196.1931,-298.8149 192.0301,-308.5576 199.0144,-309.0272\"/>\n</g>\n<!-- 7 -->\n<g id=\"node7\" class=\"node\">\n<title>7</title>\n<path fill=\"#a8f4c8\" stroke=\"#000000\" d=\"M451.5,-306C451.5,-306 301.5,-306 301.5,-306 295.5,-306 289.5,-300 289.5,-294 289.5,-294 289.5,-235 289.5,-235 289.5,-229 295.5,-223 301.5,-223 301.5,-223 451.5,-223 451.5,-223 457.5,-223 463.5,-229 463.5,-235 463.5,-235 463.5,-294 463.5,-294 463.5,-300 457.5,-306 451.5,-306\"/>\n<text text-anchor=\"middle\" x=\"376.5\" y=\"-290.8\" font-family=\"Helvetica,sans-Serif\" font-size=\"14.00\" fill=\"#000000\">sepal width (cm) &lt;= 2.45</text>\n<text text-anchor=\"middle\" x=\"376.5\" y=\"-275.8\" font-family=\"Helvetica,sans-Serif\" font-size=\"14.00\" fill=\"#000000\">gini = 0.46</text>\n<text text-anchor=\"middle\" x=\"376.5\" y=\"-260.8\" font-family=\"Helvetica,sans-Serif\" font-size=\"14.00\" fill=\"#000000\">samples = 39</text>\n<text text-anchor=\"middle\" x=\"376.5\" y=\"-245.8\" font-family=\"Helvetica,sans-Serif\" font-size=\"14.00\" fill=\"#000000\">value = [0, 25, 14]</text>\n<text text-anchor=\"middle\" x=\"376.5\" y=\"-230.8\" font-family=\"Helvetica,sans-Serif\" font-size=\"14.00\" fill=\"#000000\">class = 1</text>\n</g>\n<!-- 4&#45;&gt;7 -->\n<g id=\"edge6\" class=\"edge\">\n<title>4&#45;&gt;7</title>\n<path fill=\"none\" stroke=\"#000000\" d=\"M381.0517,-341.8796C380.5696,-333.6838 380.0582,-324.9891 379.5589,-316.5013\"/>\n<polygon fill=\"#000000\" stroke=\"#000000\" points=\"383.04,-316.0753 378.9587,-306.2981 376.0521,-316.4864 383.04,-316.0753\"/>\n</g>\n<!-- 8 -->\n<g id=\"node12\" class=\"node\">\n<title>8</title>\n<path fill=\"#c4a2f3\" stroke=\"#000000\" d=\"M639.5,-306C639.5,-306 493.5,-306 493.5,-306 487.5,-306 481.5,-300 481.5,-294 481.5,-294 481.5,-235 481.5,-235 481.5,-229 487.5,-223 493.5,-223 493.5,-223 639.5,-223 639.5,-223 645.5,-223 651.5,-229 651.5,-235 651.5,-235 651.5,-294 651.5,-294 651.5,-300 645.5,-306 639.5,-306\"/>\n<text text-anchor=\"middle\" x=\"566.5\" y=\"-290.8\" font-family=\"Helvetica,sans-Serif\" font-size=\"14.00\" fill=\"#000000\">petal width (cm) &lt;= 1.55</text>\n<text text-anchor=\"middle\" x=\"566.5\" y=\"-275.8\" font-family=\"Helvetica,sans-Serif\" font-size=\"14.00\" fill=\"#000000\">gini = 0.453</text>\n<text text-anchor=\"middle\" x=\"566.5\" y=\"-260.8\" font-family=\"Helvetica,sans-Serif\" font-size=\"14.00\" fill=\"#000000\">samples = 26</text>\n<text text-anchor=\"middle\" x=\"566.5\" y=\"-245.8\" font-family=\"Helvetica,sans-Serif\" font-size=\"14.00\" fill=\"#000000\">value = [0, 9, 17]</text>\n<text text-anchor=\"middle\" x=\"566.5\" y=\"-230.8\" font-family=\"Helvetica,sans-Serif\" font-size=\"14.00\" fill=\"#000000\">class = 2</text>\n</g>\n<!-- 4&#45;&gt;8 -->\n<g id=\"edge11\" class=\"edge\">\n<title>4&#45;&gt;8</title>\n<path fill=\"none\" stroke=\"#000000\" d=\"M447.5045,-341.8796C462.5495,-332.0962 478.6879,-321.6019 494.0733,-311.5971\"/>\n<polygon fill=\"#000000\" stroke=\"#000000\" points=\"496.0563,-314.4827 502.5316,-306.0969 492.2402,-308.6143 496.0563,-314.4827\"/>\n</g>\n<!-- 15 -->\n<g id=\"node8\" class=\"node\">\n<title>15</title>\n<path fill=\"#61ea9a\" stroke=\"#000000\" d=\"M262,-179.5C262,-179.5 171,-179.5 171,-179.5 165,-179.5 159,-173.5 159,-167.5 159,-167.5 159,-123.5 159,-123.5 159,-117.5 165,-111.5 171,-111.5 171,-111.5 262,-111.5 262,-111.5 268,-111.5 274,-117.5 274,-123.5 274,-123.5 274,-167.5 274,-167.5 274,-173.5 268,-179.5 262,-179.5\"/>\n<text text-anchor=\"middle\" x=\"216.5\" y=\"-164.3\" font-family=\"Helvetica,sans-Serif\" font-size=\"14.00\" fill=\"#000000\">gini = 0.278</text>\n<text text-anchor=\"middle\" x=\"216.5\" y=\"-149.3\" font-family=\"Helvetica,sans-Serif\" font-size=\"14.00\" fill=\"#000000\">samples = 6</text>\n<text text-anchor=\"middle\" x=\"216.5\" y=\"-134.3\" font-family=\"Helvetica,sans-Serif\" font-size=\"14.00\" fill=\"#000000\">value = [0, 5, 1]</text>\n<text text-anchor=\"middle\" x=\"216.5\" y=\"-119.3\" font-family=\"Helvetica,sans-Serif\" font-size=\"14.00\" fill=\"#000000\">class = 1</text>\n</g>\n<!-- 7&#45;&gt;15 -->\n<g id=\"edge7\" class=\"edge\">\n<title>7&#45;&gt;15</title>\n<path fill=\"none\" stroke=\"#000000\" d=\"M320.5398,-222.8796C304.3478,-210.8368 286.7073,-197.7167 270.6292,-185.7586\"/>\n<polygon fill=\"#000000\" stroke=\"#000000\" points=\"272.4925,-182.7825 262.3797,-179.623 268.315,-188.3993 272.4925,-182.7825\"/>\n</g>\n<!-- 16 -->\n<g id=\"node9\" class=\"node\">\n<title>16</title>\n<path fill=\"#baf6d3\" stroke=\"#000000\" d=\"M460.5,-187C460.5,-187 304.5,-187 304.5,-187 298.5,-187 292.5,-181 292.5,-175 292.5,-175 292.5,-116 292.5,-116 292.5,-110 298.5,-104 304.5,-104 304.5,-104 460.5,-104 460.5,-104 466.5,-104 472.5,-110 472.5,-116 472.5,-116 472.5,-175 472.5,-175 472.5,-181 466.5,-187 460.5,-187\"/>\n<text text-anchor=\"middle\" x=\"382.5\" y=\"-171.8\" font-family=\"Helvetica,sans-Serif\" font-size=\"14.00\" fill=\"#000000\">sepal length (cm) &lt;= 6.15</text>\n<text text-anchor=\"middle\" x=\"382.5\" y=\"-156.8\" font-family=\"Helvetica,sans-Serif\" font-size=\"14.00\" fill=\"#000000\">gini = 0.478</text>\n<text text-anchor=\"middle\" x=\"382.5\" y=\"-141.8\" font-family=\"Helvetica,sans-Serif\" font-size=\"14.00\" fill=\"#000000\">samples = 33</text>\n<text text-anchor=\"middle\" x=\"382.5\" y=\"-126.8\" font-family=\"Helvetica,sans-Serif\" font-size=\"14.00\" fill=\"#000000\">value = [0, 20, 13]</text>\n<text text-anchor=\"middle\" x=\"382.5\" y=\"-111.8\" font-family=\"Helvetica,sans-Serif\" font-size=\"14.00\" fill=\"#000000\">class = 1</text>\n</g>\n<!-- 7&#45;&gt;16 -->\n<g id=\"edge8\" class=\"edge\">\n<title>7&#45;&gt;16</title>\n<path fill=\"none\" stroke=\"#000000\" d=\"M378.5985,-222.8796C379.0117,-214.6838 379.4501,-205.9891 379.8781,-197.5013\"/>\n<polygon fill=\"#000000\" stroke=\"#000000\" points=\"383.3844,-197.4617 380.3925,-187.2981 376.3933,-197.1091 383.3844,-197.4617\"/>\n</g>\n<!-- 17 -->\n<g id=\"node10\" class=\"node\">\n<title>17</title>\n<path fill=\"#77eda8\" stroke=\"#000000\" d=\"M363,-68C363,-68 264,-68 264,-68 258,-68 252,-62 252,-56 252,-56 252,-12 252,-12 252,-6 258,0 264,0 264,0 363,0 363,0 369,0 375,-6 375,-12 375,-12 375,-56 375,-56 375,-62 369,-68 363,-68\"/>\n<text text-anchor=\"middle\" x=\"313.5\" y=\"-52.8\" font-family=\"Helvetica,sans-Serif\" font-size=\"14.00\" fill=\"#000000\">gini = 0.363</text>\n<text text-anchor=\"middle\" x=\"313.5\" y=\"-37.8\" font-family=\"Helvetica,sans-Serif\" font-size=\"14.00\" fill=\"#000000\">samples = 21</text>\n<text text-anchor=\"middle\" x=\"313.5\" y=\"-22.8\" font-family=\"Helvetica,sans-Serif\" font-size=\"14.00\" fill=\"#000000\">value = [0, 16, 5]</text>\n<text text-anchor=\"middle\" x=\"313.5\" y=\"-7.8\" font-family=\"Helvetica,sans-Serif\" font-size=\"14.00\" fill=\"#000000\">class = 1</text>\n</g>\n<!-- 16&#45;&gt;17 -->\n<g id=\"edge9\" class=\"edge\">\n<title>16&#45;&gt;17</title>\n<path fill=\"none\" stroke=\"#000000\" d=\"M356.8069,-103.9815C351.3469,-95.1585 345.5716,-85.8258 340.0793,-76.9506\"/>\n<polygon fill=\"#000000\" stroke=\"#000000\" points=\"342.942,-74.9254 334.7035,-68.2637 336.9896,-78.609 342.942,-74.9254\"/>\n</g>\n<!-- 18 -->\n<g id=\"node11\" class=\"node\">\n<title>18</title>\n<path fill=\"#c09cf2\" stroke=\"#000000\" d=\"M496,-68C496,-68 405,-68 405,-68 399,-68 393,-62 393,-56 393,-56 393,-12 393,-12 393,-6 399,0 405,0 405,0 496,0 496,0 502,0 508,-6 508,-12 508,-12 508,-56 508,-56 508,-62 502,-68 496,-68\"/>\n<text text-anchor=\"middle\" x=\"450.5\" y=\"-52.8\" font-family=\"Helvetica,sans-Serif\" font-size=\"14.00\" fill=\"#000000\">gini = 0.444</text>\n<text text-anchor=\"middle\" x=\"450.5\" y=\"-37.8\" font-family=\"Helvetica,sans-Serif\" font-size=\"14.00\" fill=\"#000000\">samples = 12</text>\n<text text-anchor=\"middle\" x=\"450.5\" y=\"-22.8\" font-family=\"Helvetica,sans-Serif\" font-size=\"14.00\" fill=\"#000000\">value = [0, 4, 8]</text>\n<text text-anchor=\"middle\" x=\"450.5\" y=\"-7.8\" font-family=\"Helvetica,sans-Serif\" font-size=\"14.00\" fill=\"#000000\">class = 2</text>\n</g>\n<!-- 16&#45;&gt;18 -->\n<g id=\"edge10\" class=\"edge\">\n<title>16&#45;&gt;18</title>\n<path fill=\"none\" stroke=\"#000000\" d=\"M407.8207,-103.9815C413.2016,-95.1585 418.8932,-85.8258 424.3059,-76.9506\"/>\n<polygon fill=\"#000000\" stroke=\"#000000\" points=\"427.3851,-78.6236 429.6038,-68.2637 421.4088,-74.9789 427.3851,-78.6236\"/>\n</g>\n<!-- 9 -->\n<g id=\"node13\" class=\"node\">\n<title>9</title>\n<path fill=\"#39e581\" stroke=\"#000000\" d=\"M606,-179.5C606,-179.5 515,-179.5 515,-179.5 509,-179.5 503,-173.5 503,-167.5 503,-167.5 503,-123.5 503,-123.5 503,-117.5 509,-111.5 515,-111.5 515,-111.5 606,-111.5 606,-111.5 612,-111.5 618,-117.5 618,-123.5 618,-123.5 618,-167.5 618,-167.5 618,-173.5 612,-179.5 606,-179.5\"/>\n<text text-anchor=\"middle\" x=\"560.5\" y=\"-164.3\" font-family=\"Helvetica,sans-Serif\" font-size=\"14.00\" fill=\"#000000\">gini = 0.0</text>\n<text text-anchor=\"middle\" x=\"560.5\" y=\"-149.3\" font-family=\"Helvetica,sans-Serif\" font-size=\"14.00\" fill=\"#000000\">samples = 8</text>\n<text text-anchor=\"middle\" x=\"560.5\" y=\"-134.3\" font-family=\"Helvetica,sans-Serif\" font-size=\"14.00\" fill=\"#000000\">value = [0, 8, 0]</text>\n<text text-anchor=\"middle\" x=\"560.5\" y=\"-119.3\" font-family=\"Helvetica,sans-Serif\" font-size=\"14.00\" fill=\"#000000\">class = 1</text>\n</g>\n<!-- 8&#45;&gt;9 -->\n<g id=\"edge12\" class=\"edge\">\n<title>8&#45;&gt;9</title>\n<path fill=\"none\" stroke=\"#000000\" d=\"M564.4015,-222.8796C563.8637,-212.2134 563.2833,-200.7021 562.7387,-189.9015\"/>\n<polygon fill=\"#000000\" stroke=\"#000000\" points=\"566.2294,-189.626 562.2302,-179.8149 559.2383,-189.9785 566.2294,-189.626\"/>\n</g>\n<!-- 10 -->\n<g id=\"node14\" class=\"node\">\n<title>10</title>\n<path fill=\"#8845e7\" stroke=\"#000000\" d=\"M800.5,-187C800.5,-187 648.5,-187 648.5,-187 642.5,-187 636.5,-181 636.5,-175 636.5,-175 636.5,-116 636.5,-116 636.5,-110 642.5,-104 648.5,-104 648.5,-104 800.5,-104 800.5,-104 806.5,-104 812.5,-110 812.5,-116 812.5,-116 812.5,-175 812.5,-175 812.5,-181 806.5,-187 800.5,-187\"/>\n<text text-anchor=\"middle\" x=\"724.5\" y=\"-171.8\" font-family=\"Helvetica,sans-Serif\" font-size=\"14.00\" fill=\"#000000\">petal length (cm) &lt;= 4.95</text>\n<text text-anchor=\"middle\" x=\"724.5\" y=\"-156.8\" font-family=\"Helvetica,sans-Serif\" font-size=\"14.00\" fill=\"#000000\">gini = 0.105</text>\n<text text-anchor=\"middle\" x=\"724.5\" y=\"-141.8\" font-family=\"Helvetica,sans-Serif\" font-size=\"14.00\" fill=\"#000000\">samples = 18</text>\n<text text-anchor=\"middle\" x=\"724.5\" y=\"-126.8\" font-family=\"Helvetica,sans-Serif\" font-size=\"14.00\" fill=\"#000000\">value = [0, 1, 17]</text>\n<text text-anchor=\"middle\" x=\"724.5\" y=\"-111.8\" font-family=\"Helvetica,sans-Serif\" font-size=\"14.00\" fill=\"#000000\">class = 2</text>\n</g>\n<!-- 8&#45;&gt;10 -->\n<g id=\"edge13\" class=\"edge\">\n<title>8&#45;&gt;10</title>\n<path fill=\"none\" stroke=\"#000000\" d=\"M621.7607,-222.8796C634.5099,-213.2774 648.1683,-202.9903 661.2291,-193.1534\"/>\n<polygon fill=\"#000000\" stroke=\"#000000\" points=\"663.3883,-195.9089 669.2705,-187.0969 659.1769,-190.3174 663.3883,-195.9089\"/>\n</g>\n<!-- 11 -->\n<g id=\"node15\" class=\"node\">\n<title>11</title>\n<path fill=\"#39e581\" stroke=\"#000000\" d=\"M701,-68C701,-68 610,-68 610,-68 604,-68 598,-62 598,-56 598,-56 598,-12 598,-12 598,-6 604,0 610,0 610,0 701,0 701,0 707,0 713,-6 713,-12 713,-12 713,-56 713,-56 713,-62 707,-68 701,-68\"/>\n<text text-anchor=\"middle\" x=\"655.5\" y=\"-52.8\" font-family=\"Helvetica,sans-Serif\" font-size=\"14.00\" fill=\"#000000\">gini = 0.0</text>\n<text text-anchor=\"middle\" x=\"655.5\" y=\"-37.8\" font-family=\"Helvetica,sans-Serif\" font-size=\"14.00\" fill=\"#000000\">samples = 1</text>\n<text text-anchor=\"middle\" x=\"655.5\" y=\"-22.8\" font-family=\"Helvetica,sans-Serif\" font-size=\"14.00\" fill=\"#000000\">value = [0, 1, 0]</text>\n<text text-anchor=\"middle\" x=\"655.5\" y=\"-7.8\" font-family=\"Helvetica,sans-Serif\" font-size=\"14.00\" fill=\"#000000\">class = 1</text>\n</g>\n<!-- 10&#45;&gt;11 -->\n<g id=\"edge14\" class=\"edge\">\n<title>10&#45;&gt;11</title>\n<path fill=\"none\" stroke=\"#000000\" d=\"M698.8069,-103.9815C693.3469,-95.1585 687.5716,-85.8258 682.0793,-76.9506\"/>\n<polygon fill=\"#000000\" stroke=\"#000000\" points=\"684.942,-74.9254 676.7035,-68.2637 678.9896,-78.609 684.942,-74.9254\"/>\n</g>\n<!-- 12 -->\n<g id=\"node16\" class=\"node\">\n<title>12</title>\n<path fill=\"#8139e5\" stroke=\"#000000\" d=\"M842,-68C842,-68 743,-68 743,-68 737,-68 731,-62 731,-56 731,-56 731,-12 731,-12 731,-6 737,0 743,0 743,0 842,0 842,0 848,0 854,-6 854,-12 854,-12 854,-56 854,-56 854,-62 848,-68 842,-68\"/>\n<text text-anchor=\"middle\" x=\"792.5\" y=\"-52.8\" font-family=\"Helvetica,sans-Serif\" font-size=\"14.00\" fill=\"#000000\">gini = 0.0</text>\n<text text-anchor=\"middle\" x=\"792.5\" y=\"-37.8\" font-family=\"Helvetica,sans-Serif\" font-size=\"14.00\" fill=\"#000000\">samples = 17</text>\n<text text-anchor=\"middle\" x=\"792.5\" y=\"-22.8\" font-family=\"Helvetica,sans-Serif\" font-size=\"14.00\" fill=\"#000000\">value = [0, 0, 17]</text>\n<text text-anchor=\"middle\" x=\"792.5\" y=\"-7.8\" font-family=\"Helvetica,sans-Serif\" font-size=\"14.00\" fill=\"#000000\">class = 2</text>\n</g>\n<!-- 10&#45;&gt;12 -->\n<g id=\"edge15\" class=\"edge\">\n<title>10&#45;&gt;12</title>\n<path fill=\"none\" stroke=\"#000000\" d=\"M749.8207,-103.9815C755.2016,-95.1585 760.8932,-85.8258 766.3059,-76.9506\"/>\n<polygon fill=\"#000000\" stroke=\"#000000\" points=\"769.3851,-78.6236 771.6038,-68.2637 763.4088,-74.9789 769.3851,-78.6236\"/>\n</g>\n<!-- 5 -->\n<g id=\"node18\" class=\"node\">\n<title>5</title>\n<path fill=\"#e58139\" stroke=\"#000000\" d=\"M614,-417.5C614,-417.5 515,-417.5 515,-417.5 509,-417.5 503,-411.5 503,-405.5 503,-405.5 503,-361.5 503,-361.5 503,-355.5 509,-349.5 515,-349.5 515,-349.5 614,-349.5 614,-349.5 620,-349.5 626,-355.5 626,-361.5 626,-361.5 626,-405.5 626,-405.5 626,-411.5 620,-417.5 614,-417.5\"/>\n<text text-anchor=\"middle\" x=\"564.5\" y=\"-402.3\" font-family=\"Helvetica,sans-Serif\" font-size=\"14.00\" fill=\"#000000\">gini = 0.0</text>\n<text text-anchor=\"middle\" x=\"564.5\" y=\"-387.3\" font-family=\"Helvetica,sans-Serif\" font-size=\"14.00\" fill=\"#000000\">samples = 22</text>\n<text text-anchor=\"middle\" x=\"564.5\" y=\"-372.3\" font-family=\"Helvetica,sans-Serif\" font-size=\"14.00\" fill=\"#000000\">value = [22, 0, 0]</text>\n<text text-anchor=\"middle\" x=\"564.5\" y=\"-357.3\" font-family=\"Helvetica,sans-Serif\" font-size=\"14.00\" fill=\"#000000\">class = 0</text>\n</g>\n<!-- 2&#45;&gt;5 -->\n<g id=\"edge17\" class=\"edge\">\n<title>2&#45;&gt;5</title>\n<path fill=\"none\" stroke=\"#000000\" d=\"M569.0517,-460.8796C568.4243,-450.2134 567.7472,-438.7021 567.1119,-427.9015\"/>\n<polygon fill=\"#000000\" stroke=\"#000000\" points=\"570.5998,-427.5921 566.5185,-417.8149 563.6119,-428.0032 570.5998,-427.5921\"/>\n</g>\n<!-- 6 -->\n<g id=\"node19\" class=\"node\">\n<title>6</title>\n<path fill=\"#8139e5\" stroke=\"#000000\" d=\"M747,-417.5C747,-417.5 656,-417.5 656,-417.5 650,-417.5 644,-411.5 644,-405.5 644,-405.5 644,-361.5 644,-361.5 644,-355.5 650,-349.5 656,-349.5 656,-349.5 747,-349.5 747,-349.5 753,-349.5 759,-355.5 759,-361.5 759,-361.5 759,-405.5 759,-405.5 759,-411.5 753,-417.5 747,-417.5\"/>\n<text text-anchor=\"middle\" x=\"701.5\" y=\"-402.3\" font-family=\"Helvetica,sans-Serif\" font-size=\"14.00\" fill=\"#000000\">gini = 0.0</text>\n<text text-anchor=\"middle\" x=\"701.5\" y=\"-387.3\" font-family=\"Helvetica,sans-Serif\" font-size=\"14.00\" fill=\"#000000\">samples = 4</text>\n<text text-anchor=\"middle\" x=\"701.5\" y=\"-372.3\" font-family=\"Helvetica,sans-Serif\" font-size=\"14.00\" fill=\"#000000\">value = [0, 0, 4]</text>\n<text text-anchor=\"middle\" x=\"701.5\" y=\"-357.3\" font-family=\"Helvetica,sans-Serif\" font-size=\"14.00\" fill=\"#000000\">class = 2</text>\n</g>\n<!-- 2&#45;&gt;6 -->\n<g id=\"edge18\" class=\"edge\">\n<title>2&#45;&gt;6</title>\n<path fill=\"none\" stroke=\"#000000\" d=\"M616.9677,-460.8796C629.8211,-449.1138 643.7979,-436.3197 656.6166,-424.5855\"/>\n<polygon fill=\"#000000\" stroke=\"#000000\" points=\"659.0001,-427.1488 664.0131,-417.8149 654.2736,-421.9854 659.0001,-427.1488\"/>\n</g>\n</g>\n</svg>\n"
          },
          "metadata": {
            "tags": []
          },
          "execution_count": 234
        }
      ]
    },
    {
      "cell_type": "code",
      "metadata": {
        "id": "iBnfM1du4xvl",
        "colab_type": "code",
        "colab": {
          "base_uri": "https://localhost:8080/",
          "height": 388
        },
        "outputId": "b03a902a-1ebd-4333-b8ee-b4bb055ce6c2"
      },
      "source": [
        "from sklearn.tree import export_graphviz\n",
        "from sklearn.externals.six import StringIO  \n",
        "from IPython.display import Image  \n",
        "import pydotplus\n",
        "\n",
        "feature_names = x.columns\n",
        "dot_data = StringIO()\n",
        "\n",
        "export_graphviz(dtc_gscv, out_file=dot_data,  \n",
        "                filled=True, rounded=True,\n",
        "                special_characters=True,feature_names = feature_names,class_names=['0','1','2'])\n",
        "\n",
        "graph = pydotplus.graph_from_dot_data(dot_data.getvalue())  \n",
        "graph.write_png('diabetes.png')\n",
        "Image(graph.create_png())\n"
      ],
      "execution_count": 200,
      "outputs": [
        {
          "output_type": "error",
          "ename": "AttributeError",
          "evalue": "ignored",
          "traceback": [
            "\u001b[0;31m---------------------------------------------------------------------------\u001b[0m",
            "\u001b[0;31mAttributeError\u001b[0m                            Traceback (most recent call last)",
            "\u001b[0;32m<ipython-input-200-047235de4b68>\u001b[0m in \u001b[0;36m<module>\u001b[0;34m()\u001b[0m\n\u001b[1;32m      9\u001b[0m export_graphviz(dtc_gscv, out_file=dot_data,  \n\u001b[1;32m     10\u001b[0m                 \u001b[0mfilled\u001b[0m\u001b[0;34m=\u001b[0m\u001b[0;32mTrue\u001b[0m\u001b[0;34m,\u001b[0m \u001b[0mrounded\u001b[0m\u001b[0;34m=\u001b[0m\u001b[0;32mTrue\u001b[0m\u001b[0;34m,\u001b[0m\u001b[0;34m\u001b[0m\u001b[0;34m\u001b[0m\u001b[0m\n\u001b[0;32m---> 11\u001b[0;31m                 special_characters=True,feature_names = feature_names,class_names=['0','1','2'])\n\u001b[0m\u001b[1;32m     12\u001b[0m \u001b[0;34m\u001b[0m\u001b[0m\n\u001b[1;32m     13\u001b[0m \u001b[0mgraph\u001b[0m \u001b[0;34m=\u001b[0m \u001b[0mpydotplus\u001b[0m\u001b[0;34m.\u001b[0m\u001b[0mgraph_from_dot_data\u001b[0m\u001b[0;34m(\u001b[0m\u001b[0mdot_data\u001b[0m\u001b[0;34m.\u001b[0m\u001b[0mgetvalue\u001b[0m\u001b[0;34m(\u001b[0m\u001b[0;34m)\u001b[0m\u001b[0;34m)\u001b[0m\u001b[0;34m\u001b[0m\u001b[0;34m\u001b[0m\u001b[0m\n",
            "\u001b[0;32m/usr/local/lib/python3.6/dist-packages/sklearn/tree/_export.py\u001b[0m in \u001b[0;36mexport_graphviz\u001b[0;34m(decision_tree, out_file, max_depth, feature_names, class_names, label, filled, leaves_parallel, impurity, node_ids, proportion, rotate, rounded, special_characters, precision)\u001b[0m\n\u001b[1;32m    762\u001b[0m             \u001b[0mrounded\u001b[0m\u001b[0;34m=\u001b[0m\u001b[0mrounded\u001b[0m\u001b[0;34m,\u001b[0m \u001b[0mspecial_characters\u001b[0m\u001b[0;34m=\u001b[0m\u001b[0mspecial_characters\u001b[0m\u001b[0;34m,\u001b[0m\u001b[0;34m\u001b[0m\u001b[0;34m\u001b[0m\u001b[0m\n\u001b[1;32m    763\u001b[0m             precision=precision)\n\u001b[0;32m--> 764\u001b[0;31m         \u001b[0mexporter\u001b[0m\u001b[0;34m.\u001b[0m\u001b[0mexport\u001b[0m\u001b[0;34m(\u001b[0m\u001b[0mdecision_tree\u001b[0m\u001b[0;34m)\u001b[0m\u001b[0;34m\u001b[0m\u001b[0;34m\u001b[0m\u001b[0m\n\u001b[0m\u001b[1;32m    765\u001b[0m \u001b[0;34m\u001b[0m\u001b[0m\n\u001b[1;32m    766\u001b[0m         \u001b[0;32mif\u001b[0m \u001b[0mreturn_string\u001b[0m\u001b[0;34m:\u001b[0m\u001b[0;34m\u001b[0m\u001b[0;34m\u001b[0m\u001b[0m\n",
            "\u001b[0;32m/usr/local/lib/python3.6/dist-packages/sklearn/tree/_export.py\u001b[0m in \u001b[0;36mexport\u001b[0;34m(self, decision_tree)\u001b[0m\n\u001b[1;32m    393\u001b[0m         \u001b[0;31m# n_features_ in the decision_tree\u001b[0m\u001b[0;34m\u001b[0m\u001b[0;34m\u001b[0m\u001b[0;34m\u001b[0m\u001b[0m\n\u001b[1;32m    394\u001b[0m         \u001b[0;32mif\u001b[0m \u001b[0mself\u001b[0m\u001b[0;34m.\u001b[0m\u001b[0mfeature_names\u001b[0m \u001b[0;32mis\u001b[0m \u001b[0;32mnot\u001b[0m \u001b[0;32mNone\u001b[0m\u001b[0;34m:\u001b[0m\u001b[0;34m\u001b[0m\u001b[0;34m\u001b[0m\u001b[0m\n\u001b[0;32m--> 395\u001b[0;31m             \u001b[0;32mif\u001b[0m \u001b[0mlen\u001b[0m\u001b[0;34m(\u001b[0m\u001b[0mself\u001b[0m\u001b[0;34m.\u001b[0m\u001b[0mfeature_names\u001b[0m\u001b[0;34m)\u001b[0m \u001b[0;34m!=\u001b[0m \u001b[0mdecision_tree\u001b[0m\u001b[0;34m.\u001b[0m\u001b[0mn_features_\u001b[0m\u001b[0;34m:\u001b[0m\u001b[0;34m\u001b[0m\u001b[0;34m\u001b[0m\u001b[0m\n\u001b[0m\u001b[1;32m    396\u001b[0m                 raise ValueError(\"Length of feature_names, %d \"\n\u001b[1;32m    397\u001b[0m                                  \u001b[0;34m\"does not match number of features, %d\"\u001b[0m\u001b[0;34m\u001b[0m\u001b[0;34m\u001b[0m\u001b[0m\n",
            "\u001b[0;31mAttributeError\u001b[0m: 'GridSearchCV' object has no attribute 'n_features_'"
          ]
        }
      ]
    },
    {
      "cell_type": "code",
      "metadata": {
        "id": "OXbpZcRe8RGC",
        "colab_type": "code",
        "colab": {
          "base_uri": "https://localhost:8080/",
          "height": 133
        },
        "outputId": "ab35fa59-d6e7-4af8-c4cf-fab3941a7d0b"
      },
      "source": [
        "dot_data = tree.export_graphviz(dtc_gscv, out_file='tree.dot')  \n",
        "graph = pydotplus.graph_from_dot_data(dot_data)  `\n",
        "Image(graph.create_png())"
      ],
      "execution_count": 198,
      "outputs": [
        {
          "output_type": "error",
          "ename": "SyntaxError",
          "evalue": "ignored",
          "traceback": [
            "\u001b[0;36m  File \u001b[0;32m\"<ipython-input-198-3bc569638c45>\"\u001b[0;36m, line \u001b[0;32m2\u001b[0m\n\u001b[0;31m    graph = pydotplus.graph_from_dot_data(dot_data)  `\u001b[0m\n\u001b[0m                                                     ^\u001b[0m\n\u001b[0;31mSyntaxError\u001b[0m\u001b[0;31m:\u001b[0m invalid syntax\n"
          ]
        }
      ]
    },
    {
      "cell_type": "markdown",
      "metadata": {
        "id": "5WUgHcCHnblu",
        "colab_type": "text"
      },
      "source": [
        "## Decison Tree\n",
        "----------------------------------------\n",
        "\n",
        "1. Course : [Free Course on Analytics Vidya](https://courses.analyticsvidhya.com/courses/take/getting-started-with-decision-trees/lessons/8157457-how-to-select-the-best-split-point-in-decision-trees),[another-2](https://courses.analyticsvidhya.com/courses/take/a-comprehensive-learning-path-to-become-a-data-scientist-in-2020/texts/9775059-decision-tree-algorithm),[course-3](https://www.python-course.eu/Decision_Trees.php)\n",
        "\n",
        "\n",
        "Regression\n",
        "\n",
        "https://intellipaat.com/blog/decision-tree-algorithm-in-machine-learning/\n",
        "\n",
        "https://heartbeat.fritz.ai/implementing-regression-using-a-decision-tree-and-scikit-learn-ac98552b43d7\n",
        "\n",
        "https://lethalbrains.com/learn-ml-algorithms-by-coding-decision-trees-439ac503c9a4\n",
        "\n",
        "\n",
        "https://www.analyticsvidhya.com/blog/2016/04/tree-based-algorithms-complete-tutorial-scratch-in-python/\n",
        "\n",
        "https://medium.com/deep-math-machine-learning-ai/chapter-4-decision-trees-algorithms-b93975f7a1f1\n",
        "\n",
        "\n",
        "Both\n",
        "https://stackabuse.com/decision-trees-in-python-with-scikit-learn/\n",
        "\n",
        "\n",
        "https://medium.com/@penggongting/implementing-decision-tree-from-scratch-in-python-c732e7c69aea\n",
        "\n",
        "Youtube\n",
        "https://www.youtube.com/watch?v=eKD5gxPPeY0\n",
        "\n",
        "https://www.analyticsvidhya.com/blog/2016/04/tree-based-algorithms-complete-tutorial-scratch-in-python/\n",
        "\n",
        "\n",
        "with Grid Search\n",
        "https://medium.com/analytics-vidhya/decisiontree-classifier-working-on-moons-dataset-using-gridsearchcv-to-find-best-hyperparameters-ede24a06b489\n",
        "\n",
        "https://stackoverflow.com/q/35097003/12210002\n",
        "\n",
        "https://medium.com/@haydar_ai/learning-data-science-day-22-cross-validation-and-parameter-tuning-b14bcbc6b012\n",
        "\n",
        "https://towardsdatascience.com/how-to-tune-a-decision-tree-f03721801680\n",
        "\n",
        "https://medium.com/deep-math-machine-learning-ai/chapter-4-decision-trees-algorithms-b93975f7a1f1\n",
        "\n",
        "Pruning\n",
        "===============\n",
        "https://www.softwaretestinghelp.com/decision-tree-algorithm-examples-data-mining/"
      ]
    },
    {
      "cell_type": "code",
      "metadata": {
        "id": "Oo4ziCEdvbej",
        "colab_type": "code",
        "colab": {}
      },
      "source": [
        ""
      ],
      "execution_count": 0,
      "outputs": []
    }
  ]
}