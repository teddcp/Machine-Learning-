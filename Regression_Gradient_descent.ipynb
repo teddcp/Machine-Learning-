{
  "nbformat": 4,
  "nbformat_minor": 0,
  "metadata": {
    "colab": {
      "name": "Regression_Gradient_descent.ipynb",
      "provenance": [],
      "collapsed_sections": [],
      "toc_visible": true,
      "authorship_tag": "ABX9TyPGz+YliaYTecTfoyVxWIer",
      "include_colab_link": true
    },
    "kernelspec": {
      "name": "python3",
      "display_name": "Python 3"
    }
  },
  "cells": [
    {
      "cell_type": "markdown",
      "metadata": {
        "id": "view-in-github",
        "colab_type": "text"
      },
      "source": [
        "<a href=\"https://colab.research.google.com/github/teddcp/Machine-Learning-/blob/master/Regression_Gradient_descent.ipynb\" target=\"_parent\"><img src=\"https://colab.research.google.com/assets/colab-badge.svg\" alt=\"Open In Colab\"/></a>"
      ]
    },
    {
      "cell_type": "markdown",
      "metadata": {
        "id": "tIDfkv07r4cz",
        "colab_type": "text"
      },
      "source": [
        "# Question\n",
        "=============================\n",
        "\n",
        "Write a python script  BEST FIT LINE - Calling SKlearn **linear regression**\n",
        " \n",
        "1. Download the MPG data file from UCI Machine Learning [repository](https://archive.ics.uci.edu/ml/machine-learningdatabases/auto-mpg/)   \n",
        "\n",
        "2. Identify target variable and independent variable. \n",
        "\n",
        "3. Prepare the data file \n",
        "\n",
        "\n",
        "           \n",
        "    Univariate Regression \n",
        "\n",
        "1. Import relevant python libraries and sklearn linear_model  \n",
        "\n",
        "2. Split the file into train [80%] and test [20%] data \n",
        "\n",
        "3. Apply linear regression \n",
        "\n",
        "4. Train the model using the training sets  \n",
        "\n",
        "5. Display the coefficients coef, intercept and residues \n",
        "\n",
        "6. Predict using test data  \n",
        "\n",
        "7. Perform Accuracy check using the R Square \n",
        "\n",
        "8. Display using scatter plot the data points and the best fit line  \n",
        "\n",
        "\n",
        "\n",
        "    Multi-variate Regression \n",
        "    \n",
        "1. Repeat the above steps  \n",
        "\n",
        "\n",
        "    BEST FIT LINE - Cost function using un-constrained method - Gradient descent \n",
        "\n",
        "1. Use the downloaded data \n",
        "2. Convert this data to array \n",
        "3. Define the learning rate and no. of iterations as 0.0001 and 1000 respectively along with y-intercept and slope \n",
        "4. Create the functions to get the BEST FIT line \n",
        "\n",
        "1. Compute error for the line given the points \n",
        "2. Step gradient function \n",
        "3. Gradient descent \n",
        "\n",
        "5. Display using scatter plot the data points and the best fit line \n",
        "6. Display the Gradient and y-intercept value in the form y = mx+c   \n",
        "7. Find the BEST FIT line i.e., m and c of y=mx+c with least error using trial and error method i.e., modify learning rate or iterations or both "
      ]
    },
    {
      "cell_type": "markdown",
      "metadata": {
        "id": "HavSqpZTpbWA",
        "colab_type": "text"
      },
      "source": [
        "# **Answer-1** - Linear Regression\n",
        "\n",
        "\n",
        "\n",
        "1. the *traget varibale is **mpg** and independent variable are the rests*."
      ]
    },
    {
      "cell_type": "markdown",
      "metadata": {
        "id": "bzNnrqL1ub-S",
        "colab_type": "text"
      },
      "source": [
        "\n",
        "## 1. Loading the libraries and CSV\n",
        "-----------------------------------------------"
      ]
    },
    {
      "cell_type": "code",
      "metadata": {
        "id": "SgwZLVl2mCKe",
        "colab_type": "code",
        "colab": {}
      },
      "source": [
        "import numpy as np\n",
        "import pandas as pd\n",
        "import matplotlib.pyplot as plt\n",
        "import seaborn as sns\n",
        "\n",
        "sns.set(style='whitegrid')"
      ],
      "execution_count": 0,
      "outputs": []
    },
    {
      "cell_type": "code",
      "metadata": {
        "id": "Tetdvn23mCN9",
        "colab_type": "code",
        "outputId": "298ab495-5fa7-4bb1-b4a2-47247c2781dd",
        "colab": {
          "resources": {
            "http://localhost:8080/nbextensions/google.colab/files.js": {
              "data": "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",
              "ok": true,
              "headers": [
                [
                  "content-type",
                  "application/javascript"
                ]
              ],
              "status": 200,
              "status_text": ""
            }
          },
          "base_uri": "https://localhost:8080/",
          "height": 40
        }
      },
      "source": [
        "from google.colab import files\n",
        "csv=files.upload()"
      ],
      "execution_count": 2,
      "outputs": [
        {
          "output_type": "display_data",
          "data": {
            "text/html": [
              "\n",
              "     <input type=\"file\" id=\"files-9ba10a17-102e-4382-9d04-adf7f7dc2377\" name=\"files[]\" multiple disabled />\n",
              "     <output id=\"result-9ba10a17-102e-4382-9d04-adf7f7dc2377\">\n",
              "      Upload widget is only available when the cell has been executed in the\n",
              "      current browser session. Please rerun this cell to enable.\n",
              "      </output>\n",
              "      <script src=\"/nbextensions/google.colab/files.js\"></script> "
            ],
            "text/plain": [
              "<IPython.core.display.HTML object>"
            ]
          },
          "metadata": {
            "tags": []
          }
        }
      ]
    },
    {
      "cell_type": "code",
      "metadata": {
        "id": "UgLMqpuEmGw9",
        "colab_type": "code",
        "outputId": "fd0850e1-c8e5-49d4-b129-faadfa69b278",
        "colab": {
          "base_uri": "https://localhost:8080/",
          "height": 194
        }
      },
      "source": [
        "#loading the data\n",
        "column_names = ['mpg', 'cylinders', 'displacement', 'horsepower', 'weight', 'acceleration', 'year', 'origin', 'name']\n",
        "data= pd.read_csv('/content/auto-mpg.data', delim_whitespace=True, names=column_names)\n",
        "data.head()"
      ],
      "execution_count": 3,
      "outputs": [
        {
          "output_type": "execute_result",
          "data": {
            "text/html": [
              "<div>\n",
              "<style scoped>\n",
              "    .dataframe tbody tr th:only-of-type {\n",
              "        vertical-align: middle;\n",
              "    }\n",
              "\n",
              "    .dataframe tbody tr th {\n",
              "        vertical-align: top;\n",
              "    }\n",
              "\n",
              "    .dataframe thead th {\n",
              "        text-align: right;\n",
              "    }\n",
              "</style>\n",
              "<table border=\"1\" class=\"dataframe\">\n",
              "  <thead>\n",
              "    <tr style=\"text-align: right;\">\n",
              "      <th></th>\n",
              "      <th>mpg</th>\n",
              "      <th>cylinders</th>\n",
              "      <th>displacement</th>\n",
              "      <th>horsepower</th>\n",
              "      <th>weight</th>\n",
              "      <th>acceleration</th>\n",
              "      <th>year</th>\n",
              "      <th>origin</th>\n",
              "      <th>name</th>\n",
              "    </tr>\n",
              "  </thead>\n",
              "  <tbody>\n",
              "    <tr>\n",
              "      <th>0</th>\n",
              "      <td>18.0</td>\n",
              "      <td>8</td>\n",
              "      <td>307.0</td>\n",
              "      <td>130.0</td>\n",
              "      <td>3504.0</td>\n",
              "      <td>12.0</td>\n",
              "      <td>70</td>\n",
              "      <td>1</td>\n",
              "      <td>chevrolet chevelle malibu</td>\n",
              "    </tr>\n",
              "    <tr>\n",
              "      <th>1</th>\n",
              "      <td>15.0</td>\n",
              "      <td>8</td>\n",
              "      <td>350.0</td>\n",
              "      <td>165.0</td>\n",
              "      <td>3693.0</td>\n",
              "      <td>11.5</td>\n",
              "      <td>70</td>\n",
              "      <td>1</td>\n",
              "      <td>buick skylark 320</td>\n",
              "    </tr>\n",
              "    <tr>\n",
              "      <th>2</th>\n",
              "      <td>18.0</td>\n",
              "      <td>8</td>\n",
              "      <td>318.0</td>\n",
              "      <td>150.0</td>\n",
              "      <td>3436.0</td>\n",
              "      <td>11.0</td>\n",
              "      <td>70</td>\n",
              "      <td>1</td>\n",
              "      <td>plymouth satellite</td>\n",
              "    </tr>\n",
              "    <tr>\n",
              "      <th>3</th>\n",
              "      <td>16.0</td>\n",
              "      <td>8</td>\n",
              "      <td>304.0</td>\n",
              "      <td>150.0</td>\n",
              "      <td>3433.0</td>\n",
              "      <td>12.0</td>\n",
              "      <td>70</td>\n",
              "      <td>1</td>\n",
              "      <td>amc rebel sst</td>\n",
              "    </tr>\n",
              "    <tr>\n",
              "      <th>4</th>\n",
              "      <td>17.0</td>\n",
              "      <td>8</td>\n",
              "      <td>302.0</td>\n",
              "      <td>140.0</td>\n",
              "      <td>3449.0</td>\n",
              "      <td>10.5</td>\n",
              "      <td>70</td>\n",
              "      <td>1</td>\n",
              "      <td>ford torino</td>\n",
              "    </tr>\n",
              "  </tbody>\n",
              "</table>\n",
              "</div>"
            ],
            "text/plain": [
              "    mpg  cylinders  displacement  ... year  origin                       name\n",
              "0  18.0          8         307.0  ...   70       1  chevrolet chevelle malibu\n",
              "1  15.0          8         350.0  ...   70       1          buick skylark 320\n",
              "2  18.0          8         318.0  ...   70       1         plymouth satellite\n",
              "3  16.0          8         304.0  ...   70       1              amc rebel sst\n",
              "4  17.0          8         302.0  ...   70       1                ford torino\n",
              "\n",
              "[5 rows x 9 columns]"
            ]
          },
          "metadata": {
            "tags": []
          },
          "execution_count": 3
        }
      ]
    },
    {
      "cell_type": "code",
      "metadata": {
        "id": "ifdLRjuzmpYe",
        "colab_type": "code",
        "outputId": "888c197e-76e4-4a34-c468-0c525e922b8f",
        "colab": {
          "base_uri": "https://localhost:8080/",
          "height": 194
        }
      },
      "source": [
        "data.tail(5)"
      ],
      "execution_count": 4,
      "outputs": [
        {
          "output_type": "execute_result",
          "data": {
            "text/html": [
              "<div>\n",
              "<style scoped>\n",
              "    .dataframe tbody tr th:only-of-type {\n",
              "        vertical-align: middle;\n",
              "    }\n",
              "\n",
              "    .dataframe tbody tr th {\n",
              "        vertical-align: top;\n",
              "    }\n",
              "\n",
              "    .dataframe thead th {\n",
              "        text-align: right;\n",
              "    }\n",
              "</style>\n",
              "<table border=\"1\" class=\"dataframe\">\n",
              "  <thead>\n",
              "    <tr style=\"text-align: right;\">\n",
              "      <th></th>\n",
              "      <th>mpg</th>\n",
              "      <th>cylinders</th>\n",
              "      <th>displacement</th>\n",
              "      <th>horsepower</th>\n",
              "      <th>weight</th>\n",
              "      <th>acceleration</th>\n",
              "      <th>year</th>\n",
              "      <th>origin</th>\n",
              "      <th>name</th>\n",
              "    </tr>\n",
              "  </thead>\n",
              "  <tbody>\n",
              "    <tr>\n",
              "      <th>393</th>\n",
              "      <td>27.0</td>\n",
              "      <td>4</td>\n",
              "      <td>140.0</td>\n",
              "      <td>86.00</td>\n",
              "      <td>2790.0</td>\n",
              "      <td>15.6</td>\n",
              "      <td>82</td>\n",
              "      <td>1</td>\n",
              "      <td>ford mustang gl</td>\n",
              "    </tr>\n",
              "    <tr>\n",
              "      <th>394</th>\n",
              "      <td>44.0</td>\n",
              "      <td>4</td>\n",
              "      <td>97.0</td>\n",
              "      <td>52.00</td>\n",
              "      <td>2130.0</td>\n",
              "      <td>24.6</td>\n",
              "      <td>82</td>\n",
              "      <td>2</td>\n",
              "      <td>vw pickup</td>\n",
              "    </tr>\n",
              "    <tr>\n",
              "      <th>395</th>\n",
              "      <td>32.0</td>\n",
              "      <td>4</td>\n",
              "      <td>135.0</td>\n",
              "      <td>84.00</td>\n",
              "      <td>2295.0</td>\n",
              "      <td>11.6</td>\n",
              "      <td>82</td>\n",
              "      <td>1</td>\n",
              "      <td>dodge rampage</td>\n",
              "    </tr>\n",
              "    <tr>\n",
              "      <th>396</th>\n",
              "      <td>28.0</td>\n",
              "      <td>4</td>\n",
              "      <td>120.0</td>\n",
              "      <td>79.00</td>\n",
              "      <td>2625.0</td>\n",
              "      <td>18.6</td>\n",
              "      <td>82</td>\n",
              "      <td>1</td>\n",
              "      <td>ford ranger</td>\n",
              "    </tr>\n",
              "    <tr>\n",
              "      <th>397</th>\n",
              "      <td>31.0</td>\n",
              "      <td>4</td>\n",
              "      <td>119.0</td>\n",
              "      <td>82.00</td>\n",
              "      <td>2720.0</td>\n",
              "      <td>19.4</td>\n",
              "      <td>82</td>\n",
              "      <td>1</td>\n",
              "      <td>chevy s-10</td>\n",
              "    </tr>\n",
              "  </tbody>\n",
              "</table>\n",
              "</div>"
            ],
            "text/plain": [
              "      mpg  cylinders  displacement  ... year  origin             name\n",
              "393  27.0          4         140.0  ...   82       1  ford mustang gl\n",
              "394  44.0          4          97.0  ...   82       2        vw pickup\n",
              "395  32.0          4         135.0  ...   82       1    dodge rampage\n",
              "396  28.0          4         120.0  ...   82       1      ford ranger\n",
              "397  31.0          4         119.0  ...   82       1       chevy s-10\n",
              "\n",
              "[5 rows x 9 columns]"
            ]
          },
          "metadata": {
            "tags": []
          },
          "execution_count": 4
        }
      ]
    },
    {
      "cell_type": "markdown",
      "metadata": {
        "id": "ScIU-MzKpjDC",
        "colab_type": "text"
      },
      "source": [
        "## 2. Analyzing the csv data\n",
        "--------------------------------------"
      ]
    },
    {
      "cell_type": "code",
      "metadata": {
        "id": "Hbq7FG3cpjlW",
        "colab_type": "code",
        "outputId": "25a4d532-7577-4102-feea-b0762aa3e191",
        "colab": {
          "base_uri": "https://localhost:8080/",
          "height": 301
        }
      },
      "source": [
        "data.info() # Ignoring the name column , 1 object column is there and rest are integers"
      ],
      "execution_count": 5,
      "outputs": [
        {
          "output_type": "stream",
          "text": [
            "<class 'pandas.core.frame.DataFrame'>\n",
            "RangeIndex: 398 entries, 0 to 397\n",
            "Data columns (total 9 columns):\n",
            " #   Column        Non-Null Count  Dtype  \n",
            "---  ------        --------------  -----  \n",
            " 0   mpg           398 non-null    float64\n",
            " 1   cylinders     398 non-null    int64  \n",
            " 2   displacement  398 non-null    float64\n",
            " 3   horsepower    398 non-null    object \n",
            " 4   weight        398 non-null    float64\n",
            " 5   acceleration  398 non-null    float64\n",
            " 6   year          398 non-null    int64  \n",
            " 7   origin        398 non-null    int64  \n",
            " 8   name          398 non-null    object \n",
            "dtypes: float64(4), int64(3), object(2)\n",
            "memory usage: 28.1+ KB\n"
          ],
          "name": "stdout"
        }
      ]
    },
    {
      "cell_type": "code",
      "metadata": {
        "id": "FUkQSXMfpkyv",
        "colab_type": "code",
        "outputId": "79dfe2fa-f5ac-478f-a414-bf921afe9193",
        "colab": {
          "base_uri": "https://localhost:8080/",
          "height": 282
        }
      },
      "source": [
        "data.describe()"
      ],
      "execution_count": 6,
      "outputs": [
        {
          "output_type": "execute_result",
          "data": {
            "text/html": [
              "<div>\n",
              "<style scoped>\n",
              "    .dataframe tbody tr th:only-of-type {\n",
              "        vertical-align: middle;\n",
              "    }\n",
              "\n",
              "    .dataframe tbody tr th {\n",
              "        vertical-align: top;\n",
              "    }\n",
              "\n",
              "    .dataframe thead th {\n",
              "        text-align: right;\n",
              "    }\n",
              "</style>\n",
              "<table border=\"1\" class=\"dataframe\">\n",
              "  <thead>\n",
              "    <tr style=\"text-align: right;\">\n",
              "      <th></th>\n",
              "      <th>mpg</th>\n",
              "      <th>cylinders</th>\n",
              "      <th>displacement</th>\n",
              "      <th>weight</th>\n",
              "      <th>acceleration</th>\n",
              "      <th>year</th>\n",
              "      <th>origin</th>\n",
              "    </tr>\n",
              "  </thead>\n",
              "  <tbody>\n",
              "    <tr>\n",
              "      <th>count</th>\n",
              "      <td>398.000000</td>\n",
              "      <td>398.000000</td>\n",
              "      <td>398.000000</td>\n",
              "      <td>398.000000</td>\n",
              "      <td>398.000000</td>\n",
              "      <td>398.000000</td>\n",
              "      <td>398.000000</td>\n",
              "    </tr>\n",
              "    <tr>\n",
              "      <th>mean</th>\n",
              "      <td>23.514573</td>\n",
              "      <td>5.454774</td>\n",
              "      <td>193.425879</td>\n",
              "      <td>2970.424623</td>\n",
              "      <td>15.568090</td>\n",
              "      <td>76.010050</td>\n",
              "      <td>1.572864</td>\n",
              "    </tr>\n",
              "    <tr>\n",
              "      <th>std</th>\n",
              "      <td>7.815984</td>\n",
              "      <td>1.701004</td>\n",
              "      <td>104.269838</td>\n",
              "      <td>846.841774</td>\n",
              "      <td>2.757689</td>\n",
              "      <td>3.697627</td>\n",
              "      <td>0.802055</td>\n",
              "    </tr>\n",
              "    <tr>\n",
              "      <th>min</th>\n",
              "      <td>9.000000</td>\n",
              "      <td>3.000000</td>\n",
              "      <td>68.000000</td>\n",
              "      <td>1613.000000</td>\n",
              "      <td>8.000000</td>\n",
              "      <td>70.000000</td>\n",
              "      <td>1.000000</td>\n",
              "    </tr>\n",
              "    <tr>\n",
              "      <th>25%</th>\n",
              "      <td>17.500000</td>\n",
              "      <td>4.000000</td>\n",
              "      <td>104.250000</td>\n",
              "      <td>2223.750000</td>\n",
              "      <td>13.825000</td>\n",
              "      <td>73.000000</td>\n",
              "      <td>1.000000</td>\n",
              "    </tr>\n",
              "    <tr>\n",
              "      <th>50%</th>\n",
              "      <td>23.000000</td>\n",
              "      <td>4.000000</td>\n",
              "      <td>148.500000</td>\n",
              "      <td>2803.500000</td>\n",
              "      <td>15.500000</td>\n",
              "      <td>76.000000</td>\n",
              "      <td>1.000000</td>\n",
              "    </tr>\n",
              "    <tr>\n",
              "      <th>75%</th>\n",
              "      <td>29.000000</td>\n",
              "      <td>8.000000</td>\n",
              "      <td>262.000000</td>\n",
              "      <td>3608.000000</td>\n",
              "      <td>17.175000</td>\n",
              "      <td>79.000000</td>\n",
              "      <td>2.000000</td>\n",
              "    </tr>\n",
              "    <tr>\n",
              "      <th>max</th>\n",
              "      <td>46.600000</td>\n",
              "      <td>8.000000</td>\n",
              "      <td>455.000000</td>\n",
              "      <td>5140.000000</td>\n",
              "      <td>24.800000</td>\n",
              "      <td>82.000000</td>\n",
              "      <td>3.000000</td>\n",
              "    </tr>\n",
              "  </tbody>\n",
              "</table>\n",
              "</div>"
            ],
            "text/plain": [
              "              mpg   cylinders  ...        year      origin\n",
              "count  398.000000  398.000000  ...  398.000000  398.000000\n",
              "mean    23.514573    5.454774  ...   76.010050    1.572864\n",
              "std      7.815984    1.701004  ...    3.697627    0.802055\n",
              "min      9.000000    3.000000  ...   70.000000    1.000000\n",
              "25%     17.500000    4.000000  ...   73.000000    1.000000\n",
              "50%     23.000000    4.000000  ...   76.000000    1.000000\n",
              "75%     29.000000    8.000000  ...   79.000000    2.000000\n",
              "max     46.600000    8.000000  ...   82.000000    3.000000\n",
              "\n",
              "[8 rows x 7 columns]"
            ]
          },
          "metadata": {
            "tags": []
          },
          "execution_count": 6
        }
      ]
    },
    {
      "cell_type": "code",
      "metadata": {
        "id": "ZyvHyJHYpkvJ",
        "colab_type": "code",
        "outputId": "87d11f70-3e8a-4de5-a862-3382a6118402",
        "colab": {
          "base_uri": "https://localhost:8080/",
          "height": 266
        }
      },
      "source": [
        "# Even though horsepower values are numeric , it is set to object , that means we need to check is there is any string\n",
        "data.horsepower.unique()"
      ],
      "execution_count": 7,
      "outputs": [
        {
          "output_type": "execute_result",
          "data": {
            "text/plain": [
              "array(['130.0', '165.0', '150.0', '140.0', '198.0', '220.0', '215.0',\n",
              "       '225.0', '190.0', '170.0', '160.0', '95.00', '97.00', '85.00',\n",
              "       '88.00', '46.00', '87.00', '90.00', '113.0', '200.0', '210.0',\n",
              "       '193.0', '?', '100.0', '105.0', '175.0', '153.0', '180.0', '110.0',\n",
              "       '72.00', '86.00', '70.00', '76.00', '65.00', '69.00', '60.00',\n",
              "       '80.00', '54.00', '208.0', '155.0', '112.0', '92.00', '145.0',\n",
              "       '137.0', '158.0', '167.0', '94.00', '107.0', '230.0', '49.00',\n",
              "       '75.00', '91.00', '122.0', '67.00', '83.00', '78.00', '52.00',\n",
              "       '61.00', '93.00', '148.0', '129.0', '96.00', '71.00', '98.00',\n",
              "       '115.0', '53.00', '81.00', '79.00', '120.0', '152.0', '102.0',\n",
              "       '108.0', '68.00', '58.00', '149.0', '89.00', '63.00', '48.00',\n",
              "       '66.00', '139.0', '103.0', '125.0', '133.0', '138.0', '135.0',\n",
              "       '142.0', '77.00', '62.00', '132.0', '84.00', '64.00', '74.00',\n",
              "       '116.0', '82.00'], dtype=object)"
            ]
          },
          "metadata": {
            "tags": []
          },
          "execution_count": 7
        }
      ]
    },
    {
      "cell_type": "code",
      "metadata": {
        "id": "1mX3YTT9_gom",
        "colab_type": "code",
        "outputId": "a21e1fa4-581a-4e79-ffdc-6ef21fd985d7",
        "colab": {
          "base_uri": "https://localhost:8080/",
          "height": 35
        }
      },
      "source": [
        " # ? is present , we need to fill with NaN \n",
        "data.replace('?',np.NaN,inplace=True)\n",
        "data.horsepower= data.horsepower.astype('float')\n",
        "data.horsepower.mean()"
      ],
      "execution_count": 8,
      "outputs": [
        {
          "output_type": "execute_result",
          "data": {
            "text/plain": [
              "104.46938775510205"
            ]
          },
          "metadata": {
            "tags": []
          },
          "execution_count": 8
        }
      ]
    },
    {
      "cell_type": "code",
      "metadata": {
        "id": "3MzE64-Qpkr9",
        "colab_type": "code",
        "outputId": "1c3b363a-3058-4682-83f5-87a2c408e7a8",
        "colab": {
          "base_uri": "https://localhost:8080/",
          "height": 35
        }
      },
      "source": [
        "data.horsepower.fillna(data.horsepower.mean(),inplace=True)\n",
        "data.horsepower.isna().any()"
      ],
      "execution_count": 9,
      "outputs": [
        {
          "output_type": "execute_result",
          "data": {
            "text/plain": [
              "False"
            ]
          },
          "metadata": {
            "tags": []
          },
          "execution_count": 9
        }
      ]
    },
    {
      "cell_type": "markdown",
      "metadata": {
        "id": "pMjAt1oDvYdW",
        "colab_type": "text"
      },
      "source": [
        "## Univariate Regression\n",
        "\n",
        "we need to find out the most **`imporant predictor for the mpg`**"
      ]
    },
    {
      "cell_type": "code",
      "metadata": {
        "id": "OnbpbTWYu8kt",
        "colab_type": "code",
        "outputId": "c642c884-c57f-4d76-c7c4-fdb4a6e5f13e",
        "colab": {
          "base_uri": "https://localhost:8080/",
          "height": 351
        }
      },
      "source": [
        "matrix=np.triu(data.corr())\n",
        "sns.heatmap(data.corr(),annot=True,mask=matrix)"
      ],
      "execution_count": 10,
      "outputs": [
        {
          "output_type": "execute_result",
          "data": {
            "text/plain": [
              "<matplotlib.axes._subplots.AxesSubplot at 0x7f6d56a2a7f0>"
            ]
          },
          "metadata": {
            "tags": []
          },
          "execution_count": 10
        },
        {
          "output_type": "display_data",
          "data": {
            "image/png": "[encoded data removed]",
            "text/plain": [
              "<Figure size 432x288 with 2 Axes>"
            ]
          },
          "metadata": {
            "tags": [],
            "needs_background": "light"
          }
        }
      ]
    },
    {
      "cell_type": "markdown",
      "metadata": {
        "id": "sGRgP0U0vwcv",
        "colab_type": "text"
      },
      "source": [
        "1. so from the corelation matrix, we found that **`year is the maxium corelation with mpg`**"
      ]
    },
    {
      "cell_type": "markdown",
      "metadata": {
        "id": "RYbpETRJzkaO",
        "colab_type": "text"
      },
      "source": [
        "## Data splitting"
      ]
    },
    {
      "cell_type": "code",
      "metadata": {
        "id": "-Ev41GFwzi6S",
        "colab_type": "code",
        "colab": {}
      },
      "source": [
        "from sklearn.model_selection import train_test_split as tts"
      ],
      "execution_count": 0,
      "outputs": []
    },
    {
      "cell_type": "code",
      "metadata": {
        "id": "R4sbeokzzuhG",
        "colab_type": "code",
        "colab": {}
      },
      "source": [
        "x=data[['year']]\n",
        "y=data['mpg']"
      ],
      "execution_count": 0,
      "outputs": []
    },
    {
      "cell_type": "code",
      "metadata": {
        "id": "W0rlbBGEzr__",
        "colab_type": "code",
        "colab": {}
      },
      "source": [
        "x_train,x_test,y_train,y_test=tts(x,y,test_size=0.2,random_state=42)"
      ],
      "execution_count": 0,
      "outputs": []
    },
    {
      "cell_type": "markdown",
      "metadata": {
        "id": "PpJqO3Vvz_oZ",
        "colab_type": "text"
      },
      "source": [
        "## Applying Linear Regression"
      ]
    },
    {
      "cell_type": "code",
      "metadata": {
        "id": "3TeX-4E1z-ue",
        "colab_type": "code",
        "colab": {}
      },
      "source": [
        "from sklearn.linear_model import LinearRegression as lr"
      ],
      "execution_count": 0,
      "outputs": []
    },
    {
      "cell_type": "code",
      "metadata": {
        "id": "OHeQU_0Qz5gP",
        "colab_type": "code",
        "colab": {}
      },
      "source": [
        "model=lr(fit_intercept=True)"
      ],
      "execution_count": 0,
      "outputs": []
    },
    {
      "cell_type": "code",
      "metadata": {
        "id": "Tb_cZBAd0RkQ",
        "colab_type": "code",
        "outputId": "1162ece4-0833-4c80-a4cf-252f59af74b1",
        "colab": {
          "base_uri": "https://localhost:8080/",
          "height": 35
        }
      },
      "source": [
        "model.fit(x_train,y_train)"
      ],
      "execution_count": 16,
      "outputs": [
        {
          "output_type": "execute_result",
          "data": {
            "text/plain": [
              "LinearRegression(copy_X=True, fit_intercept=True, n_jobs=None, normalize=False)"
            ]
          },
          "metadata": {
            "tags": []
          },
          "execution_count": 16
        }
      ]
    },
    {
      "cell_type": "code",
      "metadata": {
        "id": "LbuXBqs80T6v",
        "colab_type": "code",
        "outputId": "481b0a7c-3e6a-4437-a9e9-fa27a13694a3",
        "colab": {
          "base_uri": "https://localhost:8080/",
          "height": 35
        }
      },
      "source": [
        "#getting coefficients and intercepts\n",
        "model.coef_, model.intercept_"
      ],
      "execution_count": 17,
      "outputs": [
        {
          "output_type": "execute_result",
          "data": {
            "text/plain": [
              "(array([1.29141847]), -74.67364292574689)"
            ]
          },
          "metadata": {
            "tags": []
          },
          "execution_count": 17
        }
      ]
    },
    {
      "cell_type": "markdown",
      "metadata": {
        "id": "le-amafX0cRK",
        "colab_type": "text"
      },
      "source": [
        "So the *** equation is*** :\n",
        "\n",
        "     y= 1.29 * year + (-74.67)\n",
        "\n",
        "where  intercept is `-74.67` and coefficient is `1.29`"
      ]
    },
    {
      "cell_type": "code",
      "metadata": {
        "id": "VzqfT6-a0bkP",
        "colab_type": "code",
        "colab": {}
      },
      "source": [
        "#predicting\n",
        "pred=model.predict(x_test)"
      ],
      "execution_count": 0,
      "outputs": []
    },
    {
      "cell_type": "markdown",
      "metadata": {
        "id": "TODJ7l7A1BgZ",
        "colab_type": "text"
      },
      "source": [
        "## checking the accuracy and plotting the result"
      ]
    },
    {
      "cell_type": "code",
      "metadata": {
        "id": "HzpAvfGq0Wwv",
        "colab_type": "code",
        "colab": {}
      },
      "source": [
        "from sklearn.metrics import r2_score "
      ],
      "execution_count": 0,
      "outputs": []
    },
    {
      "cell_type": "code",
      "metadata": {
        "id": "ewLIKTKd1QEr",
        "colab_type": "code",
        "outputId": "16bcb5ae-7a24-41ec-9e66-a20ebc109bee",
        "colab": {
          "base_uri": "https://localhost:8080/",
          "height": 35
        }
      },
      "source": [
        "r2_score(y_test,pred)  # r2 score is 0.28 which is pretty bad"
      ],
      "execution_count": 20,
      "outputs": [
        {
          "output_type": "execute_result",
          "data": {
            "text/plain": [
              "0.28727386919989206"
            ]
          },
          "metadata": {
            "tags": []
          },
          "execution_count": 20
        }
      ]
    },
    {
      "cell_type": "code",
      "metadata": {
        "id": "rtXOk1Ja1Scf",
        "colab_type": "code",
        "outputId": "b49c2f78-249e-46bd-bbdd-5b84d1b5c424",
        "colab": {
          "base_uri": "https://localhost:8080/",
          "height": 301
        }
      },
      "source": [
        "plt.figure()\n",
        "plt.scatter(x_test,y_test,color='blue')\n",
        "plt.plot(x_test,pred,color='red')\n",
        "plt.xlabel('year')\n",
        "plt.ylabel('mpg')\n",
        "plt.title('Simple Linear Regression : YEAR vs MPG')\n",
        "plt.show()"
      ],
      "execution_count": 21,
      "outputs": [
        {
          "output_type": "display_data",
          "data": {
            "image/png": "[encoded data removed]",
            "text/plain": [
              "<Figure size 432x288 with 1 Axes>"
            ]
          },
          "metadata": {
            "tags": [],
            "needs_background": "light"
          }
        }
      ]
    },
    {
      "cell_type": "markdown",
      "metadata": {
        "id": "8RgGw1ep4Gep",
        "colab_type": "text"
      },
      "source": [
        "# Anser-2 - Multivariate Regression\n",
        "----------------------------------------------"
      ]
    },
    {
      "cell_type": "code",
      "metadata": {
        "id": "hqMv7J3y13-y",
        "colab_type": "code",
        "outputId": "c73a89d8-7a90-46f9-b4fb-d197a823e0b9",
        "colab": {
          "base_uri": "https://localhost:8080/",
          "height": 70
        }
      },
      "source": [
        "data.columns"
      ],
      "execution_count": 22,
      "outputs": [
        {
          "output_type": "execute_result",
          "data": {
            "text/plain": [
              "Index(['mpg', 'cylinders', 'displacement', 'horsepower', 'weight',\n",
              "       'acceleration', 'year', 'origin', 'name'],\n",
              "      dtype='object')"
            ]
          },
          "metadata": {
            "tags": []
          },
          "execution_count": 22
        }
      ]
    },
    {
      "cell_type": "code",
      "metadata": {
        "id": "Tn7FbW154dbR",
        "colab_type": "code",
        "colab": {}
      },
      "source": [
        "cols=['year','origin','acceleration','horsepower','cylinders','weight','displacement']"
      ],
      "execution_count": 0,
      "outputs": []
    },
    {
      "cell_type": "code",
      "metadata": {
        "id": "b_UN_l836SrU",
        "colab_type": "code",
        "outputId": "eba20677-67d7-4b79-816e-d1c8e03611e2",
        "colab": {
          "base_uri": "https://localhost:8080/",
          "height": 35
        }
      },
      "source": [
        "x_test.shape,y_test.shape"
      ],
      "execution_count": 24,
      "outputs": [
        {
          "output_type": "execute_result",
          "data": {
            "text/plain": [
              "((80, 1), (80,))"
            ]
          },
          "metadata": {
            "tags": []
          },
          "execution_count": 24
        }
      ]
    },
    {
      "cell_type": "markdown",
      "metadata": {
        "id": "4WL0bzQ8B3YO",
        "colab_type": "text"
      },
      "source": [
        "## Feature Selection : Forward selection"
      ]
    },
    {
      "cell_type": "code",
      "metadata": {
        "id": "yc6WsJTC4z6C",
        "colab_type": "code",
        "outputId": "35eaab48-8496-41a5-bc85-ace5ea4f4313",
        "colab": {
          "base_uri": "https://localhost:8080/",
          "height": 252
        }
      },
      "source": [
        "y=data['mpg']\n",
        "model=lr(fit_intercept=True)\n",
        "n=80\n",
        "res=[]\n",
        "\n",
        "for idx,col in enumerate(cols):\n",
        "  new_cols=cols[:idx+1]\n",
        "  x=data.loc[:,new_cols]\n",
        "  \n",
        "  x_train,x_test,y_train,y_test=tts(x,y,test_size=0.2,random_state=42)\n",
        "  \n",
        "  # getting the num of indepenet features\n",
        "  p=x_test.shape[1]\n",
        "  \n",
        "  #training and predicting\n",
        "  model.fit(x_train,y_train)\n",
        "  pred=model.predict(x_test)\n",
        "  \n",
        "  # r squared value\n",
        "  sc1=r2_score(y_test,pred) \n",
        "\n",
        "  #Adjusted R squared 1- (1- rsquare)*(n-1 / n-p-1 )\n",
        "  sc2= 1 - (1- sc1)*( (n-1) / (n-p-1) )\n",
        "\n",
        "  res.append((idx,sc1,sc2))\n",
        "\n",
        "\n",
        "df=pd.DataFrame(res,columns=['index','r-squared','Adj_r-squared'])\n",
        "df"
      ],
      "execution_count": 25,
      "outputs": [
        {
          "output_type": "execute_result",
          "data": {
            "text/html": [
              "<div>\n",
              "<style scoped>\n",
              "    .dataframe tbody tr th:only-of-type {\n",
              "        vertical-align: middle;\n",
              "    }\n",
              "\n",
              "    .dataframe tbody tr th {\n",
              "        vertical-align: top;\n",
              "    }\n",
              "\n",
              "    .dataframe thead th {\n",
              "        text-align: right;\n",
              "    }\n",
              "</style>\n",
              "<table border=\"1\" class=\"dataframe\">\n",
              "  <thead>\n",
              "    <tr style=\"text-align: right;\">\n",
              "      <th></th>\n",
              "      <th>index</th>\n",
              "      <th>r-squared</th>\n",
              "      <th>Adj_r-squared</th>\n",
              "    </tr>\n",
              "  </thead>\n",
              "  <tbody>\n",
              "    <tr>\n",
              "      <th>0</th>\n",
              "      <td>0</td>\n",
              "      <td>0.287274</td>\n",
              "      <td>0.278136</td>\n",
              "    </tr>\n",
              "    <tr>\n",
              "      <th>1</th>\n",
              "      <td>1</td>\n",
              "      <td>0.556738</td>\n",
              "      <td>0.545225</td>\n",
              "    </tr>\n",
              "    <tr>\n",
              "      <th>2</th>\n",
              "      <td>2</td>\n",
              "      <td>0.635736</td>\n",
              "      <td>0.621357</td>\n",
              "    </tr>\n",
              "    <tr>\n",
              "      <th>3</th>\n",
              "      <td>3</td>\n",
              "      <td>0.771979</td>\n",
              "      <td>0.759818</td>\n",
              "    </tr>\n",
              "    <tr>\n",
              "      <th>4</th>\n",
              "      <td>4</td>\n",
              "      <td>0.802993</td>\n",
              "      <td>0.789682</td>\n",
              "    </tr>\n",
              "    <tr>\n",
              "      <th>5</th>\n",
              "      <td>5</td>\n",
              "      <td>0.838926</td>\n",
              "      <td>0.825687</td>\n",
              "    </tr>\n",
              "    <tr>\n",
              "      <th>6</th>\n",
              "      <td>6</td>\n",
              "      <td>0.847573</td>\n",
              "      <td>0.832754</td>\n",
              "    </tr>\n",
              "  </tbody>\n",
              "</table>\n",
              "</div>"
            ],
            "text/plain": [
              "   index  r-squared  Adj_r-squared\n",
              "0      0   0.287274       0.278136\n",
              "1      1   0.556738       0.545225\n",
              "2      2   0.635736       0.621357\n",
              "3      3   0.771979       0.759818\n",
              "4      4   0.802993       0.789682\n",
              "5      5   0.838926       0.825687\n",
              "6      6   0.847573       0.832754"
            ]
          },
          "metadata": {
            "tags": []
          },
          "execution_count": 25
        }
      ]
    },
    {
      "cell_type": "markdown",
      "metadata": {
        "id": "_U7pLUayBdaB",
        "colab_type": "text"
      },
      "source": [
        "## preparing the model\n",
        "\n",
        "1. So, from the above table, we can **conclude that the adjusted r-squared and r-squared are increasing if we use all the variables**.\n",
        "\n",
        "2. thus we will use **all the columns** to create the model."
      ]
    },
    {
      "cell_type": "code",
      "metadata": {
        "id": "rUEVyAH9Bceq",
        "colab_type": "code",
        "colab": {}
      },
      "source": [
        "x=data.loc[:,cols]\n",
        "y=data['mpg']\n",
        "x_train,x_test,y_train,y_test=tts(x,y,test_size=0.2,random_state=42)"
      ],
      "execution_count": 0,
      "outputs": []
    },
    {
      "cell_type": "code",
      "metadata": {
        "id": "FQuxZc1u5NRA",
        "colab_type": "code",
        "outputId": "6c7fec57-f791-4725-a687-4547e9ea0f91",
        "colab": {
          "base_uri": "https://localhost:8080/",
          "height": 35
        }
      },
      "source": [
        "model=lr(fit_intercept=True)\n",
        "model.fit(x_train, y_train)"
      ],
      "execution_count": 27,
      "outputs": [
        {
          "output_type": "execute_result",
          "data": {
            "text/plain": [
              "LinearRegression(copy_X=True, fit_intercept=True, n_jobs=None, normalize=False)"
            ]
          },
          "metadata": {
            "tags": []
          },
          "execution_count": 27
        }
      ]
    },
    {
      "cell_type": "code",
      "metadata": {
        "id": "EUq3GrXWCmxx",
        "colab_type": "code",
        "outputId": "6d847ad0-1cf9-43a7-c9a5-5bcf9cb428fc",
        "colab": {
          "base_uri": "https://localhost:8080/",
          "height": 52
        }
      },
      "source": [
        "model.coef_, model.intercept_   # all the coefficients and intercepts"
      ],
      "execution_count": 28,
      "outputs": [
        {
          "output_type": "execute_result",
          "data": {
            "text/plain": [
              "(array([ 0.79647938,  1.31331307,  0.07488864, -0.01179845, -0.15417994,\n",
              "        -0.00677523,  0.01399743]), -20.782175730118432)"
            ]
          },
          "metadata": {
            "tags": []
          },
          "execution_count": 28
        }
      ]
    },
    {
      "cell_type": "code",
      "metadata": {
        "id": "gAxNkVjECtw5",
        "colab_type": "code",
        "colab": {}
      },
      "source": [
        "pred=model.predict(x_test)"
      ],
      "execution_count": 0,
      "outputs": []
    },
    {
      "cell_type": "code",
      "metadata": {
        "id": "hOdBjq4SC00A",
        "colab_type": "code",
        "outputId": "71f1dcf7-6e12-4ff6-888d-227d40cc3bd0",
        "colab": {
          "base_uri": "https://localhost:8080/",
          "height": 35
        }
      },
      "source": [
        "r2_score(y_test,pred)   # 84% accuracy is achieved now."
      ],
      "execution_count": 30,
      "outputs": [
        {
          "output_type": "execute_result",
          "data": {
            "text/plain": [
              "0.8475731044779412"
            ]
          },
          "metadata": {
            "tags": []
          },
          "execution_count": 30
        }
      ]
    },
    {
      "cell_type": "markdown",
      "metadata": {
        "id": "QoOaTzOTDMtI",
        "colab_type": "text"
      },
      "source": [
        "**Note**\n",
        "\n",
        "From **Simple Linear Regression (univariate) to Multivariate Linear Regression**, we have improved the accuracy **`from 28% to 84%`**."
      ]
    },
    {
      "cell_type": "markdown",
      "metadata": {
        "id": "jqV6c5f9eium",
        "colab_type": "text"
      },
      "source": [
        "# Answer 3- Using Gradient Descent\n",
        "----------------------------------------"
      ]
    },
    {
      "cell_type": "code",
      "metadata": {
        "id": "Ey7s68Gs5Prs",
        "colab_type": "code",
        "colab": {
          "base_uri": "https://localhost:8080/",
          "height": 35
        },
        "outputId": "6a0760e1-f08a-48a3-a09f-b9eefea7b269"
      },
      "source": [
        "cols=['year','origin','acceleration','horsepower','cylinders','weight','displacement']\n",
        "x=data[cols]\n",
        "y=data['mpg']\n",
        "x.shape"
      ],
      "execution_count": 224,
      "outputs": [
        {
          "output_type": "execute_result",
          "data": {
            "text/plain": [
              "(398, 7)"
            ]
          },
          "metadata": {
            "tags": []
          },
          "execution_count": 224
        }
      ]
    },
    {
      "cell_type": "code",
      "metadata": {
        "id": "GWfr-fhr7-Oi",
        "colab_type": "code",
        "colab": {}
      },
      "source": [
        "#we need to Standardize\n",
        "from sklearn.preprocessing import StandardScaler\n",
        "sc = StandardScaler()\n",
        "x = sc.fit_transform(x)"
      ],
      "execution_count": 0,
      "outputs": []
    },
    {
      "cell_type": "code",
      "metadata": {
        "id": "mqtSL4Hx8UDZ",
        "colab_type": "code",
        "colab": {}
      },
      "source": [
        "# adding the bias column of ones\n",
        "ones = np.ones([x.shape[0],1])\n",
        "x = np.concatenate((ones,x),axis=1)"
      ],
      "execution_count": 0,
      "outputs": []
    },
    {
      "cell_type": "code",
      "metadata": {
        "id": "XF9iq1rWe4cH",
        "colab_type": "code",
        "colab": {}
      },
      "source": [
        "# Regression model using Gradient Descent\n",
        "class My_regression(object):\n",
        "\n",
        "  def __init__(self,row_size, feature_size,alpha=0.1,iters=1000):\n",
        "    \n",
        "    # Initial Coefficients\n",
        "    self.row_size,self.feature_size= row_size, feature_size\n",
        "    self.B = np.zeros(self.feature_size)\n",
        "\n",
        "    #set hyper parameters\n",
        "    self.alpha = alpha\n",
        "    self.iters = iters\n",
        "\n",
        "  # #compute the cost function\n",
        "  def cost_function(self,X, Y):\n",
        "    m = self.row_size\n",
        "    J = np.sum((X.dot(self.B)-Y) ** 2)/(2 * m)\n",
        "    return J\n",
        "\n",
        "  # -------------------------------\n",
        "  # Gradient descent\n",
        "  # -------------------------------\n",
        "\n",
        "  def fit(self,X, Y):\n",
        "\n",
        "    cost_history = [0] * self.iters\n",
        "\n",
        "    for iteration in range(self.iters):\n",
        "      if  not (iteration % 500) :\n",
        "        print(iteration)\n",
        "   \n",
        "      # Hypothesis Values\n",
        "      h = X.dot(self.B)\n",
        " \n",
        "      # Difference b/w Hypothesis and Actual Y\n",
        "      loss= h-Y\n",
        "   \n",
        "      # Gradient Calculation\n",
        "      gradient = X.T.dot(loss) / self.row_size\n",
        " \n",
        "      # Changing Values of B using Gradient\n",
        "      self.B = self.B - self.alpha * gradient \n",
        " \n",
        "      # New Cost Value\n",
        "      cost = self.cost_function(X, Y)\n",
        "      cost_history[iteration] = cost\n",
        "    \n",
        "    return self.B, cost_history\n",
        "\n",
        "  # Prediciting \n",
        "  def predict(self,X):\n",
        "    return np.dot(X,self.B)\n",
        "\n",
        "  # r2-score \n",
        "  def r2_score(self,y_,y):\n",
        "    # sum of square of  totals\n",
        "    sst = np.sum((y-y.mean())**2)\n",
        " \n",
        "    # sum of square residuals\n",
        "    ssr = np.sum((y_-y)**2)\n",
        "  \n",
        "    # r2-score\n",
        "    r2 = 1-(ssr/sst)\n",
        "\n",
        "    return r2"
      ],
      "execution_count": 0,
      "outputs": []
    },
    {
      "cell_type": "code",
      "metadata": {
        "id": "z32iFazvw2Jd",
        "colab_type": "code",
        "colab": {}
      },
      "source": [
        "from sklearn.model_selection import train_test_split as tts\n",
        "x_train,x_test,y_train,y_test= tts(x,y,test_size=0.3,random_state= 42)"
      ],
      "execution_count": 0,
      "outputs": []
    },
    {
      "cell_type": "code",
      "metadata": {
        "id": "8nSVDeEhARzt",
        "colab_type": "code",
        "colab": {
          "base_uri": "https://localhost:8080/",
          "height": 35
        },
        "outputId": "c0a6ac35-859b-475b-b94f-2a093c91ea98"
      },
      "source": [
        "x_train.shape,x_test.shape"
      ],
      "execution_count": 230,
      "outputs": [
        {
          "output_type": "execute_result",
          "data": {
            "text/plain": [
              "((278, 8), (120, 8))"
            ]
          },
          "metadata": {
            "tags": []
          },
          "execution_count": 230
        }
      ]
    },
    {
      "cell_type": "code",
      "metadata": {
        "id": "_MtCp1iNxk-L",
        "colab_type": "code",
        "colab": {
          "base_uri": "https://localhost:8080/",
          "height": 52
        },
        "outputId": "43485bac-ebc2-4b62-b28f-af401dc67f06"
      },
      "source": [
        "# creating the object of my regression class\n",
        "model=My_regression(x_train.shape[0],x_train.shape[1],0.01,1000)\n",
        "\n",
        "# fitting the model\n",
        "newB,costs=model.fit(x_train,y_train)"
      ],
      "execution_count": 267,
      "outputs": [
        {
          "output_type": "stream",
          "text": [
            "0\n",
            "500\n"
          ],
          "name": "stdout"
        }
      ]
    },
    {
      "cell_type": "code",
      "metadata": {
        "id": "6PCf7NujFW7z",
        "colab_type": "code",
        "colab": {
          "base_uri": "https://localhost:8080/",
          "height": 108
        },
        "outputId": "ffcd3992-2f67-49fb-b415-0821c518c767"
      },
      "source": [
        "print(newB)\n",
        "print('\\n',costs)"
      ],
      "execution_count": 268,
      "outputs": [
        {
          "output_type": "stream",
          "text": [
            "[23.47110699  2.74846214  1.1897075  -0.26717343 -1.10549102 -0.27488297\n",
            " -3.36656199 -0.57242311]\n",
            "\n",
            " [298.70180975456765, 291.5723733519718, 284.6968103729203, 278.0606006392924, 271.65031385976283, 265.4535201509634, 259.45870807806915, 253.65520957932475, 248.03313119280347, 242.58329105291676, 237.2971611692544, 232.16681454157853, 227.18487670254834, 222.3444813143113, 217.63922947672722, 213.06315243394727, 208.61067739257373, 204.27659618888603, 200.05603656482492, 195.94443583275464, 191.93751672762866, 188.0312652622156, 184.22191041663245, 180.50590550770286, 176.87991109671955, 173.34077930614825, 169.88553942675424, 166.51138470665273, 163.21566022295318, 159.99585174506382, 156.84957550640667, 153.7745688083261, 150.76868138641447, 147.82986747537058, 144.95617851390307, 142.1457564361295, 139.39682750044088, 136.7076966109429, 134.07674209037026, 131.50241086684014, 128.98321403998457, 126.51772279490723, 124.10456463507077, 121.74241990765562, 119.43001859716014, 117.16613736505299, 114.94959681515715, 112.77925896615382, 110.65402491416148, 108.572832669778, 106.53465515528532, 104.53849834891871, 102.58339956420093, 100.66842585334912, 98.79267252468412, 96.95526176481529, 95.15534135714682, 93.39208348895897, 91.66468363996486, 89.97235954583712, 88.31435023074104, 86.68991510340815, 85.09833311173972, 83.53890195134595, 82.01093732380842, 80.51377224080349, 79.04675637054329, 77.60925542328516, 76.20065057292798, 74.82033791196021, 73.46772793724931, 72.14224506436855, 70.84332716834625, 69.57042514889494, 68.3230025183374, 67.10053501059078, 65.90251020970346, 64.72842719656133, 63.57779621249145, 62.450138338593696, 61.34498518972464, 60.2618786221435, 59.2003704539099, 58.16002219719371, 57.14040480172469, 56.14109840867013, 55.161692114283724, 54.20178374272055, 53.26097962745966, 52.33889440081848, 51.435150791082805, 50.54937942681242, 49.68121864791511, 48.83031432311274, 47.99631967345055, 47.17889510152691, 46.377708026144035, 45.592432722101755, 44.82275016487671, 44.068347879947005, 43.32891979653977, 42.60416610559407, 41.89379312174601, 41.19751314915588, 40.515044351009344, 39.84611062253554, 39.19044146739531, 38.54777187730214, 37.91784221474712, 37.300398098707035, 36.69519029322231, 36.10197459873803, 35.52051174610817, 34.95056729316794, 34.39191152378563, 33.84431934930954, 33.30757021233057, 32.78144799268505, 32.2657409156266, 31.760241462099305, 31.2647462810479, 30.779056103703912, 30.302975659789535, 29.836313595583743, 29.378882393798005, 28.930498295210803, 28.490981222012742, 28.060154702816153, 27.63784579928472, 27.223885034340768, 26.818106321909333, 26.420346898159977, 26.030447254208504, 25.648251070242257, 25.273605151034293, 24.90635936281226, 24.546366571449916, 24.193482581949482, 23.847566079184585, 23.508478569874303, 23.176084325760105, 22.850250327957554, 22.530846212456726, 22.21774421674489, 21.910819127526572, 21.609948229516384, 21.3150112552811, 21.025890336107707, 20.742469953875055, 20.46463689390738, 20.192280198788296, 19.925291123114647, 19.66356308917009, 19.406991643498724, 19.155474414359645, 18.908911070043732, 18.667203278034545, 18.430254664995438, 18.197970777565736, 17.970259043948808, 17.747028736275734, 17.528190933728393, 17.313658486406045, 17.103345979920224, 16.897169700702783, 16.695047602012348, 16.496899270624905, 16.302645894194356, 16.11221022926941, 15.925516569953281, 15.742490717193, 15.56305994868567, 15.387152989388904, 15.214699982623099, 15.045632461753769, 14.87988332244177, 14.717386795450247, 14.55807841999669, 14.401895017639298, 14.248774666686613, 14.098656677120042, 13.951481566018721, 13.807191033476634, 13.665727939002075, 13.52703627838962, 13.39106116105519, 13.257748787824747, 13.127046429167612, 12.998902403865301, 12.873266058107209, 12.750087745004521, 12.62931880451393, 12.510911543762893, 12.394819217768433, 12.280996010541406, 12.16939701656874, 12.05997822266577, 11.952696490191503, 11.84750953761927, 11.744375923455863, 11.64325502950194, 11.544107044447085, 11.446892947792614, 11.351574494095624, 11.258114197527886, 11.166475316743169, 11.07662184004691, 10.988518470862127, 10.902130613485605, 10.817424359128607, 10.734366472236351, 10.652924377080677, 10.573066144620487, 10.494760479624494, 10.417976708051143, 10.342684764680431, 10.268855180992707, 10.196459073289379, 10.125468131050841, 10.055854605526658, 9.987591298553626, 9.920651551596876, 9.855009235009772, 9.790638737508113, 9.727514955854337, 9.66561328474766, 9.604909606915813, 9.545380283404592, 9.487002144061027, 9.429752478206483, 9.3736090254958, 9.318549966958736, 9.264553916220187, 9.211599910895403, 9.159667404156943, 9.108736256469737, 9.058786727490986, 9.009799468131634, 8.961755512776056, 8.914636271656969, 8.868423523382294, 8.823099407611089, 8.77864641787545, 8.735047394545507, 8.692285517934698, 8.650344301542425, 8.609207585431456, 8.56885952973729, 8.529284608306883, 8.490467602464179, 8.452393594899835, 8.415047963682769, 8.378416376390977, 8.342484784359343, 8.307239417042043, 8.27266677648724, 8.238753631921908, 8.205487014444495, 8.17285421182333, 8.14084276339863, 8.10944045508607, 8.078635314479836, 8.048415606053258, 8.018769826454966, 7.989686699898773, 7.961155173645306, 7.9331644135736825, 7.905703799841289, 7.878762922630004, 7.8523315779771306, 7.826399763689286, 7.800957675337682, 7.775995702333073, 7.75150442407889, 7.727474606200898, 7.703897196851904, 7.680763323090036, 7.658064287329061, 7.635791563859384, 7.613936795438228, 7.5924917899477, 7.571448517119338, 7.5507991053238355, 7.530535838424614, 7.510651152694006, 7.4911376337907924, 7.471988013797832, 7.453195168318649, 7.43475211363175, 7.416652003901536, 7.398888128444694, 7.381453909050942, 7.364342897357059, 7.34754877227311, 7.331065337459897, 7.314886518856498, 7.299006362257016, 7.283419030935461, 7.268118803317888, 7.25310007070078, 7.238357335014779, 7.223885206632894, 7.209678402222238, 7.195731742638488, 7.182040150862155, 7.168598649975898, 7.155402361182008, 7.142446501859277, 7.129726383658511, 7.117237410635826, 7.104975077423075, 7.092934967434595, 7.081112751109578, 7.06950418418936, 7.05810510602891, 7.046911437941895, 7.035919181578533, 7.0251244173357605, 7.014523302798874, 7.004112071214183, 6.99388702999195, 6.983844559239074, 6.97398111032088, 6.964293204451489, 6.954777431312147, 6.945430447696992, 6.9362489761856905, 6.927229803842423, 6.918369780940692, 6.909665819713429, 6.901114893127908, 6.89271403368497, 6.8844603322420586, 6.876350936859636, 6.868383051670444, 6.8605539357712315, 6.852860902136456, 6.845301316553511, 6.837872596579111, 6.83057221051634, 6.823397676411999, 6.816346561073859, 6.809416479107352, 6.80260509197141, 6.795910107052999, 6.789329276760006, 6.782860397632115, 6.776501309469302, 6.770249894477602, 6.764104076431819, 6.758061819854825, 6.752121129213118, 6.746280048128333, 6.740536658604365, 6.7348890802698245, 6.729335469635484, 6.723874019366442, 6.718502957568725, 6.713220547089979, 6.708025084834065, 6.7029149010891915, 6.697888358869364, 6.692943853268899, 6.688079810829684, 6.683294688921, 6.678586975131599, 6.6739551866738385, 6.6693978697996, 6.664913599227779, 6.660500977583097, 6.656158634846041, 6.651885227813672, 6.647679439571111, 6.6435399789734895, 6.639465580138151, 6.635455001946894, 6.63150702755807, 6.627620463928342, 6.6237941413438755, 6.620026912960854, 6.616317654355031, 6.6126652630802205, 6.609068658235527, 6.605526780041111, 6.602038589422364, 6.598603067602287, 6.595219215701959, 6.591886054348873, 6.588602623293029, 6.585367981030633, 6.582181204435205, 6.579041388395993, 6.575947645463538, 6.572899105502245, 6.569894915349803, 6.566934238483361, 6.564016254692276, 6.561140159757342, 6.558305165136354, 6.55551049765588, 6.552755399209122, 6.550039126459759, 6.547360950551606, 6.544720156824045, 6.542116044533067, 6.539547926577793, 6.537015129232436, 6.534516991883529, 6.532052866772348, 6.529622118742429, 6.527224124992046, 6.524858274831607, 6.5225239694458015, 6.520220621660481, 6.5179476557141065, 6.515704507033721, 6.513490622015349, 6.511305457808711, 6.509148482106203, 6.507019172936023, 6.504917018459394, 6.502841516771767, 6.500792175707969, 6.4987685126511705, 6.496770054345632, 6.494796336713144, 6.492846904673082, 6.490921311966005, 6.48901912098074, 6.487139902584871, 6.48528323595857, 6.483448708431695, 6.481635915324117, 6.479844459789168, 6.478073952660195, 6.476324012300137, 6.474594264454038, 6.472884342104499, 6.4711938853299635, 6.469522541165785, 6.467869963468046, 6.466235812780057, 6.464619756201461, 6.463021467259956, 6.461440625785506, 6.459876917787043, 6.458330035331606, 6.456799676425836, 6.455285544899826, 6.453787350293239, 6.4523048077436735, 6.450837637877237, 6.449385566701252, 6.447948325499082, 6.446525650727033, 6.445117283913272, 6.443722971558739, 6.442342465040004, 6.440975520514043, 6.439621898824875, 6.438281365412041, 6.436953690220874, 6.435638647614558, 6.434336016287875, 6.4330455791826795, 6.431767123405028, 6.430500440143921, 6.429245324591665, 6.428001575865773, 6.426768996932427, 6.425547394531422, 6.424336579102593, 6.423136364713686, 6.421946568989651, 6.420767013043311, 6.419597521407394, 6.418437921967919, 6.417288045898863, 6.416147727598122, 6.4150168046247344, 6.41389511763733, 6.412782510333783, 6.411678829392051, 6.410583924412188, 6.4094976478594745, 6.4084198550086695, 6.407350403889371, 6.406289155232424, 6.405235972417394, 6.404190721421071, 6.40315327076697, 6.4021234914758445, 6.401101257017137, 6.400086443261423, 6.399078928433741, 6.398078593067874, 6.3970853199615085, 6.396098994132274, 6.395119502774649, 6.3941467352177, 6.393180582883668, 6.392220939247341, 6.391267699796237, 6.390320761991572, 6.389380025229972, 6.388445390805956, 6.387516761875133, 6.386594043418143, 6.385677142205279, 6.384765966761817, 6.383860427334014, 6.38296043585579, 6.3820659059160265, 6.381176752726552, 6.380292893090702, 6.379414245372538, 6.378540729466641, 6.377672266768504, 6.376808780145504, 6.37595019390844, 6.37509643378363, 6.374247426885543, 6.373403101689983, 6.3725633880077766, 6.371728216958995, 6.370897520947654, 6.370071233636944, 6.369249289924903, 6.368431625920591, 6.36761817892073, 6.366808887386782, 6.366003690922484, 6.365202530251829, 6.364405347197467, 6.363612084659528, 6.3628226865948605, 6.362037097996669, 6.361255264874564, 6.360477134234983, 6.359702654061999, 6.35893177329851, 6.358164441827787, 6.357400610455384, 6.356640230891401, 6.35588325573309, 6.355129638447809, 6.354379333356286, 6.353632295616243, 6.352888481206303, 6.3521478469102375, 6.351410350301504, 6.350675949728088, 6.3499446042976535, 6.349216273862955, 6.348490919007565, 6.347768501031855, 6.3470489819392535, 6.346332324422781, 6.345618491851847, 6.344907448259288, 6.344199158328661, 6.34349358738181, 6.34279070136664, 6.342090466845141, 6.341392850981652, 6.340697821531345, 6.340005346828937, 6.339315395777613, 6.338627937838174, 6.3379429430183905, 6.3372603818625635, 6.336580225441288, 6.335902445341414, 6.335227013656203, 6.334553902975679, 6.333883086377157, 6.33321453741597, 6.33254823011636, 6.3318841389625495, 6.331222238890004, 6.330562505276829, 6.32990491393537, 6.329249441103949, 6.328596063438775, 6.327944758006004, 6.327295502273957, 6.326648274105489, 6.326003051750497, 6.325359813838587, 6.324718539371872, 6.324079207717914, 6.323441798602797, 6.322806292104344, 6.322172668645454, 6.321540908987578, 6.320910994224314, 6.320282905775123, 6.319656625379176, 6.319032135089319, 6.318409417266138, 6.317788454572164, 6.317169229966164, 6.316551726697572, 6.315935928300989, 6.31532181859083, 6.314709381656042, 6.314098601854946, 6.313489463810152, 6.312881952403612, 6.31227605277173, 6.311671750300584, 6.311069030621236, 6.310467879605142, 6.309868283359632, 6.3092702282234905, 6.308673700762621, 6.308078687765792, 6.307485176240457, 6.306893153408672, 6.306302606703074, 6.305713523762948, 6.305125892430367, 6.3045397007464, 6.30395493694741, 6.303371589461392, 6.30278964690442, 6.30220909807713, 6.301629931961288, 6.301052137716417, 6.300475704676496, 6.2999006223467084, 6.299326880400272, 6.298754468675303, 6.298183377171773, 6.297613596048498, 6.297045115620202, 6.296477926354618, 6.295912018869666, 6.295347383930667, 6.294784012447628, 6.294221895472562, 6.293661024196864, 6.293101389948746, 6.292542984190711, 6.291985798517083, 6.29142982465157, 6.290875054444896, 6.290321479872458, 6.289769093032035, 6.289217886141547, 6.288667851536846, 6.288118981669551, 6.287571269104939, 6.287024706519856, 6.28647928670067, 6.2859350025412875, 6.285391847041171, 6.284849813303422, 6.284308894532894, 6.283769084034333, 6.283230375210556, 6.282692761560678, 6.282156236678352, 6.28162079425006, 6.281086428053422, 6.280553131955546, 6.280020899911414, 6.279489725962278, 6.278959604234113, 6.278430528936083, 6.277902494359034, 6.277375494874031, 6.276849524930904, 6.27632457905684, 6.275800651854977, 6.2752777380030595, 6.274755832252083, 6.274234929424992, 6.273715024415385, 6.273196112186252, 6.272678187768735, 6.272161246260914, 6.271645282826607, 6.271130292694202, 6.270616271155509, 6.2701032135646315, 6.26959111533686, 6.269079971947585, 6.268569778931238, 6.268060531880237, 6.267552226443971, 6.267044858327788, 6.2665384232920065, 6.266032917150956, 6.26552833577202, 6.265024675074695, 6.264521931029699, 6.264020099658049, 6.263519177030198, 6.263019159265161, 6.262520042529667, 6.2620218230373315, 6.2615244970478345, 6.261028060866127, 6.2605325108416325, 6.260037843367491, 6.259544054879784, 6.259051141856807, 6.258559100818331, 6.258067928324884, 6.257577620977064, 6.257088175414834, 6.256599588316854, 6.256111856399811, 6.255624976417777, 6.255138945161557, 6.254653759458079, 6.2541694161697565, 6.253685912193903, 6.253203244462131, 6.252721409939769, 6.252240405625293, 6.251760228549768, 6.251280875776288, 6.25080234439945, 6.25032463154481, 6.249847734368375, 6.249371650056086, 6.248896375823312, 6.248421908914373, 6.247948246602042, 6.247475386187076, 6.247003324997758, 6.246532060389427, 6.246061589744045, 6.2455919104697415, 6.245123020000398, 6.2446549157952065, 6.2441875953382695, 6.243721056138184, 6.243255295727635, 6.242790311663014, 6.242326101524029, 6.241862662913312, 6.241399993456072, 6.240938090799703, 6.240476952613444, 6.240016576588017, 6.239556960435285, 6.2390981018879135, 6.238639998699031, 6.23818264864191, 6.237726049509638, 6.2372701991148105, 6.236815095289211, 6.236360735883517, 6.235907118766994, 6.235454241827203, 6.235002102969726, 6.234550700117855, 6.234100031212346, 6.23365009421113, 6.23320088708904, 6.232752407837565, 6.232304654464575, 6.231857624994083, 6.231411317465986, 6.230965729935824, 6.230520860474542, 6.230076707168244, 6.229633268117983, 6.229190541439512, 6.228748525263071, 6.228307217733168, 6.227866617008365, 6.227426721261059, 6.2269875286772844, 6.2265490374565005, 6.226111245811399, 6.225674151967703, 6.225237754163971, 6.224802050651418, 6.224367039693711, 6.223932719566809, 6.223499088558766, 6.223066144969555, 6.222633887110906, 6.222202313306129, 6.221771421889942, 6.221341211208314, 6.220911679618301, 6.220482825487886, 6.220054647195823, 6.219627143131491, 6.219200311694729, 6.218774151295703, 6.218348660354753, 6.217923837302253, 6.217499680578467, 6.217076188633419, 6.216653359926751, 6.216231192927588, 6.21580968611442, 6.215388837974954, 6.214968647006013, 6.214549111713386, 6.214130230611723, 6.213712002224411, 6.213294425083457, 6.2128774977293695, 6.212461218711048, 6.212045586585671, 6.211630599918588, 6.211216257283203, 6.21080255726088, 6.2103894984408345, 6.209977079420029, 6.2095652988030725, 6.2091541552021265, 6.208743647236806, 6.208333773534075, 6.207924532728166, 6.207515923460486, 6.207107944379509, 6.206700594140712, 6.206293871406468, 6.205887774845971, 6.205482303135141, 6.205077454956554, 6.204673228999346, 6.204269623959144, 6.2038666385379795, 6.203464271444213, 6.203062521392459, 6.202661387103511, 6.202260867304261, 6.201860960727636, 6.201461666112519, 6.201062982203686, 6.200664907751729, 6.200267441512991, 6.199870582249501, 6.1994743287289085, 6.199078679724414, 6.198683634014708, 6.198289190383913, 6.197895347621512, 6.197502104522299, 6.197109459886307, 6.196717412518765, 6.196325961230023, 6.195935104835512, 6.195544842155673, 6.195155172015915, 6.194766093246549, 6.194377604682745, 6.193989705164476, 6.193602393536466, 6.193215668648137, 6.192829529353569, 6.192443974511431, 6.192059002984959, 6.191674613641886, 6.191290805354412, 6.190907576999141, 6.190524927457054, 6.190142855613453, 6.189761360357918, 6.189380440584265, 6.189000095190509, 6.188620323078815, 6.188241123155454, 6.1878624943307825, 6.187484435519171, 6.187106945638993, 6.186730023612569, 6.186353668366141, 6.185977878829821, 6.185602653937569, 6.185227992627145, 6.18485389384008, 6.184480356521637, 6.184107379620779, 6.183734962090137, 6.183363102885965, 6.182991800968123, 6.182621055300032, 6.182250864848649, 6.181881228584432, 6.1815121454813085, 6.181143614516648, 6.180775634671227, 6.180408204929205, 6.180041324278089, 6.179674991708713, 6.179309206215197, 6.178943966794932, 6.178579272448544, 6.17821512217987, 6.177851514995929, 6.177488449906904, 6.177125925926098, 6.176763942069927, 6.176402497357885, 6.176041590812521, 6.175681221459417, 6.175321388327157, 6.174962090447311, 6.174603326854405, 6.174245096585905, 6.173887398682185, 6.173530232186512, 6.173173596145021, 6.172817489606693, 6.1724619116233335, 6.17210686124955, 6.171752337542736, 6.171398339563041, 6.171044866373362, 6.170691917039311, 6.170339490629202, 6.169987586214039, 6.169636202867474, 6.169285339665812, 6.168934995687982, 6.168585170015516, 6.168235861732531, 6.167887069925718, 6.167538793684319, 6.167191032100111, 6.166843784267382, 6.166497049282928, 6.166150826246019, 6.165805114258397, 6.165459912424253, 6.165115219850206, 6.164771035645302, 6.164427358920983, 6.164084188791074, 6.163741524371777, 6.163399364781645, 6.163057709141572, 6.162716556574784, 6.1623759062068055, 6.162035757165469, 6.161696108580885, 6.16135695958543, 6.161018309313739, 6.160680156902685, 6.160342501491369, 6.1600053422211065, 6.15966867823541, 6.159332508679986, 6.1589968327027105, 6.158661649453619, 6.158326958084906, 6.157992757750891, 6.157659047608027, 6.157325826814875, 6.1569930945320985, 6.1566608499224476, 6.156329092150751, 6.155997820383902, 6.1556670337908495, 6.155336731542582, 6.155006912812122, 6.154677576774511, 6.154348722606802, 6.154020349488041, 6.153692456599273, 6.153365043123511, 6.153038108245739, 6.152711651152897, 6.152385671033873, 6.152060167079489, 6.151735138482499, 6.151410584437569, 6.151086504141273, 6.150762896792081, 6.15043976159036, 6.150117097738347, 6.1497949044401485, 6.149473180901734, 6.149151926330924, 6.148831139937379, 6.1485108209326, 6.1481909685298985, 6.147871581944416, 6.147552660393087, 6.147234203094659, 6.146916209269664, 6.14659867814041, 6.146281608930981, 6.145965000867235, 6.145648853176774, 6.145333165088959, 6.145017935834887, 6.144703164647391, 6.144388850761026, 6.14407499341207]\n"
          ],
          "name": "stdout"
        }
      ]
    },
    {
      "cell_type": "code",
      "metadata": {
        "id": "IKUbKYccxB6r",
        "colab_type": "code",
        "outputId": "0ef85368-8f86-4759-cd3e-a6c2ec4ef919",
        "colab": {
          "base_uri": "https://localhost:8080/",
          "height": 286
        }
      },
      "source": [
        "plt.plot(list(range(model.iters)),costs)"
      ],
      "execution_count": 269,
      "outputs": [
        {
          "output_type": "execute_result",
          "data": {
            "text/plain": [
              "[<matplotlib.lines.Line2D at 0x7f6d4eaf6828>]"
            ]
          },
          "metadata": {
            "tags": []
          },
          "execution_count": 269
        },
        {
          "output_type": "display_data",
          "data": {
            "image/png": "[encoded data removed]",
            "text/plain": [
              "<Figure size 432x288 with 1 Axes>"
            ]
          },
          "metadata": {
            "tags": []
          }
        }
      ]
    },
    {
      "cell_type": "code",
      "metadata": {
        "id": "H4T6a6M1DJIx",
        "colab_type": "code",
        "colab": {}
      },
      "source": [
        "# Testing the model\n",
        "res = model.predict(x_test)"
      ],
      "execution_count": 0,
      "outputs": []
    },
    {
      "cell_type": "code",
      "metadata": {
        "id": "amY6U8TN3dW5",
        "colab_type": "code",
        "outputId": "997bb28a-961c-4d2e-ef9f-d0fb6860a52a",
        "colab": {
          "base_uri": "https://localhost:8080/",
          "height": 35
        }
      },
      "source": [
        "round(model.r2_score(res,y_test),2) # 83% Accuracy "
      ],
      "execution_count": 273,
      "outputs": [
        {
          "output_type": "execute_result",
          "data": {
            "text/plain": [
              "0.83"
            ]
          },
          "metadata": {
            "tags": []
          },
          "execution_count": 273
        }
      ]
    },
    {
      "cell_type": "markdown",
      "metadata": {
        "id": "XXyKgpVXK6Qq",
        "colab_type": "text"
      },
      "source": [
        "## Conclusion\n",
        "------------------------------------------------------------\n",
        "\n",
        "1. So the coefficeints are \n",
        "\n",
        "```\n",
        "[23.47110699  2.74846214  1.1897075  -0.26717343 -1.10549102 -0.27488297\n",
        " -3.36656199 -0.57242311]\n",
        "\n",
        "  Thus the equation is -\n",
        "\n",
        "  MPG = 23.47  + year*2.74  + origin*1.19  + acceleration *(-0.27) + \n",
        "       horsepower*(-1.11) +  cylinders *(-0.27) +   weight*(-3.37)  + \n",
        "       displacement*(-0.57)\n",
        "\n",
        "```\n",
        "\n",
        "2. We are able to achieve **83% accuracy** using ***Gradient Descent method in Multivariate Linear regression.***"
      ]
    },
    {
      "cell_type": "code",
      "metadata": {
        "id": "N2URLmqGMry0",
        "colab_type": "code",
        "colab": {}
      },
      "source": [
        "Assignment -3c-1"
      ],
      "execution_count": 0,
      "outputs": []
    }
  ]
}