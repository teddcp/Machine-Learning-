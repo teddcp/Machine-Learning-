{
  "nbformat": 4,
  "nbformat_minor": 0,
  "metadata": {
    "colab": {
      "name": "Task_Wipro_Fraud Detection.ipynb",
      "provenance": [],
      "collapsed_sections": [],
      "toc_visible": true,
      "include_colab_link": true
    },
    "kernelspec": {
      "name": "python3",
      "display_name": "Python 3"
    }
  },
  "cells": [
    {
      "cell_type": "markdown",
      "metadata": {
        "id": "view-in-github",
        "colab_type": "text"
      },
      "source": [
        "<a href=\"https://colab.research.google.com/github/teddcp/Machine-Learning-/blob/master/Task_Wipro_Fraud_Detection.ipynb\" target=\"_parent\"><img src=\"https://colab.research.google.com/assets/colab-badge.svg\" alt=\"Open In Colab\"/></a>"
      ]
    },
    {
      "cell_type": "markdown",
      "metadata": {
        "id": "_HpFXrfl4pKy",
        "colab_type": "text"
      },
      "source": [
        "# Task\n",
        "------------------------"
      ]
    },
    {
      "cell_type": "code",
      "metadata": {
        "id": "gtCP4IBh4PqT",
        "colab_type": "code",
        "colab": {
          "base_uri": "https://localhost:8080/",
          "height": 72
        },
        "outputId": "8fc605b9-dd70-433a-add6-cd04d399cedc"
      },
      "source": [
        "import numpy as np\n",
        "import pandas as pd\n",
        "import matplotlib.pyplot as plt\n",
        "import seaborn as sns\n",
        "\n",
        "sns.set()"
      ],
      "execution_count": 1,
      "outputs": [
        {
          "output_type": "stream",
          "text": [
            "/usr/local/lib/python3.6/dist-packages/statsmodels/tools/_testing.py:19: FutureWarning: pandas.util.testing is deprecated. Use the functions in the public API at pandas.testing instead.\n",
            "  import pandas.util.testing as tm\n"
          ],
          "name": "stderr"
        }
      ]
    },
    {
      "cell_type": "code",
      "metadata": {
        "id": "ulVUG_uA41db",
        "colab_type": "code",
        "outputId": "2b20be33-b268-48f0-b7c3-d7089ce77809",
        "colab": {
          "base_uri": "https://localhost:8080/",
          "height": 214
        }
      },
      "source": [
        "data= pd.read_csv('/content/task.csv')\n",
        "data.head()"
      ],
      "execution_count": 2,
      "outputs": [
        {
          "output_type": "execute_result",
          "data": {
            "text/html": [
              "<div>\n",
              "<style scoped>\n",
              "    .dataframe tbody tr th:only-of-type {\n",
              "        vertical-align: middle;\n",
              "    }\n",
              "\n",
              "    .dataframe tbody tr th {\n",
              "        vertical-align: top;\n",
              "    }\n",
              "\n",
              "    .dataframe thead th {\n",
              "        text-align: right;\n",
              "    }\n",
              "</style>\n",
              "<table border=\"1\" class=\"dataframe\">\n",
              "  <thead>\n",
              "    <tr style=\"text-align: right;\">\n",
              "      <th></th>\n",
              "      <th>Time</th>\n",
              "      <th>V1</th>\n",
              "      <th>V2</th>\n",
              "      <th>V3</th>\n",
              "      <th>V4</th>\n",
              "      <th>V5</th>\n",
              "      <th>V6</th>\n",
              "      <th>V7</th>\n",
              "      <th>V8</th>\n",
              "      <th>V9</th>\n",
              "      <th>V10</th>\n",
              "      <th>V11</th>\n",
              "      <th>V12</th>\n",
              "      <th>V13</th>\n",
              "      <th>V14</th>\n",
              "      <th>V15</th>\n",
              "      <th>V16</th>\n",
              "      <th>V17</th>\n",
              "      <th>V18</th>\n",
              "      <th>V19</th>\n",
              "      <th>V20</th>\n",
              "      <th>V21</th>\n",
              "      <th>V22</th>\n",
              "      <th>V23</th>\n",
              "      <th>V24</th>\n",
              "      <th>V25</th>\n",
              "      <th>V26</th>\n",
              "      <th>V27</th>\n",
              "      <th>V28</th>\n",
              "      <th>Amount</th>\n",
              "      <th>Class</th>\n",
              "    </tr>\n",
              "  </thead>\n",
              "  <tbody>\n",
              "    <tr>\n",
              "      <th>0</th>\n",
              "      <td>0</td>\n",
              "      <td>-1.359807</td>\n",
              "      <td>-0.072781</td>\n",
              "      <td>2.536347</td>\n",
              "      <td>1.378155</td>\n",
              "      <td>-0.338321</td>\n",
              "      <td>0.462388</td>\n",
              "      <td>0.239599</td>\n",
              "      <td>0.098698</td>\n",
              "      <td>0.363787</td>\n",
              "      <td>0.090794</td>\n",
              "      <td>-0.551600</td>\n",
              "      <td>-0.617801</td>\n",
              "      <td>-0.991390</td>\n",
              "      <td>-0.311169</td>\n",
              "      <td>1.468177</td>\n",
              "      <td>-0.470401</td>\n",
              "      <td>0.207971</td>\n",
              "      <td>0.025791</td>\n",
              "      <td>0.403993</td>\n",
              "      <td>0.251412</td>\n",
              "      <td>-0.018307</td>\n",
              "      <td>0.277838</td>\n",
              "      <td>-0.110474</td>\n",
              "      <td>0.066928</td>\n",
              "      <td>0.128539</td>\n",
              "      <td>-0.189115</td>\n",
              "      <td>0.133558</td>\n",
              "      <td>-0.021053</td>\n",
              "      <td>149.62</td>\n",
              "      <td>0</td>\n",
              "    </tr>\n",
              "    <tr>\n",
              "      <th>1</th>\n",
              "      <td>0</td>\n",
              "      <td>1.191857</td>\n",
              "      <td>0.266151</td>\n",
              "      <td>0.166480</td>\n",
              "      <td>0.448154</td>\n",
              "      <td>0.060018</td>\n",
              "      <td>-0.082361</td>\n",
              "      <td>-0.078803</td>\n",
              "      <td>0.085102</td>\n",
              "      <td>-0.255425</td>\n",
              "      <td>-0.166974</td>\n",
              "      <td>1.612727</td>\n",
              "      <td>1.065235</td>\n",
              "      <td>0.489095</td>\n",
              "      <td>-0.143772</td>\n",
              "      <td>0.635558</td>\n",
              "      <td>0.463917</td>\n",
              "      <td>-0.114805</td>\n",
              "      <td>-0.183361</td>\n",
              "      <td>-0.145783</td>\n",
              "      <td>-0.069083</td>\n",
              "      <td>-0.225775</td>\n",
              "      <td>-0.638672</td>\n",
              "      <td>0.101288</td>\n",
              "      <td>-0.339846</td>\n",
              "      <td>0.167170</td>\n",
              "      <td>0.125895</td>\n",
              "      <td>-0.008983</td>\n",
              "      <td>0.014724</td>\n",
              "      <td>2.69</td>\n",
              "      <td>0</td>\n",
              "    </tr>\n",
              "    <tr>\n",
              "      <th>2</th>\n",
              "      <td>1</td>\n",
              "      <td>-1.358354</td>\n",
              "      <td>-1.340163</td>\n",
              "      <td>1.773209</td>\n",
              "      <td>0.379780</td>\n",
              "      <td>-0.503198</td>\n",
              "      <td>1.800499</td>\n",
              "      <td>0.791461</td>\n",
              "      <td>0.247676</td>\n",
              "      <td>-1.514654</td>\n",
              "      <td>0.207643</td>\n",
              "      <td>0.624501</td>\n",
              "      <td>0.066084</td>\n",
              "      <td>0.717293</td>\n",
              "      <td>-0.165946</td>\n",
              "      <td>2.345865</td>\n",
              "      <td>-2.890083</td>\n",
              "      <td>1.109969</td>\n",
              "      <td>-0.121359</td>\n",
              "      <td>-2.261857</td>\n",
              "      <td>0.524980</td>\n",
              "      <td>0.247998</td>\n",
              "      <td>0.771679</td>\n",
              "      <td>0.909412</td>\n",
              "      <td>-0.689281</td>\n",
              "      <td>-0.327642</td>\n",
              "      <td>-0.139097</td>\n",
              "      <td>-0.055353</td>\n",
              "      <td>-0.059752</td>\n",
              "      <td>378.66</td>\n",
              "      <td>0</td>\n",
              "    </tr>\n",
              "    <tr>\n",
              "      <th>3</th>\n",
              "      <td>1</td>\n",
              "      <td>-0.966272</td>\n",
              "      <td>-0.185226</td>\n",
              "      <td>1.792993</td>\n",
              "      <td>-0.863291</td>\n",
              "      <td>-0.010309</td>\n",
              "      <td>1.247203</td>\n",
              "      <td>0.237609</td>\n",
              "      <td>0.377436</td>\n",
              "      <td>-1.387024</td>\n",
              "      <td>-0.054952</td>\n",
              "      <td>-0.226487</td>\n",
              "      <td>0.178228</td>\n",
              "      <td>0.507757</td>\n",
              "      <td>-0.287924</td>\n",
              "      <td>-0.631418</td>\n",
              "      <td>-1.059647</td>\n",
              "      <td>-0.684093</td>\n",
              "      <td>1.965775</td>\n",
              "      <td>-1.232622</td>\n",
              "      <td>-0.208038</td>\n",
              "      <td>-0.108300</td>\n",
              "      <td>0.005274</td>\n",
              "      <td>-0.190321</td>\n",
              "      <td>-1.175575</td>\n",
              "      <td>0.647376</td>\n",
              "      <td>-0.221929</td>\n",
              "      <td>0.062723</td>\n",
              "      <td>0.061458</td>\n",
              "      <td>123.50</td>\n",
              "      <td>0</td>\n",
              "    </tr>\n",
              "    <tr>\n",
              "      <th>4</th>\n",
              "      <td>2</td>\n",
              "      <td>-1.158233</td>\n",
              "      <td>0.877737</td>\n",
              "      <td>1.548718</td>\n",
              "      <td>0.403034</td>\n",
              "      <td>-0.407193</td>\n",
              "      <td>0.095921</td>\n",
              "      <td>0.592941</td>\n",
              "      <td>-0.270533</td>\n",
              "      <td>0.817739</td>\n",
              "      <td>0.753074</td>\n",
              "      <td>-0.822843</td>\n",
              "      <td>0.538196</td>\n",
              "      <td>1.345852</td>\n",
              "      <td>-1.119670</td>\n",
              "      <td>0.175121</td>\n",
              "      <td>-0.451449</td>\n",
              "      <td>-0.237033</td>\n",
              "      <td>-0.038195</td>\n",
              "      <td>0.803487</td>\n",
              "      <td>0.408542</td>\n",
              "      <td>-0.009431</td>\n",
              "      <td>0.798278</td>\n",
              "      <td>-0.137458</td>\n",
              "      <td>0.141267</td>\n",
              "      <td>-0.206010</td>\n",
              "      <td>0.502292</td>\n",
              "      <td>0.219422</td>\n",
              "      <td>0.215153</td>\n",
              "      <td>69.99</td>\n",
              "      <td>0</td>\n",
              "    </tr>\n",
              "  </tbody>\n",
              "</table>\n",
              "</div>"
            ],
            "text/plain": [
              "   Time        V1        V2        V3  ...       V27       V28  Amount  Class\n",
              "0     0 -1.359807 -0.072781  2.536347  ...  0.133558 -0.021053  149.62      0\n",
              "1     0  1.191857  0.266151  0.166480  ... -0.008983  0.014724    2.69      0\n",
              "2     1 -1.358354 -1.340163  1.773209  ... -0.055353 -0.059752  378.66      0\n",
              "3     1 -0.966272 -0.185226  1.792993  ...  0.062723  0.061458  123.50      0\n",
              "4     2 -1.158233  0.877737  1.548718  ...  0.219422  0.215153   69.99      0\n",
              "\n",
              "[5 rows x 31 columns]"
            ]
          },
          "metadata": {
            "tags": []
          },
          "execution_count": 2
        }
      ]
    },
    {
      "cell_type": "code",
      "metadata": {
        "id": "5y6zIH7x5Rst",
        "colab_type": "code",
        "colab": {
          "base_uri": "https://localhost:8080/",
          "height": 214
        },
        "outputId": "9ce39752-9d1e-43fa-db03-3f2d9e98092c"
      },
      "source": [
        "data.tail()"
      ],
      "execution_count": 3,
      "outputs": [
        {
          "output_type": "execute_result",
          "data": {
            "text/html": [
              "<div>\n",
              "<style scoped>\n",
              "    .dataframe tbody tr th:only-of-type {\n",
              "        vertical-align: middle;\n",
              "    }\n",
              "\n",
              "    .dataframe tbody tr th {\n",
              "        vertical-align: top;\n",
              "    }\n",
              "\n",
              "    .dataframe thead th {\n",
              "        text-align: right;\n",
              "    }\n",
              "</style>\n",
              "<table border=\"1\" class=\"dataframe\">\n",
              "  <thead>\n",
              "    <tr style=\"text-align: right;\">\n",
              "      <th></th>\n",
              "      <th>Time</th>\n",
              "      <th>V1</th>\n",
              "      <th>V2</th>\n",
              "      <th>V3</th>\n",
              "      <th>V4</th>\n",
              "      <th>V5</th>\n",
              "      <th>V6</th>\n",
              "      <th>V7</th>\n",
              "      <th>V8</th>\n",
              "      <th>V9</th>\n",
              "      <th>V10</th>\n",
              "      <th>V11</th>\n",
              "      <th>V12</th>\n",
              "      <th>V13</th>\n",
              "      <th>V14</th>\n",
              "      <th>V15</th>\n",
              "      <th>V16</th>\n",
              "      <th>V17</th>\n",
              "      <th>V18</th>\n",
              "      <th>V19</th>\n",
              "      <th>V20</th>\n",
              "      <th>V21</th>\n",
              "      <th>V22</th>\n",
              "      <th>V23</th>\n",
              "      <th>V24</th>\n",
              "      <th>V25</th>\n",
              "      <th>V26</th>\n",
              "      <th>V27</th>\n",
              "      <th>V28</th>\n",
              "      <th>Amount</th>\n",
              "      <th>Class</th>\n",
              "    </tr>\n",
              "  </thead>\n",
              "  <tbody>\n",
              "    <tr>\n",
              "      <th>372</th>\n",
              "      <td>45501</td>\n",
              "      <td>1.001992</td>\n",
              "      <td>0.047938</td>\n",
              "      <td>-0.349002</td>\n",
              "      <td>1.493958</td>\n",
              "      <td>0.186939</td>\n",
              "      <td>0.190966</td>\n",
              "      <td>-0.001112</td>\n",
              "      <td>0.147140</td>\n",
              "      <td>0.580415</td>\n",
              "      <td>-0.792938</td>\n",
              "      <td>-0.984172</td>\n",
              "      <td>-0.567380</td>\n",
              "      <td>-1.105592</td>\n",
              "      <td>-1.381214</td>\n",
              "      <td>0.405490</td>\n",
              "      <td>0.279890</td>\n",
              "      <td>1.132160</td>\n",
              "      <td>0.092993</td>\n",
              "      <td>-0.298920</td>\n",
              "      <td>0.016004</td>\n",
              "      <td>-0.334417</td>\n",
              "      <td>-1.014315</td>\n",
              "      <td>-0.128427</td>\n",
              "      <td>-0.946242</td>\n",
              "      <td>0.456090</td>\n",
              "      <td>-0.453206</td>\n",
              "      <td>0.046627</td>\n",
              "      <td>0.064698</td>\n",
              "      <td>105.99</td>\n",
              "      <td>1</td>\n",
              "    </tr>\n",
              "    <tr>\n",
              "      <th>373</th>\n",
              "      <td>45541</td>\n",
              "      <td>-1.519244</td>\n",
              "      <td>2.308492</td>\n",
              "      <td>-1.503599</td>\n",
              "      <td>2.064101</td>\n",
              "      <td>-1.000845</td>\n",
              "      <td>-1.016897</td>\n",
              "      <td>-2.059731</td>\n",
              "      <td>-0.275166</td>\n",
              "      <td>-1.562206</td>\n",
              "      <td>-2.755797</td>\n",
              "      <td>3.438248</td>\n",
              "      <td>-3.521529</td>\n",
              "      <td>-0.918761</td>\n",
              "      <td>-4.452100</td>\n",
              "      <td>0.499314</td>\n",
              "      <td>-2.907903</td>\n",
              "      <td>-5.248646</td>\n",
              "      <td>-0.936815</td>\n",
              "      <td>1.160120</td>\n",
              "      <td>0.175019</td>\n",
              "      <td>1.307871</td>\n",
              "      <td>0.102826</td>\n",
              "      <td>-0.017746</td>\n",
              "      <td>0.149696</td>\n",
              "      <td>-0.096602</td>\n",
              "      <td>-0.369115</td>\n",
              "      <td>-0.019244</td>\n",
              "      <td>-0.208319</td>\n",
              "      <td>1.00</td>\n",
              "      <td>1</td>\n",
              "    </tr>\n",
              "    <tr>\n",
              "      <th>374</th>\n",
              "      <td>46057</td>\n",
              "      <td>-1.309441</td>\n",
              "      <td>1.786495</td>\n",
              "      <td>-1.371070</td>\n",
              "      <td>1.214335</td>\n",
              "      <td>-0.336642</td>\n",
              "      <td>-1.390120</td>\n",
              "      <td>-1.709109</td>\n",
              "      <td>0.667748</td>\n",
              "      <td>-1.699809</td>\n",
              "      <td>-3.843911</td>\n",
              "      <td>2.962599</td>\n",
              "      <td>-3.956045</td>\n",
              "      <td>-1.539232</td>\n",
              "      <td>-4.634631</td>\n",
              "      <td>-0.248403</td>\n",
              "      <td>-2.058551</td>\n",
              "      <td>-5.635494</td>\n",
              "      <td>-0.775271</td>\n",
              "      <td>-0.239310</td>\n",
              "      <td>0.253464</td>\n",
              "      <td>0.533521</td>\n",
              "      <td>-0.022180</td>\n",
              "      <td>-0.299556</td>\n",
              "      <td>-0.226416</td>\n",
              "      <td>0.364360</td>\n",
              "      <td>-0.475102</td>\n",
              "      <td>0.571426</td>\n",
              "      <td>0.293426</td>\n",
              "      <td>1.00</td>\n",
              "      <td>1</td>\n",
              "    </tr>\n",
              "    <tr>\n",
              "      <th>375</th>\n",
              "      <td>46149</td>\n",
              "      <td>-1.346509</td>\n",
              "      <td>2.132431</td>\n",
              "      <td>-1.854355</td>\n",
              "      <td>2.116998</td>\n",
              "      <td>-1.070378</td>\n",
              "      <td>-1.092671</td>\n",
              "      <td>-2.230986</td>\n",
              "      <td>1.036425</td>\n",
              "      <td>-1.895516</td>\n",
              "      <td>-3.364011</td>\n",
              "      <td>2.887048</td>\n",
              "      <td>-3.784460</td>\n",
              "      <td>-1.288904</td>\n",
              "      <td>-3.985626</td>\n",
              "      <td>0.531838</td>\n",
              "      <td>-2.603703</td>\n",
              "      <td>-5.157596</td>\n",
              "      <td>-0.696010</td>\n",
              "      <td>1.285961</td>\n",
              "      <td>0.221919</td>\n",
              "      <td>0.609508</td>\n",
              "      <td>0.202874</td>\n",
              "      <td>-0.060791</td>\n",
              "      <td>-0.186733</td>\n",
              "      <td>-0.017401</td>\n",
              "      <td>-0.283751</td>\n",
              "      <td>0.395451</td>\n",
              "      <td>0.233139</td>\n",
              "      <td>1.00</td>\n",
              "      <td>1</td>\n",
              "    </tr>\n",
              "    <tr>\n",
              "      <th>376</th>\n",
              "      <td>46925</td>\n",
              "      <td>-0.481531</td>\n",
              "      <td>1.059542</td>\n",
              "      <td>0.647117</td>\n",
              "      <td>0.905586</td>\n",
              "      <td>0.819368</td>\n",
              "      <td>-0.091184</td>\n",
              "      <td>0.504135</td>\n",
              "      <td>0.161064</td>\n",
              "      <td>-0.765054</td>\n",
              "      <td>-0.550545</td>\n",
              "      <td>1.480286</td>\n",
              "      <td>-0.105359</td>\n",
              "      <td>-0.804841</td>\n",
              "      <td>-0.819902</td>\n",
              "      <td>0.916882</td>\n",
              "      <td>0.201151</td>\n",
              "      <td>0.874891</td>\n",
              "      <td>0.941477</td>\n",
              "      <td>0.272698</td>\n",
              "      <td>-0.042515</td>\n",
              "      <td>0.070633</td>\n",
              "      <td>0.192491</td>\n",
              "      <td>-0.174659</td>\n",
              "      <td>-0.438908</td>\n",
              "      <td>0.239259</td>\n",
              "      <td>-0.217823</td>\n",
              "      <td>-0.072852</td>\n",
              "      <td>0.010463</td>\n",
              "      <td>1.00</td>\n",
              "      <td>1</td>\n",
              "    </tr>\n",
              "  </tbody>\n",
              "</table>\n",
              "</div>"
            ],
            "text/plain": [
              "      Time        V1        V2        V3  ...       V27       V28  Amount  Class\n",
              "372  45501  1.001992  0.047938 -0.349002  ...  0.046627  0.064698  105.99      1\n",
              "373  45541 -1.519244  2.308492 -1.503599  ... -0.019244 -0.208319    1.00      1\n",
              "374  46057 -1.309441  1.786495 -1.371070  ...  0.571426  0.293426    1.00      1\n",
              "375  46149 -1.346509  2.132431 -1.854355  ...  0.395451  0.233139    1.00      1\n",
              "376  46925 -0.481531  1.059542  0.647117  ... -0.072852  0.010463    1.00      1\n",
              "\n",
              "[5 rows x 31 columns]"
            ]
          },
          "metadata": {
            "tags": []
          },
          "execution_count": 3
        }
      ]
    },
    {
      "cell_type": "code",
      "metadata": {
        "id": "_Uqtjwcd6SAA",
        "colab_type": "code",
        "colab": {
          "base_uri": "https://localhost:8080/",
          "height": 692
        },
        "outputId": "ea141f87-cb0f-47f1-a007-a3ee568d8007"
      },
      "source": [
        "data.info()   \n",
        "\n",
        "# All are numerical columns\n",
        "# No Null value is present"
      ],
      "execution_count": 4,
      "outputs": [
        {
          "output_type": "stream",
          "text": [
            "<class 'pandas.core.frame.DataFrame'>\n",
            "RangeIndex: 377 entries, 0 to 376\n",
            "Data columns (total 31 columns):\n",
            " #   Column  Non-Null Count  Dtype  \n",
            "---  ------  --------------  -----  \n",
            " 0   Time    377 non-null    int64  \n",
            " 1   V1      377 non-null    float64\n",
            " 2   V2      377 non-null    float64\n",
            " 3   V3      377 non-null    float64\n",
            " 4   V4      377 non-null    float64\n",
            " 5   V5      377 non-null    float64\n",
            " 6   V6      377 non-null    float64\n",
            " 7   V7      377 non-null    float64\n",
            " 8   V8      377 non-null    float64\n",
            " 9   V9      377 non-null    float64\n",
            " 10  V10     377 non-null    float64\n",
            " 11  V11     377 non-null    float64\n",
            " 12  V12     377 non-null    float64\n",
            " 13  V13     377 non-null    float64\n",
            " 14  V14     377 non-null    float64\n",
            " 15  V15     377 non-null    float64\n",
            " 16  V16     377 non-null    float64\n",
            " 17  V17     377 non-null    float64\n",
            " 18  V18     377 non-null    float64\n",
            " 19  V19     377 non-null    float64\n",
            " 20  V20     377 non-null    float64\n",
            " 21  V21     377 non-null    float64\n",
            " 22  V22     377 non-null    float64\n",
            " 23  V23     377 non-null    float64\n",
            " 24  V24     377 non-null    float64\n",
            " 25  V25     377 non-null    float64\n",
            " 26  V26     377 non-null    float64\n",
            " 27  V27     377 non-null    float64\n",
            " 28  V28     377 non-null    float64\n",
            " 29  Amount  377 non-null    float64\n",
            " 30  Class   377 non-null    int64  \n",
            "dtypes: float64(29), int64(2)\n",
            "memory usage: 91.4 KB\n"
          ],
          "name": "stdout"
        }
      ]
    },
    {
      "cell_type": "code",
      "metadata": {
        "id": "3Tue0I0_6qPc",
        "colab_type": "code",
        "colab": {
          "base_uri": "https://localhost:8080/",
          "height": 282
        },
        "outputId": "77880bfa-99f9-405c-92e8-ec2a36a84b18"
      },
      "source": [
        "data[['Time','Amount','Class','V1','V5','V10', 'V15','V20','V25','V28']].describe()\n",
        "\n",
        "# Time and Amount has the highest Variance\n",
        "# From v1 to v28, Variance keeps decreasing "
      ],
      "execution_count": 5,
      "outputs": [
        {
          "output_type": "execute_result",
          "data": {
            "text/html": [
              "<div>\n",
              "<style scoped>\n",
              "    .dataframe tbody tr th:only-of-type {\n",
              "        vertical-align: middle;\n",
              "    }\n",
              "\n",
              "    .dataframe tbody tr th {\n",
              "        vertical-align: top;\n",
              "    }\n",
              "\n",
              "    .dataframe thead th {\n",
              "        text-align: right;\n",
              "    }\n",
              "</style>\n",
              "<table border=\"1\" class=\"dataframe\">\n",
              "  <thead>\n",
              "    <tr style=\"text-align: right;\">\n",
              "      <th></th>\n",
              "      <th>Time</th>\n",
              "      <th>Amount</th>\n",
              "      <th>Class</th>\n",
              "      <th>V1</th>\n",
              "      <th>V5</th>\n",
              "      <th>V10</th>\n",
              "      <th>V15</th>\n",
              "      <th>V20</th>\n",
              "      <th>V25</th>\n",
              "      <th>V28</th>\n",
              "    </tr>\n",
              "  </thead>\n",
              "  <tbody>\n",
              "    <tr>\n",
              "      <th>count</th>\n",
              "      <td>377.000000</td>\n",
              "      <td>377.000000</td>\n",
              "      <td>377.000000</td>\n",
              "      <td>377.000000</td>\n",
              "      <td>377.000000</td>\n",
              "      <td>377.000000</td>\n",
              "      <td>377.000000</td>\n",
              "      <td>377.000000</td>\n",
              "      <td>377.000000</td>\n",
              "      <td>377.000000</td>\n",
              "    </tr>\n",
              "    <tr>\n",
              "      <th>mean</th>\n",
              "      <td>11560.519894</td>\n",
              "      <td>91.942308</td>\n",
              "      <td>0.413793</td>\n",
              "      <td>-3.177834</td>\n",
              "      <td>-2.249336</td>\n",
              "      <td>-2.974752</td>\n",
              "      <td>0.212045</td>\n",
              "      <td>0.194470</td>\n",
              "      <td>0.188378</td>\n",
              "      <td>-0.006960</td>\n",
              "    </tr>\n",
              "    <tr>\n",
              "      <th>std</th>\n",
              "      <td>16113.132954</td>\n",
              "      <td>275.995924</td>\n",
              "      <td>0.493167</td>\n",
              "      <td>6.509699</td>\n",
              "      <td>5.052097</td>\n",
              "      <td>4.708454</td>\n",
              "      <td>0.857160</td>\n",
              "      <td>0.832666</td>\n",
              "      <td>0.728184</td>\n",
              "      <td>0.472548</td>\n",
              "    </tr>\n",
              "    <tr>\n",
              "      <th>min</th>\n",
              "      <td>0.000000</td>\n",
              "      <td>0.000000</td>\n",
              "      <td>0.000000</td>\n",
              "      <td>-30.552380</td>\n",
              "      <td>-22.105532</td>\n",
              "      <td>-18.271168</td>\n",
              "      <td>-3.618060</td>\n",
              "      <td>-3.042626</td>\n",
              "      <td>-4.781606</td>\n",
              "      <td>-1.869290</td>\n",
              "    </tr>\n",
              "    <tr>\n",
              "      <th>25%</th>\n",
              "      <td>64.000000</td>\n",
              "      <td>1.980000</td>\n",
              "      <td>0.000000</td>\n",
              "      <td>-3.240187</td>\n",
              "      <td>-2.315027</td>\n",
              "      <td>-5.390330</td>\n",
              "      <td>-0.309229</td>\n",
              "      <td>-0.171608</td>\n",
              "      <td>-0.137521</td>\n",
              "      <td>-0.059752</td>\n",
              "    </tr>\n",
              "    <tr>\n",
              "      <th>50%</th>\n",
              "      <td>124.000000</td>\n",
              "      <td>17.280000</td>\n",
              "      <td>0.000000</td>\n",
              "      <td>-0.833200</td>\n",
              "      <td>-0.468466</td>\n",
              "      <td>-0.482474</td>\n",
              "      <td>0.265576</td>\n",
              "      <td>0.021754</td>\n",
              "      <td>0.156282</td>\n",
              "      <td>0.031800</td>\n",
              "    </tr>\n",
              "    <tr>\n",
              "      <th>75%</th>\n",
              "      <td>26523.000000</td>\n",
              "      <td>88.000000</td>\n",
              "      <td>1.000000</td>\n",
              "      <td>0.925997</td>\n",
              "      <td>0.334284</td>\n",
              "      <td>0.047156</td>\n",
              "      <td>0.819288</td>\n",
              "      <td>0.422743</td>\n",
              "      <td>0.548265</td>\n",
              "      <td>0.202788</td>\n",
              "    </tr>\n",
              "    <tr>\n",
              "      <th>max</th>\n",
              "      <td>46925.000000</td>\n",
              "      <td>3828.040000</td>\n",
              "      <td>1.000000</td>\n",
              "      <td>1.492936</td>\n",
              "      <td>7.672544</td>\n",
              "      <td>6.427802</td>\n",
              "      <td>2.345865</td>\n",
              "      <td>7.744222</td>\n",
              "      <td>2.208209</td>\n",
              "      <td>1.575380</td>\n",
              "    </tr>\n",
              "  </tbody>\n",
              "</table>\n",
              "</div>"
            ],
            "text/plain": [
              "               Time       Amount  ...         V25         V28\n",
              "count    377.000000   377.000000  ...  377.000000  377.000000\n",
              "mean   11560.519894    91.942308  ...    0.188378   -0.006960\n",
              "std    16113.132954   275.995924  ...    0.728184    0.472548\n",
              "min        0.000000     0.000000  ...   -4.781606   -1.869290\n",
              "25%       64.000000     1.980000  ...   -0.137521   -0.059752\n",
              "50%      124.000000    17.280000  ...    0.156282    0.031800\n",
              "75%    26523.000000    88.000000  ...    0.548265    0.202788\n",
              "max    46925.000000  3828.040000  ...    2.208209    1.575380\n",
              "\n",
              "[8 rows x 10 columns]"
            ]
          },
          "metadata": {
            "tags": []
          },
          "execution_count": 5
        }
      ]
    },
    {
      "cell_type": "code",
      "metadata": {
        "id": "j7RlYSWv6wQc",
        "colab_type": "code",
        "colab": {
          "base_uri": "https://localhost:8080/",
          "height": 70
        },
        "outputId": "7c03057d-21c6-4abf-9956-0a96de68de93"
      },
      "source": [
        "data.Class.value_counts(normalize=True).round(2)\n",
        "\n",
        "# 60 : 40 \n",
        "#  CASE-1 : We can consider the class proportion  as balanced Because it is not that much imbalanced\n",
        "#  CASE-2 : Secondly we can consider as imbalanced after all its not in 50-50"
      ],
      "execution_count": 6,
      "outputs": [
        {
          "output_type": "execute_result",
          "data": {
            "text/plain": [
              "0    0.59\n",
              "1    0.41\n",
              "Name: Class, dtype: float64"
            ]
          },
          "metadata": {
            "tags": []
          },
          "execution_count": 6
        }
      ]
    },
    {
      "cell_type": "code",
      "metadata": {
        "id": "hM_S1_okkKu2",
        "colab_type": "code",
        "colab": {
          "base_uri": "https://localhost:8080/",
          "height": 70
        },
        "outputId": "0f738784-3c5f-45ff-c12b-e4efd93552f6"
      },
      "source": [
        "data.Class.value_counts()"
      ],
      "execution_count": 7,
      "outputs": [
        {
          "output_type": "execute_result",
          "data": {
            "text/plain": [
              "0    221\n",
              "1    156\n",
              "Name: Class, dtype: int64"
            ]
          },
          "metadata": {
            "tags": []
          },
          "execution_count": 7
        }
      ]
    },
    {
      "cell_type": "markdown",
      "metadata": {
        "id": "xYp2hIvvjW4r",
        "colab_type": "text"
      },
      "source": [
        "## Notes\n",
        "-------------------------------\n",
        "\n",
        "1. It is a binary classification\n",
        "2. ```V1 to V28``` are already standardized as most of the values are close to 0 or 1. Variance keeps decreasing from ```V1 to V28```.\n",
        "\n",
        "3. Neither the categorical nor null values are present\n",
        "4. Only the time and Amount has highest Variane compared to others.\n",
        "5. Time column must be in seconds or micro-seconds, We can convert it to hours.\n"
      ]
    },
    {
      "cell_type": "markdown",
      "metadata": {
        "id": "DVWSwepOHkYI",
        "colab_type": "text"
      },
      "source": [
        "# Method -1 : Considering the classes are not so imbalanced\n",
        "--------------------------------------------------------------------------"
      ]
    },
    {
      "cell_type": "markdown",
      "metadata": {
        "colab_type": "text",
        "id": "i8EIb0Jkf7P-"
      },
      "source": [
        "## Feature Enginerring\n",
        "----------------------------------\n",
        "\n",
        "1. we will convert the Time column from ```seconds to hours``` to decrease the variance.\n",
        "2. Then we will apply Power Trasformation(log / BoxCox  ) on the Amount column to reduce the variance. \n",
        "3. Then we will analyze the plot between ```Amount vs Time```to check any relationships between them.\n",
        "4. Finally we will check the distributions of ```v1 to v28```.\n"
      ]
    },
    {
      "cell_type": "code",
      "metadata": {
        "id": "u4tFjuxCaf4c",
        "colab_type": "code",
        "colab": {}
      },
      "source": [
        "# 1. Converting the time column to hours before splitting\n",
        "data.Time= data.Time / 3600"
      ],
      "execution_count": 0,
      "outputs": []
    },
    {
      "cell_type": "code",
      "metadata": {
        "id": "rvZJ0iJTanEG",
        "colab_type": "code",
        "colab": {
          "base_uri": "https://localhost:8080/",
          "height": 282
        },
        "outputId": "caf62d8d-6f07-48e9-d804-25f8a4795b6d"
      },
      "source": [
        "data[['Time','Amount','Class','V1','V5','V10', 'V15','V20','V25','V28']].describe()"
      ],
      "execution_count": 9,
      "outputs": [
        {
          "output_type": "execute_result",
          "data": {
            "text/html": [
              "<div>\n",
              "<style scoped>\n",
              "    .dataframe tbody tr th:only-of-type {\n",
              "        vertical-align: middle;\n",
              "    }\n",
              "\n",
              "    .dataframe tbody tr th {\n",
              "        vertical-align: top;\n",
              "    }\n",
              "\n",
              "    .dataframe thead th {\n",
              "        text-align: right;\n",
              "    }\n",
              "</style>\n",
              "<table border=\"1\" class=\"dataframe\">\n",
              "  <thead>\n",
              "    <tr style=\"text-align: right;\">\n",
              "      <th></th>\n",
              "      <th>Time</th>\n",
              "      <th>Amount</th>\n",
              "      <th>Class</th>\n",
              "      <th>V1</th>\n",
              "      <th>V5</th>\n",
              "      <th>V10</th>\n",
              "      <th>V15</th>\n",
              "      <th>V20</th>\n",
              "      <th>V25</th>\n",
              "      <th>V28</th>\n",
              "    </tr>\n",
              "  </thead>\n",
              "  <tbody>\n",
              "    <tr>\n",
              "      <th>count</th>\n",
              "      <td>377.000000</td>\n",
              "      <td>377.000000</td>\n",
              "      <td>377.000000</td>\n",
              "      <td>377.000000</td>\n",
              "      <td>377.000000</td>\n",
              "      <td>377.000000</td>\n",
              "      <td>377.000000</td>\n",
              "      <td>377.000000</td>\n",
              "      <td>377.000000</td>\n",
              "      <td>377.000000</td>\n",
              "    </tr>\n",
              "    <tr>\n",
              "      <th>mean</th>\n",
              "      <td>3.211256</td>\n",
              "      <td>91.942308</td>\n",
              "      <td>0.413793</td>\n",
              "      <td>-3.177834</td>\n",
              "      <td>-2.249336</td>\n",
              "      <td>-2.974752</td>\n",
              "      <td>0.212045</td>\n",
              "      <td>0.194470</td>\n",
              "      <td>0.188378</td>\n",
              "      <td>-0.006960</td>\n",
              "    </tr>\n",
              "    <tr>\n",
              "      <th>std</th>\n",
              "      <td>4.475870</td>\n",
              "      <td>275.995924</td>\n",
              "      <td>0.493167</td>\n",
              "      <td>6.509699</td>\n",
              "      <td>5.052097</td>\n",
              "      <td>4.708454</td>\n",
              "      <td>0.857160</td>\n",
              "      <td>0.832666</td>\n",
              "      <td>0.728184</td>\n",
              "      <td>0.472548</td>\n",
              "    </tr>\n",
              "    <tr>\n",
              "      <th>min</th>\n",
              "      <td>0.000000</td>\n",
              "      <td>0.000000</td>\n",
              "      <td>0.000000</td>\n",
              "      <td>-30.552380</td>\n",
              "      <td>-22.105532</td>\n",
              "      <td>-18.271168</td>\n",
              "      <td>-3.618060</td>\n",
              "      <td>-3.042626</td>\n",
              "      <td>-4.781606</td>\n",
              "      <td>-1.869290</td>\n",
              "    </tr>\n",
              "    <tr>\n",
              "      <th>25%</th>\n",
              "      <td>0.017778</td>\n",
              "      <td>1.980000</td>\n",
              "      <td>0.000000</td>\n",
              "      <td>-3.240187</td>\n",
              "      <td>-2.315027</td>\n",
              "      <td>-5.390330</td>\n",
              "      <td>-0.309229</td>\n",
              "      <td>-0.171608</td>\n",
              "      <td>-0.137521</td>\n",
              "      <td>-0.059752</td>\n",
              "    </tr>\n",
              "    <tr>\n",
              "      <th>50%</th>\n",
              "      <td>0.034444</td>\n",
              "      <td>17.280000</td>\n",
              "      <td>0.000000</td>\n",
              "      <td>-0.833200</td>\n",
              "      <td>-0.468466</td>\n",
              "      <td>-0.482474</td>\n",
              "      <td>0.265576</td>\n",
              "      <td>0.021754</td>\n",
              "      <td>0.156282</td>\n",
              "      <td>0.031800</td>\n",
              "    </tr>\n",
              "    <tr>\n",
              "      <th>75%</th>\n",
              "      <td>7.367500</td>\n",
              "      <td>88.000000</td>\n",
              "      <td>1.000000</td>\n",
              "      <td>0.925997</td>\n",
              "      <td>0.334284</td>\n",
              "      <td>0.047156</td>\n",
              "      <td>0.819288</td>\n",
              "      <td>0.422743</td>\n",
              "      <td>0.548265</td>\n",
              "      <td>0.202788</td>\n",
              "    </tr>\n",
              "    <tr>\n",
              "      <th>max</th>\n",
              "      <td>13.034722</td>\n",
              "      <td>3828.040000</td>\n",
              "      <td>1.000000</td>\n",
              "      <td>1.492936</td>\n",
              "      <td>7.672544</td>\n",
              "      <td>6.427802</td>\n",
              "      <td>2.345865</td>\n",
              "      <td>7.744222</td>\n",
              "      <td>2.208209</td>\n",
              "      <td>1.575380</td>\n",
              "    </tr>\n",
              "  </tbody>\n",
              "</table>\n",
              "</div>"
            ],
            "text/plain": [
              "             Time       Amount       Class  ...         V20         V25         V28\n",
              "count  377.000000   377.000000  377.000000  ...  377.000000  377.000000  377.000000\n",
              "mean     3.211256    91.942308    0.413793  ...    0.194470    0.188378   -0.006960\n",
              "std      4.475870   275.995924    0.493167  ...    0.832666    0.728184    0.472548\n",
              "min      0.000000     0.000000    0.000000  ...   -3.042626   -4.781606   -1.869290\n",
              "25%      0.017778     1.980000    0.000000  ...   -0.171608   -0.137521   -0.059752\n",
              "50%      0.034444    17.280000    0.000000  ...    0.021754    0.156282    0.031800\n",
              "75%      7.367500    88.000000    1.000000  ...    0.422743    0.548265    0.202788\n",
              "max     13.034722  3828.040000    1.000000  ...    7.744222    2.208209    1.575380\n",
              "\n",
              "[8 rows x 10 columns]"
            ]
          },
          "metadata": {
            "tags": []
          },
          "execution_count": 9
        }
      ]
    },
    {
      "cell_type": "code",
      "metadata": {
        "id": "gh_jIodjbTMH",
        "colab_type": "code",
        "colab": {
          "base_uri": "https://localhost:8080/",
          "height": 319
        },
        "outputId": "744e7448-a5d8-40af-8045-7eec4f50a7d4"
      },
      "source": [
        "# Plotting the time columns : Histogram\n",
        "\n",
        "sns.distplot(data.Time, bins=40,kde=False)\n",
        "\n",
        "plt.xlabel('Time (hr)')\n",
        "plt.ylabel('Count')\n",
        "plt.title('Time\\'s Distribution')\n",
        "\n",
        "# Most of the Amounts are drawn out in the Mid-Night\n",
        "# it is also possible "
      ],
      "execution_count": 10,
      "outputs": [
        {
          "output_type": "execute_result",
          "data": {
            "text/plain": [
              "Text(0.5, 1.0, \"Time's Distribution\")"
            ]
          },
          "metadata": {
            "tags": []
          },
          "execution_count": 10
        },
        {
          "output_type": "display_data",
          "data": {
            "image/png": "[encoded data removed]",
            "text/plain": [
              "<Figure size 432x288 with 1 Axes>"
            ]
          },
          "metadata": {
            "tags": [],
            "needs_background": "light"
          }
        }
      ]
    },
    {
      "cell_type": "code",
      "metadata": {
        "id": "bcs_lTsii-_u",
        "colab_type": "code",
        "colab": {
          "base_uri": "https://localhost:8080/",
          "height": 319
        },
        "outputId": "ebace5f2-565e-490e-a2ba-a7f16308c913"
      },
      "source": [
        "# Plotting Amounts\n",
        "sns.distplot(data.Amount, bins=5,kde=False,rug=True)\n",
        "\n",
        "plt.xlabel(' Amount')\n",
        "plt.ylabel('Count')\n",
        "plt.title(' Amount\\'s Distribution')"
      ],
      "execution_count": 11,
      "outputs": [
        {
          "output_type": "execute_result",
          "data": {
            "text/plain": [
              "Text(0.5, 1.0, \" Amount's Distribution\")"
            ]
          },
          "metadata": {
            "tags": []
          },
          "execution_count": 11
        },
        {
          "output_type": "display_data",
          "data": {
            "image/png": "[encoded data removed]",
            "text/plain": [
              "<Figure size 432x288 with 1 Axes>"
            ]
          },
          "metadata": {
            "tags": [],
            "needs_background": "light"
          }
        }
      ]
    },
    {
      "cell_type": "code",
      "metadata": {
        "id": "qzf415W-pIoM",
        "colab_type": "code",
        "colab": {
          "base_uri": "https://localhost:8080/",
          "height": 35
        },
        "outputId": "fb1b07ff-a576-46bc-964d-f60072676342"
      },
      "source": [
        "data.Amount.skew()\n",
        "# +ve Skewed\n",
        "# right skewed"
      ],
      "execution_count": 12,
      "outputs": [
        {
          "output_type": "execute_result",
          "data": {
            "text/plain": [
              "8.361886365901299"
            ]
          },
          "metadata": {
            "tags": []
          },
          "execution_count": 12
        }
      ]
    },
    {
      "cell_type": "code",
      "metadata": {
        "id": "sPv-5yBvi-7W",
        "colab_type": "code",
        "colab": {
          "base_uri": "https://localhost:8080/",
          "height": 387
        },
        "outputId": "f5f57370-b15b-4e8f-da3f-2dda7537f9cc"
      },
      "source": [
        "sns.catplot(y='Amount',data=data, kind='box')"
      ],
      "execution_count": 13,
      "outputs": [
        {
          "output_type": "execute_result",
          "data": {
            "text/plain": [
              "<seaborn.axisgrid.FacetGrid at 0x7fed20a0c940>"
            ]
          },
          "metadata": {
            "tags": []
          },
          "execution_count": 13
        },
        {
          "output_type": "display_data",
          "data": {
            "image/png": "[encoded data removed]",
            "text/plain": [
              "<Figure size 360x360 with 1 Axes>"
            ]
          },
          "metadata": {
            "tags": [],
            "needs_background": "light"
          }
        }
      ]
    },
    {
      "cell_type": "code",
      "metadata": {
        "id": "2q2izIaTrgQo",
        "colab_type": "code",
        "colab": {}
      },
      "source": [
        "from scipy import stats"
      ],
      "execution_count": 0,
      "outputs": []
    },
    {
      "cell_type": "code",
      "metadata": {
        "id": "o6Og_boXiAYe",
        "colab_type": "code",
        "colab": {}
      },
      "source": [
        "# Performing BoxCox transformation on Amount\n",
        "data.Amount, params= stats.boxcox(data.Amount+ 1e-4)\n",
        "\n",
        "# i have added 1e-4 as some of the amounts are 0\n",
        "# to shift them and then have applied the BoxCox Transformation"
      ],
      "execution_count": 0,
      "outputs": []
    },
    {
      "cell_type": "code",
      "metadata": {
        "id": "e-AATyQOhB-F",
        "colab_type": "code",
        "colab": {
          "base_uri": "https://localhost:8080/",
          "height": 177
        },
        "outputId": "57d99928-ba15-4d2d-957e-6891c34958b8"
      },
      "source": [
        "# Plotting a boxplot\n",
        "data.Amount.describe()"
      ],
      "execution_count": 16,
      "outputs": [
        {
          "output_type": "execute_result",
          "data": {
            "text/plain": [
              "count    377.000000\n",
              "mean       3.270294\n",
              "std        2.840339\n",
              "min       -6.181241\n",
              "25%        0.705372\n",
              "50%        3.263941\n",
              "75%        5.556627\n",
              "max       12.420381\n",
              "Name: Amount, dtype: float64"
            ]
          },
          "metadata": {
            "tags": []
          },
          "execution_count": 16
        }
      ]
    },
    {
      "cell_type": "code",
      "metadata": {
        "id": "xOfQ0iZLhCEG",
        "colab_type": "code",
        "colab": {
          "base_uri": "https://localhost:8080/",
          "height": 35
        },
        "outputId": "617346f4-3129-4fe2-e6c2-9ac2e8b0a56f"
      },
      "source": [
        "data.Amount.skew()  # Skewness is decreased"
      ],
      "execution_count": 17,
      "outputs": [
        {
          "output_type": "execute_result",
          "data": {
            "text/plain": [
              "0.04535252740379667"
            ]
          },
          "metadata": {
            "tags": []
          },
          "execution_count": 17
        }
      ]
    },
    {
      "cell_type": "code",
      "metadata": {
        "id": "LMuur7Moueki",
        "colab_type": "code",
        "colab": {
          "base_uri": "https://localhost:8080/",
          "height": 303
        },
        "outputId": "00fe9ac9-5a1c-4a6e-9589-f8dfc9caea5e"
      },
      "source": [
        "sns.distplot(data.Amount, bins=20,kde=True,rug=False)"
      ],
      "execution_count": 18,
      "outputs": [
        {
          "output_type": "execute_result",
          "data": {
            "text/plain": [
              "<matplotlib.axes._subplots.AxesSubplot at 0x7fed209ce7f0>"
            ]
          },
          "metadata": {
            "tags": []
          },
          "execution_count": 18
        },
        {
          "output_type": "display_data",
          "data": {
            "image/png": "[encoded data removed]",
            "text/plain": [
              "<Figure size 432x288 with 1 Axes>"
            ]
          },
          "metadata": {
            "tags": [],
            "needs_background": "light"
          }
        }
      ]
    },
    {
      "cell_type": "code",
      "metadata": {
        "id": "qeFHCpQ5hCMT",
        "colab_type": "code",
        "colab": {
          "base_uri": "https://localhost:8080/",
          "height": 387
        },
        "outputId": "141700cc-b700-4e50-b11b-7293645eb80c"
      },
      "source": [
        "sns.catplot(y='Amount',data=data, kind='box')"
      ],
      "execution_count": 19,
      "outputs": [
        {
          "output_type": "execute_result",
          "data": {
            "text/plain": [
              "<seaborn.axisgrid.FacetGrid at 0x7fed1dc33358>"
            ]
          },
          "metadata": {
            "tags": []
          },
          "execution_count": 19
        },
        {
          "output_type": "display_data",
          "data": {
            "image/png": "[encoded data removed]",
            "text/plain": [
              "<Figure size 360x360 with 1 Axes>"
            ]
          },
          "metadata": {
            "tags": [],
            "needs_background": "light"
          }
        }
      ]
    },
    {
      "cell_type": "code",
      "metadata": {
        "id": "I_mVcBnqhCUi",
        "colab_type": "code",
        "colab": {
          "base_uri": "https://localhost:8080/",
          "height": 459
        },
        "outputId": "4543c9a9-7bff-4102-dcaa-15a98ccd72a4"
      },
      "source": [
        "# Plotting a Joint plot to analyze Time vs Amount if they are related\n",
        "\n",
        "sns.jointplot(x='Time',y='Amount',data=data)\n",
        "\n",
        "# From the scatter plot, we can say \n",
        "# 1. Many Transactions are done in MidNight\n",
        "# 2. Then the 2nd most transactions are done at 12(approx)"
      ],
      "execution_count": 20,
      "outputs": [
        {
          "output_type": "execute_result",
          "data": {
            "text/plain": [
              "<seaborn.axisgrid.JointGrid at 0x7fed1dba7710>"
            ]
          },
          "metadata": {
            "tags": []
          },
          "execution_count": 20
        },
        {
          "output_type": "display_data",
          "data": {
            "image/png": "[encoded data removed]",
            "text/plain": [
              "<Figure size 432x432 with 3 Axes>"
            ]
          },
          "metadata": {
            "tags": [],
            "needs_background": "light"
          }
        }
      ]
    },
    {
      "cell_type": "code",
      "metadata": {
        "id": "-9eOwB7ShCSK",
        "colab_type": "code",
        "colab": {
          "base_uri": "https://localhost:8080/",
          "height": 730
        },
        "outputId": "531fcc11-2cde-47b3-801e-a5d26e79ec5a"
      },
      "source": [
        "# Plotting the histograms for v1 to v28\n",
        "cols= data.drop(columns=['Time','Amount','Class']).columns\n",
        "\n",
        "plt.figure(figsize=(16,10))\n",
        "\n",
        "for idx,i in enumerate(cols):\n",
        "  plt.subplot(7,4,idx+1)\n",
        "  sns.distplot(data[i],bins=10) \n",
        "\n",
        "plt.tight_layout()"
      ],
      "execution_count": 21,
      "outputs": [
        {
          "output_type": "display_data",
          "data": {
            "image/png": "[encoded data removed]",
            "text/plain": [
              "<Figure size 1152x720 with 28 Axes>"
            ]
          },
          "metadata": {
            "tags": [],
            "needs_background": "light"
          }
        }
      ]
    },
    {
      "cell_type": "markdown",
      "metadata": {
        "id": "M2etIjYJFKP8",
        "colab_type": "text"
      },
      "source": [
        "## Note\n",
        "\n",
        "1. As v1 to v28 are already scaled and few of them are in Gaussian distribution, we will find the most co-relating column with respect to themselves.\n",
        "\n",
        "2. we wil remove them as they might affect the predictions. we will a set a thresold of 0.85 to indicate the co-relational value.  "
      ]
    },
    {
      "cell_type": "markdown",
      "metadata": {
        "id": "nRo8q6uSkaPU",
        "colab_type": "text"
      },
      "source": [
        "## Splitting the data\n",
        "---------------------------"
      ]
    },
    {
      "cell_type": "code",
      "metadata": {
        "id": "uMikvkQm7bWN",
        "colab_type": "code",
        "colab": {}
      },
      "source": [
        "from sklearn.model_selection import train_test_split as tts"
      ],
      "execution_count": 0,
      "outputs": []
    },
    {
      "cell_type": "code",
      "metadata": {
        "id": "Sc6sAk4GkuJ6",
        "colab_type": "code",
        "colab": {}
      },
      "source": [
        "x= data.drop(columns=['Class'])\n",
        "y= data['Class']"
      ],
      "execution_count": 0,
      "outputs": []
    },
    {
      "cell_type": "code",
      "metadata": {
        "id": "k5psGy4Vkfur",
        "colab_type": "code",
        "colab": {}
      },
      "source": [
        "x_train,x_test,y_train,y_test= tts(x, y, random_state=42, stratify=y,test_size=0.3)"
      ],
      "execution_count": 0,
      "outputs": []
    },
    {
      "cell_type": "code",
      "metadata": {
        "id": "w5VvorC_tz8_",
        "colab_type": "code",
        "colab": {
          "base_uri": "https://localhost:8080/",
          "height": 35
        },
        "outputId": "29eb5db5-ba22-4dab-9b88-8cfe8a3ff6cd"
      },
      "source": [
        "x_train.shape,x_test.shape"
      ],
      "execution_count": 25,
      "outputs": [
        {
          "output_type": "execute_result",
          "data": {
            "text/plain": [
              "((263, 30), (114, 30))"
            ]
          },
          "metadata": {
            "tags": []
          },
          "execution_count": 25
        }
      ]
    },
    {
      "cell_type": "markdown",
      "metadata": {
        "id": "Hcl_zvynk_GJ",
        "colab_type": "text"
      },
      "source": [
        "## Feature Selection\n",
        "-----------------------------------\n",
        "\n",
        "1. Removing the constant/Quassi-constanct/duplicate columns\n",
        "   ```\n",
        "   As per the analysis, There are no columns which are constant/Quassi-contant/duplicated.\n",
        "   ```\n",
        "2. Now we wil check for co-related features."
      ]
    },
    {
      "cell_type": "code",
      "metadata": {
        "id": "wOa4aJynmElB",
        "colab_type": "code",
        "colab": {
          "base_uri": "https://localhost:8080/",
          "height": 537
        },
        "outputId": "44ed7b52-06b0-45d4-e130-6777ac060715"
      },
      "source": [
        "sns.set_style('whitegrid')\n",
        "plt.figure(figsize=(16,8))\n",
        "\n",
        "corelation= x_train.corr()\n",
        "mask= np.triu(corelation)\n",
        "sns.heatmap(corelation,annot=False,square=True,\n",
        "            mask=mask,cmap='inferno')\n",
        "\n",
        "# Yellow celss indicate higher co-relation"
      ],
      "execution_count": 26,
      "outputs": [
        {
          "output_type": "execute_result",
          "data": {
            "text/plain": [
              "<matplotlib.axes._subplots.AxesSubplot at 0x7fed1a226f60>"
            ]
          },
          "metadata": {
            "tags": []
          },
          "execution_count": 26
        },
        {
          "output_type": "display_data",
          "data": {
            "image/png": "[encoded data removed]",
            "text/plain": [
              "<Figure size 1152x576 with 2 Axes>"
            ]
          },
          "metadata": {
            "tags": []
          }
        }
      ]
    },
    {
      "cell_type": "code",
      "metadata": {
        "id": "3yxnKvItqWvD",
        "colab_type": "code",
        "colab": {
          "base_uri": "https://localhost:8080/",
          "height": 35
        },
        "outputId": "8c6c7a8e-66bb-4a17-ad23-5efbbf614461"
      },
      "source": [
        "# Selection the columns which have higher co-relational value\n",
        "# i will set a thresold of 0.85\n",
        "# Any cell which has higher value than the thresold, we will select that column and later drop that\n",
        "\n",
        "res=set()\n",
        "\n",
        "for i in range(len(x_train.columns)):\n",
        "  for j in range(i):\n",
        "    if corelation.iloc[i,j]> 0.85  :    # we have the set the thresold bar as 0.8\n",
        "      res.add(x_train.columns[i])\n",
        "\n",
        "res,len(res)\n",
        "# This the set of co-related columns "
      ],
      "execution_count": 27,
      "outputs": [
        {
          "output_type": "execute_result",
          "data": {
            "text/plain": [
              "({'V10', 'V11', 'V12', 'V14', 'V16', 'V17', 'V18', 'V3', 'V5', 'V7'}, 10)"
            ]
          },
          "metadata": {
            "tags": []
          },
          "execution_count": 27
        }
      ]
    },
    {
      "cell_type": "code",
      "metadata": {
        "id": "KNs7oRfNsSdj",
        "colab_type": "code",
        "colab": {
          "base_uri": "https://localhost:8080/",
          "height": 35
        },
        "outputId": "34c3dac6-646e-4ba4-f891-6eda714c7706"
      },
      "source": [
        "# Dropping the co-related columns\n",
        "x_train= x_train.drop(columns=res)\n",
        "x_test= x_test.drop(columns=res)\n",
        "\n",
        "x_train.shape,x_test.shape\n",
        "\n",
        "# we have reduced the columns size for 30 to 20"
      ],
      "execution_count": 28,
      "outputs": [
        {
          "output_type": "execute_result",
          "data": {
            "text/plain": [
              "((263, 20), (114, 20))"
            ]
          },
          "metadata": {
            "tags": []
          },
          "execution_count": 28
        }
      ]
    },
    {
      "cell_type": "code",
      "metadata": {
        "id": "-w2_ziJVs9Hz",
        "colab_type": "code",
        "colab": {
          "base_uri": "https://localhost:8080/",
          "height": 70
        },
        "outputId": "3b554acf-4be4-48ab-ead6-bd4e730d1478"
      },
      "source": [
        "x_train.columns"
      ],
      "execution_count": 29,
      "outputs": [
        {
          "output_type": "execute_result",
          "data": {
            "text/plain": [
              "Index(['Time', 'V1', 'V2', 'V4', 'V6', 'V8', 'V9', 'V13', 'V15', 'V19', 'V20',\n",
              "       'V21', 'V22', 'V23', 'V24', 'V25', 'V26', 'V27', 'V28', 'Amount'],\n",
              "      dtype='object')"
            ]
          },
          "metadata": {
            "tags": []
          },
          "execution_count": 29
        }
      ]
    },
    {
      "cell_type": "markdown",
      "metadata": {
        "id": "NXtAOLXGzIeO",
        "colab_type": "text"
      },
      "source": [
        "### 3. Selecting features based on Step_forward Selection\n",
        "-----------------------------------------------------------"
      ]
    },
    {
      "cell_type": "code",
      "metadata": {
        "id": "RQCXu3CWzJCn",
        "colab_type": "code",
        "colab": {
          "base_uri": "https://localhost:8080/",
          "height": 72
        },
        "outputId": "d6aec788-1a33-4903-8f72-ababd4f342d1"
      },
      "source": [
        "from sklearn.ensemble import RandomForestClassifier\n",
        "from sklearn.metrics import roc_auc_score\n",
        "\n",
        "# step forward feature selection\n",
        "from mlxtend.feature_selection import SequentialFeatureSelector as SFS"
      ],
      "execution_count": 30,
      "outputs": [
        {
          "output_type": "stream",
          "text": [
            "/usr/local/lib/python3.6/dist-packages/sklearn/externals/joblib/__init__.py:15: FutureWarning: sklearn.externals.joblib is deprecated in 0.21 and will be removed in 0.23. Please import this functionality directly from joblib, which can be installed with: pip install joblib. If this warning is raised when loading pickled models, you may need to re-serialize those models with scikit-learn 0.21+.\n",
            "  warnings.warn(msg, category=FutureWarning)\n"
          ],
          "name": "stderr"
        }
      ]
    },
    {
      "cell_type": "code",
      "metadata": {
        "id": "urXsd9T1zJcG",
        "colab_type": "code",
        "colab": {
          "base_uri": "https://localhost:8080/",
          "height": 1000
        },
        "outputId": "260016b9-7229-418b-fc3b-f39b4e1c33ea"
      },
      "source": [
        "# step forward feature selection\n",
        "# I indicate that I want to select 15 features from\n",
        "# the total, and that I want to select those features\n",
        "# based on the optimal roc_auc\n",
        "\n",
        "sfs1 = SFS(RandomForestClassifier(n_jobs=-1), \n",
        "           k_features=15, \n",
        "           forward=True, \n",
        "           floating=False, \n",
        "           verbose=2,\n",
        "           scoring='roc_auc',\n",
        "           cv=3)\n",
        "\n",
        "sfs1 = sfs1.fit(np.array(x_train.fillna(0)), y_train)"
      ],
      "execution_count": 31,
      "outputs": [
        {
          "output_type": "stream",
          "text": [
            "[Parallel(n_jobs=1)]: Using backend SequentialBackend with 1 concurrent workers.\n",
            "[Parallel(n_jobs=1)]: Done   1 out of   1 | elapsed:    2.0s remaining:    0.0s\n",
            "[Parallel(n_jobs=1)]: Done  20 out of  20 | elapsed:   18.8s finished\n",
            "\n",
            "[2020-06-05 08:02:04] Features: 1/15 -- score: 0.9953703703703703[Parallel(n_jobs=1)]: Using backend SequentialBackend with 1 concurrent workers.\n",
            "[Parallel(n_jobs=1)]: Done   1 out of   1 | elapsed:    0.9s remaining:    0.0s\n",
            "[Parallel(n_jobs=1)]: Done  19 out of  19 | elapsed:   16.6s finished\n",
            "\n",
            "[2020-06-05 08:02:21] Features: 2/15 -- score: 1.0[Parallel(n_jobs=1)]: Using backend SequentialBackend with 1 concurrent workers.\n",
            "[Parallel(n_jobs=1)]: Done   1 out of   1 | elapsed:    0.9s remaining:    0.0s\n",
            "[Parallel(n_jobs=1)]: Done  18 out of  18 | elapsed:   15.6s finished\n",
            "\n",
            "[2020-06-05 08:02:36] Features: 3/15 -- score: 1.0[Parallel(n_jobs=1)]: Using backend SequentialBackend with 1 concurrent workers.\n",
            "[Parallel(n_jobs=1)]: Done   1 out of   1 | elapsed:    0.9s remaining:    0.0s\n",
            "[Parallel(n_jobs=1)]: Done  17 out of  17 | elapsed:   14.8s finished\n",
            "\n",
            "[2020-06-05 08:02:51] Features: 4/15 -- score: 1.0[Parallel(n_jobs=1)]: Using backend SequentialBackend with 1 concurrent workers.\n",
            "[Parallel(n_jobs=1)]: Done   1 out of   1 | elapsed:    0.9s remaining:    0.0s\n",
            "[Parallel(n_jobs=1)]: Done  16 out of  16 | elapsed:   14.0s finished\n",
            "\n",
            "[2020-06-05 08:03:05] Features: 5/15 -- score: 1.0[Parallel(n_jobs=1)]: Using backend SequentialBackend with 1 concurrent workers.\n",
            "[Parallel(n_jobs=1)]: Done   1 out of   1 | elapsed:    0.9s remaining:    0.0s\n",
            "[Parallel(n_jobs=1)]: Done  15 out of  15 | elapsed:   13.4s finished\n",
            "\n",
            "[2020-06-05 08:03:19] Features: 6/15 -- score: 1.0[Parallel(n_jobs=1)]: Using backend SequentialBackend with 1 concurrent workers.\n",
            "[Parallel(n_jobs=1)]: Done   1 out of   1 | elapsed:    0.9s remaining:    0.0s\n",
            "[Parallel(n_jobs=1)]: Done  14 out of  14 | elapsed:   12.2s finished\n",
            "\n",
            "[2020-06-05 08:03:31] Features: 7/15 -- score: 1.0[Parallel(n_jobs=1)]: Using backend SequentialBackend with 1 concurrent workers.\n",
            "[Parallel(n_jobs=1)]: Done   1 out of   1 | elapsed:    0.9s remaining:    0.0s\n",
            "[Parallel(n_jobs=1)]: Done  13 out of  13 | elapsed:   11.5s finished\n",
            "\n",
            "[2020-06-05 08:03:42] Features: 8/15 -- score: 1.0[Parallel(n_jobs=1)]: Using backend SequentialBackend with 1 concurrent workers.\n",
            "[Parallel(n_jobs=1)]: Done   1 out of   1 | elapsed:    0.9s remaining:    0.0s\n",
            "[Parallel(n_jobs=1)]: Done  12 out of  12 | elapsed:   10.7s finished\n",
            "\n",
            "[2020-06-05 08:03:53] Features: 9/15 -- score: 1.0[Parallel(n_jobs=1)]: Using backend SequentialBackend with 1 concurrent workers.\n",
            "[Parallel(n_jobs=1)]: Done   1 out of   1 | elapsed:    0.9s remaining:    0.0s\n",
            "[Parallel(n_jobs=1)]: Done  11 out of  11 | elapsed:    9.7s finished\n",
            "\n",
            "[2020-06-05 08:04:03] Features: 10/15 -- score: 1.0[Parallel(n_jobs=1)]: Using backend SequentialBackend with 1 concurrent workers.\n",
            "[Parallel(n_jobs=1)]: Done   1 out of   1 | elapsed:    0.9s remaining:    0.0s\n",
            "[Parallel(n_jobs=1)]: Done  10 out of  10 | elapsed:    8.9s finished\n",
            "\n",
            "[2020-06-05 08:04:12] Features: 11/15 -- score: 1.0[Parallel(n_jobs=1)]: Using backend SequentialBackend with 1 concurrent workers.\n",
            "[Parallel(n_jobs=1)]: Done   1 out of   1 | elapsed:    0.9s remaining:    0.0s\n",
            "[Parallel(n_jobs=1)]: Done   9 out of   9 | elapsed:    8.0s finished\n",
            "\n",
            "[2020-06-05 08:04:20] Features: 12/15 -- score: 1.0[Parallel(n_jobs=1)]: Using backend SequentialBackend with 1 concurrent workers.\n",
            "[Parallel(n_jobs=1)]: Done   1 out of   1 | elapsed:    0.9s remaining:    0.0s\n",
            "[Parallel(n_jobs=1)]: Done   8 out of   8 | elapsed:    7.1s finished\n",
            "\n",
            "[2020-06-05 08:04:27] Features: 13/15 -- score: 1.0[Parallel(n_jobs=1)]: Using backend SequentialBackend with 1 concurrent workers.\n",
            "[Parallel(n_jobs=1)]: Done   1 out of   1 | elapsed:    0.9s remaining:    0.0s\n",
            "[Parallel(n_jobs=1)]: Done   7 out of   7 | elapsed:    6.2s finished\n",
            "\n",
            "[2020-06-05 08:04:33] Features: 14/15 -- score: 1.0[Parallel(n_jobs=1)]: Using backend SequentialBackend with 1 concurrent workers.\n",
            "[Parallel(n_jobs=1)]: Done   1 out of   1 | elapsed:    0.9s remaining:    0.0s\n",
            "[Parallel(n_jobs=1)]: Done   6 out of   6 | elapsed:    5.4s finished\n",
            "\n",
            "[2020-06-05 08:04:38] Features: 15/15 -- score: 1.0"
          ],
          "name": "stderr"
        }
      ]
    },
    {
      "cell_type": "code",
      "metadata": {
        "id": "RrSTBbXEzxpO",
        "colab_type": "code",
        "colab": {
          "base_uri": "https://localhost:8080/",
          "height": 70
        },
        "outputId": "3b512cb7-c143-4c70-c060-aae41ef16191"
      },
      "source": [
        "selected_feat= x_train.columns[ list(sfs1.k_feature_idx_) ]\n",
        "selected_feat,len(selected_feat)"
      ],
      "execution_count": 32,
      "outputs": [
        {
          "output_type": "execute_result",
          "data": {
            "text/plain": [
              "(Index(['Time', 'V1', 'V2', 'V4', 'V6', 'V8', 'V9', 'V13', 'V15', 'V19', 'V20',\n",
              "        'V21', 'V22', 'V23', 'V24'],\n",
              "       dtype='object'), 15)"
            ]
          },
          "metadata": {
            "tags": []
          },
          "execution_count": 32
        }
      ]
    },
    {
      "cell_type": "code",
      "metadata": {
        "id": "WGLeGEW4zxsI",
        "colab_type": "code",
        "colab": {}
      },
      "source": [
        "x_train= x_train[selected_feat]\n",
        "x_test= x_test[selected_feat]"
      ],
      "execution_count": 0,
      "outputs": []
    },
    {
      "cell_type": "code",
      "metadata": {
        "id": "hcdIwsM_RVSB",
        "colab_type": "code",
        "colab": {
          "base_uri": "https://localhost:8080/",
          "height": 35
        },
        "outputId": "4b8402a7-675f-4c11-a312-8043ce0a5789"
      },
      "source": [
        "x_train.shape,x_test.shape\n",
        "# we have redued the features from 20 to 15 Successfully."
      ],
      "execution_count": 34,
      "outputs": [
        {
          "output_type": "execute_result",
          "data": {
            "text/plain": [
              "((263, 15), (114, 15))"
            ]
          },
          "metadata": {
            "tags": []
          },
          "execution_count": 34
        }
      ]
    },
    {
      "cell_type": "markdown",
      "metadata": {
        "id": "PAACDsZNXGKb",
        "colab_type": "text"
      },
      "source": [
        "## Modelling and Predicting\n",
        "---------------------------------------------------"
      ]
    },
    {
      "cell_type": "code",
      "metadata": {
        "id": "HfnxSf6v4kij",
        "colab_type": "code",
        "colab": {}
      },
      "source": [
        "from sklearn.preprocessing import StandardScaler as sc\n",
        "from sklearn.pipeline import  make_pipeline as mp\n",
        "from sklearn.linear_model import LogisticRegressionCV as lr\n",
        "from sklearn.ensemble import RandomForestClassifier as rfc\n",
        "from sklearn.ensemble import GradientBoostingClassifier\n",
        "from sklearn.metrics import confusion_matrix, classification_report,accuracy_score, roc_auc_score,cohen_kappa_score"
      ],
      "execution_count": 0,
      "outputs": []
    },
    {
      "cell_type": "code",
      "metadata": {
        "id": "rEWJa06J4klp",
        "colab_type": "code",
        "colab": {}
      },
      "source": [
        "c=[]\n",
        "\n",
        "# Defining a common function for predicting\n",
        "def model_predict(model_nm ):\n",
        "\n",
        "  # Fitting the model\n",
        "  model_nm.fit(x_train,y_train)\n",
        "\n",
        "  # Predicting the model\n",
        "  predictions= model_nm.predict(x_test)\n",
        "\n",
        "  # Getting the training and testing score\n",
        "  print(f'\\n Training score: {model_nm.score(x_train,y_train)} and Testing Score is : {model_nm.score(x_test,y_test)}')\n",
        "\n",
        "  # Evaluations\n",
        "  cmat= confusion_matrix(y_test,predictions)\n",
        "  print(type(cmat))\n",
        "  print(f'\\n Confusion Matrix :\\n {cmat} \\n')\n",
        "  c.append(cmat)  \n",
        "  \n",
        "  print('\\n Classification Report :')\n",
        "  print(classification_report(y_test,predictions))\n",
        "  print(f'\\nAccuracy Score : {round( accuracy_score(y_test,predictions), 2)}')\n",
        "  print(f'Roc-Auc Score  : {round( roc_auc_score(y_test,predictions), 2)}')\n",
        "  print(f\"Cohen's kappa  :  { round(cohen_kappa_score(y_test, predictions),2)}\")\n",
        "\n",
        "  print()\n",
        "    "
      ],
      "execution_count": 0,
      "outputs": []
    },
    {
      "cell_type": "code",
      "metadata": {
        "id": "QfOV94Y_fwVT",
        "colab_type": "code",
        "colab": {}
      },
      "source": [
        "# Pipeline with Logistic Regression and StandardScaler\n",
        "model1= mp( sc(), \n",
        "          lr(random_state=42, Cs=np.logspace(start=-3, stop=3, num=20))\n",
        "         )\n",
        "\n",
        "# Random Forest Classifier\n",
        "model2= rfc(n_estimators=200,max_depth=3,\n",
        "          random_state=42, n_jobs=-1)\n",
        "\n",
        "# Gradient Boosting Classifier\n",
        "model3= GradientBoostingClassifier(n_estimators=200)"
      ],
      "execution_count": 0,
      "outputs": []
    },
    {
      "cell_type": "code",
      "metadata": {
        "id": "KK4k3hew6y2r",
        "colab_type": "code",
        "colab": {
          "base_uri": "https://localhost:8080/",
          "height": 1000
        },
        "outputId": "1778556c-332f-4b55-fb50-dc7fce8841bf"
      },
      "source": [
        "# Defining a dictionary with names of the classification models\n",
        "models_dict= { 0: 'Logistic Regression', 1: 'Random Forest Classification' , 2: 'Gradient Boosting Classification'}\n",
        "\n",
        "# Predicting with the defined function : model_predict\n",
        "for idx,i in enumerate([model1,model2,model3]):\n",
        "  print(f'\\n***************** For {models_dict[idx]} *****************')\n",
        "  model_predict(i)"
      ],
      "execution_count": 38,
      "outputs": [
        {
          "output_type": "stream",
          "text": [
            "\n",
            "***************** For Logistic Regression *****************\n",
            "\n",
            " Training score: 1.0 and Testing Score is : 0.9736842105263158\n",
            "<class 'numpy.ndarray'>\n",
            "\n",
            " Confusion Matrix :\n",
            " [[67  0]\n",
            " [ 3 44]] \n",
            "\n",
            "\n",
            " Classification Report :\n",
            "              precision    recall  f1-score   support\n",
            "\n",
            "           0       0.96      1.00      0.98        67\n",
            "           1       1.00      0.94      0.97        47\n",
            "\n",
            "    accuracy                           0.97       114\n",
            "   macro avg       0.98      0.97      0.97       114\n",
            "weighted avg       0.97      0.97      0.97       114\n",
            "\n",
            "\n",
            "Accuracy Score : 0.97\n",
            "Roc-Auc Score  : 0.97\n",
            "Cohen's kappa  :  0.95\n",
            "\n",
            "\n",
            "***************** For Random Forest Classification *****************\n",
            "\n",
            " Training score: 1.0 and Testing Score is : 0.9912280701754386\n",
            "<class 'numpy.ndarray'>\n",
            "\n",
            " Confusion Matrix :\n",
            " [[67  0]\n",
            " [ 1 46]] \n",
            "\n",
            "\n",
            " Classification Report :\n",
            "              precision    recall  f1-score   support\n",
            "\n",
            "           0       0.99      1.00      0.99        67\n",
            "           1       1.00      0.98      0.99        47\n",
            "\n",
            "    accuracy                           0.99       114\n",
            "   macro avg       0.99      0.99      0.99       114\n",
            "weighted avg       0.99      0.99      0.99       114\n",
            "\n",
            "\n",
            "Accuracy Score : 0.99\n",
            "Roc-Auc Score  : 0.99\n",
            "Cohen's kappa  :  0.98\n",
            "\n",
            "\n",
            "***************** For Gradient Boosting Classification *****************\n",
            "\n",
            " Training score: 1.0 and Testing Score is : 1.0\n",
            "<class 'numpy.ndarray'>\n",
            "\n",
            " Confusion Matrix :\n",
            " [[67  0]\n",
            " [ 0 47]] \n",
            "\n",
            "\n",
            " Classification Report :\n",
            "              precision    recall  f1-score   support\n",
            "\n",
            "           0       1.00      1.00      1.00        67\n",
            "           1       1.00      1.00      1.00        47\n",
            "\n",
            "    accuracy                           1.00       114\n",
            "   macro avg       1.00      1.00      1.00       114\n",
            "weighted avg       1.00      1.00      1.00       114\n",
            "\n",
            "\n",
            "Accuracy Score : 1.0\n",
            "Roc-Auc Score  : 1.0\n",
            "Cohen's kappa  :  1.0\n",
            "\n"
          ],
          "name": "stdout"
        }
      ]
    },
    {
      "cell_type": "code",
      "metadata": {
        "id": "jdyMIIImfWx9",
        "colab_type": "code",
        "colab": {
          "base_uri": "https://localhost:8080/",
          "height": 297
        },
        "outputId": "588d3453-95c9-492c-9b0d-67de79eae9eb"
      },
      "source": [
        "plt.subplots(1,3,figsize=(16,4))\n",
        "\n",
        "plt.subplot(1,3,1)\n",
        "sns.heatmap(c[0],annot=True)\n",
        "plt.title(' Logistic Regression with SMOTE')\n",
        "\n",
        "plt.subplot(1,3,2)\n",
        "sns.heatmap(c[1],annot=True)\n",
        "plt.title(' Random Forest Classification with SMOTE')\n",
        "\n",
        "plt.subplot(1,3,3)\n",
        "sns.heatmap(c[2],annot=True)\n",
        "plt.title(' Gradient Boosting Classification with SMOTE')\n",
        "\n",
        "plt.tight_layout()"
      ],
      "execution_count": 39,
      "outputs": [
        {
          "output_type": "display_data",
          "data": {
            "image/png": "[encoded data removed]",
            "text/plain": [
              "<Figure size 1152x288 with 6 Axes>"
            ]
          },
          "metadata": {
            "tags": []
          }
        }
      ]
    },
    {
      "cell_type": "markdown",
      "metadata": {
        "id": "FkE_5ZbhGOcY",
        "colab_type": "text"
      },
      "source": [
        "## Conclusion\n",
        "------------------------------\n",
        "\n",
        "1. We have increased the correct predictions from Logistic Regression to Random Forest  and then on Gradient Boosting Classification, we are able to predict all the labels correctly.\n",
        "\n",
        "2. So we will chose the **Gradient Boosting model** to do the Predictions."
      ]
    },
    {
      "cell_type": "markdown",
      "metadata": {
        "id": "aQ8sRXe4HO_O",
        "colab_type": "text"
      },
      "source": [
        "# Method -2 : Doing Sampling\n",
        "---------------------------------------------------"
      ]
    },
    {
      "cell_type": "markdown",
      "metadata": {
        "id": "_TVAqxRTKo1B",
        "colab_type": "text"
      },
      "source": [
        "1. We can make the class proportions balanced by 2 methods.\n",
        "  ```\n",
        "  UnderSampling\n",
        "  OverSampling\n",
        "  ```\n",
        "\n",
        "2. As here we have very less observations, we will go with *OverSampling*.\n",
        "\n",
        "3. From different Oversampling methods, i will go with ```SMOTE```.\n",
        "\n",
        "\n",
        "References : [link-1](https://machinelearningmastery.com/tactics-to-combat-imbalanced-classes-in-your-machine-learning-dataset/) [link-2](https://imbalanced-learn.readthedocs.io/en/stable/auto_examples/over-sampling/plot_comparison_over_sampling.html#sphx-glr-auto-examples-over-sampling-plot-comparison-over-sampling-py) "
      ]
    },
    {
      "cell_type": "code",
      "metadata": {
        "id": "drbRQWa4OYdX",
        "colab_type": "code",
        "colab": {
          "base_uri": "https://localhost:8080/",
          "height": 35
        },
        "outputId": "57a0f26e-8b44-478a-b2d5-7dd869665158"
      },
      "source": [
        "x_train.shape,x_test.shape,y_train.shape,y_test.shape"
      ],
      "execution_count": 40,
      "outputs": [
        {
          "output_type": "execute_result",
          "data": {
            "text/plain": [
              "((263, 15), (114, 15), (263,), (114,))"
            ]
          },
          "metadata": {
            "tags": []
          },
          "execution_count": 40
        }
      ]
    },
    {
      "cell_type": "code",
      "metadata": {
        "id": "tVMnIqV7Siwn",
        "colab_type": "code",
        "colab": {
          "base_uri": "https://localhost:8080/",
          "height": 108
        },
        "outputId": "d8a5b057-ab54-42f1-c0e9-4455a07f2a0e"
      },
      "source": [
        "from imblearn.pipeline import make_pipeline as mp\n",
        "from imblearn.over_sampling import SMOTE, ADASYN\n",
        "from sklearn.preprocessing import StandardScaler as sc \n",
        "from sklearn.linear_model import LogisticRegressionCV as lrcv\n",
        "from sklearn.ensemble import RandomForestClassifier as rfc"
      ],
      "execution_count": 41,
      "outputs": [
        {
          "output_type": "stream",
          "text": [
            "/usr/local/lib/python3.6/dist-packages/sklearn/externals/six.py:31: FutureWarning: The module is deprecated in version 0.21 and will be removed in version 0.23 since we've dropped support for Python 2.7. Please rely on the official version of six (https://pypi.org/project/six/).\n",
            "  \"(https://pypi.org/project/six/).\", FutureWarning)\n",
            "/usr/local/lib/python3.6/dist-packages/sklearn/utils/deprecation.py:144: FutureWarning: The sklearn.neighbors.base module is  deprecated in version 0.22 and will be removed in version 0.24. The corresponding classes / functions should instead be imported from sklearn.neighbors. Anything that cannot be imported from sklearn.neighbors is now part of the private API.\n",
            "  warnings.warn(message, FutureWarning)\n"
          ],
          "name": "stderr"
        }
      ]
    },
    {
      "cell_type": "code",
      "metadata": {
        "id": "lygWXehuTlml",
        "colab_type": "code",
        "colab": {}
      },
      "source": [
        "smote=SMOTE(random_state=42)\n",
        "\n",
        "####################################################\n",
        "# With Smote as OverSampling : Model 1 and Model 2, Model 3\n",
        "model1= mp( smote, \n",
        "            sc(), \n",
        "            lrcv(Cs= np.logspace(start=-3, stop=3, num=20) )\n",
        "          )\n",
        "\n",
        "model2= mp(  smote,\n",
        "             rfc(n_estimators=200,max_depth=3, random_state=42, n_jobs=-1)\n",
        "          )\n",
        "\n",
        "\n",
        "model3= mp(  smote,\n",
        "             GradientBoostingClassifier(n_estimators=200)\n",
        "          )\n"
      ],
      "execution_count": 0,
      "outputs": []
    },
    {
      "cell_type": "code",
      "metadata": {
        "id": "XQ2b-nRIUwtF",
        "colab_type": "code",
        "colab": {
          "base_uri": "https://localhost:8080/",
          "height": 1000
        },
        "outputId": "0527ed8b-d19b-4d70-b6b3-166e9d6f818e"
      },
      "source": [
        "# Defining a dictionary with names of the classification models\n",
        "models_dict= { 0: 'Logistic Regression', 1: 'Random Forest Classification' , 2: 'Gradient Boosting Classification'}\n",
        "\n",
        "# Predicting with the defined function : model_predict\n",
        "for idx,i in enumerate([model1,model2, model3]):\n",
        "  \n",
        "  print('*********** Using SMOTE as Over-Sampling Technique***************')\n",
        "  print(f'***************** For {models_dict[idx]} *****************\\n')\n",
        "  \n",
        "  model_predict(i)"
      ],
      "execution_count": 43,
      "outputs": [
        {
          "output_type": "stream",
          "text": [
            "/usr/local/lib/python3.6/dist-packages/sklearn/utils/deprecation.py:87: FutureWarning: Function safe_indexing is deprecated; safe_indexing is deprecated in version 0.22 and will be removed in version 0.24.\n",
            "  warnings.warn(msg, category=FutureWarning)\n"
          ],
          "name": "stderr"
        },
        {
          "output_type": "stream",
          "text": [
            "*********** Using SMOTE as Over-Sampling Technique***************\n",
            "***************** For Logistic Regression *****************\n",
            "\n",
            "\n",
            " Training score: 1.0 and Testing Score is : 0.9736842105263158\n",
            "<class 'numpy.ndarray'>\n",
            "\n",
            " Confusion Matrix :\n",
            " [[67  0]\n",
            " [ 3 44]] \n",
            "\n",
            "\n",
            " Classification Report :\n",
            "              precision    recall  f1-score   support\n",
            "\n",
            "           0       0.96      1.00      0.98        67\n",
            "           1       1.00      0.94      0.97        47\n",
            "\n",
            "    accuracy                           0.97       114\n",
            "   macro avg       0.98      0.97      0.97       114\n",
            "weighted avg       0.97      0.97      0.97       114\n",
            "\n",
            "\n",
            "Accuracy Score : 0.97\n",
            "Roc-Auc Score  : 0.97\n",
            "Cohen's kappa  :  0.95\n",
            "\n",
            "*********** Using SMOTE as Over-Sampling Technique***************\n",
            "***************** For Random Forest Classification *****************\n",
            "\n"
          ],
          "name": "stdout"
        },
        {
          "output_type": "stream",
          "text": [
            "/usr/local/lib/python3.6/dist-packages/sklearn/utils/deprecation.py:87: FutureWarning: Function safe_indexing is deprecated; safe_indexing is deprecated in version 0.22 and will be removed in version 0.24.\n",
            "  warnings.warn(msg, category=FutureWarning)\n"
          ],
          "name": "stderr"
        },
        {
          "output_type": "stream",
          "text": [
            "\n",
            " Training score: 1.0 and Testing Score is : 0.9912280701754386\n",
            "<class 'numpy.ndarray'>\n",
            "\n",
            " Confusion Matrix :\n",
            " [[67  0]\n",
            " [ 1 46]] \n",
            "\n",
            "\n",
            " Classification Report :\n",
            "              precision    recall  f1-score   support\n",
            "\n",
            "           0       0.99      1.00      0.99        67\n",
            "           1       1.00      0.98      0.99        47\n",
            "\n",
            "    accuracy                           0.99       114\n",
            "   macro avg       0.99      0.99      0.99       114\n",
            "weighted avg       0.99      0.99      0.99       114\n",
            "\n",
            "\n",
            "Accuracy Score : 0.99\n",
            "Roc-Auc Score  : 0.99\n",
            "Cohen's kappa  :  0.98\n",
            "\n",
            "*********** Using SMOTE as Over-Sampling Technique***************\n",
            "***************** For Gradient Boosting Classification *****************\n",
            "\n",
            "\n",
            " Training score: 1.0 and Testing Score is : 1.0\n",
            "<class 'numpy.ndarray'>\n",
            "\n",
            " Confusion Matrix :\n",
            " [[67  0]\n",
            " [ 0 47]] \n",
            "\n",
            "\n",
            " Classification Report :\n",
            "              precision    recall  f1-score   support\n",
            "\n",
            "           0       1.00      1.00      1.00        67\n",
            "           1       1.00      1.00      1.00        47\n",
            "\n",
            "    accuracy                           1.00       114\n",
            "   macro avg       1.00      1.00      1.00       114\n",
            "weighted avg       1.00      1.00      1.00       114\n",
            "\n",
            "\n",
            "Accuracy Score : 1.0\n",
            "Roc-Auc Score  : 1.0\n",
            "Cohen's kappa  :  1.0\n",
            "\n"
          ],
          "name": "stdout"
        },
        {
          "output_type": "stream",
          "text": [
            "/usr/local/lib/python3.6/dist-packages/sklearn/utils/deprecation.py:87: FutureWarning: Function safe_indexing is deprecated; safe_indexing is deprecated in version 0.22 and will be removed in version 0.24.\n",
            "  warnings.warn(msg, category=FutureWarning)\n"
          ],
          "name": "stderr"
        }
      ]
    },
    {
      "cell_type": "code",
      "metadata": {
        "id": "4i_ddVyBX24E",
        "colab_type": "code",
        "colab": {
          "base_uri": "https://localhost:8080/",
          "height": 297
        },
        "outputId": "2e4398fb-3909-41b9-e9d4-9995cbaf9cd1"
      },
      "source": [
        "plt.subplots(1,3,figsize=(16,4))\n",
        "\n",
        "plt.subplot(1,3,1)\n",
        "sns.heatmap(c[0],annot=True)\n",
        "plt.title(' Logistic Regression with SMOTE')\n",
        "\n",
        "plt.subplot(1,3,2)\n",
        "sns.heatmap(c[1],annot=True)\n",
        "plt.title(' Random Forest Classification with SMOTE')\n",
        "\n",
        "plt.subplot(1,3,3)\n",
        "sns.heatmap(c[2],annot=True)\n",
        "plt.title(' Gradient Boosting Classification with SMOTE')\n",
        "\n",
        "plt.tight_layout()"
      ],
      "execution_count": 44,
      "outputs": [
        {
          "output_type": "display_data",
          "data": {
            "image/png": "[encoded data removed]",
            "text/plain": [
              "<Figure size 1152x288 with 6 Axes>"
            ]
          },
          "metadata": {
            "tags": []
          }
        }
      ]
    },
    {
      "cell_type": "markdown",
      "metadata": {
        "id": "1LipFSnohEJT",
        "colab_type": "text"
      },
      "source": [
        "# ConClusion\n",
        "--------------------------\n",
        "\n",
        "So we will choose the ```Gradient Boosting model``` to do the classification."
      ]
    }
  ]
}