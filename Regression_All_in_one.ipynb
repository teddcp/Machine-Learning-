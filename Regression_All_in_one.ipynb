{
  "nbformat": 4,
  "nbformat_minor": 0,
  "metadata": {
    "colab": {
      "name": "Regression- All_in_one.ipynb",
      "provenance": [],
      "collapsed_sections": [],
      "toc_visible": true,
      "authorship_tag": "ABX9TyPwUvHLPRFx712AQW0o9uZi",
      "include_colab_link": true
    },
    "kernelspec": {
      "name": "python3",
      "display_name": "Python 3"
    }
  },
  "cells": [
    {
      "cell_type": "markdown",
      "metadata": {
        "id": "view-in-github",
        "colab_type": "text"
      },
      "source": [
        "<a href=\"https://colab.research.google.com/github/teddcp/Machine-Learning-/blob/master/Regression_All_in_one.ipynb\" target=\"_parent\"><img src=\"https://colab.research.google.com/assets/colab-badge.svg\" alt=\"Open In Colab\"/></a>"
      ]
    },
    {
      "cell_type": "markdown",
      "metadata": {
        "id": "ceKA2TlemAtI",
        "colab_type": "text"
      },
      "source": [
        "# Regression - All In One \n",
        "-------------------------------------------------------------------\n",
        "\n",
        "1. This is a practice exercise where i will implement few regression methods\n",
        "\n",
        "```\n",
        "\n",
        "1. Simple Linear Regression  on Fuel Economy dataset\n",
        "2. Multiple Linear Regresion\n",
        "3. Polynomial regression\n",
        "4. Ridge and Lasso Regression [ regularisation ]\n",
        "\n",
        "```\n",
        "\n",
        "\n",
        "> **dataset** [link](https://github.com/teddcp/Machine-Learning-/tree/master/data-files)\n"
      ]
    },
    {
      "cell_type": "code",
      "metadata": {
        "id": "dELRCYOposbV",
        "colab_type": "code",
        "colab": {}
      },
      "source": [
        "import pandas as pd\n",
        "import numpy as np\n",
        "import matplotlib.pyplot as plt\n",
        "import seaborn as sns\n",
        "\n",
        "sns.set()"
      ],
      "execution_count": 0,
      "outputs": []
    },
    {
      "cell_type": "markdown",
      "metadata": {
        "id": "TIFdlqP6oZ3X",
        "colab_type": "text"
      },
      "source": [
        "#  Simple  Linear Regression \n",
        "--------------------------------------------------------------------------------"
      ]
    },
    {
      "cell_type": "code",
      "metadata": {
        "id": "uCOSiGxblhU4",
        "colab_type": "code",
        "colab": {
          "base_uri": "https://localhost:8080/",
          "height": 194
        },
        "outputId": "21e252ca-0443-4dff-9072-868ef12b910e"
      },
      "source": [
        "data=pd.read_csv('/content/FuelEconomy.csv')\n",
        "data.head()"
      ],
      "execution_count": 4,
      "outputs": [
        {
          "output_type": "execute_result",
          "data": {
            "text/html": [
              "<div>\n",
              "<style scoped>\n",
              "    .dataframe tbody tr th:only-of-type {\n",
              "        vertical-align: middle;\n",
              "    }\n",
              "\n",
              "    .dataframe tbody tr th {\n",
              "        vertical-align: top;\n",
              "    }\n",
              "\n",
              "    .dataframe thead th {\n",
              "        text-align: right;\n",
              "    }\n",
              "</style>\n",
              "<table border=\"1\" class=\"dataframe\">\n",
              "  <thead>\n",
              "    <tr style=\"text-align: right;\">\n",
              "      <th></th>\n",
              "      <th>Horse Power</th>\n",
              "      <th>Fuel Economy (MPG)</th>\n",
              "    </tr>\n",
              "  </thead>\n",
              "  <tbody>\n",
              "    <tr>\n",
              "      <th>0</th>\n",
              "      <td>118.770799</td>\n",
              "      <td>29.344195</td>\n",
              "    </tr>\n",
              "    <tr>\n",
              "      <th>1</th>\n",
              "      <td>176.326567</td>\n",
              "      <td>24.695934</td>\n",
              "    </tr>\n",
              "    <tr>\n",
              "      <th>2</th>\n",
              "      <td>219.262465</td>\n",
              "      <td>23.952010</td>\n",
              "    </tr>\n",
              "    <tr>\n",
              "      <th>3</th>\n",
              "      <td>187.310009</td>\n",
              "      <td>23.384546</td>\n",
              "    </tr>\n",
              "    <tr>\n",
              "      <th>4</th>\n",
              "      <td>218.594340</td>\n",
              "      <td>23.426739</td>\n",
              "    </tr>\n",
              "  </tbody>\n",
              "</table>\n",
              "</div>"
            ],
            "text/plain": [
              "   Horse Power  Fuel Economy (MPG)\n",
              "0   118.770799           29.344195\n",
              "1   176.326567           24.695934\n",
              "2   219.262465           23.952010\n",
              "3   187.310009           23.384546\n",
              "4   218.594340           23.426739"
            ]
          },
          "metadata": {
            "tags": []
          },
          "execution_count": 4
        }
      ]
    },
    {
      "cell_type": "code",
      "metadata": {
        "id": "O2oA1aMoo7_e",
        "colab_type": "code",
        "colab": {
          "base_uri": "https://localhost:8080/",
          "height": 194
        },
        "outputId": "ef3157f8-425d-46af-cac4-d098db5739ab"
      },
      "source": [
        "#renaming the columns\n",
        "data.rename(columns={'Horse Power' : 'hp', 'Fuel Economy (MPG)' : 'mpg' },inplace=True)\n",
        "data.head()"
      ],
      "execution_count": 5,
      "outputs": [
        {
          "output_type": "execute_result",
          "data": {
            "text/html": [
              "<div>\n",
              "<style scoped>\n",
              "    .dataframe tbody tr th:only-of-type {\n",
              "        vertical-align: middle;\n",
              "    }\n",
              "\n",
              "    .dataframe tbody tr th {\n",
              "        vertical-align: top;\n",
              "    }\n",
              "\n",
              "    .dataframe thead th {\n",
              "        text-align: right;\n",
              "    }\n",
              "</style>\n",
              "<table border=\"1\" class=\"dataframe\">\n",
              "  <thead>\n",
              "    <tr style=\"text-align: right;\">\n",
              "      <th></th>\n",
              "      <th>hp</th>\n",
              "      <th>mpg</th>\n",
              "    </tr>\n",
              "  </thead>\n",
              "  <tbody>\n",
              "    <tr>\n",
              "      <th>0</th>\n",
              "      <td>118.770799</td>\n",
              "      <td>29.344195</td>\n",
              "    </tr>\n",
              "    <tr>\n",
              "      <th>1</th>\n",
              "      <td>176.326567</td>\n",
              "      <td>24.695934</td>\n",
              "    </tr>\n",
              "    <tr>\n",
              "      <th>2</th>\n",
              "      <td>219.262465</td>\n",
              "      <td>23.952010</td>\n",
              "    </tr>\n",
              "    <tr>\n",
              "      <th>3</th>\n",
              "      <td>187.310009</td>\n",
              "      <td>23.384546</td>\n",
              "    </tr>\n",
              "    <tr>\n",
              "      <th>4</th>\n",
              "      <td>218.594340</td>\n",
              "      <td>23.426739</td>\n",
              "    </tr>\n",
              "  </tbody>\n",
              "</table>\n",
              "</div>"
            ],
            "text/plain": [
              "           hp        mpg\n",
              "0  118.770799  29.344195\n",
              "1  176.326567  24.695934\n",
              "2  219.262465  23.952010\n",
              "3  187.310009  23.384546\n",
              "4  218.594340  23.426739"
            ]
          },
          "metadata": {
            "tags": []
          },
          "execution_count": 5
        }
      ]
    },
    {
      "cell_type": "code",
      "metadata": {
        "id": "cBAVGAT4pULc",
        "colab_type": "code",
        "colab": {
          "base_uri": "https://localhost:8080/",
          "height": 177
        },
        "outputId": "0264a2ab-a699-4bf9-ce89-e79e80b055e2"
      },
      "source": [
        "data.info()  # No Null value & No Categorical Variable"
      ],
      "execution_count": 6,
      "outputs": [
        {
          "output_type": "stream",
          "text": [
            "<class 'pandas.core.frame.DataFrame'>\n",
            "RangeIndex: 100 entries, 0 to 99\n",
            "Data columns (total 2 columns):\n",
            " #   Column  Non-Null Count  Dtype  \n",
            "---  ------  --------------  -----  \n",
            " 0   hp      100 non-null    float64\n",
            " 1   mpg     100 non-null    float64\n",
            "dtypes: float64(2)\n",
            "memory usage: 1.7 KB\n"
          ],
          "name": "stdout"
        }
      ]
    },
    {
      "cell_type": "code",
      "metadata": {
        "id": "JRxRI8hupZN8",
        "colab_type": "code",
        "colab": {
          "base_uri": "https://localhost:8080/",
          "height": 282
        },
        "outputId": "7ea77357-8ff8-415c-a2d4-8496d591d5b6"
      },
      "source": [
        "data.describe()"
      ],
      "execution_count": 7,
      "outputs": [
        {
          "output_type": "execute_result",
          "data": {
            "text/html": [
              "<div>\n",
              "<style scoped>\n",
              "    .dataframe tbody tr th:only-of-type {\n",
              "        vertical-align: middle;\n",
              "    }\n",
              "\n",
              "    .dataframe tbody tr th {\n",
              "        vertical-align: top;\n",
              "    }\n",
              "\n",
              "    .dataframe thead th {\n",
              "        text-align: right;\n",
              "    }\n",
              "</style>\n",
              "<table border=\"1\" class=\"dataframe\">\n",
              "  <thead>\n",
              "    <tr style=\"text-align: right;\">\n",
              "      <th></th>\n",
              "      <th>hp</th>\n",
              "      <th>mpg</th>\n",
              "    </tr>\n",
              "  </thead>\n",
              "  <tbody>\n",
              "    <tr>\n",
              "      <th>count</th>\n",
              "      <td>100.000000</td>\n",
              "      <td>100.000000</td>\n",
              "    </tr>\n",
              "    <tr>\n",
              "      <th>mean</th>\n",
              "      <td>213.676190</td>\n",
              "      <td>23.178501</td>\n",
              "    </tr>\n",
              "    <tr>\n",
              "      <th>std</th>\n",
              "      <td>62.061726</td>\n",
              "      <td>4.701666</td>\n",
              "    </tr>\n",
              "    <tr>\n",
              "      <th>min</th>\n",
              "      <td>50.000000</td>\n",
              "      <td>10.000000</td>\n",
              "    </tr>\n",
              "    <tr>\n",
              "      <th>25%</th>\n",
              "      <td>174.996514</td>\n",
              "      <td>20.439516</td>\n",
              "    </tr>\n",
              "    <tr>\n",
              "      <th>50%</th>\n",
              "      <td>218.928402</td>\n",
              "      <td>23.143192</td>\n",
              "    </tr>\n",
              "    <tr>\n",
              "      <th>75%</th>\n",
              "      <td>251.706476</td>\n",
              "      <td>26.089933</td>\n",
              "    </tr>\n",
              "    <tr>\n",
              "      <th>max</th>\n",
              "      <td>350.000000</td>\n",
              "      <td>35.000000</td>\n",
              "    </tr>\n",
              "  </tbody>\n",
              "</table>\n",
              "</div>"
            ],
            "text/plain": [
              "               hp         mpg\n",
              "count  100.000000  100.000000\n",
              "mean   213.676190   23.178501\n",
              "std     62.061726    4.701666\n",
              "min     50.000000   10.000000\n",
              "25%    174.996514   20.439516\n",
              "50%    218.928402   23.143192\n",
              "75%    251.706476   26.089933\n",
              "max    350.000000   35.000000"
            ]
          },
          "metadata": {
            "tags": []
          },
          "execution_count": 7
        }
      ]
    },
    {
      "cell_type": "code",
      "metadata": {
        "id": "z5CLxr1Rpf38",
        "colab_type": "code",
        "colab": {
          "base_uri": "https://localhost:8080/",
          "height": 455
        },
        "outputId": "67931d55-eec8-4617-fe98-abfd79eb5c4b"
      },
      "source": [
        "sns.jointplot(x='hp',y='mpg',data=data)   # Linear Relationship exists"
      ],
      "execution_count": 8,
      "outputs": [
        {
          "output_type": "execute_result",
          "data": {
            "text/plain": [
              "<seaborn.axisgrid.JointGrid at 0x7f8c6c0aa1d0>"
            ]
          },
          "metadata": {
            "tags": []
          },
          "execution_count": 8
        },
        {
          "output_type": "display_data",
          "data": {
            "image/png": "[encoded data removed]",
            "text/plain": [
              "<Figure size 432x432 with 3 Axes>"
            ]
          },
          "metadata": {
            "tags": []
          }
        }
      ]
    },
    {
      "cell_type": "code",
      "metadata": {
        "id": "CcCVXnoXqDxr",
        "colab_type": "code",
        "colab": {}
      },
      "source": [
        "#splitting the data\n",
        "x=data[['hp']]\n",
        "y=data['mpg']\n",
        "\n",
        "from sklearn.model_selection import train_test_split as tts\n",
        "x_train,x_test,y_train,y_test= tts(x,y,test_size=0.3,random_state=42)"
      ],
      "execution_count": 0,
      "outputs": []
    },
    {
      "cell_type": "code",
      "metadata": {
        "id": "lfbCAkGhqbpd",
        "colab_type": "code",
        "colab": {}
      },
      "source": [
        "# Linear Regression model\n",
        "from sklearn.linear_model import LinearRegression as lr\n",
        "\n",
        "model=lr(fit_intercept=True)"
      ],
      "execution_count": 0,
      "outputs": []
    },
    {
      "cell_type": "code",
      "metadata": {
        "id": "r7_qjlqwqpdL",
        "colab_type": "code",
        "colab": {
          "base_uri": "https://localhost:8080/",
          "height": 35
        },
        "outputId": "9acb207e-0d62-47bd-cbe1-ec2ffa4fc2dc"
      },
      "source": [
        "#training\n",
        "model.fit(x_train,y_train)"
      ],
      "execution_count": 12,
      "outputs": [
        {
          "output_type": "execute_result",
          "data": {
            "text/plain": [
              "LinearRegression(copy_X=True, fit_intercept=True, n_jobs=None, normalize=False)"
            ]
          },
          "metadata": {
            "tags": []
          },
          "execution_count": 12
        }
      ]
    },
    {
      "cell_type": "code",
      "metadata": {
        "id": "tkzJ3vtKqsgs",
        "colab_type": "code",
        "colab": {
          "base_uri": "https://localhost:8080/",
          "height": 35
        },
        "outputId": "4f915e66-8eff-4c5b-ebb0-7b9dca42be64"
      },
      "source": [
        "# getting the coefficients and intercept\n",
        "model.intercept_,model.coef_"
      ],
      "execution_count": 13,
      "outputs": [
        {
          "output_type": "execute_result",
          "data": {
            "text/plain": [
              "(38.83895884102216, array([-0.0732172]))"
            ]
          },
          "metadata": {
            "tags": []
          },
          "execution_count": 13
        }
      ]
    },
    {
      "cell_type": "code",
      "metadata": {
        "id": "oLjRZC8lq0PM",
        "colab_type": "code",
        "colab": {}
      },
      "source": [
        "# Predicting\n",
        "res= model.predict(x_test)"
      ],
      "execution_count": 0,
      "outputs": []
    },
    {
      "cell_type": "code",
      "metadata": {
        "id": "am92rPjerAGr",
        "colab_type": "code",
        "colab": {}
      },
      "source": [
        "# Evaluation of results : MSE, r2-score\n",
        "from sklearn.metrics import mean_squared_error as mse, r2_score"
      ],
      "execution_count": 0,
      "outputs": []
    },
    {
      "cell_type": "code",
      "metadata": {
        "id": "3wHRO6yHrTu7",
        "colab_type": "code",
        "colab": {
          "base_uri": "https://localhost:8080/",
          "height": 35
        },
        "outputId": "ea0fc44a-e929-455f-e071-c951c0ae1c42"
      },
      "source": [
        "np.sqrt(mse(y_test,res)), round(r2_score(y_test,res),2)   # RMSE and r2-score"
      ],
      "execution_count": 17,
      "outputs": [
        {
          "output_type": "execute_result",
          "data": {
            "text/plain": [
              "(1.2941985825640643, 0.91)"
            ]
          },
          "metadata": {
            "tags": []
          },
          "execution_count": 17
        }
      ]
    },
    {
      "cell_type": "code",
      "metadata": {
        "id": "B3rhUm3rsQ4T",
        "colab_type": "code",
        "colab": {
          "base_uri": "https://localhost:8080/",
          "height": 301
        },
        "outputId": "e01ea534-a3f6-4fbe-e783-374e64ad20c7"
      },
      "source": [
        "# Plotting the result\n",
        "plt.scatter(x_test,y_test,color='blue')\n",
        "plt.plot(x_test,res,color='red')\n",
        "plt.xlabel('hp')\n",
        "plt.ylabel('mpg')\n",
        "plt.title('Hp vs Mpg { Linear Regression }')\n",
        "plt.show()"
      ],
      "execution_count": 21,
      "outputs": [
        {
          "output_type": "display_data",
          "data": {
            "image/png": "[encoded data removed]",
            "text/plain": [
              "<Figure size 432x288 with 1 Axes>"
            ]
          },
          "metadata": {
            "tags": []
          }
        }
      ]
    },
    {
      "cell_type": "code",
      "metadata": {
        "id": "WkXCau4nsQzt",
        "colab_type": "code",
        "colab": {
          "base_uri": "https://localhost:8080/",
          "height": 35
        },
        "outputId": "ab2a5532-e5b6-419b-a791-9ee3088a426a"
      },
      "source": [
        "# Simple Prediction\n",
        "hp=[[200]]\n",
        "model.predict(hp)[0]"
      ],
      "execution_count": 23,
      "outputs": [
        {
          "output_type": "execute_result",
          "data": {
            "text/plain": [
              "24.195519834652952"
            ]
          },
          "metadata": {
            "tags": []
          },
          "execution_count": 23
        }
      ]
    },
    {
      "cell_type": "markdown",
      "metadata": {
        "id": "LWdV1Repr-mG",
        "colab_type": "text"
      },
      "source": [
        "## Conclusion\n",
        "\n",
        "We are able to achieve 91% r-squared value and RMSE is 1.3"
      ]
    },
    {
      "cell_type": "markdown",
      "metadata": {
        "id": "_empdy-kxhJ7",
        "colab_type": "text"
      },
      "source": [
        "# 2. Polynomial Regression\n",
        "-------------------------------------------------------------------------------"
      ]
    },
    {
      "cell_type": "code",
      "metadata": {
        "id": "b33XDcK_rZu8",
        "colab_type": "code",
        "colab": {
          "base_uri": "https://localhost:8080/",
          "height": 194
        },
        "outputId": "6a01a811-1843-4397-9b0b-bed43a213f50"
      },
      "source": [
        "data=pd.read_csv('/content/EconomiesOfScale.csv')\n",
        "data.head()"
      ],
      "execution_count": 59,
      "outputs": [
        {
          "output_type": "execute_result",
          "data": {
            "text/html": [
              "<div>\n",
              "<style scoped>\n",
              "    .dataframe tbody tr th:only-of-type {\n",
              "        vertical-align: middle;\n",
              "    }\n",
              "\n",
              "    .dataframe tbody tr th {\n",
              "        vertical-align: top;\n",
              "    }\n",
              "\n",
              "    .dataframe thead th {\n",
              "        text-align: right;\n",
              "    }\n",
              "</style>\n",
              "<table border=\"1\" class=\"dataframe\">\n",
              "  <thead>\n",
              "    <tr style=\"text-align: right;\">\n",
              "      <th></th>\n",
              "      <th>Number of Units</th>\n",
              "      <th>Manufacturing Cost</th>\n",
              "    </tr>\n",
              "  </thead>\n",
              "  <tbody>\n",
              "    <tr>\n",
              "      <th>0</th>\n",
              "      <td>1.000000</td>\n",
              "      <td>95.066056</td>\n",
              "    </tr>\n",
              "    <tr>\n",
              "      <th>1</th>\n",
              "      <td>1.185994</td>\n",
              "      <td>96.531750</td>\n",
              "    </tr>\n",
              "    <tr>\n",
              "      <th>2</th>\n",
              "      <td>1.191499</td>\n",
              "      <td>73.661311</td>\n",
              "    </tr>\n",
              "    <tr>\n",
              "      <th>3</th>\n",
              "      <td>1.204771</td>\n",
              "      <td>95.566843</td>\n",
              "    </tr>\n",
              "    <tr>\n",
              "      <th>4</th>\n",
              "      <td>1.298773</td>\n",
              "      <td>98.777013</td>\n",
              "    </tr>\n",
              "  </tbody>\n",
              "</table>\n",
              "</div>"
            ],
            "text/plain": [
              "   Number of Units  Manufacturing Cost\n",
              "0         1.000000           95.066056\n",
              "1         1.185994           96.531750\n",
              "2         1.191499           73.661311\n",
              "3         1.204771           95.566843\n",
              "4         1.298773           98.777013"
            ]
          },
          "metadata": {
            "tags": []
          },
          "execution_count": 59
        }
      ]
    },
    {
      "cell_type": "code",
      "metadata": {
        "id": "SXjVS17lxubv",
        "colab_type": "code",
        "colab": {
          "base_uri": "https://localhost:8080/",
          "height": 194
        },
        "outputId": "8bdcfb83-3e7b-4b5e-e92f-2dcb35fceb29"
      },
      "source": [
        "data.rename(columns={'Number of Units':'units','Manufacturing Cost':'cost'},inplace=True)\n",
        "data.head()"
      ],
      "execution_count": 60,
      "outputs": [
        {
          "output_type": "execute_result",
          "data": {
            "text/html": [
              "<div>\n",
              "<style scoped>\n",
              "    .dataframe tbody tr th:only-of-type {\n",
              "        vertical-align: middle;\n",
              "    }\n",
              "\n",
              "    .dataframe tbody tr th {\n",
              "        vertical-align: top;\n",
              "    }\n",
              "\n",
              "    .dataframe thead th {\n",
              "        text-align: right;\n",
              "    }\n",
              "</style>\n",
              "<table border=\"1\" class=\"dataframe\">\n",
              "  <thead>\n",
              "    <tr style=\"text-align: right;\">\n",
              "      <th></th>\n",
              "      <th>units</th>\n",
              "      <th>cost</th>\n",
              "    </tr>\n",
              "  </thead>\n",
              "  <tbody>\n",
              "    <tr>\n",
              "      <th>0</th>\n",
              "      <td>1.000000</td>\n",
              "      <td>95.066056</td>\n",
              "    </tr>\n",
              "    <tr>\n",
              "      <th>1</th>\n",
              "      <td>1.185994</td>\n",
              "      <td>96.531750</td>\n",
              "    </tr>\n",
              "    <tr>\n",
              "      <th>2</th>\n",
              "      <td>1.191499</td>\n",
              "      <td>73.661311</td>\n",
              "    </tr>\n",
              "    <tr>\n",
              "      <th>3</th>\n",
              "      <td>1.204771</td>\n",
              "      <td>95.566843</td>\n",
              "    </tr>\n",
              "    <tr>\n",
              "      <th>4</th>\n",
              "      <td>1.298773</td>\n",
              "      <td>98.777013</td>\n",
              "    </tr>\n",
              "  </tbody>\n",
              "</table>\n",
              "</div>"
            ],
            "text/plain": [
              "      units       cost\n",
              "0  1.000000  95.066056\n",
              "1  1.185994  96.531750\n",
              "2  1.191499  73.661311\n",
              "3  1.204771  95.566843\n",
              "4  1.298773  98.777013"
            ]
          },
          "metadata": {
            "tags": []
          },
          "execution_count": 60
        }
      ]
    },
    {
      "cell_type": "code",
      "metadata": {
        "id": "zVXzK3imx7-N",
        "colab_type": "code",
        "colab": {
          "base_uri": "https://localhost:8080/",
          "height": 177
        },
        "outputId": "9cf45855-2bda-4ea7-a37f-83d34094b167"
      },
      "source": [
        "data.info() # No Null value"
      ],
      "execution_count": 61,
      "outputs": [
        {
          "output_type": "stream",
          "text": [
            "<class 'pandas.core.frame.DataFrame'>\n",
            "RangeIndex: 1000 entries, 0 to 999\n",
            "Data columns (total 2 columns):\n",
            " #   Column  Non-Null Count  Dtype  \n",
            "---  ------  --------------  -----  \n",
            " 0   units   1000 non-null   float64\n",
            " 1   cost    1000 non-null   float64\n",
            "dtypes: float64(2)\n",
            "memory usage: 15.8 KB\n"
          ],
          "name": "stdout"
        }
      ]
    },
    {
      "cell_type": "code",
      "metadata": {
        "id": "HAQuQIoCx_gL",
        "colab_type": "code",
        "colab": {
          "base_uri": "https://localhost:8080/",
          "height": 282
        },
        "outputId": "de541aad-9cf7-4f10-c972-5542c39ac88f"
      },
      "source": [
        "data.describe()"
      ],
      "execution_count": 62,
      "outputs": [
        {
          "output_type": "execute_result",
          "data": {
            "text/html": [
              "<div>\n",
              "<style scoped>\n",
              "    .dataframe tbody tr th:only-of-type {\n",
              "        vertical-align: middle;\n",
              "    }\n",
              "\n",
              "    .dataframe tbody tr th {\n",
              "        vertical-align: top;\n",
              "    }\n",
              "\n",
              "    .dataframe thead th {\n",
              "        text-align: right;\n",
              "    }\n",
              "</style>\n",
              "<table border=\"1\" class=\"dataframe\">\n",
              "  <thead>\n",
              "    <tr style=\"text-align: right;\">\n",
              "      <th></th>\n",
              "      <th>units</th>\n",
              "      <th>cost</th>\n",
              "    </tr>\n",
              "  </thead>\n",
              "  <tbody>\n",
              "    <tr>\n",
              "      <th>count</th>\n",
              "      <td>1000.000000</td>\n",
              "      <td>1000.000000</td>\n",
              "    </tr>\n",
              "    <tr>\n",
              "      <th>mean</th>\n",
              "      <td>4.472799</td>\n",
              "      <td>40.052999</td>\n",
              "    </tr>\n",
              "    <tr>\n",
              "      <th>std</th>\n",
              "      <td>1.336241</td>\n",
              "      <td>10.595322</td>\n",
              "    </tr>\n",
              "    <tr>\n",
              "      <th>min</th>\n",
              "      <td>1.000000</td>\n",
              "      <td>20.000000</td>\n",
              "    </tr>\n",
              "    <tr>\n",
              "      <th>25%</th>\n",
              "      <td>3.594214</td>\n",
              "      <td>32.912036</td>\n",
              "    </tr>\n",
              "    <tr>\n",
              "      <th>50%</th>\n",
              "      <td>4.435958</td>\n",
              "      <td>38.345781</td>\n",
              "    </tr>\n",
              "    <tr>\n",
              "      <th>75%</th>\n",
              "      <td>5.324780</td>\n",
              "      <td>44.531822</td>\n",
              "    </tr>\n",
              "    <tr>\n",
              "      <th>max</th>\n",
              "      <td>10.000000</td>\n",
              "      <td>100.000000</td>\n",
              "    </tr>\n",
              "  </tbody>\n",
              "</table>\n",
              "</div>"
            ],
            "text/plain": [
              "             units         cost\n",
              "count  1000.000000  1000.000000\n",
              "mean      4.472799    40.052999\n",
              "std       1.336241    10.595322\n",
              "min       1.000000    20.000000\n",
              "25%       3.594214    32.912036\n",
              "50%       4.435958    38.345781\n",
              "75%       5.324780    44.531822\n",
              "max      10.000000   100.000000"
            ]
          },
          "metadata": {
            "tags": []
          },
          "execution_count": 62
        }
      ]
    },
    {
      "cell_type": "code",
      "metadata": {
        "id": "gn4oJpzTyBaa",
        "colab_type": "code",
        "colab": {
          "base_uri": "https://localhost:8080/",
          "height": 455
        },
        "outputId": "4240a395-d01a-4abf-b1a2-218ebc06c9cf"
      },
      "source": [
        "sns.jointplot(x='units',y='cost',data=data)"
      ],
      "execution_count": 63,
      "outputs": [
        {
          "output_type": "execute_result",
          "data": {
            "text/plain": [
              "<seaborn.axisgrid.JointGrid at 0x7f8c659e2400>"
            ]
          },
          "metadata": {
            "tags": []
          },
          "execution_count": 63
        },
        {
          "output_type": "display_data",
          "data": {
            "image/png": "[encoded data removed]",
            "text/plain": [
              "<Figure size 432x432 with 3 Axes>"
            ]
          },
          "metadata": {
            "tags": []
          }
        }
      ]
    },
    {
      "cell_type": "markdown",
      "metadata": {
        "id": "GkMbBRGQzZ22",
        "colab_type": "text"
      },
      "source": [
        "### Note\n",
        "\n",
        "If we try to implement with linear Regression model, we can, but it will give a lower accuracy compared to a polynomial model."
      ]
    },
    {
      "cell_type": "code",
      "metadata": {
        "id": "LGRTYVSqyQD6",
        "colab_type": "code",
        "colab": {}
      },
      "source": [
        "# Splitting the data\n",
        "x=data[['units']]\n",
        "y=data['cost']\n",
        "\n",
        "x_train,x_test,y_train,y_test= tts(x,y,test_size=0.3,random_state=42)"
      ],
      "execution_count": 0,
      "outputs": []
    },
    {
      "cell_type": "code",
      "metadata": {
        "id": "QEUia912yoHL",
        "colab_type": "code",
        "colab": {}
      },
      "source": [
        "# making the model with pipeline\n",
        "\n",
        "from sklearn.preprocessing import  PolynomialFeatures as pf\n",
        "from sklearn.pipeline import make_pipeline as mp"
      ],
      "execution_count": 0,
      "outputs": []
    },
    {
      "cell_type": "code",
      "metadata": {
        "id": "fm2w7ns2zH57",
        "colab_type": "code",
        "colab": {
          "base_uri": "https://localhost:8080/",
          "height": 159
        },
        "outputId": "3138284c-e2ad-491a-9c38-9db52c32293e"
      },
      "source": [
        "model= mp(pf(degree=2  ,include_bias=False),lr(fit_intercept=True)) # A 2-degree polynomial\n",
        "model.fit(x_train,y_train)"
      ],
      "execution_count": 91,
      "outputs": [
        {
          "output_type": "execute_result",
          "data": {
            "text/plain": [
              "Pipeline(memory=None,\n",
              "         steps=[('polynomialfeatures',\n",
              "                 PolynomialFeatures(degree=2, include_bias=False,\n",
              "                                    interaction_only=False, order='C')),\n",
              "                ('linearregression',\n",
              "                 LinearRegression(copy_X=True, fit_intercept=True, n_jobs=None,\n",
              "                                  normalize=False))],\n",
              "         verbose=False)"
            ]
          },
          "metadata": {
            "tags": []
          },
          "execution_count": 91
        }
      ]
    },
    {
      "cell_type": "code",
      "metadata": {
        "id": "yC99idcdzp5m",
        "colab_type": "code",
        "colab": {
          "base_uri": "https://localhost:8080/",
          "height": 35
        },
        "outputId": "10a3b722-cffd-42b1-9141-900b6ce042a7"
      },
      "source": [
        "#getting the coefficient and intercepts of the model  y= c+ bx + ax^2 i.e c,b,a\n",
        "model.named_steps['linearregression'].coef_, model.named_steps['linearregression'].intercept_"
      ],
      "execution_count": 92,
      "outputs": [
        {
          "output_type": "execute_result",
          "data": {
            "text/plain": [
              "(array([-17.53417038,   1.23618282]), 91.60864639950569)"
            ]
          },
          "metadata": {
            "tags": []
          },
          "execution_count": 92
        }
      ]
    },
    {
      "cell_type": "code",
      "metadata": {
        "id": "DHcXF92zzxHc",
        "colab_type": "code",
        "colab": {}
      },
      "source": [
        "res=model.predict(x_test)"
      ],
      "execution_count": 0,
      "outputs": []
    },
    {
      "cell_type": "code",
      "metadata": {
        "id": "eqXqMl3M0Fjr",
        "colab_type": "code",
        "colab": {
          "base_uri": "https://localhost:8080/",
          "height": 35
        },
        "outputId": "bb066952-0e83-4e55-8a16-267e62fb4f50"
      },
      "source": [
        "np.sqrt(mse(y_test,res)), round(r2_score(y_test,res),2)   # RMSE and r2-score"
      ],
      "execution_count": 94,
      "outputs": [
        {
          "output_type": "execute_result",
          "data": {
            "text/plain": [
              "(5.967373077831107, 0.66)"
            ]
          },
          "metadata": {
            "tags": []
          },
          "execution_count": 94
        }
      ]
    },
    {
      "cell_type": "code",
      "metadata": {
        "id": "XgBebtWD1yU4",
        "colab_type": "code",
        "colab": {
          "base_uri": "https://localhost:8080/",
          "height": 194
        },
        "outputId": "be52f9eb-ef6a-4d6a-8eaf-4d8886ac8679"
      },
      "source": [
        "# sorting the the arrays to avoaid the messy plot\n",
        "new_data=sorted(list(zip(x_test.to_numpy().ravel(),y_test.to_list())) , key=lambda x:(x[0],x[1]))\n",
        "new_data= pd.DataFrame(new_data,columns=['a','b'])\n",
        "new_data.head()"
      ],
      "execution_count": 95,
      "outputs": [
        {
          "output_type": "execute_result",
          "data": {
            "text/html": [
              "<div>\n",
              "<style scoped>\n",
              "    .dataframe tbody tr th:only-of-type {\n",
              "        vertical-align: middle;\n",
              "    }\n",
              "\n",
              "    .dataframe tbody tr th {\n",
              "        vertical-align: top;\n",
              "    }\n",
              "\n",
              "    .dataframe thead th {\n",
              "        text-align: right;\n",
              "    }\n",
              "</style>\n",
              "<table border=\"1\" class=\"dataframe\">\n",
              "  <thead>\n",
              "    <tr style=\"text-align: right;\">\n",
              "      <th></th>\n",
              "      <th>a</th>\n",
              "      <th>b</th>\n",
              "    </tr>\n",
              "  </thead>\n",
              "  <tbody>\n",
              "    <tr>\n",
              "      <th>0</th>\n",
              "      <td>1.191499</td>\n",
              "      <td>73.661311</td>\n",
              "    </tr>\n",
              "    <tr>\n",
              "      <th>1</th>\n",
              "      <td>1.204771</td>\n",
              "      <td>95.566843</td>\n",
              "    </tr>\n",
              "    <tr>\n",
              "      <th>2</th>\n",
              "      <td>1.307435</td>\n",
              "      <td>100.000000</td>\n",
              "    </tr>\n",
              "    <tr>\n",
              "      <th>3</th>\n",
              "      <td>1.379044</td>\n",
              "      <td>67.185383</td>\n",
              "    </tr>\n",
              "    <tr>\n",
              "      <th>4</th>\n",
              "      <td>1.473948</td>\n",
              "      <td>61.967696</td>\n",
              "    </tr>\n",
              "  </tbody>\n",
              "</table>\n",
              "</div>"
            ],
            "text/plain": [
              "          a           b\n",
              "0  1.191499   73.661311\n",
              "1  1.204771   95.566843\n",
              "2  1.307435  100.000000\n",
              "3  1.379044   67.185383\n",
              "4  1.473948   61.967696"
            ]
          },
          "metadata": {
            "tags": []
          },
          "execution_count": 95
        }
      ]
    },
    {
      "cell_type": "code",
      "metadata": {
        "id": "7YwRqmVI0N36",
        "colab_type": "code",
        "colab": {
          "base_uri": "https://localhost:8080/",
          "height": 301
        },
        "outputId": "86a422d6-1ef1-413e-bd32-e71cab3f2a5d"
      },
      "source": [
        "# Plotting the result\n",
        "plt.scatter(new_data['a'],new_data['b'],color='blue')\n",
        "plt.plot(new_data['a'],model.predict(new_data[['a']]),color='red')\n",
        "plt.xlabel('Units')\n",
        "plt.ylabel('cost')\n",
        "plt.title(' Units vs Cost { Polynomial Regression }')\n",
        "plt.show()"
      ],
      "execution_count": 96,
      "outputs": [
        {
          "output_type": "display_data",
          "data": {
            "image/png": "[encoded data removed]",
            "text/plain": [
              "<Figure size 432x288 with 1 Axes>"
            ]
          },
          "metadata": {
            "tags": []
          }
        }
      ]
    },
    {
      "cell_type": "markdown",
      "metadata": {
        "id": "3EIamqHo8GP-",
        "colab_type": "text"
      },
      "source": [
        "# Multiple Linear Regression\n",
        "--------------------------------------------------------------------------------\n"
      ]
    },
    {
      "cell_type": "code",
      "metadata": {
        "id": "WuQd5htP1flV",
        "colab_type": "code",
        "colab": {
          "base_uri": "https://localhost:8080/",
          "height": 194
        },
        "outputId": "79760acd-e2e9-4864-9dba-73031eaf4649"
      },
      "source": [
        "data=pd.read_csv('/content/S&P500_Stock_Data.csv')\n",
        "data.head()"
      ],
      "execution_count": 99,
      "outputs": [
        {
          "output_type": "execute_result",
          "data": {
            "text/html": [
              "<div>\n",
              "<style scoped>\n",
              "    .dataframe tbody tr th:only-of-type {\n",
              "        vertical-align: middle;\n",
              "    }\n",
              "\n",
              "    .dataframe tbody tr th {\n",
              "        vertical-align: top;\n",
              "    }\n",
              "\n",
              "    .dataframe thead th {\n",
              "        text-align: right;\n",
              "    }\n",
              "</style>\n",
              "<table border=\"1\" class=\"dataframe\">\n",
              "  <thead>\n",
              "    <tr style=\"text-align: right;\">\n",
              "      <th></th>\n",
              "      <th>Interest Rates</th>\n",
              "      <th>Employment</th>\n",
              "      <th>S&amp;P 500 Price</th>\n",
              "    </tr>\n",
              "  </thead>\n",
              "  <tbody>\n",
              "    <tr>\n",
              "      <th>0</th>\n",
              "      <td>1.943859</td>\n",
              "      <td>55.413571</td>\n",
              "      <td>2206.680582</td>\n",
              "    </tr>\n",
              "    <tr>\n",
              "      <th>1</th>\n",
              "      <td>2.258229</td>\n",
              "      <td>59.546305</td>\n",
              "      <td>2486.474488</td>\n",
              "    </tr>\n",
              "    <tr>\n",
              "      <th>2</th>\n",
              "      <td>2.215863</td>\n",
              "      <td>57.414687</td>\n",
              "      <td>2405.868337</td>\n",
              "    </tr>\n",
              "    <tr>\n",
              "      <th>3</th>\n",
              "      <td>1.977960</td>\n",
              "      <td>49.908353</td>\n",
              "      <td>2140.434475</td>\n",
              "    </tr>\n",
              "    <tr>\n",
              "      <th>4</th>\n",
              "      <td>2.437723</td>\n",
              "      <td>52.035492</td>\n",
              "      <td>2411.275663</td>\n",
              "    </tr>\n",
              "  </tbody>\n",
              "</table>\n",
              "</div>"
            ],
            "text/plain": [
              "   Interest Rates  Employment  S&P 500 Price\n",
              "0        1.943859   55.413571    2206.680582\n",
              "1        2.258229   59.546305    2486.474488\n",
              "2        2.215863   57.414687    2405.868337\n",
              "3        1.977960   49.908353    2140.434475\n",
              "4        2.437723   52.035492    2411.275663"
            ]
          },
          "metadata": {
            "tags": []
          },
          "execution_count": 99
        }
      ]
    },
    {
      "cell_type": "code",
      "metadata": {
        "id": "BwcFiVpZ8gYq",
        "colab_type": "code",
        "colab": {
          "base_uri": "https://localhost:8080/",
          "height": 195
        },
        "outputId": "5ddf16ff-0106-4f5e-f003-9d86abeaee78"
      },
      "source": [
        "data.info()"
      ],
      "execution_count": 100,
      "outputs": [
        {
          "output_type": "stream",
          "text": [
            "<class 'pandas.core.frame.DataFrame'>\n",
            "RangeIndex: 1000 entries, 0 to 999\n",
            "Data columns (total 3 columns):\n",
            " #   Column          Non-Null Count  Dtype  \n",
            "---  ------          --------------  -----  \n",
            " 0   Interest Rates  1000 non-null   float64\n",
            " 1   Employment      1000 non-null   float64\n",
            " 2   S&P 500 Price   1000 non-null   float64\n",
            "dtypes: float64(3)\n",
            "memory usage: 23.6 KB\n"
          ],
          "name": "stdout"
        }
      ]
    },
    {
      "cell_type": "code",
      "metadata": {
        "id": "kiCFxIWY9UHq",
        "colab_type": "code",
        "colab": {
          "base_uri": "https://localhost:8080/",
          "height": 282
        },
        "outputId": "52c40503-d4ea-496d-ee34-ff22257b1333"
      },
      "source": [
        "data.describe()"
      ],
      "execution_count": 101,
      "outputs": [
        {
          "output_type": "execute_result",
          "data": {
            "text/html": [
              "<div>\n",
              "<style scoped>\n",
              "    .dataframe tbody tr th:only-of-type {\n",
              "        vertical-align: middle;\n",
              "    }\n",
              "\n",
              "    .dataframe tbody tr th {\n",
              "        vertical-align: top;\n",
              "    }\n",
              "\n",
              "    .dataframe thead th {\n",
              "        text-align: right;\n",
              "    }\n",
              "</style>\n",
              "<table border=\"1\" class=\"dataframe\">\n",
              "  <thead>\n",
              "    <tr style=\"text-align: right;\">\n",
              "      <th></th>\n",
              "      <th>Interest Rates</th>\n",
              "      <th>Employment</th>\n",
              "      <th>S&amp;P 500 Price</th>\n",
              "    </tr>\n",
              "  </thead>\n",
              "  <tbody>\n",
              "    <tr>\n",
              "      <th>count</th>\n",
              "      <td>1000.000000</td>\n",
              "      <td>1000.000000</td>\n",
              "      <td>1000.000000</td>\n",
              "    </tr>\n",
              "    <tr>\n",
              "      <th>mean</th>\n",
              "      <td>2.195392</td>\n",
              "      <td>56.254855</td>\n",
              "      <td>2319.999936</td>\n",
              "    </tr>\n",
              "    <tr>\n",
              "      <th>std</th>\n",
              "      <td>0.241630</td>\n",
              "      <td>4.862178</td>\n",
              "      <td>193.854745</td>\n",
              "    </tr>\n",
              "    <tr>\n",
              "      <th>min</th>\n",
              "      <td>1.500000</td>\n",
              "      <td>40.000000</td>\n",
              "      <td>1800.000000</td>\n",
              "    </tr>\n",
              "    <tr>\n",
              "      <th>25%</th>\n",
              "      <td>2.035735</td>\n",
              "      <td>53.029784</td>\n",
              "      <td>2190.447901</td>\n",
              "    </tr>\n",
              "    <tr>\n",
              "      <th>50%</th>\n",
              "      <td>2.198214</td>\n",
              "      <td>56.160941</td>\n",
              "      <td>2312.443024</td>\n",
              "    </tr>\n",
              "    <tr>\n",
              "      <th>75%</th>\n",
              "      <td>2.359061</td>\n",
              "      <td>59.422633</td>\n",
              "      <td>2455.764327</td>\n",
              "    </tr>\n",
              "    <tr>\n",
              "      <th>max</th>\n",
              "      <td>3.000000</td>\n",
              "      <td>70.000000</td>\n",
              "      <td>3000.000000</td>\n",
              "    </tr>\n",
              "  </tbody>\n",
              "</table>\n",
              "</div>"
            ],
            "text/plain": [
              "       Interest Rates   Employment  S&P 500 Price\n",
              "count     1000.000000  1000.000000    1000.000000\n",
              "mean         2.195392    56.254855    2319.999936\n",
              "std          0.241630     4.862178     193.854745\n",
              "min          1.500000    40.000000    1800.000000\n",
              "25%          2.035735    53.029784    2190.447901\n",
              "50%          2.198214    56.160941    2312.443024\n",
              "75%          2.359061    59.422633    2455.764327\n",
              "max          3.000000    70.000000    3000.000000"
            ]
          },
          "metadata": {
            "tags": []
          },
          "execution_count": 101
        }
      ]
    },
    {
      "cell_type": "code",
      "metadata": {
        "id": "6gp085PM9WW4",
        "colab_type": "code",
        "colab": {
          "base_uri": "https://localhost:8080/",
          "height": 455
        },
        "outputId": "1484b465-c309-4c5d-e7de-76d48f6f286e"
      },
      "source": [
        "sns.jointplot(x='Interest Rates',y='S&P 500 Price',data=data)"
      ],
      "execution_count": 102,
      "outputs": [
        {
          "output_type": "execute_result",
          "data": {
            "text/plain": [
              "<seaborn.axisgrid.JointGrid at 0x7f8c6565de10>"
            ]
          },
          "metadata": {
            "tags": []
          },
          "execution_count": 102
        },
        {
          "output_type": "display_data",
          "data": {
            "image/png": "[encoded data removed]",
            "text/plain": [
              "<Figure size 432x432 with 3 Axes>"
            ]
          },
          "metadata": {
            "tags": []
          }
        }
      ]
    },
    {
      "cell_type": "code",
      "metadata": {
        "id": "GOtEcaW89hb6",
        "colab_type": "code",
        "colab": {
          "base_uri": "https://localhost:8080/",
          "height": 455
        },
        "outputId": "1ce47277-4e99-4ffe-fce2-f85f37a2677e"
      },
      "source": [
        "sns.jointplot(x='Employment',y='S&P 500 Price',data=data)"
      ],
      "execution_count": 103,
      "outputs": [
        {
          "output_type": "execute_result",
          "data": {
            "text/plain": [
              "<seaborn.axisgrid.JointGrid at 0x7f8c65bad940>"
            ]
          },
          "metadata": {
            "tags": []
          },
          "execution_count": 103
        },
        {
          "output_type": "display_data",
          "data": {
            "image/png": "[encoded data removed]",
            "text/plain": [
              "<Figure size 432x432 with 3 Axes>"
            ]
          },
          "metadata": {
            "tags": []
          }
        }
      ]
    },
    {
      "cell_type": "code",
      "metadata": {
        "id": "mxN4_Mp59k7Z",
        "colab_type": "code",
        "colab": {}
      },
      "source": [
        "x=data[[ 'Interest Rates',\t'Employment']]\n",
        "y=data['S&P 500 Price']\n",
        "\n",
        "x_train,x_test,y_train,y_test= tts(x,y,test_size=0.3,random_state=42)"
      ],
      "execution_count": 0,
      "outputs": []
    },
    {
      "cell_type": "code",
      "metadata": {
        "id": "TqoEC4rc91Po",
        "colab_type": "code",
        "colab": {
          "base_uri": "https://localhost:8080/",
          "height": 52
        },
        "outputId": "6ef02bba-1227-40c2-8ca7-cae32a798762"
      },
      "source": [
        "# Multiple Linear Regression\n",
        "\n",
        "model=lr(fit_intercept=True)\n",
        "\n",
        "model.fit(x_train,y_train)\n",
        "\n",
        "# getting the coefficients and intercepts\n",
        "print(model.coef_,model.intercept_)\n",
        "\n",
        "#predicting the res\n",
        "res=model.predict(x_test)\n",
        "\n",
        "# Accuracy Evaluation\n",
        "np.sqrt(mse(y_test,res)), round(r2_score(y_test,res),2)"
      ],
      "execution_count": 106,
      "outputs": [
        {
          "output_type": "stream",
          "text": [
            "[729.27146997  12.16067424] 36.32483399720695\n"
          ],
          "name": "stdout"
        },
        {
          "output_type": "execute_result",
          "data": {
            "text/plain": [
              "(59.92045465020651, 0.89)"
            ]
          },
          "metadata": {
            "tags": []
          },
          "execution_count": 106
        }
      ]
    },
    {
      "cell_type": "code",
      "metadata": {
        "id": "A39B754o95HI",
        "colab_type": "code",
        "colab": {
          "base_uri": "https://localhost:8080/",
          "height": 70
        },
        "outputId": "3cdf30bc-12ec-4a95-9a82-13444dfa335d"
      },
      "source": [
        "# Multiple Polynomial Regression\n",
        "model=mp(pf(degree=2,include_bias=False), lr(fit_intercept=True))\n",
        "\n",
        "model.fit(x_train,y_train)\n",
        "\n",
        "# getting the coefficients and intercepts\n",
        "print(model.named_steps['linearregression'].coef_, model.named_steps['linearregression'].intercept_)\n",
        "\n",
        "#predicting the res\n",
        "res=model.predict(x_test)\n",
        "\n",
        "# Accuracy Evaluation\n",
        "np.sqrt(mse(y_test,res)), round(r2_score(y_test,res),2)"
      ],
      "execution_count": 112,
      "outputs": [
        {
          "output_type": "stream",
          "text": [
            "[ 8.55405981e+02  1.24781450e+01  2.27170302e+00 -2.42696573e+00\n",
            "  4.47868227e-02] -112.5611881206828\n"
          ],
          "name": "stdout"
        },
        {
          "output_type": "execute_result",
          "data": {
            "text/plain": [
              "(60.05400001627396, 0.89)"
            ]
          },
          "metadata": {
            "tags": []
          },
          "execution_count": 112
        }
      ]
    },
    {
      "cell_type": "markdown",
      "metadata": {
        "id": "Nx45cChs-6jg",
        "colab_type": "text"
      },
      "source": [
        "### Conclusion\n",
        "\n",
        "From both the **multiple linear model and multiple polynomial model**, we can see that multiple linear model gives lower error and higher r2-score.\n",
        "\n"
      ]
    },
    {
      "cell_type": "markdown",
      "metadata": {
        "id": "HSlZU_Lp_X-Q",
        "colab_type": "text"
      },
      "source": [
        "# Ridge Regression\n",
        "--------------------------------------------------------------------------------"
      ]
    },
    {
      "cell_type": "code",
      "metadata": {
        "id": "ZsuOKy3n-pgE",
        "colab_type": "code",
        "colab": {
          "base_uri": "https://localhost:8080/",
          "height": 194
        },
        "outputId": "1301b932-748f-47f5-e2d8-a2e190bd7064"
      },
      "source": [
        "data=pd.read_csv('/content/S&P500_Stock_Data.csv')\n",
        "data.head()"
      ],
      "execution_count": 123,
      "outputs": [
        {
          "output_type": "execute_result",
          "data": {
            "text/html": [
              "<div>\n",
              "<style scoped>\n",
              "    .dataframe tbody tr th:only-of-type {\n",
              "        vertical-align: middle;\n",
              "    }\n",
              "\n",
              "    .dataframe tbody tr th {\n",
              "        vertical-align: top;\n",
              "    }\n",
              "\n",
              "    .dataframe thead th {\n",
              "        text-align: right;\n",
              "    }\n",
              "</style>\n",
              "<table border=\"1\" class=\"dataframe\">\n",
              "  <thead>\n",
              "    <tr style=\"text-align: right;\">\n",
              "      <th></th>\n",
              "      <th>Interest Rates</th>\n",
              "      <th>Employment</th>\n",
              "      <th>S&amp;P 500 Price</th>\n",
              "    </tr>\n",
              "  </thead>\n",
              "  <tbody>\n",
              "    <tr>\n",
              "      <th>0</th>\n",
              "      <td>1.943859</td>\n",
              "      <td>55.413571</td>\n",
              "      <td>2206.680582</td>\n",
              "    </tr>\n",
              "    <tr>\n",
              "      <th>1</th>\n",
              "      <td>2.258229</td>\n",
              "      <td>59.546305</td>\n",
              "      <td>2486.474488</td>\n",
              "    </tr>\n",
              "    <tr>\n",
              "      <th>2</th>\n",
              "      <td>2.215863</td>\n",
              "      <td>57.414687</td>\n",
              "      <td>2405.868337</td>\n",
              "    </tr>\n",
              "    <tr>\n",
              "      <th>3</th>\n",
              "      <td>1.977960</td>\n",
              "      <td>49.908353</td>\n",
              "      <td>2140.434475</td>\n",
              "    </tr>\n",
              "    <tr>\n",
              "      <th>4</th>\n",
              "      <td>2.437723</td>\n",
              "      <td>52.035492</td>\n",
              "      <td>2411.275663</td>\n",
              "    </tr>\n",
              "  </tbody>\n",
              "</table>\n",
              "</div>"
            ],
            "text/plain": [
              "   Interest Rates  Employment  S&P 500 Price\n",
              "0        1.943859   55.413571    2206.680582\n",
              "1        2.258229   59.546305    2486.474488\n",
              "2        2.215863   57.414687    2405.868337\n",
              "3        1.977960   49.908353    2140.434475\n",
              "4        2.437723   52.035492    2411.275663"
            ]
          },
          "metadata": {
            "tags": []
          },
          "execution_count": 123
        }
      ]
    },
    {
      "cell_type": "code",
      "metadata": {
        "id": "uVp4JvqPbh0p",
        "colab_type": "code",
        "colab": {
          "base_uri": "https://localhost:8080/",
          "height": 195
        },
        "outputId": "760546f7-74c3-4d2b-ae9e-1c67cf8a971a"
      },
      "source": [
        "data.info()"
      ],
      "execution_count": 124,
      "outputs": [
        {
          "output_type": "stream",
          "text": [
            "<class 'pandas.core.frame.DataFrame'>\n",
            "RangeIndex: 1000 entries, 0 to 999\n",
            "Data columns (total 3 columns):\n",
            " #   Column          Non-Null Count  Dtype  \n",
            "---  ------          --------------  -----  \n",
            " 0   Interest Rates  1000 non-null   float64\n",
            " 1   Employment      1000 non-null   float64\n",
            " 2   S&P 500 Price   1000 non-null   float64\n",
            "dtypes: float64(3)\n",
            "memory usage: 23.6 KB\n"
          ],
          "name": "stdout"
        }
      ]
    },
    {
      "cell_type": "code",
      "metadata": {
        "id": "1FGzQ7oBY7m3",
        "colab_type": "code",
        "colab": {
          "base_uri": "https://localhost:8080/",
          "height": 282
        },
        "outputId": "ef762265-5194-4ef9-8eb9-79f85896e986"
      },
      "source": [
        "data.describe()"
      ],
      "execution_count": 125,
      "outputs": [
        {
          "output_type": "execute_result",
          "data": {
            "text/html": [
              "<div>\n",
              "<style scoped>\n",
              "    .dataframe tbody tr th:only-of-type {\n",
              "        vertical-align: middle;\n",
              "    }\n",
              "\n",
              "    .dataframe tbody tr th {\n",
              "        vertical-align: top;\n",
              "    }\n",
              "\n",
              "    .dataframe thead th {\n",
              "        text-align: right;\n",
              "    }\n",
              "</style>\n",
              "<table border=\"1\" class=\"dataframe\">\n",
              "  <thead>\n",
              "    <tr style=\"text-align: right;\">\n",
              "      <th></th>\n",
              "      <th>Interest Rates</th>\n",
              "      <th>Employment</th>\n",
              "      <th>S&amp;P 500 Price</th>\n",
              "    </tr>\n",
              "  </thead>\n",
              "  <tbody>\n",
              "    <tr>\n",
              "      <th>count</th>\n",
              "      <td>1000.000000</td>\n",
              "      <td>1000.000000</td>\n",
              "      <td>1000.000000</td>\n",
              "    </tr>\n",
              "    <tr>\n",
              "      <th>mean</th>\n",
              "      <td>2.195392</td>\n",
              "      <td>56.254855</td>\n",
              "      <td>2319.999936</td>\n",
              "    </tr>\n",
              "    <tr>\n",
              "      <th>std</th>\n",
              "      <td>0.241630</td>\n",
              "      <td>4.862178</td>\n",
              "      <td>193.854745</td>\n",
              "    </tr>\n",
              "    <tr>\n",
              "      <th>min</th>\n",
              "      <td>1.500000</td>\n",
              "      <td>40.000000</td>\n",
              "      <td>1800.000000</td>\n",
              "    </tr>\n",
              "    <tr>\n",
              "      <th>25%</th>\n",
              "      <td>2.035735</td>\n",
              "      <td>53.029784</td>\n",
              "      <td>2190.447901</td>\n",
              "    </tr>\n",
              "    <tr>\n",
              "      <th>50%</th>\n",
              "      <td>2.198214</td>\n",
              "      <td>56.160941</td>\n",
              "      <td>2312.443024</td>\n",
              "    </tr>\n",
              "    <tr>\n",
              "      <th>75%</th>\n",
              "      <td>2.359061</td>\n",
              "      <td>59.422633</td>\n",
              "      <td>2455.764327</td>\n",
              "    </tr>\n",
              "    <tr>\n",
              "      <th>max</th>\n",
              "      <td>3.000000</td>\n",
              "      <td>70.000000</td>\n",
              "      <td>3000.000000</td>\n",
              "    </tr>\n",
              "  </tbody>\n",
              "</table>\n",
              "</div>"
            ],
            "text/plain": [
              "       Interest Rates   Employment  S&P 500 Price\n",
              "count     1000.000000  1000.000000    1000.000000\n",
              "mean         2.195392    56.254855    2319.999936\n",
              "std          0.241630     4.862178     193.854745\n",
              "min          1.500000    40.000000    1800.000000\n",
              "25%          2.035735    53.029784    2190.447901\n",
              "50%          2.198214    56.160941    2312.443024\n",
              "75%          2.359061    59.422633    2455.764327\n",
              "max          3.000000    70.000000    3000.000000"
            ]
          },
          "metadata": {
            "tags": []
          },
          "execution_count": 125
        }
      ]
    },
    {
      "cell_type": "code",
      "metadata": {
        "id": "5DIrTcfVY8AZ",
        "colab_type": "code",
        "colab": {}
      },
      "source": [
        "x=data[[ 'Interest Rates',\t'Employment']]\n",
        "y=data['S&P 500 Price']\n",
        "\n",
        "x_train,x_test,y_train,y_test= tts(x,y,test_size=0.3,random_state=42)"
      ],
      "execution_count": 0,
      "outputs": []
    },
    {
      "cell_type": "code",
      "metadata": {
        "id": "cnmLfixeY8Ky",
        "colab_type": "code",
        "colab": {
          "base_uri": "https://localhost:8080/",
          "height": 52
        },
        "outputId": "1d363075-0b5d-437b-f1d0-c844e013639d"
      },
      "source": [
        "# Ridge Regression\n",
        "\n",
        "from sklearn.linear_model import  Ridge as rr \n",
        "\n",
        "model=rr(alpha=1.0,fit_intercept=True)\n",
        "model.fit(x_train,y_train)\n",
        "\n",
        "\n",
        "#coeffiecients and intercepts\n",
        "print(model.coef_,model.intercept_)\n",
        "\n",
        "#Predicting \n",
        "res=model.predict(x_test)\n",
        "\n",
        "# Accuracy Evaluation\n",
        "np.sqrt(mse(y_test,res)), round(r2_score(y_test,res),2)"
      ],
      "execution_count": 132,
      "outputs": [
        {
          "output_type": "stream",
          "text": [
            "[712.15547705  12.17222954] 73.19170904554721\n"
          ],
          "name": "stdout"
        },
        {
          "output_type": "execute_result",
          "data": {
            "text/plain": [
              "(59.93694339522874, 0.89)"
            ]
          },
          "metadata": {
            "tags": []
          },
          "execution_count": 132
        }
      ]
    },
    {
      "cell_type": "code",
      "metadata": {
        "id": "GMzjKaumY8Gu",
        "colab_type": "code",
        "colab": {
          "base_uri": "https://localhost:8080/",
          "height": 52
        },
        "outputId": "effb98af-67b9-460d-e82d-c7dd71d77274"
      },
      "source": [
        "# Hyperparameter Tuning for Ridge Regression\n",
        "# RidgeCV\n",
        "\n",
        "alphas=np.linspace(1,25,70)\n",
        "\n",
        "from sklearn.linear_model import RidgeCV as rrcv\n",
        "\n",
        "model= rrcv(alphas,fit_intercept=True,cv=5,scoring='neg_mean_squared_error')\n",
        "model.fit(x_train,y_train)\n",
        "\n",
        "#coeffiecients and intercepts\n",
        "print(model.coef_,model.intercept_)\n",
        "\n",
        "#Predicting \n",
        "res=model.predict(x_test)\n",
        "\n",
        "# Accuracy Evaluation\n",
        "np.sqrt(mse(y_test,res)), round(r2_score(y_test,res),2)"
      ],
      "execution_count": 137,
      "outputs": [
        {
          "output_type": "stream",
          "text": [
            "[712.15547705  12.17222954] 73.19170904554721\n"
          ],
          "name": "stdout"
        },
        {
          "output_type": "execute_result",
          "data": {
            "text/plain": [
              "(59.93694339522874, 0.89)"
            ]
          },
          "metadata": {
            "tags": []
          },
          "execution_count": 137
        }
      ]
    },
    {
      "cell_type": "markdown",
      "metadata": {
        "id": "X4m38b26_c01",
        "colab_type": "text"
      },
      "source": [
        "# Lasso Regression\n",
        "--------------------------------------------------------------------------"
      ]
    },
    {
      "cell_type": "code",
      "metadata": {
        "id": "SimjWicv_cfs",
        "colab_type": "code",
        "colab": {}
      },
      "source": [
        "from sklearn.linear_model import Lasso,LassoCV"
      ],
      "execution_count": 0,
      "outputs": []
    },
    {
      "cell_type": "code",
      "metadata": {
        "id": "8AAsqhWMeE_c",
        "colab_type": "code",
        "colab": {
          "base_uri": "https://localhost:8080/",
          "height": 52
        },
        "outputId": "ba5c8a6b-93b8-45bb-f752-392569d3e608"
      },
      "source": [
        "# Lasso Regression\n",
        "\n",
        "model=Lasso(alpha=1.0,fit_intercept=True)\n",
        "model.fit(x_train,y_train)\n",
        "\n",
        "\n",
        "#coeffiecients and intercepts\n",
        "print(model.coef_,model.intercept_)\n",
        "\n",
        "#Predicting \n",
        "res=model.predict(x_test)\n",
        "\n",
        "# Accuracy Evaluation\n",
        "np.sqrt(mse(y_test,res)), round(r2_score(y_test,res),2)"
      ],
      "execution_count": 139,
      "outputs": [
        {
          "output_type": "stream",
          "text": [
            "[712.459494    12.13064999] 74.86928268307656\n"
          ],
          "name": "stdout"
        },
        {
          "output_type": "execute_result",
          "data": {
            "text/plain": [
              "(59.938955374984744, 0.89)"
            ]
          },
          "metadata": {
            "tags": []
          },
          "execution_count": 139
        }
      ]
    },
    {
      "cell_type": "code",
      "metadata": {
        "id": "tZmcTU8aeFLx",
        "colab_type": "code",
        "colab": {
          "base_uri": "https://localhost:8080/",
          "height": 52
        },
        "outputId": "6c62b097-a191-40e5-8fa3-fbdf51e9c249"
      },
      "source": [
        "# LAssoCV \n",
        "# Hyper-parameter Tuning\n",
        "\n",
        "alphas=np.linspace(1,25,70)\n",
        "\n",
        "model= LassoCV(alphas=alphas,fit_intercept=True,cv=5)\n",
        "model.fit(x_train,y_train)\n",
        "\n",
        "#coeffiecients and intercepts\n",
        "print(model.coef_,model.intercept_)\n",
        "\n",
        "#Predicting \n",
        "res=model.predict(x_test)\n",
        "\n",
        "# Accuracy Evaluation\n",
        "np.sqrt(mse(y_test,res)), round(r2_score(y_test,res),2)"
      ],
      "execution_count": 142,
      "outputs": [
        {
          "output_type": "stream",
          "text": [
            "[712.459494    12.13064999] 74.86928268307656\n"
          ],
          "name": "stdout"
        },
        {
          "output_type": "execute_result",
          "data": {
            "text/plain": [
              "(59.938955374984744, 0.89)"
            ]
          },
          "metadata": {
            "tags": []
          },
          "execution_count": 142
        }
      ]
    },
    {
      "cell_type": "markdown",
      "metadata": {
        "id": "CEHyVRvEnaWs",
        "colab_type": "text"
      },
      "source": [
        "# Elasticnet Regression\n",
        "-----------------------------------------------------------------\n",
        "https://www.pluralsight.com/guides/linear-lasso-ridge-regression-scikit-learn"
      ]
    },
    {
      "cell_type": "code",
      "metadata": {
        "id": "nLtNN0c6eFJI",
        "colab_type": "code",
        "colab": {}
      },
      "source": [
        "from sklearn.linear_model import ElasticNet,ElasticNetCV"
      ],
      "execution_count": 0,
      "outputs": []
    },
    {
      "cell_type": "code",
      "metadata": {
        "id": "gr3-ivEVeFFw",
        "colab_type": "code",
        "colab": {
          "base_uri": "https://localhost:8080/",
          "height": 52
        },
        "outputId": "5b43fbc5-017f-476d-bfba-637caa2b463f"
      },
      "source": [
        "# ElasticNet Regression\n",
        "\n",
        "model=ElasticNet(alpha=1.0,fit_intercept=True)\n",
        "model.fit(x_train,y_train)\n",
        "\n",
        "\n",
        "#coeffiecients and intercepts\n",
        "print(model.coef_,model.intercept_)\n",
        "\n",
        "#Predicting \n",
        "res=model.predict(x_test)\n",
        "\n",
        "# Accuracy Evaluation\n",
        "np.sqrt(mse(y_test,res)), round(r2_score(y_test,res),2)"
      ],
      "execution_count": 144,
      "outputs": [
        {
          "output_type": "stream",
          "text": [
            "[76.59774661 12.34828017] 1456.4107816016376\n"
          ],
          "name": "stdout"
        },
        {
          "output_type": "execute_result",
          "data": {
            "text/plain": [
              "(163.7889756856553, 0.2)"
            ]
          },
          "metadata": {
            "tags": []
          },
          "execution_count": 144
        }
      ]
    },
    {
      "cell_type": "code",
      "metadata": {
        "id": "kFC6EWkheFCs",
        "colab_type": "code",
        "colab": {
          "base_uri": "https://localhost:8080/",
          "height": 52
        },
        "outputId": "f26db07a-c755-47f4-84a5-22f75784436b"
      },
      "source": [
        "#  ElasticnetCV Regression\n",
        "# HyperPARAMETER Tuning\n",
        "\n",
        "alphas=np.linspace(1,25,70)\n",
        "\n",
        "model=ElasticNetCV(alphas=alphas,fit_intercept=True,n_jobs=-1,cv=10)\n",
        "model.fit(x_train,y_train)\n",
        "\n",
        "\n",
        "#coeffiecients and intercepts\n",
        "print(model.coef_,model.intercept_)\n",
        "\n",
        "#Predicting \n",
        "res=model.predict(x_test)\n",
        "\n",
        "# Accuracy Evaluation\n",
        "np.sqrt(mse(y_test,res)), round(r2_score(y_test,res),2)"
      ],
      "execution_count": 147,
      "outputs": [
        {
          "output_type": "stream",
          "text": [
            "[76.59774661 12.34828017] 1456.4107816016376\n"
          ],
          "name": "stdout"
        },
        {
          "output_type": "execute_result",
          "data": {
            "text/plain": [
              "(163.7889756856553, 0.2)"
            ]
          },
          "metadata": {
            "tags": []
          },
          "execution_count": 147
        }
      ]
    }
  ]
}