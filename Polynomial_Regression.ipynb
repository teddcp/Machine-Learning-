{
  "nbformat": 4,
  "nbformat_minor": 0,
  "metadata": {
    "colab": {
      "name": "Polynomial-Regression.ipynb",
      "provenance": [],
      "collapsed_sections": [],
      "authorship_tag": "ABX9TyP3+Y+Iy/Ko/afpo6LCsqRK",
      "include_colab_link": true
    },
    "kernelspec": {
      "name": "python3",
      "display_name": "Python 3"
    }
  },
  "cells": [
    {
      "cell_type": "markdown",
      "metadata": {
        "id": "view-in-github",
        "colab_type": "text"
      },
      "source": [
        "<a href=\"https://colab.research.google.com/github/teddcp/Machine-Learning-/blob/master/Polynomial_Regression.ipynb\" target=\"_parent\"><img src=\"https://colab.research.google.com/assets/colab-badge.svg\" alt=\"Open In Colab\"/></a>"
      ]
    },
    {
      "cell_type": "markdown",
      "metadata": {
        "id": "cAF7yAyCEdNC",
        "colab_type": "text"
      },
      "source": [
        "# POLYNOMIAL REGRESSION\n",
        "------------------------------------\n",
        "\n",
        "\n",
        "1. when the relationship between the predictor and repsponse variable are not linear, we can say that it is having a polynomial relationship.\n",
        "\n",
        "\n",
        "2. let's say we have only one feature(x is of 1 column). Then the equation will be c + bx + ax^2 (degree 2) We can easily achieve the equation by [preporcessing](https://stackoverflow.com/q/51906274/12210002).PolynomialFeatures of SKLEARN.  \n",
        "\n",
        "\n",
        "```\n",
        "#   one feature, degree 2 : n=1,d=2 then we will have c(n+d,d) no.of terms.\n",
        "    i.e (1,x,x^2) will be formed.\n",
        "\n",
        "#   2 feature(x,y),degree 2 : n=2,d=2 ,then we will have c(4,2)=6 terms.\n",
        "    i.e [1, x, y, x^2, y^2, xy] terms.\n",
        "```\n",
        "\n",
        "3. Then we will pass that updated feature to linear regression model as the new updated feature is still linear.\n",
        "\n",
        "  let z1=x^2,z2=x\n",
        "  putting in the above equation: c+ b * z2 + a * z1 \n",
        "\n",
        "4. Above is a mutliple linear regression equation  which can be solved by linear regression model of SKLEARN.Then we will determine the coefficients and intercepts.\n",
        "\n",
        "\n",
        "[link 1](https://towardsdatascience.com/polynomial-regression-bbe8b9d97491)\n",
        "[link 2](https://towardsdatascience.com/machine-learning-polynomial-regression-with-python-5328e4e8a386)\n",
        "[link 3](https://medium.com/coinmonks/polynomial-regression-11bec9262d64)\n",
        "[link 4](https://realpython.com/linear-regression-in-python/#polynomial-regression-with-scikit-learn)\n",
        "\n",
        "Extras :\n",
        "\n",
        "[link 5](https://www.jeremyjordan.me/polynomial-regression/)\n",
        "[link 6](https://www.analyticsvidhya.com/blog/2020/03/polynomial-regression-python/)\n",
        "[link 7](https://jakevdp.github.io/PythonDataScienceHandbook/05.06-linear-regression.html\n",
        ")\n",
        "[link 8](\n",
        "https://www.geeksforgeeks.org/python-implementation-of-polynomial-regression/)\n",
        "\n",
        "\n",
        "\n",
        "\n",
        "\n",
        "\n",
        "\n",
        "\n",
        "\n",
        "\n",
        "\n",
        "\n",
        "\n",
        "\n",
        "\n",
        "\n"
      ]
    },
    {
      "cell_type": "markdown",
      "metadata": {
        "id": "nKIFSY0YONNt",
        "colab_type": "text"
      },
      "source": [
        "# using Employee_salary.csv \n",
        "------------------------------\n",
        "[csv-link](https://github.com/teddcp/Machine-Learning-/tree/master/data-files)"
      ]
    },
    {
      "cell_type": "markdown",
      "metadata": {
        "id": "-IoKYwNmTmKc",
        "colab_type": "text"
      },
      "source": [
        "## section 1 : lin. reg. model\n",
        "\n",
        "**[for Employee_salary.csv]**\n",
        "\n",
        "we will first implement with linear regression and then will implement the polynomial regression"
      ]
    },
    {
      "cell_type": "markdown",
      "metadata": {
        "id": "sb6JsWNEOYAw",
        "colab_type": "text"
      },
      "source": [
        "### 1. importing libraries\n",
        "      "
      ]
    },
    {
      "cell_type": "code",
      "metadata": {
        "id": "9fHwOwskONks",
        "colab_type": "code",
        "colab": {}
      },
      "source": [
        "import numpy as np\n",
        "import pandas as pd\n",
        "import matplotlib.pyplot as plt\n",
        "import seaborn as sns\n",
        "\n",
        "sns.set()"
      ],
      "execution_count": 0,
      "outputs": []
    },
    {
      "cell_type": "markdown",
      "metadata": {
        "id": "4V0ryaZlOwhF",
        "colab_type": "text"
      },
      "source": [
        "### 2. importing the data"
      ]
    },
    {
      "cell_type": "code",
      "metadata": {
        "id": "3shFKQecONnr",
        "colab_type": "code",
        "colab": {
          "base_uri": "https://localhost:8080/",
          "height": 359
        },
        "outputId": "4c72f27e-c6a4-496b-ffcf-75128a7f72f3"
      },
      "source": [
        "data=pd.read_csv('/content/Employee_Salary.csv')\n",
        "data.head(10)"
      ],
      "execution_count": 405,
      "outputs": [
        {
          "output_type": "execute_result",
          "data": {
            "text/html": [
              "<div>\n",
              "<style scoped>\n",
              "    .dataframe tbody tr th:only-of-type {\n",
              "        vertical-align: middle;\n",
              "    }\n",
              "\n",
              "    .dataframe tbody tr th {\n",
              "        vertical-align: top;\n",
              "    }\n",
              "\n",
              "    .dataframe thead th {\n",
              "        text-align: right;\n",
              "    }\n",
              "</style>\n",
              "<table border=\"1\" class=\"dataframe\">\n",
              "  <thead>\n",
              "    <tr style=\"text-align: right;\">\n",
              "      <th></th>\n",
              "      <th>Years of Experience</th>\n",
              "      <th>Salary</th>\n",
              "    </tr>\n",
              "  </thead>\n",
              "  <tbody>\n",
              "    <tr>\n",
              "      <th>0</th>\n",
              "      <td>1.000000</td>\n",
              "      <td>40000.00000</td>\n",
              "    </tr>\n",
              "    <tr>\n",
              "      <th>1</th>\n",
              "      <td>2.257942</td>\n",
              "      <td>65979.42119</td>\n",
              "    </tr>\n",
              "    <tr>\n",
              "      <th>2</th>\n",
              "      <td>2.450875</td>\n",
              "      <td>67253.57549</td>\n",
              "    </tr>\n",
              "    <tr>\n",
              "      <th>3</th>\n",
              "      <td>2.498713</td>\n",
              "      <td>67342.43510</td>\n",
              "    </tr>\n",
              "    <tr>\n",
              "      <th>4</th>\n",
              "      <td>2.613729</td>\n",
              "      <td>70532.20448</td>\n",
              "    </tr>\n",
              "    <tr>\n",
              "      <th>5</th>\n",
              "      <td>2.682068</td>\n",
              "      <td>69119.79132</td>\n",
              "    </tr>\n",
              "    <tr>\n",
              "      <th>6</th>\n",
              "      <td>2.761983</td>\n",
              "      <td>71063.36476</td>\n",
              "    </tr>\n",
              "    <tr>\n",
              "      <th>7</th>\n",
              "      <td>2.927601</td>\n",
              "      <td>71356.14382</td>\n",
              "    </tr>\n",
              "    <tr>\n",
              "      <th>8</th>\n",
              "      <td>2.969968</td>\n",
              "      <td>74265.40359</td>\n",
              "    </tr>\n",
              "    <tr>\n",
              "      <th>9</th>\n",
              "      <td>3.059107</td>\n",
              "      <td>74804.11404</td>\n",
              "    </tr>\n",
              "  </tbody>\n",
              "</table>\n",
              "</div>"
            ],
            "text/plain": [
              "   Years of Experience       Salary\n",
              "0             1.000000  40000.00000\n",
              "1             2.257942  65979.42119\n",
              "2             2.450875  67253.57549\n",
              "3             2.498713  67342.43510\n",
              "4             2.613729  70532.20448\n",
              "5             2.682068  69119.79132\n",
              "6             2.761983  71063.36476\n",
              "7             2.927601  71356.14382\n",
              "8             2.969968  74265.40359\n",
              "9             3.059107  74804.11404"
            ]
          },
          "metadata": {
            "tags": []
          },
          "execution_count": 405
        }
      ]
    },
    {
      "cell_type": "code",
      "metadata": {
        "id": "5kEkOOFPPLcP",
        "colab_type": "code",
        "colab": {
          "base_uri": "https://localhost:8080/",
          "height": 204
        },
        "outputId": "5a3c48f8-6080-49ce-c09f-e1e63cb8dc8f"
      },
      "source": [
        "#renaming the columns\n",
        "data.rename(columns={'Years of Experience': 'yoe'},inplace=True)\n",
        "data.head()"
      ],
      "execution_count": 406,
      "outputs": [
        {
          "output_type": "execute_result",
          "data": {
            "text/html": [
              "<div>\n",
              "<style scoped>\n",
              "    .dataframe tbody tr th:only-of-type {\n",
              "        vertical-align: middle;\n",
              "    }\n",
              "\n",
              "    .dataframe tbody tr th {\n",
              "        vertical-align: top;\n",
              "    }\n",
              "\n",
              "    .dataframe thead th {\n",
              "        text-align: right;\n",
              "    }\n",
              "</style>\n",
              "<table border=\"1\" class=\"dataframe\">\n",
              "  <thead>\n",
              "    <tr style=\"text-align: right;\">\n",
              "      <th></th>\n",
              "      <th>yoe</th>\n",
              "      <th>Salary</th>\n",
              "    </tr>\n",
              "  </thead>\n",
              "  <tbody>\n",
              "    <tr>\n",
              "      <th>0</th>\n",
              "      <td>1.000000</td>\n",
              "      <td>40000.00000</td>\n",
              "    </tr>\n",
              "    <tr>\n",
              "      <th>1</th>\n",
              "      <td>2.257942</td>\n",
              "      <td>65979.42119</td>\n",
              "    </tr>\n",
              "    <tr>\n",
              "      <th>2</th>\n",
              "      <td>2.450875</td>\n",
              "      <td>67253.57549</td>\n",
              "    </tr>\n",
              "    <tr>\n",
              "      <th>3</th>\n",
              "      <td>2.498713</td>\n",
              "      <td>67342.43510</td>\n",
              "    </tr>\n",
              "    <tr>\n",
              "      <th>4</th>\n",
              "      <td>2.613729</td>\n",
              "      <td>70532.20448</td>\n",
              "    </tr>\n",
              "  </tbody>\n",
              "</table>\n",
              "</div>"
            ],
            "text/plain": [
              "        yoe       Salary\n",
              "0  1.000000  40000.00000\n",
              "1  2.257942  65979.42119\n",
              "2  2.450875  67253.57549\n",
              "3  2.498713  67342.43510\n",
              "4  2.613729  70532.20448"
            ]
          },
          "metadata": {
            "tags": []
          },
          "execution_count": 406
        }
      ]
    },
    {
      "cell_type": "code",
      "metadata": {
        "id": "88i3VoEfmCiw",
        "colab_type": "code",
        "colab": {
          "base_uri": "https://localhost:8080/",
          "height": 204
        },
        "outputId": "51a46a91-df1c-4bf7-8678-ffa143d83689"
      },
      "source": [
        "data.tail()"
      ],
      "execution_count": 455,
      "outputs": [
        {
          "output_type": "execute_result",
          "data": {
            "text/html": [
              "<div>\n",
              "<style scoped>\n",
              "    .dataframe tbody tr th:only-of-type {\n",
              "        vertical-align: middle;\n",
              "    }\n",
              "\n",
              "    .dataframe tbody tr th {\n",
              "        vertical-align: top;\n",
              "    }\n",
              "\n",
              "    .dataframe thead th {\n",
              "        text-align: right;\n",
              "    }\n",
              "</style>\n",
              "<table border=\"1\" class=\"dataframe\">\n",
              "  <thead>\n",
              "    <tr style=\"text-align: right;\">\n",
              "      <th></th>\n",
              "      <th>yoe</th>\n",
              "      <th>Salary</th>\n",
              "    </tr>\n",
              "  </thead>\n",
              "  <tbody>\n",
              "    <tr>\n",
              "      <th>1995</th>\n",
              "      <td>19.178575</td>\n",
              "      <td>421534.6910</td>\n",
              "    </tr>\n",
              "    <tr>\n",
              "      <th>1996</th>\n",
              "      <td>19.254499</td>\n",
              "      <td>430478.0265</td>\n",
              "    </tr>\n",
              "    <tr>\n",
              "      <th>1997</th>\n",
              "      <td>19.353369</td>\n",
              "      <td>438090.8454</td>\n",
              "    </tr>\n",
              "    <tr>\n",
              "      <th>1998</th>\n",
              "      <td>19.842520</td>\n",
              "      <td>482242.1608</td>\n",
              "    </tr>\n",
              "    <tr>\n",
              "      <th>1999</th>\n",
              "      <td>20.000000</td>\n",
              "      <td>500000.0000</td>\n",
              "    </tr>\n",
              "  </tbody>\n",
              "</table>\n",
              "</div>"
            ],
            "text/plain": [
              "            yoe       Salary\n",
              "1995  19.178575  421534.6910\n",
              "1996  19.254499  430478.0265\n",
              "1997  19.353369  438090.8454\n",
              "1998  19.842520  482242.1608\n",
              "1999  20.000000  500000.0000"
            ]
          },
          "metadata": {
            "tags": []
          },
          "execution_count": 455
        }
      ]
    },
    {
      "cell_type": "code",
      "metadata": {
        "id": "ooTc1K1JuuGO",
        "colab_type": "code",
        "colab": {
          "base_uri": "https://localhost:8080/",
          "height": 34
        },
        "outputId": "244740b2-e31a-49bd-c313-d59b26767be8"
      },
      "source": [
        "data['yoe'].is_monotonic_increasing,data['Salary'].is_monotonic_increasing  #checking if it is in ascending order or not"
      ],
      "execution_count": 407,
      "outputs": [
        {
          "output_type": "execute_result",
          "data": {
            "text/plain": [
              "(True, False)"
            ]
          },
          "metadata": {
            "tags": []
          },
          "execution_count": 407
        }
      ]
    },
    {
      "cell_type": "code",
      "metadata": {
        "id": "8bAmbzuSPWOb",
        "colab_type": "code",
        "colab": {
          "base_uri": "https://localhost:8080/",
          "height": 170
        },
        "outputId": "f439d428-9c9c-42d2-e90f-7f8a153b0594"
      },
      "source": [
        "data.info()                    # no null values are there"
      ],
      "execution_count": 408,
      "outputs": [
        {
          "output_type": "stream",
          "text": [
            "<class 'pandas.core.frame.DataFrame'>\n",
            "RangeIndex: 2000 entries, 0 to 1999\n",
            "Data columns (total 2 columns):\n",
            " #   Column  Non-Null Count  Dtype  \n",
            "---  ------  --------------  -----  \n",
            " 0   yoe     2000 non-null   float64\n",
            " 1   Salary  2000 non-null   float64\n",
            "dtypes: float64(2)\n",
            "memory usage: 31.4 KB\n"
          ],
          "name": "stdout"
        }
      ]
    },
    {
      "cell_type": "code",
      "metadata": {
        "id": "hH4xzRPxPdQL",
        "colab_type": "code",
        "colab": {
          "base_uri": "https://localhost:8080/",
          "height": 297
        },
        "outputId": "03c9d70f-7e17-4cab-9927-5711d2ca7f04"
      },
      "source": [
        "data.describe()"
      ],
      "execution_count": 409,
      "outputs": [
        {
          "output_type": "execute_result",
          "data": {
            "text/html": [
              "<div>\n",
              "<style scoped>\n",
              "    .dataframe tbody tr th:only-of-type {\n",
              "        vertical-align: middle;\n",
              "    }\n",
              "\n",
              "    .dataframe tbody tr th {\n",
              "        vertical-align: top;\n",
              "    }\n",
              "\n",
              "    .dataframe thead th {\n",
              "        text-align: right;\n",
              "    }\n",
              "</style>\n",
              "<table border=\"1\" class=\"dataframe\">\n",
              "  <thead>\n",
              "    <tr style=\"text-align: right;\">\n",
              "      <th></th>\n",
              "      <th>yoe</th>\n",
              "      <th>Salary</th>\n",
              "    </tr>\n",
              "  </thead>\n",
              "  <tbody>\n",
              "    <tr>\n",
              "      <th>count</th>\n",
              "      <td>2000.000000</td>\n",
              "      <td>2000.000000</td>\n",
              "    </tr>\n",
              "    <tr>\n",
              "      <th>mean</th>\n",
              "      <td>10.739095</td>\n",
              "      <td>111942.422469</td>\n",
              "    </tr>\n",
              "    <tr>\n",
              "      <th>std</th>\n",
              "      <td>2.989853</td>\n",
              "      <td>45055.817085</td>\n",
              "    </tr>\n",
              "    <tr>\n",
              "      <th>min</th>\n",
              "      <td>1.000000</td>\n",
              "      <td>40000.000000</td>\n",
              "    </tr>\n",
              "    <tr>\n",
              "      <th>25%</th>\n",
              "      <td>8.812255</td>\n",
              "      <td>87938.130895</td>\n",
              "    </tr>\n",
              "    <tr>\n",
              "      <th>50%</th>\n",
              "      <td>10.738822</td>\n",
              "      <td>93376.356875</td>\n",
              "    </tr>\n",
              "    <tr>\n",
              "      <th>75%</th>\n",
              "      <td>12.785483</td>\n",
              "      <td>116978.641550</td>\n",
              "    </tr>\n",
              "    <tr>\n",
              "      <th>max</th>\n",
              "      <td>20.000000</td>\n",
              "      <td>500000.000000</td>\n",
              "    </tr>\n",
              "  </tbody>\n",
              "</table>\n",
              "</div>"
            ],
            "text/plain": [
              "               yoe         Salary\n",
              "count  2000.000000    2000.000000\n",
              "mean     10.739095  111942.422469\n",
              "std       2.989853   45055.817085\n",
              "min       1.000000   40000.000000\n",
              "25%       8.812255   87938.130895\n",
              "50%      10.738822   93376.356875\n",
              "75%      12.785483  116978.641550\n",
              "max      20.000000  500000.000000"
            ]
          },
          "metadata": {
            "tags": []
          },
          "execution_count": 409
        }
      ]
    },
    {
      "cell_type": "markdown",
      "metadata": {
        "id": "p-BPIOz3P6fW",
        "colab_type": "text"
      },
      "source": [
        "### Visualizing the data\n"
      ]
    },
    {
      "cell_type": "code",
      "metadata": {
        "id": "CQ_hPRjSPxb_",
        "colab_type": "code",
        "colab": {
          "base_uri": "https://localhost:8080/",
          "height": 302
        },
        "outputId": "82d498f1-5d85-4f6e-aeed-be2c3b43a30b"
      },
      "source": [
        "sns.distplot(data.yoe)"
      ],
      "execution_count": 410,
      "outputs": [
        {
          "output_type": "execute_result",
          "data": {
            "text/plain": [
              "<matplotlib.axes._subplots.AxesSubplot at 0x7f5ada537748>"
            ]
          },
          "metadata": {
            "tags": []
          },
          "execution_count": 410
        },
        {
          "output_type": "display_data",
          "data": {
            "image/png": "[encoded data removed]",
            "text/plain": [
              "<Figure size 432x288 with 1 Axes>"
            ]
          },
          "metadata": {
            "tags": []
          }
        }
      ]
    },
    {
      "cell_type": "code",
      "metadata": {
        "id": "rwq-e14mQHwr",
        "colab_type": "code",
        "colab": {
          "base_uri": "https://localhost:8080/",
          "height": 313
        },
        "outputId": "6cc48b58-66f6-40e0-aa5c-385db5516178"
      },
      "source": [
        "sns.distplot(data.Salary)"
      ],
      "execution_count": 411,
      "outputs": [
        {
          "output_type": "execute_result",
          "data": {
            "text/plain": [
              "<matplotlib.axes._subplots.AxesSubplot at 0x7f5ada409668>"
            ]
          },
          "metadata": {
            "tags": []
          },
          "execution_count": 411
        },
        {
          "output_type": "display_data",
          "data": {
            "image/png": "[encoded data removed]",
            "text/plain": [
              "<Figure size 432x288 with 1 Axes>"
            ]
          },
          "metadata": {
            "tags": []
          }
        }
      ]
    },
    {
      "cell_type": "code",
      "metadata": {
        "id": "gLuHJrh0QNyM",
        "colab_type": "code",
        "colab": {
          "base_uri": "https://localhost:8080/",
          "height": 454
        },
        "outputId": "d618b593-b91f-4e0c-f6de-d1257ba81c52"
      },
      "source": [
        "sns.jointplot(x='yoe',y='Salary',data=data)  # data plot is non-linear"
      ],
      "execution_count": 412,
      "outputs": [
        {
          "output_type": "execute_result",
          "data": {
            "text/plain": [
              "<seaborn.axisgrid.JointGrid at 0x7f5ada361828>"
            ]
          },
          "metadata": {
            "tags": []
          },
          "execution_count": 412
        },
        {
          "output_type": "display_data",
          "data": {
            "image/png": "[encoded data removed]",
            "text/plain": [
              "<Figure size 432x432 with 3 Axes>"
            ]
          },
          "metadata": {
            "tags": []
          }
        }
      ]
    },
    {
      "cell_type": "code",
      "metadata": {
        "id": "XMI-FMkjQcGM",
        "colab_type": "code",
        "colab": {
          "base_uri": "https://localhost:8080/",
          "height": 382
        },
        "outputId": "bcc8dd99-5622-4afc-ae80-c7c7854f1c0f"
      },
      "source": [
        "sns.lmplot(x='yoe',y='Salary',data=data)   #trying to fit the data with a linear model (line of best fit)  : high Bias"
      ],
      "execution_count": 413,
      "outputs": [
        {
          "output_type": "execute_result",
          "data": {
            "text/plain": [
              "<seaborn.axisgrid.FacetGrid at 0x7f5ada14f630>"
            ]
          },
          "metadata": {
            "tags": []
          },
          "execution_count": 413
        },
        {
          "output_type": "display_data",
          "data": {
            "image/png": "[encoded data removed]",
            "text/plain": [
              "<Figure size 360x360 with 1 Axes>"
            ]
          },
          "metadata": {
            "tags": []
          }
        }
      ]
    },
    {
      "cell_type": "code",
      "metadata": {
        "id": "X6WXdcaEQqIr",
        "colab_type": "code",
        "colab": {
          "base_uri": "https://localhost:8080/",
          "height": 404
        },
        "outputId": "c58915cc-fbf2-455d-f20e-3a61d138634e"
      },
      "source": [
        "sns.pairplot(data)"
      ],
      "execution_count": 414,
      "outputs": [
        {
          "output_type": "execute_result",
          "data": {
            "text/plain": [
              "<seaborn.axisgrid.PairGrid at 0x7f5ada10d780>"
            ]
          },
          "metadata": {
            "tags": []
          },
          "execution_count": 414
        },
        {
          "output_type": "display_data",
          "data": {
            "image/png": "[encoded data removed]",
            "text/plain": [
              "<Figure size 360x360 with 6 Axes>"
            ]
          },
          "metadata": {
            "tags": []
          }
        }
      ]
    },
    {
      "cell_type": "markdown",
      "metadata": {
        "id": "tESsT8gkSMXn",
        "colab_type": "text"
      },
      "source": [
        "### Splitting the data for training and testing"
      ]
    },
    {
      "cell_type": "code",
      "metadata": {
        "id": "41bHJzymS-RP",
        "colab_type": "code",
        "colab": {}
      },
      "source": [
        "#preparing  the independent and dependent features\n",
        "x=data[['yoe']]\n",
        "y=data.Salary"
      ],
      "execution_count": 0,
      "outputs": []
    },
    {
      "cell_type": "code",
      "metadata": {
        "id": "xfyIhJ6DSIlv",
        "colab_type": "code",
        "colab": {}
      },
      "source": [
        "from sklearn.model_selection import train_test_split as tts"
      ],
      "execution_count": 0,
      "outputs": []
    },
    {
      "cell_type": "code",
      "metadata": {
        "id": "seG6cXEIS2Ne",
        "colab_type": "code",
        "colab": {}
      },
      "source": [
        "x_train,x_test,y_train,y_test= tts(x,y,test_size=0.3,random_state=42)"
      ],
      "execution_count": 0,
      "outputs": []
    },
    {
      "cell_type": "markdown",
      "metadata": {
        "id": "tD87Rg-xTdhX",
        "colab_type": "text"
      },
      "source": [
        "### implementing with linear regression model"
      ]
    },
    {
      "cell_type": "code",
      "metadata": {
        "id": "hhAV7mmpTbt3",
        "colab_type": "code",
        "colab": {}
      },
      "source": [
        "from sklearn.linear_model import LinearRegression as lr"
      ],
      "execution_count": 0,
      "outputs": []
    },
    {
      "cell_type": "code",
      "metadata": {
        "id": "eMSYdzSAUQFg",
        "colab_type": "code",
        "colab": {
          "base_uri": "https://localhost:8080/",
          "height": 34
        },
        "outputId": "0d74da86-bc4a-4702-bd1a-cfa437bc4925"
      },
      "source": [
        "lin_reg_model=lr(fit_intercept=True)\n",
        "lin_reg_model.fit(x_train,y_train)"
      ],
      "execution_count": 419,
      "outputs": [
        {
          "output_type": "execute_result",
          "data": {
            "text/plain": [
              "LinearRegression(copy_X=True, fit_intercept=True, n_jobs=None, normalize=False)"
            ]
          },
          "metadata": {
            "tags": []
          },
          "execution_count": 419
        }
      ]
    },
    {
      "cell_type": "code",
      "metadata": {
        "id": "tATbi3ygUagc",
        "colab_type": "code",
        "colab": {
          "base_uri": "https://localhost:8080/",
          "height": 34
        },
        "outputId": "7494eee8-7856-43ef-b536-5a8bb8c9d206"
      },
      "source": [
        "#getting the coefficients(m) and y-intercept(b) : y=mx+b\n",
        "lin_reg_model.coef_,lin_reg_model.intercept_"
      ],
      "execution_count": 420,
      "outputs": [
        {
          "output_type": "execute_result",
          "data": {
            "text/plain": [
              "(array([11368.54271264]), -10426.412507427653)"
            ]
          },
          "metadata": {
            "tags": []
          },
          "execution_count": 420
        }
      ]
    },
    {
      "cell_type": "code",
      "metadata": {
        "id": "7oRpwF7iW7h_",
        "colab_type": "code",
        "colab": {}
      },
      "source": [
        "y_pred=lin_reg_model.predict(x_test)"
      ],
      "execution_count": 0,
      "outputs": []
    },
    {
      "cell_type": "code",
      "metadata": {
        "id": "I3fJV99hXCbe",
        "colab_type": "code",
        "colab": {
          "base_uri": "https://localhost:8080/",
          "height": 333
        },
        "outputId": "dc58029e-5d21-44b7-8be5-c1f1abecb454"
      },
      "source": [
        "#plotting the  trainingdata\n",
        "plt.scatter(x_train,y_train,color='blue')\n",
        "plt.plot(x_train,lin_reg_model.predict(x_train),color='red')\n",
        "plt.ylabel('Salary/Year [dollars]')\n",
        "plt.xlabel('Years of Experience')\n",
        "plt.title('\\nSalary vs. Years of Experience (Training dataset)')"
      ],
      "execution_count": 422,
      "outputs": [
        {
          "output_type": "execute_result",
          "data": {
            "text/plain": [
              "Text(0.5, 1.0, '\\nSalary vs. Years of Experience (Training dataset)')"
            ]
          },
          "metadata": {
            "tags": []
          },
          "execution_count": 422
        },
        {
          "output_type": "display_data",
          "data": {
            "image/png": "[encoded data removed]",
            "text/plain": [
              "<Figure size 432x288 with 1 Axes>"
            ]
          },
          "metadata": {
            "tags": []
          }
        }
      ]
    },
    {
      "cell_type": "code",
      "metadata": {
        "id": "_22IBk_kXPMt",
        "colab_type": "code",
        "colab": {
          "base_uri": "https://localhost:8080/",
          "height": 333
        },
        "outputId": "e3471a75-055b-4c64-81d1-1fdc7c067d21"
      },
      "source": [
        "#plotting the  testing data\n",
        "plt.scatter(x_test,y_test,color='blue')\n",
        "plt.plot(x_test,y_pred,color='red')\n",
        "plt.ylabel('Salary/Year [dollars]')\n",
        "plt.xlabel('Years of Experience')\n",
        "plt.title('\\nSalary vs. Years of Experience (testing dataset)')"
      ],
      "execution_count": 423,
      "outputs": [
        {
          "output_type": "execute_result",
          "data": {
            "text/plain": [
              "Text(0.5, 1.0, '\\nSalary vs. Years of Experience (testing dataset)')"
            ]
          },
          "metadata": {
            "tags": []
          },
          "execution_count": 423
        },
        {
          "output_type": "display_data",
          "data": {
            "image/png": "[encoded data removed]",
            "text/plain": [
              "<Figure size 432x288 with 1 Axes>"
            ]
          },
          "metadata": {
            "tags": []
          }
        }
      ]
    },
    {
      "cell_type": "markdown",
      "metadata": {
        "id": "LrvWD_nYZC4J",
        "colab_type": "text"
      },
      "source": [
        "### checking the accuracy"
      ]
    },
    {
      "cell_type": "code",
      "metadata": {
        "id": "Q9dX9rcYY1Tv",
        "colab_type": "code",
        "colab": {}
      },
      "source": [
        "from sklearn.metrics import r2_score,mean_squared_error as mse"
      ],
      "execution_count": 0,
      "outputs": []
    },
    {
      "cell_type": "code",
      "metadata": {
        "id": "jZR8f4xaZ1u2",
        "colab_type": "code",
        "colab": {
          "base_uri": "https://localhost:8080/",
          "height": 34
        },
        "outputId": "415427d9-1782-4300-c86c-33433d7cc1d5"
      },
      "source": [
        "#mean squared error\n",
        "mse(y_test,y_pred)"
      ],
      "execution_count": 425,
      "outputs": [
        {
          "output_type": "execute_result",
          "data": {
            "text/plain": [
              "792612729.9482301"
            ]
          },
          "metadata": {
            "tags": []
          },
          "execution_count": 425
        }
      ]
    },
    {
      "cell_type": "code",
      "metadata": {
        "id": "-92uFSzKZ7Ys",
        "colab_type": "code",
        "colab": {
          "base_uri": "https://localhost:8080/",
          "height": 34
        },
        "outputId": "93431614-896b-430d-c081-a601dabff07e"
      },
      "source": [
        "# RMSE : root mse\n",
        "np.sqrt(mse(y_test,y_pred))"
      ],
      "execution_count": 426,
      "outputs": [
        {
          "output_type": "execute_result",
          "data": {
            "text/plain": [
              "28153.378659553993"
            ]
          },
          "metadata": {
            "tags": []
          },
          "execution_count": 426
        }
      ]
    },
    {
      "cell_type": "code",
      "metadata": {
        "id": "lCIYxSWGaCYc",
        "colab_type": "code",
        "colab": {
          "base_uri": "https://localhost:8080/",
          "height": 34
        },
        "outputId": "b96bde8a-b919-4e37-c129-c5cf50a8c471"
      },
      "source": [
        "#r^2\n",
        "r2_score(y_test,y_pred)   # 0.62 ..."
      ],
      "execution_count": 427,
      "outputs": [
        {
          "output_type": "execute_result",
          "data": {
            "text/plain": [
              "0.6263851363075901"
            ]
          },
          "metadata": {
            "tags": []
          },
          "execution_count": 427
        }
      ]
    },
    {
      "cell_type": "code",
      "metadata": {
        "id": "sC9ueLSbaIzs",
        "colab_type": "code",
        "colab": {}
      },
      "source": [
        ""
      ],
      "execution_count": 0,
      "outputs": []
    },
    {
      "cell_type": "markdown",
      "metadata": {
        "id": "OoV9ZADUa6F4",
        "colab_type": "text"
      },
      "source": [
        "## section 2 : poly. reg. model\n",
        "\n",
        "implementing a ploy reg. model to the same dataset"
      ]
    },
    {
      "cell_type": "markdown",
      "metadata": {
        "id": "MzMPpME1cYIo",
        "colab_type": "text"
      },
      "source": [
        "### getting coefficients (PolynomialFeatures)"
      ]
    },
    {
      "cell_type": "code",
      "metadata": {
        "id": "k33PVcz1bDqG",
        "colab_type": "code",
        "colab": {}
      },
      "source": [
        "from sklearn.preprocessing import PolynomialFeatures as pf"
      ],
      "execution_count": 0,
      "outputs": []
    },
    {
      "cell_type": "code",
      "metadata": {
        "id": "tDVjTMNobNic",
        "colab_type": "code",
        "colab": {}
      },
      "source": [
        "poly=pf(degree=2,include_bias=False)  # bias is not  included here..as  fit_intercept is true in lin. regression\n",
        "x_new=poly.fit_transform(x)"
      ],
      "execution_count": 0,
      "outputs": []
    },
    {
      "cell_type": "code",
      "metadata": {
        "id": "krj_LHUbb7rs",
        "colab_type": "code",
        "colab": {
          "base_uri": "https://localhost:8080/",
          "height": 136
        },
        "outputId": "82882854-9bbe-4324-a7b0-b1370b37a47e"
      },
      "source": [
        "x_new  # for one feature(x) : polynomial equation : c+bx+ax^2 ,the first row represents the c,b,a"
      ],
      "execution_count": 430,
      "outputs": [
        {
          "output_type": "execute_result",
          "data": {
            "text/plain": [
              "array([[  1.        ,   1.        ],\n",
              "       [  2.25794198,   5.09830199],\n",
              "       [  2.45087546,   6.00679053],\n",
              "       ...,\n",
              "       [ 19.35336879, 374.55288352],\n",
              "       [ 19.84251968, 393.72558725],\n",
              "       [ 20.        , 400.        ]])"
            ]
          },
          "metadata": {
            "tags": []
          },
          "execution_count": 430
        }
      ]
    },
    {
      "cell_type": "code",
      "metadata": {
        "id": "5wOmBAB3csvb",
        "colab_type": "code",
        "colab": {
          "base_uri": "https://localhost:8080/",
          "height": 34
        },
        "outputId": "3e51e579-9e87-44b1-a564-3f4928392b01"
      },
      "source": [
        "x_new.shape # 2 dimensional"
      ],
      "execution_count": 431,
      "outputs": [
        {
          "output_type": "execute_result",
          "data": {
            "text/plain": [
              "(2000, 2)"
            ]
          },
          "metadata": {
            "tags": []
          },
          "execution_count": 431
        }
      ]
    },
    {
      "cell_type": "markdown",
      "metadata": {
        "id": "tkKvgUqLchk8",
        "colab_type": "text"
      },
      "source": [
        "### data for training and testing"
      ]
    },
    {
      "cell_type": "code",
      "metadata": {
        "id": "3cu5ka8qb9iv",
        "colab_type": "code",
        "colab": {}
      },
      "source": [
        "x_train2,x_test2,y_train2,y_test2= tts(x_new,y,test_size=0.3,random_state=42)"
      ],
      "execution_count": 0,
      "outputs": []
    },
    {
      "cell_type": "code",
      "metadata": {
        "colab_type": "code",
        "outputId": "2848b58a-2686-462b-8aa1-d763dbbc4b9c",
        "id": "qJ0n9Gjyc8bZ",
        "colab": {
          "base_uri": "https://localhost:8080/",
          "height": 34
        }
      },
      "source": [
        "lin_reg_model2=lr(fit_intercept=True)  # intercept is false as we have already included it in polynomial features\n",
        "lin_reg_model2.fit(x_train2,y_train2)"
      ],
      "execution_count": 433,
      "outputs": [
        {
          "output_type": "execute_result",
          "data": {
            "text/plain": [
              "LinearRegression(copy_X=True, fit_intercept=True, n_jobs=None, normalize=False)"
            ]
          },
          "metadata": {
            "tags": []
          },
          "execution_count": 433
        }
      ]
    },
    {
      "cell_type": "code",
      "metadata": {
        "colab_type": "code",
        "outputId": "0c004a18-7351-4b32-f0ea-aef8591cb910",
        "id": "QDIVUJ7uc8bg",
        "colab": {
          "base_uri": "https://localhost:8080/",
          "height": 34
        }
      },
      "source": [
        "#getting the coefficients(m) and y-intercept(b) : \n",
        "lin_reg_model2.coef_,lin_reg_model2.intercept_     # intercept is present "
      ],
      "execution_count": 434,
      "outputs": [
        {
          "output_type": "execute_result",
          "data": {
            "text/plain": [
              "(array([-31875.1662435 ,   2046.77492493]), 199620.0270498672)"
            ]
          },
          "metadata": {
            "tags": []
          },
          "execution_count": 434
        }
      ]
    },
    {
      "cell_type": "code",
      "metadata": {
        "colab_type": "code",
        "id": "ibFS4agXc8bk",
        "colab": {}
      },
      "source": [
        "y_pred2=lin_reg_model2.predict(x_test2)"
      ],
      "execution_count": 0,
      "outputs": []
    },
    {
      "cell_type": "markdown",
      "metadata": {
        "id": "T-sq_lvLx2Y-",
        "colab_type": "text"
      },
      "source": [
        "### evaluation of accurracy"
      ]
    },
    {
      "cell_type": "code",
      "metadata": {
        "colab_type": "code",
        "outputId": "e6d30d2d-4c7c-49fe-ccba-80d7499a1d1c",
        "id": "tQeRzeLWyCsE",
        "colab": {
          "base_uri": "https://localhost:8080/",
          "height": 34
        }
      },
      "source": [
        "# RMSE : root mse\n",
        "np.sqrt(mse(y_test2,y_pred2))"
      ],
      "execution_count": 436,
      "outputs": [
        {
          "output_type": "execute_result",
          "data": {
            "text/plain": [
              "11018.7158422882"
            ]
          },
          "metadata": {
            "tags": []
          },
          "execution_count": 436
        }
      ]
    },
    {
      "cell_type": "code",
      "metadata": {
        "colab_type": "code",
        "outputId": "496c76b7-e222-4aac-fc05-a66026d053f6",
        "id": "0ajI-vF_yCsK",
        "colab": {
          "base_uri": "https://localhost:8080/",
          "height": 34
        }
      },
      "source": [
        "#r^2\n",
        "r2_score(y_test2,y_pred2)   # 0.94 ... ACCURACY IMPROVED"
      ],
      "execution_count": 437,
      "outputs": [
        {
          "output_type": "execute_result",
          "data": {
            "text/plain": [
              "0.9427698256226267"
            ]
          },
          "metadata": {
            "tags": []
          },
          "execution_count": 437
        }
      ]
    },
    {
      "cell_type": "markdown",
      "metadata": {
        "id": "yEYqVFryyciP",
        "colab_type": "text"
      },
      "source": [
        "### plotting the result"
      ]
    },
    {
      "cell_type": "code",
      "metadata": {
        "id": "93P0BMhqifD8",
        "colab_type": "code",
        "colab": {
          "base_uri": "https://localhost:8080/",
          "height": 348
        },
        "outputId": "9da44e6e-b459-4ed8-c414-ccb3bd8e1526"
      },
      "source": [
        "# #plotting the  testingdata\n",
        "# #without sorting x, it will visualize like below\n",
        "\n",
        "plt.scatter(x_test,y_test,color='blue')\n",
        "plt.plot(x_test,lin_reg_model2.predict(poly.fit_transform(x_test)),color='red')\n",
        "plt.ylabel('Salary/Year [dollars]')\n",
        "plt.xlabel('Years of Experience')\n",
        "plt.title('\\n\\nSalary vs. Years of Experience (Training dataset)')\n",
        "\n",
        "# as the data x is not sorted.. it looks like a messy "
      ],
      "execution_count": 438,
      "outputs": [
        {
          "output_type": "execute_result",
          "data": {
            "text/plain": [
              "Text(0.5, 1.0, '\\n\\nSalary vs. Years of Experience (Training dataset)')"
            ]
          },
          "metadata": {
            "tags": []
          },
          "execution_count": 438
        },
        {
          "output_type": "display_data",
          "data": {
            "image/png": "[encoded data removed]",
            "text/plain": [
              "<Figure size 432x288 with 1 Axes>"
            ]
          },
          "metadata": {
            "tags": []
          }
        }
      ]
    },
    {
      "cell_type": "code",
      "metadata": {
        "id": "7ZQp7E4Xppxf",
        "colab_type": "code",
        "colab": {}
      },
      "source": [
        "# sorting the data and then plotting"
      ],
      "execution_count": 0,
      "outputs": []
    },
    {
      "cell_type": "code",
      "metadata": {
        "id": "e_mlgY9Uzzqw",
        "colab_type": "code",
        "colab": {}
      },
      "source": [
        "newx=pd.DataFrame({'col1':x_test.yoe.to_list(),'col2':y_test.to_list()})\n",
        "newx.set_index('col1',inplace=True)\n",
        "newx.sort_index(inplace=True,ascending=True)\n",
        "newx.reset_index(inplace=True)"
      ],
      "execution_count": 0,
      "outputs": []
    },
    {
      "cell_type": "code",
      "metadata": {
        "id": "jnqlp46E0ekq",
        "colab_type": "code",
        "colab": {
          "base_uri": "https://localhost:8080/",
          "height": 359
        },
        "outputId": "4533737f-271d-436f-f45f-2b89ed50aefe"
      },
      "source": [
        "newx.head(10)"
      ],
      "execution_count": 441,
      "outputs": [
        {
          "output_type": "execute_result",
          "data": {
            "text/html": [
              "<div>\n",
              "<style scoped>\n",
              "    .dataframe tbody tr th:only-of-type {\n",
              "        vertical-align: middle;\n",
              "    }\n",
              "\n",
              "    .dataframe tbody tr th {\n",
              "        vertical-align: top;\n",
              "    }\n",
              "\n",
              "    .dataframe thead th {\n",
              "        text-align: right;\n",
              "    }\n",
              "</style>\n",
              "<table border=\"1\" class=\"dataframe\">\n",
              "  <thead>\n",
              "    <tr style=\"text-align: right;\">\n",
              "      <th></th>\n",
              "      <th>col1</th>\n",
              "      <th>col2</th>\n",
              "    </tr>\n",
              "  </thead>\n",
              "  <tbody>\n",
              "    <tr>\n",
              "      <th>0</th>\n",
              "      <td>2.450875</td>\n",
              "      <td>67253.57549</td>\n",
              "    </tr>\n",
              "    <tr>\n",
              "      <th>1</th>\n",
              "      <td>3.519210</td>\n",
              "      <td>78968.49772</td>\n",
              "    </tr>\n",
              "    <tr>\n",
              "      <th>2</th>\n",
              "      <td>3.834124</td>\n",
              "      <td>78724.08387</td>\n",
              "    </tr>\n",
              "    <tr>\n",
              "      <th>3</th>\n",
              "      <td>3.995191</td>\n",
              "      <td>81781.19310</td>\n",
              "    </tr>\n",
              "    <tr>\n",
              "      <th>4</th>\n",
              "      <td>4.055497</td>\n",
              "      <td>81047.22386</td>\n",
              "    </tr>\n",
              "    <tr>\n",
              "      <th>5</th>\n",
              "      <td>4.110645</td>\n",
              "      <td>83007.24597</td>\n",
              "    </tr>\n",
              "    <tr>\n",
              "      <th>6</th>\n",
              "      <td>4.544190</td>\n",
              "      <td>85700.05359</td>\n",
              "    </tr>\n",
              "    <tr>\n",
              "      <th>7</th>\n",
              "      <td>4.584837</td>\n",
              "      <td>87258.95727</td>\n",
              "    </tr>\n",
              "    <tr>\n",
              "      <th>8</th>\n",
              "      <td>4.613027</td>\n",
              "      <td>86028.02856</td>\n",
              "    </tr>\n",
              "    <tr>\n",
              "      <th>9</th>\n",
              "      <td>4.740262</td>\n",
              "      <td>87484.31323</td>\n",
              "    </tr>\n",
              "  </tbody>\n",
              "</table>\n",
              "</div>"
            ],
            "text/plain": [
              "       col1         col2\n",
              "0  2.450875  67253.57549\n",
              "1  3.519210  78968.49772\n",
              "2  3.834124  78724.08387\n",
              "3  3.995191  81781.19310\n",
              "4  4.055497  81047.22386\n",
              "5  4.110645  83007.24597\n",
              "6  4.544190  85700.05359\n",
              "7  4.584837  87258.95727\n",
              "8  4.613027  86028.02856\n",
              "9  4.740262  87484.31323"
            ]
          },
          "metadata": {
            "tags": []
          },
          "execution_count": 441
        }
      ]
    },
    {
      "cell_type": "code",
      "metadata": {
        "id": "7WG7XpXiz3Nw",
        "colab_type": "code",
        "colab": {}
      },
      "source": [
        "newxx=newx[['col1']]\n",
        "newyy=newx['col2']"
      ],
      "execution_count": 0,
      "outputs": []
    },
    {
      "cell_type": "code",
      "metadata": {
        "id": "HRcK0Dpb2QAX",
        "colab_type": "code",
        "colab": {
          "base_uri": "https://localhost:8080/",
          "height": 34
        },
        "outputId": "25632474-ac75-4b59-ffda-323fe34413d7"
      },
      "source": [
        "newxx.shape"
      ],
      "execution_count": 443,
      "outputs": [
        {
          "output_type": "execute_result",
          "data": {
            "text/plain": [
              "(600, 1)"
            ]
          },
          "metadata": {
            "tags": []
          },
          "execution_count": 443
        }
      ]
    },
    {
      "cell_type": "code",
      "metadata": {
        "id": "HMC4d9Z80MoG",
        "colab_type": "code",
        "colab": {
          "base_uri": "https://localhost:8080/",
          "height": 348
        },
        "outputId": "5146e180-e737-44b5-eec9-c1e1b6e187aa"
      },
      "source": [
        "# #plotting the  testingdata\n",
        "# #without sorting x, it will visualize like below\n",
        "\n",
        "plt.scatter(newxx,newyy,color='blue')\n",
        "plt.plot(newxx,lin_reg_model2.predict(poly.fit_transform(newxx)),color='red')\n",
        "plt.ylabel('Salary/Year [dollars]')\n",
        "plt.xlabel('Years of Experience')\n",
        "plt.title('\\n\\nSalary vs. Years of Experience (Training dataset)')"
      ],
      "execution_count": 444,
      "outputs": [
        {
          "output_type": "execute_result",
          "data": {
            "text/plain": [
              "Text(0.5, 1.0, '\\n\\nSalary vs. Years of Experience (Training dataset)')"
            ]
          },
          "metadata": {
            "tags": []
          },
          "execution_count": 444
        },
        {
          "output_type": "display_data",
          "data": {
            "image/png": "[encoded data removed]",
            "text/plain": [
              "<Figure size 432x288 with 1 Axes>"
            ]
          },
          "metadata": {
            "tags": []
          }
        }
      ]
    },
    {
      "cell_type": "markdown",
      "metadata": {
        "id": "UBSptlL3Akz6",
        "colab_type": "text"
      },
      "source": [
        "## using a pipeline \n",
        "\n",
        "since we are doing 2 things,\n",
        "\n",
        "1. first applying polynomialFeatures\n",
        "2. then applying the lin. regression model\n",
        "\n",
        "we can create a pipeline"
      ]
    },
    {
      "cell_type": "code",
      "metadata": {
        "id": "G9hgzAy40SYo",
        "colab_type": "code",
        "colab": {}
      },
      "source": [
        "from sklearn.pipeline import make_pipeline"
      ],
      "execution_count": 0,
      "outputs": []
    },
    {
      "cell_type": "code",
      "metadata": {
        "id": "JUs0H6C-BzsP",
        "colab_type": "code",
        "colab": {}
      },
      "source": [
        "from sklearn.preprocessing import  PolynomialFeatures as pf\n",
        "from sklearn.linear_model import LinearRegression as lr\n",
        "\n",
        "model1= pf(include_bias=False,degree=2)\n",
        "model2=lr(fit_intercept=True)"
      ],
      "execution_count": 0,
      "outputs": []
    },
    {
      "cell_type": "code",
      "metadata": {
        "id": "O0o00gNqCRuW",
        "colab_type": "code",
        "colab": {}
      },
      "source": [
        "#making the pipeline and fitting data\n",
        "pipeline=make_pipeline(model1,model2)"
      ],
      "execution_count": 0,
      "outputs": []
    },
    {
      "cell_type": "code",
      "metadata": {
        "id": "ocaD7qpICaQ3",
        "colab_type": "code",
        "colab": {}
      },
      "source": [
        "x=data[['yoe']]\n",
        "y=data['Salary']\n",
        "\n",
        "x_train,x_test,y_train,y_test=tts(x,y,random_state=42,test_size=0.2)"
      ],
      "execution_count": 0,
      "outputs": []
    },
    {
      "cell_type": "code",
      "metadata": {
        "id": "soKgFCl-Cyl2",
        "colab_type": "code",
        "colab": {
          "base_uri": "https://localhost:8080/",
          "height": 153
        },
        "outputId": "e3dee6c7-960f-44d6-fe13-88fd39165060"
      },
      "source": [
        "pipeline.fit(x_train,y_train)"
      ],
      "execution_count": 451,
      "outputs": [
        {
          "output_type": "execute_result",
          "data": {
            "text/plain": [
              "Pipeline(memory=None,\n",
              "         steps=[('polynomialfeatures',\n",
              "                 PolynomialFeatures(degree=2, include_bias=False,\n",
              "                                    interaction_only=False, order='C')),\n",
              "                ('linearregression',\n",
              "                 LinearRegression(copy_X=True, fit_intercept=True, n_jobs=None,\n",
              "                                  normalize=False))],\n",
              "         verbose=False)"
            ]
          },
          "metadata": {
            "tags": []
          },
          "execution_count": 451
        }
      ]
    },
    {
      "cell_type": "code",
      "metadata": {
        "id": "O5QKg9D5DD74",
        "colab_type": "code",
        "colab": {}
      },
      "source": [
        "#predicting\n",
        "pred=pipeline.predict(x_test)"
      ],
      "execution_count": 0,
      "outputs": []
    },
    {
      "cell_type": "code",
      "metadata": {
        "id": "9rgvFmaLDM-o",
        "colab_type": "code",
        "colab": {
          "base_uri": "https://localhost:8080/",
          "height": 34
        },
        "outputId": "932942ed-b0a6-4e17-ceae-5cf6e78be366"
      },
      "source": [
        "#evalutation of model : Accuracies\n",
        "r2_score(y_test,pred),np.sqrt(mse(y_test,pred))"
      ],
      "execution_count": 454,
      "outputs": [
        {
          "output_type": "execute_result",
          "data": {
            "text/plain": [
              "(0.9486824765577456, 9501.184421882552)"
            ]
          },
          "metadata": {
            "tags": []
          },
          "execution_count": 454
        }
      ]
    },
    {
      "cell_type": "code",
      "metadata": {
        "id": "0ZjzEAXgDgh8",
        "colab_type": "code",
        "colab": {}
      },
      "source": [
        ""
      ],
      "execution_count": 0,
      "outputs": []
    },
    {
      "cell_type": "markdown",
      "metadata": {
        "id": "PjgwaW-mEbsa",
        "colab_type": "text"
      },
      "source": [
        ""
      ]
    },
    {
      "cell_type": "code",
      "metadata": {
        "id": "rtDC21sPgTBT",
        "colab_type": "code",
        "colab": {}
      },
      "source": [
        ""
      ],
      "execution_count": 0,
      "outputs": []
    }
  ]
}